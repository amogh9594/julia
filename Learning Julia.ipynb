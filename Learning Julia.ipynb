{
 "cells": [
  {
   "cell_type": "markdown",
   "metadata": {},
   "source": [
    "### Introduction "
   ]
  },
  {
   "cell_type": "code",
   "execution_count": 1,
   "metadata": {},
   "outputs": [
    {
     "data": {
      "text/plain": [
       "4"
      ]
     },
     "execution_count": 1,
     "metadata": {},
     "output_type": "execute_result"
    }
   ],
   "source": [
    "2+2"
   ]
  },
  {
   "cell_type": "code",
   "execution_count": 2,
   "metadata": {},
   "outputs": [
    {
     "data": {
      "text/plain": [
       "\"Hello world\""
      ]
     },
     "execution_count": 2,
     "metadata": {},
     "output_type": "execute_result"
    }
   ],
   "source": [
    "\"Hello world\""
   ]
  },
  {
   "cell_type": "code",
   "execution_count": 3,
   "metadata": {},
   "outputs": [
    {
     "name": "stdout",
     "output_type": "stream",
     "text": [
      "Hello world"
     ]
    }
   ],
   "source": [
    "print(\"Hello world\")"
   ]
  },
  {
   "cell_type": "code",
   "execution_count": 4,
   "metadata": {},
   "outputs": [
    {
     "data": {
      "text/plain": [
       "5"
      ]
     },
     "execution_count": 4,
     "metadata": {},
     "output_type": "execute_result"
    }
   ],
   "source": [
    "loan_amaount = 100000\n",
    "intrest_rate = .015\n",
    "tenure = 5"
   ]
  },
  {
   "cell_type": "code",
   "execution_count": 5,
   "metadata": {},
   "outputs": [
    {
     "data": {
      "text/plain": [
       "500000"
      ]
     },
     "execution_count": 5,
     "metadata": {},
     "output_type": "execute_result"
    }
   ],
   "source": [
    "loan_amaount * tenure"
   ]
  },
  {
   "cell_type": "code",
   "execution_count": 6,
   "metadata": {},
   "outputs": [
    {
     "data": {
      "text/plain": [
       "\"Amogh\""
      ]
     },
     "execution_count": 6,
     "metadata": {},
     "output_type": "execute_result"
    }
   ],
   "source": [
    "A = \"Amogh\""
   ]
  },
  {
   "cell_type": "code",
   "execution_count": 7,
   "metadata": {},
   "outputs": [
    {
     "data": {
      "text/plain": [
       "\"Kawle\""
      ]
     },
     "execution_count": 7,
     "metadata": {},
     "output_type": "execute_result"
    }
   ],
   "source": [
    "B = \"Kawle\""
   ]
  },
  {
   "cell_type": "code",
   "execution_count": 9,
   "metadata": {},
   "outputs": [
    {
     "name": "stdout",
     "output_type": "stream",
     "text": [
      "AmoghKawle"
     ]
    }
   ],
   "source": [
    "print(A * B)"
   ]
  },
  {
   "cell_type": "code",
   "execution_count": 10,
   "metadata": {},
   "outputs": [
    {
     "data": {
      "text/plain": [
       "String"
      ]
     },
     "execution_count": 10,
     "metadata": {},
     "output_type": "execute_result"
    }
   ],
   "source": [
    "typeof(A)"
   ]
  },
  {
   "cell_type": "code",
   "execution_count": 11,
   "metadata": {},
   "outputs": [
    {
     "data": {
      "text/plain": [
       "Int64"
      ]
     },
     "execution_count": 11,
     "metadata": {},
     "output_type": "execute_result"
    }
   ],
   "source": [
    "typeof(loan_amaount)"
   ]
  },
  {
   "cell_type": "markdown",
   "metadata": {},
   "source": [
    "### Arithmatic operator"
   ]
  },
  {
   "cell_type": "code",
   "execution_count": 1,
   "metadata": {},
   "outputs": [
    {
     "data": {
      "text/plain": [
       "-2.0"
      ]
     },
     "execution_count": 1,
     "metadata": {},
     "output_type": "execute_result"
    }
   ],
   "source": [
    "2+5-6/2*3"
   ]
  },
  {
   "cell_type": "code",
   "execution_count": 2,
   "metadata": {},
   "outputs": [
    {
     "data": {
      "text/plain": [
       "2.0"
      ]
     },
     "execution_count": 2,
     "metadata": {},
     "output_type": "execute_result"
    }
   ],
   "source": [
    "2*3/3"
   ]
  },
  {
   "cell_type": "code",
   "execution_count": 3,
   "metadata": {},
   "outputs": [
    {
     "data": {
      "text/plain": [
       "9.0"
      ]
     },
     "execution_count": 3,
     "metadata": {},
     "output_type": "execute_result"
    }
   ],
   "source": [
    "6/2*3"
   ]
  },
  {
   "cell_type": "markdown",
   "metadata": {},
   "source": [
    "### Arrays"
   ]
  },
  {
   "cell_type": "code",
   "execution_count": 4,
   "metadata": {},
   "outputs": [
    {
     "data": {
      "text/plain": [
       "5-element Vector{Int64}:\n",
       " 1\n",
       " 2\n",
       " 3\n",
       " 4\n",
       " 5"
      ]
     },
     "execution_count": 4,
     "metadata": {},
     "output_type": "execute_result"
    }
   ],
   "source": [
    "a = [1,2,3,4,5]"
   ]
  },
  {
   "cell_type": "code",
   "execution_count": 5,
   "metadata": {},
   "outputs": [
    {
     "data": {
      "text/plain": [
       "5-element Vector{Float64}:\n",
       " 1.0\n",
       " 2.0\n",
       " 3.0\n",
       " 4.0\n",
       " 5.0"
      ]
     },
     "execution_count": 5,
     "metadata": {},
     "output_type": "execute_result"
    }
   ],
   "source": [
    "b = [1,2.0,3,4,5]"
   ]
  },
  {
   "cell_type": "code",
   "execution_count": 6,
   "metadata": {},
   "outputs": [
    {
     "data": {
      "text/plain": [
       "3-element Vector{String}:\n",
       " \"I\"\n",
       " \"Love\"\n",
       " \"You\""
      ]
     },
     "execution_count": 6,
     "metadata": {},
     "output_type": "execute_result"
    }
   ],
   "source": [
    "s = [\"I\",\"Love\",\"You\"]"
   ]
  },
  {
   "cell_type": "code",
   "execution_count": 10,
   "metadata": {},
   "outputs": [
    {
     "data": {
      "text/plain": [
       "3-element Vector{Function}:\n",
       " print (generic function with 31 methods)\n",
       " println (generic function with 3 methods)\n",
       " printstyled (generic function with 2 methods)"
      ]
     },
     "execution_count": 10,
     "metadata": {},
     "output_type": "execute_result"
    }
   ],
   "source": [
    "f1 = [print,println,printstyled]"
   ]
  },
  {
   "cell_type": "code",
   "execution_count": 11,
   "metadata": {},
   "outputs": [
    {
     "data": {
      "text/plain": [
       "3-element Vector{Any}:\n",
       " 1\n",
       " 2.0\n",
       "  \"julia\""
      ]
     },
     "execution_count": 11,
     "metadata": {},
     "output_type": "execute_result"
    }
   ],
   "source": [
    "a3 = [1,2.0,\"julia\"]"
   ]
  },
  {
   "cell_type": "code",
   "execution_count": 13,
   "metadata": {},
   "outputs": [
    {
     "data": {
      "text/plain": [
       "2×4 Matrix{Int64}:\n",
       " 1  2  3  4\n",
       " 5  6  7  8"
      ]
     },
     "execution_count": 13,
     "metadata": {},
     "output_type": "execute_result"
    }
   ],
   "source": [
    "array_2d = [1 2 3 4 ; 5 6 7 8]"
   ]
  },
  {
   "cell_type": "code",
   "execution_count": 15,
   "metadata": {},
   "outputs": [
    {
     "data": {
      "text/plain": [
       "1×5 Matrix{Int64}:\n",
       " 1  2  3  4  5"
      ]
     },
     "execution_count": 15,
     "metadata": {},
     "output_type": "execute_result"
    }
   ],
   "source": [
    "vector_1 = [1 2 3 4 5]"
   ]
  },
  {
   "cell_type": "code",
   "execution_count": 17,
   "metadata": {},
   "outputs": [
    {
     "data": {
      "text/plain": [
       "5-element Vector{Float64}:\n",
       " 0.2577642427646527\n",
       " 0.6594660081279671\n",
       " 0.3840768760541835\n",
       " 0.1463974715822396\n",
       " 0.94066121671793"
      ]
     },
     "execution_count": 17,
     "metadata": {},
     "output_type": "execute_result"
    }
   ],
   "source": [
    "array_rand = rand(5)"
   ]
  },
  {
   "cell_type": "code",
   "execution_count": 18,
   "metadata": {},
   "outputs": [
    {
     "data": {
      "text/plain": [
       "3×3 Matrix{Float64}:\n",
       " 0.64882   0.696333  0.176049\n",
       " 0.371235  0.169426  0.0817495\n",
       " 0.879595  0.137554  0.587981"
      ]
     },
     "execution_count": 18,
     "metadata": {},
     "output_type": "execute_result"
    }
   ],
   "source": [
    "array_rand2 = rand(3,3)"
   ]
  },
  {
   "cell_type": "markdown",
   "metadata": {},
   "source": [
    "### Range"
   ]
  },
  {
   "cell_type": "code",
   "execution_count": 1,
   "metadata": {},
   "outputs": [
    {
     "data": {
      "text/plain": [
       "5-element Vector{Int64}:\n",
       " 1\n",
       " 2\n",
       " 3\n",
       " 4\n",
       " 5"
      ]
     },
     "execution_count": 1,
     "metadata": {},
     "output_type": "execute_result"
    }
   ],
   "source": [
    "collect(1:5)"
   ]
  },
  {
   "cell_type": "code",
   "execution_count": 2,
   "metadata": {},
   "outputs": [
    {
     "data": {
      "text/plain": [
       "5-element Vector{Float64}:\n",
       " 1.5\n",
       " 2.5\n",
       " 3.5\n",
       " 4.5\n",
       " 5.5"
      ]
     },
     "execution_count": 2,
     "metadata": {},
     "output_type": "execute_result"
    }
   ],
   "source": [
    "collect(1.5:5.5)"
   ]
  },
  {
   "cell_type": "code",
   "execution_count": 3,
   "metadata": {},
   "outputs": [
    {
     "data": {
      "text/plain": [
       "11-element Vector{Int64}:\n",
       "   0\n",
       "  10\n",
       "  20\n",
       "  30\n",
       "  40\n",
       "  50\n",
       "  60\n",
       "  70\n",
       "  80\n",
       "  90\n",
       " 100"
      ]
     },
     "execution_count": 3,
     "metadata": {},
     "output_type": "execute_result"
    }
   ],
   "source": [
    "collect(0:10:100)"
   ]
  },
  {
   "cell_type": "code",
   "execution_count": 5,
   "metadata": {},
   "outputs": [
    {
     "data": {
      "text/plain": [
       "6-element Vector{Int64}:\n",
       " 100\n",
       "  80\n",
       "  60\n",
       "  40\n",
       "  20\n",
       "   0"
      ]
     },
     "execution_count": 5,
     "metadata": {},
     "output_type": "execute_result"
    }
   ],
   "source": [
    "c1 = collect(100:-20:0)"
   ]
  },
  {
   "cell_type": "code",
   "execution_count": 6,
   "metadata": {},
   "outputs": [
    {
     "data": {
      "text/plain": [
       "6-element Vector{Int64}:\n",
       " 100\n",
       "  80\n",
       "  60\n",
       "  40\n",
       "  20\n",
       "   0"
      ]
     },
     "execution_count": 6,
     "metadata": {},
     "output_type": "execute_result"
    }
   ],
   "source": [
    "c1"
   ]
  },
  {
   "cell_type": "code",
   "execution_count": 7,
   "metadata": {},
   "outputs": [
    {
     "data": {
      "text/plain": [
       "60"
      ]
     },
     "execution_count": 7,
     "metadata": {},
     "output_type": "execute_result"
    }
   ],
   "source": [
    "c1[3]"
   ]
  },
  {
   "cell_type": "code",
   "execution_count": 8,
   "metadata": {},
   "outputs": [
    {
     "data": {
      "text/plain": [
       "0"
      ]
     },
     "execution_count": 8,
     "metadata": {},
     "output_type": "execute_result"
    }
   ],
   "source": [
    "c1[end]"
   ]
  },
  {
   "cell_type": "code",
   "execution_count": 9,
   "metadata": {},
   "outputs": [
    {
     "data": {
      "text/plain": [
       "40"
      ]
     },
     "execution_count": 9,
     "metadata": {},
     "output_type": "execute_result"
    }
   ],
   "source": [
    "c1[end-2]"
   ]
  },
  {
   "cell_type": "code",
   "execution_count": 10,
   "metadata": {},
   "outputs": [
    {
     "data": {
      "text/plain": [
       "4-element Vector{Int64}:\n",
       " 80\n",
       " 60\n",
       " 40\n",
       " 20"
      ]
     },
     "execution_count": 10,
     "metadata": {},
     "output_type": "execute_result"
    }
   ],
   "source": [
    "c1[2:5]"
   ]
  },
  {
   "cell_type": "code",
   "execution_count": 11,
   "metadata": {},
   "outputs": [
    {
     "data": {
      "text/plain": [
       "5-element Vector{Int64}:\n",
       " 80\n",
       " 60\n",
       " 40\n",
       " 20\n",
       "  0"
      ]
     },
     "execution_count": 11,
     "metadata": {},
     "output_type": "execute_result"
    }
   ],
   "source": [
    "c1[2:end]"
   ]
  },
  {
   "cell_type": "markdown",
   "metadata": {},
   "source": [
    "### Tuples"
   ]
  },
  {
   "cell_type": "code",
   "execution_count": 12,
   "metadata": {},
   "outputs": [
    {
     "data": {
      "text/plain": [
       "(1, 2, 3, 4, 5)"
      ]
     },
     "execution_count": 12,
     "metadata": {},
     "output_type": "execute_result"
    }
   ],
   "source": [
    "a1 = [1,2,3,4,5]\n",
    "t1 = (1,2,3,4,5)"
   ]
  },
  {
   "cell_type": "code",
   "execution_count": 13,
   "metadata": {},
   "outputs": [
    {
     "data": {
      "text/plain": [
       "5-element Vector{Int64}:\n",
       " 1\n",
       " 2\n",
       " 3\n",
       " 4\n",
       " 5"
      ]
     },
     "execution_count": 13,
     "metadata": {},
     "output_type": "execute_result"
    }
   ],
   "source": [
    "a1"
   ]
  },
  {
   "cell_type": "code",
   "execution_count": 14,
   "metadata": {},
   "outputs": [
    {
     "data": {
      "text/plain": [
       "(1, 2, 3)"
      ]
     },
     "execution_count": 14,
     "metadata": {},
     "output_type": "execute_result"
    }
   ],
   "source": [
    "t1[1:3]"
   ]
  },
  {
   "cell_type": "code",
   "execution_count": 15,
   "metadata": {},
   "outputs": [
    {
     "data": {
      "text/plain": [
       "(3, 4, 5)"
      ]
     },
     "execution_count": 15,
     "metadata": {},
     "output_type": "execute_result"
    }
   ],
   "source": [
    "t1[3:end]"
   ]
  },
  {
   "cell_type": "code",
   "execution_count": 17,
   "metadata": {},
   "outputs": [
    {
     "data": {
      "text/plain": [
       "((1, 3), (2, 3))"
      ]
     },
     "execution_count": 17,
     "metadata": {},
     "output_type": "execute_result"
    }
   ],
   "source": [
    "t2 = ((1,3),(2,3))"
   ]
  },
  {
   "cell_type": "code",
   "execution_count": 18,
   "metadata": {},
   "outputs": [
    {
     "data": {
      "text/plain": [
       "(1, 3)"
      ]
     },
     "execution_count": 18,
     "metadata": {},
     "output_type": "execute_result"
    }
   ],
   "source": [
    "t2[1]"
   ]
  },
  {
   "cell_type": "code",
   "execution_count": 19,
   "metadata": {},
   "outputs": [
    {
     "data": {
      "text/plain": [
       "3"
      ]
     },
     "execution_count": 19,
     "metadata": {},
     "output_type": "execute_result"
    }
   ],
   "source": [
    "t2[1][2]"
   ]
  },
  {
   "cell_type": "code",
   "execution_count": 20,
   "metadata": {},
   "outputs": [
    {
     "data": {
      "text/plain": [
       "(science = (90, 100), Maths = (95, 100), English = (75, 100))"
      ]
     },
     "execution_count": 20,
     "metadata": {},
     "output_type": "execute_result"
    }
   ],
   "source": [
    "marks = (science = (90,100),Maths =(95,100),English=(75,100))"
   ]
  },
  {
   "cell_type": "code",
   "execution_count": 21,
   "metadata": {},
   "outputs": [
    {
     "data": {
      "text/plain": [
       "(90, 100)"
      ]
     },
     "execution_count": 21,
     "metadata": {},
     "output_type": "execute_result"
    }
   ],
   "source": [
    "marks.science"
   ]
  },
  {
   "cell_type": "code",
   "execution_count": 22,
   "metadata": {},
   "outputs": [
    {
     "data": {
      "text/plain": [
       "(95, 100)"
      ]
     },
     "execution_count": 22,
     "metadata": {},
     "output_type": "execute_result"
    }
   ],
   "source": [
    "marks.Maths"
   ]
  },
  {
   "cell_type": "code",
   "execution_count": 23,
   "metadata": {},
   "outputs": [
    {
     "data": {
      "text/plain": [
       "(History = (80, 100), sports = (85, 100))"
      ]
     },
     "execution_count": 23,
     "metadata": {},
     "output_type": "execute_result"
    }
   ],
   "source": [
    "marks2 = (History = (80,100),sports = (85,100))"
   ]
  },
  {
   "cell_type": "code",
   "execution_count": 25,
   "metadata": {},
   "outputs": [
    {
     "data": {
      "text/plain": [
       "(science = (90, 100), Maths = (95, 100), English = (75, 100), History = (80, 100), sports = (85, 100))"
      ]
     },
     "execution_count": 25,
     "metadata": {},
     "output_type": "execute_result"
    }
   ],
   "source": [
    "merge(marks,marks2)"
   ]
  },
  {
   "cell_type": "markdown",
   "metadata": {},
   "source": [
    "### Dictionary"
   ]
  },
  {
   "cell_type": "code",
   "execution_count": 26,
   "metadata": {},
   "outputs": [
    {
     "data": {
      "text/plain": [
       "Dict{String, Int64} with 3 entries:\n",
       "  \"car3\" => 300000\n",
       "  \"car1\" => 100000\n",
       "  \"car2\" => 200000"
      ]
     },
     "execution_count": 26,
     "metadata": {},
     "output_type": "execute_result"
    }
   ],
   "source": [
    "cars = Dict(\"car1\" => 100000 , \"car2\" => 200000 , \"car3\" => 300000)"
   ]
  },
  {
   "cell_type": "code",
   "execution_count": 29,
   "metadata": {},
   "outputs": [
    {
     "data": {
      "text/plain": [
       "100000"
      ]
     },
     "execution_count": 29,
     "metadata": {},
     "output_type": "execute_result"
    }
   ],
   "source": [
    "cars[\"car1\"]"
   ]
  },
  {
   "cell_type": "code",
   "execution_count": 31,
   "metadata": {},
   "outputs": [
    {
     "data": {
      "text/plain": [
       "Dict{Symbol, Int64} with 3 entries:\n",
       "  :car2 => 200000\n",
       "  :car3 => 300000\n",
       "  :car1 => 100000"
      ]
     },
     "execution_count": 31,
     "metadata": {},
     "output_type": "execute_result"
    }
   ],
   "source": [
    "cars2 = Dict(:car1 => 100000 , :car2 => 200000 , :car3 => 300000)"
   ]
  },
  {
   "cell_type": "code",
   "execution_count": 32,
   "metadata": {},
   "outputs": [
    {
     "data": {
      "text/plain": [
       "200000"
      ]
     },
     "execution_count": 32,
     "metadata": {},
     "output_type": "execute_result"
    }
   ],
   "source": [
    "cars2[:car2]"
   ]
  },
  {
   "cell_type": "code",
   "execution_count": 34,
   "metadata": {},
   "outputs": [
    {
     "data": {
      "text/plain": [
       "false"
      ]
     },
     "execution_count": 34,
     "metadata": {},
     "output_type": "execute_result"
    }
   ],
   "source": [
    "haskey(cars2,:car4)"
   ]
  },
  {
   "cell_type": "code",
   "execution_count": 35,
   "metadata": {},
   "outputs": [
    {
     "data": {
      "text/plain": [
       "Dict{String, Int64} with 3 entries:\n",
       "  \"car3\" => 300000\n",
       "  \"car1\" => 100000\n",
       "  \"car2\" => 200000"
      ]
     },
     "execution_count": 35,
     "metadata": {},
     "output_type": "execute_result"
    }
   ],
   "source": [
    "delete!(cars,:car1)"
   ]
  },
  {
   "cell_type": "code",
   "execution_count": 36,
   "metadata": {},
   "outputs": [
    {
     "data": {
      "text/plain": [
       "KeySet for a Dict{String, Int64} with 3 entries. Keys:\n",
       "  \"car3\"\n",
       "  \"car1\"\n",
       "  \"car2\""
      ]
     },
     "execution_count": 36,
     "metadata": {},
     "output_type": "execute_result"
    }
   ],
   "source": [
    "keys(cars)"
   ]
  },
  {
   "cell_type": "code",
   "execution_count": 37,
   "metadata": {},
   "outputs": [
    {
     "data": {
      "text/plain": [
       "ValueIterator for a Dict{String, Int64} with 3 entries. Values:\n",
       "  300000\n",
       "  100000\n",
       "  200000"
      ]
     },
     "execution_count": 37,
     "metadata": {},
     "output_type": "execute_result"
    }
   ],
   "source": [
    "values(cars)"
   ]
  },
  {
   "cell_type": "code",
   "execution_count": 39,
   "metadata": {},
   "outputs": [
    {
     "data": {
      "text/plain": [
       "Dict{Any, Int64} with 6 entries:\n",
       "  :car1  => 100000\n",
       "  \"car3\" => 300000\n",
       "  :car2  => 200000\n",
       "  :car3  => 300000\n",
       "  \"car1\" => 100000\n",
       "  \"car2\" => 200000"
      ]
     },
     "execution_count": 39,
     "metadata": {},
     "output_type": "execute_result"
    }
   ],
   "source": [
    "dict3 = merge(cars , cars2)"
   ]
  },
  {
   "cell_type": "markdown",
   "metadata": {},
   "source": [
    "### sets"
   ]
  },
  {
   "cell_type": "code",
   "execution_count": 3,
   "metadata": {},
   "outputs": [
    {
     "data": {
      "text/plain": [
       "Set{String} with 4 elements:\n",
       "  \"Rebook\"\n",
       "  \"Nike\"\n",
       "  \"Puma\"\n",
       "  \"Adidas\""
      ]
     },
     "execution_count": 3,
     "metadata": {},
     "output_type": "execute_result"
    }
   ],
   "source": [
    "sport_brands = Set([\"Adidas\",\"Nike\",\"Puma\",\"Rebook\"])"
   ]
  },
  {
   "cell_type": "code",
   "execution_count": 4,
   "metadata": {},
   "outputs": [
    {
     "data": {
      "text/plain": [
       "false"
      ]
     },
     "execution_count": 4,
     "metadata": {},
     "output_type": "execute_result"
    }
   ],
   "source": [
    "in(\"HRX\",sport_brands)"
   ]
  },
  {
   "cell_type": "code",
   "execution_count": 5,
   "metadata": {},
   "outputs": [
    {
     "data": {
      "text/plain": [
       "true"
      ]
     },
     "execution_count": 5,
     "metadata": {},
     "output_type": "execute_result"
    }
   ],
   "source": [
    "in(\"Puma\",sport_brands)"
   ]
  },
  {
   "cell_type": "code",
   "execution_count": 7,
   "metadata": {},
   "outputs": [
    {
     "data": {
      "text/plain": [
       "Set{String} with 3 elements:\n",
       "  \"Nike\"\n",
       "  \"HRX\"\n",
       "  \"Adidas\""
      ]
     },
     "execution_count": 7,
     "metadata": {},
     "output_type": "execute_result"
    }
   ],
   "source": [
    "sport_brands_india = Set([\"Adidas\",\"Nike\",\"HRX\"])"
   ]
  },
  {
   "cell_type": "code",
   "execution_count": 8,
   "metadata": {},
   "outputs": [
    {
     "data": {
      "text/plain": [
       "Set{String} with 5 elements:\n",
       "  \"Rebook\"\n",
       "  \"Nike\"\n",
       "  \"Puma\"\n",
       "  \"HRX\"\n",
       "  \"Adidas\""
      ]
     },
     "execution_count": 8,
     "metadata": {},
     "output_type": "execute_result"
    }
   ],
   "source": [
    "union(sport_brands , sport_brands_india)"
   ]
  },
  {
   "cell_type": "code",
   "execution_count": 9,
   "metadata": {},
   "outputs": [
    {
     "data": {
      "text/plain": [
       "Set{String} with 2 elements:\n",
       "  \"Nike\"\n",
       "  \"Adidas\""
      ]
     },
     "execution_count": 9,
     "metadata": {},
     "output_type": "execute_result"
    }
   ],
   "source": [
    "intersect(sport_brands , sport_brands_india)"
   ]
  },
  {
   "cell_type": "code",
   "execution_count": 10,
   "metadata": {},
   "outputs": [
    {
     "data": {
      "text/plain": [
       "Set{String} with 2 elements:\n",
       "  \"Rebook\"\n",
       "  \"Puma\""
      ]
     },
     "execution_count": 10,
     "metadata": {},
     "output_type": "execute_result"
    }
   ],
   "source": [
    "setdiff(sport_brands , sport_brands_india)"
   ]
  },
  {
   "cell_type": "code",
   "execution_count": 11,
   "metadata": {},
   "outputs": [
    {
     "data": {
      "text/plain": [
       "Set{String} with 1 element:\n",
       "  \"HRX\""
      ]
     },
     "execution_count": 11,
     "metadata": {},
     "output_type": "execute_result"
    }
   ],
   "source": [
    "setdiff(sport_brands_india , sport_brands)"
   ]
  },
  {
   "cell_type": "code",
   "execution_count": 13,
   "metadata": {},
   "outputs": [
    {
     "data": {
      "text/plain": [
       "Set{String} with 5 elements:\n",
       "  \"Rebook\"\n",
       "  \"Nike\"\n",
       "  \"Puma\"\n",
       "  \"HRX\"\n",
       "  \"Adidas\""
      ]
     },
     "execution_count": 13,
     "metadata": {},
     "output_type": "execute_result"
    }
   ],
   "source": [
    "push!(sport_brands,\"HRX\")"
   ]
  },
  {
   "cell_type": "markdown",
   "metadata": {},
   "source": [
    "### Dates"
   ]
  },
  {
   "cell_type": "code",
   "execution_count": 4,
   "metadata": {},
   "outputs": [],
   "source": [
    "using Dates"
   ]
  },
  {
   "cell_type": "code",
   "execution_count": 5,
   "metadata": {},
   "outputs": [
    {
     "data": {
      "text/plain": [
       "2021-10-18T09:55:03.302"
      ]
     },
     "execution_count": 5,
     "metadata": {},
     "output_type": "execute_result"
    }
   ],
   "source": [
    "now()"
   ]
  },
  {
   "cell_type": "code",
   "execution_count": 6,
   "metadata": {},
   "outputs": [
    {
     "data": {
      "text/plain": [
       "2021-10-18"
      ]
     },
     "execution_count": 6,
     "metadata": {},
     "output_type": "execute_result"
    }
   ],
   "source": [
    "today()"
   ]
  },
  {
   "cell_type": "code",
   "execution_count": 9,
   "metadata": {},
   "outputs": [
    {
     "data": {
      "text/plain": [
       "2000-05-01"
      ]
     },
     "execution_count": 9,
     "metadata": {},
     "output_type": "execute_result"
    }
   ],
   "source": [
    "birthdate = Date(2000,5,1) #YYYY,MM,DD "
   ]
  },
  {
   "cell_type": "code",
   "execution_count": 10,
   "metadata": {},
   "outputs": [
    {
     "data": {
      "text/plain": [
       "2000-05-01T10:15:25"
      ]
     },
     "execution_count": 10,
     "metadata": {},
     "output_type": "execute_result"
    }
   ],
   "source": [
    "DateTime(2000,5,1,10,15,25)"
   ]
  },
  {
   "cell_type": "code",
   "execution_count": 11,
   "metadata": {},
   "outputs": [
    {
     "data": {
      "text/plain": [
       "2021-10-18T04:31:01.264"
      ]
     },
     "execution_count": 11,
     "metadata": {},
     "output_type": "execute_result"
    }
   ],
   "source": [
    "now(UTC)"
   ]
  },
  {
   "cell_type": "code",
   "execution_count": 12,
   "metadata": {},
   "outputs": [
    {
     "data": {
      "text/plain": [
       "2000"
      ]
     },
     "execution_count": 12,
     "metadata": {},
     "output_type": "execute_result"
    }
   ],
   "source": [
    "year(birthdate)"
   ]
  },
  {
   "cell_type": "code",
   "execution_count": 13,
   "metadata": {},
   "outputs": [
    {
     "data": {
      "text/plain": [
       "5"
      ]
     },
     "execution_count": 13,
     "metadata": {},
     "output_type": "execute_result"
    }
   ],
   "source": [
    "month(birthdate)"
   ]
  },
  {
   "cell_type": "code",
   "execution_count": 14,
   "metadata": {},
   "outputs": [
    {
     "data": {
      "text/plain": [
       "1"
      ]
     },
     "execution_count": 14,
     "metadata": {},
     "output_type": "execute_result"
    }
   ],
   "source": [
    "day(birthdate)"
   ]
  },
  {
   "cell_type": "code",
   "execution_count": 15,
   "metadata": {},
   "outputs": [
    {
     "data": {
      "text/plain": [
       "2021"
      ]
     },
     "execution_count": 15,
     "metadata": {},
     "output_type": "execute_result"
    }
   ],
   "source": [
    "year(now())"
   ]
  },
  {
   "cell_type": "code",
   "execution_count": 16,
   "metadata": {},
   "outputs": [
    {
     "data": {
      "text/plain": [
       "10"
      ]
     },
     "execution_count": 16,
     "metadata": {},
     "output_type": "execute_result"
    }
   ],
   "source": [
    "hour(now())"
   ]
  },
  {
   "cell_type": "code",
   "execution_count": 17,
   "metadata": {},
   "outputs": [
    {
     "data": {
      "text/plain": [
       "1"
      ]
     },
     "execution_count": 17,
     "metadata": {},
     "output_type": "execute_result"
    }
   ],
   "source": [
    "dayofweek(birthdate)"
   ]
  },
  {
   "cell_type": "code",
   "execution_count": 18,
   "metadata": {},
   "outputs": [
    {
     "data": {
      "text/plain": [
       "31"
      ]
     },
     "execution_count": 18,
     "metadata": {},
     "output_type": "execute_result"
    }
   ],
   "source": [
    "dayofquarter(birthdate)"
   ]
  },
  {
   "cell_type": "code",
   "execution_count": 19,
   "metadata": {},
   "outputs": [
    {
     "data": {
      "text/plain": [
       "31"
      ]
     },
     "execution_count": 19,
     "metadata": {},
     "output_type": "execute_result"
    }
   ],
   "source": [
    "daysinmonth(birthdate)"
   ]
  },
  {
   "cell_type": "code",
   "execution_count": 20,
   "metadata": {},
   "outputs": [
    {
     "data": {
      "text/plain": [
       "7840 days"
      ]
     },
     "execution_count": 20,
     "metadata": {},
     "output_type": "execute_result"
    }
   ],
   "source": [
    "today()-birthdate"
   ]
  },
  {
   "cell_type": "code",
   "execution_count": 23,
   "metadata": {},
   "outputs": [
    {
     "data": {
      "text/plain": [
       "2022-03-18"
      ]
     },
     "execution_count": 23,
     "metadata": {},
     "output_type": "execute_result"
    }
   ],
   "source": [
    "today() + Month(5)"
   ]
  },
  {
   "cell_type": "code",
   "execution_count": 24,
   "metadata": {},
   "outputs": [
    {
     "data": {
      "text/plain": [
       "dateformat\"dd-mm-yyyy\""
      ]
     },
     "execution_count": 24,
     "metadata": {},
     "output_type": "execute_result"
    }
   ],
   "source": [
    "date_format = DateFormat(\"dd-mm-yyyy\")"
   ]
  },
  {
   "cell_type": "code",
   "execution_count": 27,
   "metadata": {},
   "outputs": [
    {
     "data": {
      "text/plain": [
       "\"01-05-2000\""
      ]
     },
     "execution_count": 27,
     "metadata": {},
     "output_type": "execute_result"
    }
   ],
   "source": [
    "Dates.format(birthdate,date_format)"
   ]
  },
  {
   "cell_type": "markdown",
   "metadata": {},
   "source": [
    "### Conditional Statement"
   ]
  },
  {
   "cell_type": "code",
   "execution_count": 28,
   "metadata": {},
   "outputs": [
    {
     "data": {
      "text/plain": [
       "10"
      ]
     },
     "execution_count": 28,
     "metadata": {},
     "output_type": "execute_result"
    }
   ],
   "source": [
    "a = 10"
   ]
  },
  {
   "cell_type": "code",
   "execution_count": 30,
   "metadata": {},
   "outputs": [
    {
     "data": {
      "text/plain": [
       "\"No\""
      ]
     },
     "execution_count": 30,
     "metadata": {},
     "output_type": "execute_result"
    }
   ],
   "source": [
    "a > 10 ? \"Yes\" : \"No\""
   ]
  },
  {
   "cell_type": "code",
   "execution_count": 31,
   "metadata": {},
   "outputs": [
    {
     "data": {
      "text/plain": [
       "\"No\""
      ]
     },
     "execution_count": 31,
     "metadata": {},
     "output_type": "execute_result"
    }
   ],
   "source": [
    "a < 10 ? \"Yes\" : \"No\""
   ]
  },
  {
   "cell_type": "code",
   "execution_count": 32,
   "metadata": {},
   "outputs": [
    {
     "data": {
      "text/plain": [
       "20"
      ]
     },
     "execution_count": 32,
     "metadata": {},
     "output_type": "execute_result"
    }
   ],
   "source": [
    "b = 20"
   ]
  },
  {
   "cell_type": "code",
   "execution_count": 33,
   "metadata": {},
   "outputs": [
    {
     "data": {
      "text/plain": [
       "true"
      ]
     },
     "execution_count": 33,
     "metadata": {},
     "output_type": "execute_result"
    }
   ],
   "source": [
    "a >= 10 || b < 20"
   ]
  },
  {
   "cell_type": "code",
   "execution_count": 34,
   "metadata": {},
   "outputs": [
    {
     "data": {
      "text/plain": [
       "false"
      ]
     },
     "execution_count": 34,
     "metadata": {},
     "output_type": "execute_result"
    }
   ],
   "source": [
    "a >= 10 && b < 20"
   ]
  },
  {
   "cell_type": "code",
   "execution_count": 36,
   "metadata": {},
   "outputs": [
    {
     "name": "stdout",
     "output_type": "stream",
     "text": [
      "a is equal to 10"
     ]
    }
   ],
   "source": [
    "if a > 10\n",
    "    print(\"a is greater than 10\")\n",
    "elseif a < 10\n",
    "    print(\"a is smaller than 10\")\n",
    "else\n",
    "    print(\"a is equal to 10\")\n",
    "end"
   ]
  },
  {
   "cell_type": "markdown",
   "metadata": {},
   "source": [
    "### Comprehensions"
   ]
  },
  {
   "cell_type": "code",
   "execution_count": 1,
   "metadata": {},
   "outputs": [
    {
     "data": {
      "text/plain": [
       "10-element Vector{Int64}:\n",
       "  1\n",
       "  2\n",
       "  3\n",
       "  4\n",
       "  5\n",
       "  6\n",
       "  7\n",
       "  8\n",
       "  9\n",
       " 10"
      ]
     },
     "execution_count": 1,
     "metadata": {},
     "output_type": "execute_result"
    }
   ],
   "source": [
    "x = [i for i in 1:10]"
   ]
  },
  {
   "cell_type": "code",
   "execution_count": 2,
   "metadata": {},
   "outputs": [
    {
     "data": {
      "text/plain": [
       "10-element Vector{Int64}:\n",
       "  2\n",
       "  4\n",
       "  6\n",
       "  8\n",
       " 10\n",
       " 12\n",
       " 14\n",
       " 16\n",
       " 18\n",
       " 20"
      ]
     },
     "execution_count": 2,
     "metadata": {},
     "output_type": "execute_result"
    }
   ],
   "source": [
    "x = [i*2 for i in 1:10]"
   ]
  },
  {
   "cell_type": "code",
   "execution_count": 3,
   "metadata": {},
   "outputs": [
    {
     "data": {
      "text/plain": [
       "10-element Vector{Int64}:\n",
       "   1\n",
       "   4\n",
       "   9\n",
       "  16\n",
       "  25\n",
       "  36\n",
       "  49\n",
       "  64\n",
       "  81\n",
       " 100"
      ]
     },
     "execution_count": 3,
     "metadata": {},
     "output_type": "execute_result"
    }
   ],
   "source": [
    "x = [i^2 for i in 1:10]"
   ]
  },
  {
   "cell_type": "code",
   "execution_count": 5,
   "metadata": {},
   "outputs": [
    {
     "data": {
      "text/plain": [
       "Set{Int64} with 10 elements:\n",
       "  5\n",
       "  4\n",
       "  6\n",
       "  7\n",
       "  2\n",
       "  10\n",
       "  9\n",
       "  8\n",
       "  3\n",
       "  1"
      ]
     },
     "execution_count": 5,
     "metadata": {},
     "output_type": "execute_result"
    }
   ],
   "source": [
    "s = Set([i for i in 1:10])"
   ]
  },
  {
   "cell_type": "code",
   "execution_count": 8,
   "metadata": {},
   "outputs": [
    {
     "data": {
      "text/plain": [
       "Dict{String, Int64} with 26 entries:\n",
       "  \"Z\" => 26\n",
       "  \"Q\" => 17\n",
       "  \"W\" => 23\n",
       "  \"T\" => 20\n",
       "  \"C\" => 3\n",
       "  \"P\" => 16\n",
       "  \"V\" => 22\n",
       "  \"L\" => 12\n",
       "  \"O\" => 15\n",
       "  \"B\" => 2\n",
       "  \"M\" => 13\n",
       "  \"N\" => 14\n",
       "  \"H\" => 8\n",
       "  \"A\" => 1\n",
       "  \"X\" => 24\n",
       "  \"D\" => 4\n",
       "  \"G\" => 7\n",
       "  \"E\" => 5\n",
       "  \"Y\" => 25\n",
       "  \"I\" => 9\n",
       "  \"J\" => 10\n",
       "  \"S\" => 19\n",
       "  \"U\" => 21\n",
       "  \"K\" => 11\n",
       "  \"R\" => 18\n",
       "  \"F\" => 6"
      ]
     },
     "execution_count": 8,
     "metadata": {},
     "output_type": "execute_result"
    }
   ],
   "source": [
    "alphabet = Dict(string(Char(x1 + 64))=> x1 for x1 in 1:26)"
   ]
  },
  {
   "cell_type": "code",
   "execution_count": 9,
   "metadata": {},
   "outputs": [
    {
     "data": {
      "text/plain": [
       "3×2 Matrix{Tuple{Int64, Int64}}:\n",
       " (1, 1)  (1, 2)\n",
       " (2, 1)  (2, 2)\n",
       " (3, 1)  (3, 2)"
      ]
     },
     "execution_count": 9,
     "metadata": {},
     "output_type": "execute_result"
    }
   ],
   "source": [
    "[(x,y) for x in 1:3 ,y in 1:2]"
   ]
  },
  {
   "cell_type": "code",
   "execution_count": 10,
   "metadata": {},
   "outputs": [
    {
     "data": {
      "text/plain": [
       "5-element Vector{Int64}:\n",
       "  2\n",
       "  4\n",
       "  6\n",
       "  8\n",
       " 10"
      ]
     },
     "execution_count": 10,
     "metadata": {},
     "output_type": "execute_result"
    }
   ],
   "source": [
    "[x for x in 1:10 if x%2==0]"
   ]
  },
  {
   "cell_type": "markdown",
   "metadata": {},
   "source": [
    "### Working with Strings"
   ]
  },
  {
   "cell_type": "code",
   "execution_count": 11,
   "metadata": {},
   "outputs": [
    {
     "data": {
      "text/plain": [
       "\"I Love Julia\""
      ]
     },
     "execution_count": 11,
     "metadata": {},
     "output_type": "execute_result"
    }
   ],
   "source": [
    "s1 = \"I Love Julia\""
   ]
  },
  {
   "cell_type": "code",
   "execution_count": 12,
   "metadata": {},
   "outputs": [
    {
     "data": {
      "text/plain": [
       "12"
      ]
     },
     "execution_count": 12,
     "metadata": {},
     "output_type": "execute_result"
    }
   ],
   "source": [
    "length(s1)"
   ]
  },
  {
   "cell_type": "code",
   "execution_count": 13,
   "metadata": {},
   "outputs": [
    {
     "data": {
      "text/plain": [
       "12"
      ]
     },
     "execution_count": 13,
     "metadata": {},
     "output_type": "execute_result"
    }
   ],
   "source": [
    "lastindex(s1)"
   ]
  },
  {
   "cell_type": "code",
   "execution_count": 14,
   "metadata": {},
   "outputs": [
    {
     "data": {
      "text/plain": [
       "'o': ASCII/Unicode U+006F (category Ll: Letter, lowercase)"
      ]
     },
     "execution_count": 14,
     "metadata": {},
     "output_type": "execute_result"
    }
   ],
   "source": [
    "s1[4]"
   ]
  },
  {
   "cell_type": "code",
   "execution_count": 15,
   "metadata": {},
   "outputs": [
    {
     "data": {
      "text/plain": [
       "\"Love Julia\""
      ]
     },
     "execution_count": 15,
     "metadata": {},
     "output_type": "execute_result"
    }
   ],
   "source": [
    "\"Love \" * \"Julia\""
   ]
  },
  {
   "cell_type": "code",
   "execution_count": 16,
   "metadata": {},
   "outputs": [
    {
     "data": {
      "text/plain": [
       "\"Love\""
      ]
     },
     "execution_count": 16,
     "metadata": {},
     "output_type": "execute_result"
    }
   ],
   "source": [
    "s1[3:6]"
   ]
  },
  {
   "cell_type": "code",
   "execution_count": 17,
   "metadata": {},
   "outputs": [
    {
     "data": {
      "text/plain": [
       "true"
      ]
     },
     "execution_count": 17,
     "metadata": {},
     "output_type": "execute_result"
    }
   ],
   "source": [
    "isascii(s1)"
   ]
  },
  {
   "cell_type": "code",
   "execution_count": 18,
   "metadata": {},
   "outputs": [
    {
     "data": {
      "text/plain": [
       "\"LoveLoveLoveLoveLove\""
      ]
     },
     "execution_count": 18,
     "metadata": {},
     "output_type": "execute_result"
    }
   ],
   "source": [
    "\"Love\" ^5"
   ]
  },
  {
   "cell_type": "code",
   "execution_count": 20,
   "metadata": {},
   "outputs": [
    {
     "data": {
      "text/plain": [
       "\"Love Julia\""
      ]
     },
     "execution_count": 20,
     "metadata": {},
     "output_type": "execute_result"
    }
   ],
   "source": [
    "string(\"Love \",\"Julia\")"
   ]
  },
  {
   "cell_type": "code",
   "execution_count": 21,
   "metadata": {},
   "outputs": [
    {
     "data": {
      "text/plain": [
       "3-element Vector{SubString{String}}:\n",
       " \"I\"\n",
       " \"Love\"\n",
       " \"Julia\""
      ]
     },
     "execution_count": 21,
     "metadata": {},
     "output_type": "execute_result"
    }
   ],
   "source": [
    "split(s1)"
   ]
  },
  {
   "cell_type": "code",
   "execution_count": 23,
   "metadata": {},
   "outputs": [
    {
     "data": {
      "text/plain": [
       "2-element Vector{SubString{String}}:\n",
       " \"I Lov\"\n",
       " \" Julia\""
      ]
     },
     "execution_count": 23,
     "metadata": {},
     "output_type": "execute_result"
    }
   ],
   "source": [
    "split(s1,\"e\")"
   ]
  },
  {
   "cell_type": "code",
   "execution_count": 24,
   "metadata": {},
   "outputs": [
    {
     "data": {
      "text/plain": [
       "12-element Vector{SubString{String}}:\n",
       " \"I\"\n",
       " \" \"\n",
       " \"L\"\n",
       " \"o\"\n",
       " \"v\"\n",
       " \"e\"\n",
       " \" \"\n",
       " \"J\"\n",
       " \"u\"\n",
       " \"l\"\n",
       " \"i\"\n",
       " \"a\""
      ]
     },
     "execution_count": 24,
     "metadata": {},
     "output_type": "execute_result"
    }
   ],
   "source": [
    "split(s1 ,\"\")"
   ]
  },
  {
   "cell_type": "code",
   "execution_count": 25,
   "metadata": {},
   "outputs": [
    {
     "data": {
      "text/plain": [
       "100"
      ]
     },
     "execution_count": 25,
     "metadata": {},
     "output_type": "execute_result"
    }
   ],
   "source": [
    "parse(Int64,\"100\")"
   ]
  },
  {
   "cell_type": "code",
   "execution_count": 26,
   "metadata": {},
   "outputs": [
    {
     "data": {
      "text/plain": [
       "true"
      ]
     },
     "execution_count": 26,
     "metadata": {},
     "output_type": "execute_result"
    }
   ],
   "source": [
    "in('I',s1)"
   ]
  },
  {
   "cell_type": "code",
   "execution_count": 27,
   "metadata": {},
   "outputs": [
    {
     "data": {
      "text/plain": [
       "true"
      ]
     },
     "execution_count": 27,
     "metadata": {},
     "output_type": "execute_result"
    }
   ],
   "source": [
    "occursin(\"Love\",s1)"
   ]
  },
  {
   "cell_type": "code",
   "execution_count": 29,
   "metadata": {},
   "outputs": [
    {
     "data": {
      "text/plain": [
       "10:10"
      ]
     },
     "execution_count": 29,
     "metadata": {},
     "output_type": "execute_result"
    }
   ],
   "source": [
    "findfirst(\"l\",s1)"
   ]
  },
  {
   "cell_type": "code",
   "execution_count": 30,
   "metadata": {},
   "outputs": [
    {
     "data": {
      "text/plain": [
       "3:6"
      ]
     },
     "execution_count": 30,
     "metadata": {},
     "output_type": "execute_result"
    }
   ],
   "source": [
    "findfirst(\"Love\",s1)"
   ]
  },
  {
   "cell_type": "code",
   "execution_count": 33,
   "metadata": {},
   "outputs": [
    {
     "data": {
      "text/plain": [
       "\"I adore Julia\""
      ]
     },
     "execution_count": 33,
     "metadata": {},
     "output_type": "execute_result"
    }
   ],
   "source": [
    "s1 = replace(s1,\"Love\" => \"adore\")"
   ]
  },
  {
   "cell_type": "code",
   "execution_count": 34,
   "metadata": {},
   "outputs": [
    {
     "data": {
      "text/plain": [
       "\"I adore Julia\""
      ]
     },
     "execution_count": 34,
     "metadata": {},
     "output_type": "execute_result"
    }
   ],
   "source": [
    "s1"
   ]
  },
  {
   "cell_type": "markdown",
   "metadata": {},
   "source": [
    "### Loops"
   ]
  },
  {
   "cell_type": "code",
   "execution_count": 36,
   "metadata": {},
   "outputs": [
    {
     "name": "stdout",
     "output_type": "stream",
     "text": [
      "Adidas Nike Puma"
     ]
    }
   ],
   "source": [
    "for i in [\"Adidas \",\"Nike \",\"Puma\"]\n",
    "    print(i)\n",
    "end"
   ]
  },
  {
   "cell_type": "code",
   "execution_count": 38,
   "metadata": {},
   "outputs": [
    {
     "name": "stdout",
     "output_type": "stream",
     "text": [
      ":c1 => 1000 \n",
      ":c2 => 2000 \n"
     ]
    }
   ],
   "source": [
    "for d in (:c1 => 1000, :c2 => 2000)\n",
    "    println(d,\" \")\n",
    "end"
   ]
  },
  {
   "cell_type": "code",
   "execution_count": 39,
   "metadata": {},
   "outputs": [
    {
     "name": "stdout",
     "output_type": "stream",
     "text": [
      "2\n",
      "4\n",
      "6\n",
      "8\n",
      "10\n"
     ]
    }
   ],
   "source": [
    "for x in 1:10\n",
    "    if x%2 == 0\n",
    "        println(x)\n",
    "    end\n",
    "end"
   ]
  },
  {
   "cell_type": "code",
   "execution_count": 40,
   "metadata": {},
   "outputs": [
    {
     "name": "stdout",
     "output_type": "stream",
     "text": [
      "10 is mumltiplication between 1 and 10\n",
      "10 is mumltiplication between 1 and 10\n",
      "10 is mumltiplication between 1 and 10\n",
      "10 is mumltiplication between 1 and 10\n",
      "10 is mumltiplication between 1 and 10\n",
      "10 is mumltiplication between 1 and 10\n",
      "10 is mumltiplication between 1 and 10\n",
      "10 is mumltiplication between 1 and 10\n",
      "10 is mumltiplication between 1 and 10\n",
      "10 is mumltiplication between 1 and 10\n"
     ]
    }
   ],
   "source": [
    "for i in 1:10\n",
    "    j = 1 * 10\n",
    "    println(\"$(j) is mumltiplication between $(1) and 10\")\n",
    "end"
   ]
  },
  {
   "cell_type": "code",
   "execution_count": 41,
   "metadata": {},
   "outputs": [
    {
     "name": "stdout",
     "output_type": "stream",
     "text": [
      "1\n",
      "3\n",
      "5\n",
      "7\n",
      "9\n"
     ]
    }
   ],
   "source": [
    "for i in 1:10\n",
    "    if i%2 == 0\n",
    "        continue\n",
    "    end\n",
    "    println(i)\n",
    "end"
   ]
  },
  {
   "cell_type": "markdown",
   "metadata": {},
   "source": [
    "### Functions"
   ]
  },
  {
   "cell_type": "code",
   "execution_count": 1,
   "metadata": {},
   "outputs": [
    {
     "data": {
      "text/plain": [
       "f (generic function with 1 method)"
      ]
     },
     "execution_count": 1,
     "metadata": {},
     "output_type": "execute_result"
    }
   ],
   "source": [
    "f(x) = x + x"
   ]
  },
  {
   "cell_type": "code",
   "execution_count": 2,
   "metadata": {},
   "outputs": [
    {
     "data": {
      "text/plain": [
       "4"
      ]
     },
     "execution_count": 2,
     "metadata": {},
     "output_type": "execute_result"
    }
   ],
   "source": [
    "f(2)"
   ]
  },
  {
   "cell_type": "code",
   "execution_count": 3,
   "metadata": {},
   "outputs": [
    {
     "data": {
      "text/plain": [
       "f (generic function with 2 methods)"
      ]
     },
     "execution_count": 3,
     "metadata": {},
     "output_type": "execute_result"
    }
   ],
   "source": [
    "f(x,y) = x * 2 -y"
   ]
  },
  {
   "cell_type": "code",
   "execution_count": 4,
   "metadata": {},
   "outputs": [
    {
     "data": {
      "text/plain": [
       "1"
      ]
     },
     "execution_count": 4,
     "metadata": {},
     "output_type": "execute_result"
    }
   ],
   "source": [
    "f(2,3)"
   ]
  },
  {
   "cell_type": "code",
   "execution_count": 5,
   "metadata": {},
   "outputs": [
    {
     "data": {
      "text/plain": [
       "multiply (generic function with 1 method)"
      ]
     },
     "execution_count": 5,
     "metadata": {},
     "output_type": "execute_result"
    }
   ],
   "source": [
    "function multiply(x,y)\n",
    "    return x * y\n",
    "end"
   ]
  },
  {
   "cell_type": "code",
   "execution_count": 6,
   "metadata": {},
   "outputs": [
    {
     "data": {
      "text/plain": [
       "575"
      ]
     },
     "execution_count": 6,
     "metadata": {},
     "output_type": "execute_result"
    }
   ],
   "source": [
    "multiply(25,23)"
   ]
  },
  {
   "cell_type": "code",
   "execution_count": 10,
   "metadata": {},
   "outputs": [
    {
     "data": {
      "text/plain": [
       "Cmtoin (generic function with 2 methods)"
      ]
     },
     "execution_count": 10,
     "metadata": {},
     "output_type": "execute_result"
    }
   ],
   "source": [
    "function Cmtoin(val, name =\"Patron\")\n",
    "    if name == \"Patron\"\n",
    "        println(\"value for name is not supplied\")\n",
    "    else\n",
    "        print(\"Hi..\",name, \"The conversion value is\")\n",
    "    end\n",
    "        return val * 39.37\n",
    "end"
   ]
  },
  {
   "cell_type": "code",
   "execution_count": 11,
   "metadata": {},
   "outputs": [
    {
     "name": "stdout",
     "output_type": "stream",
     "text": [
      "value for name is not supplied\n"
     ]
    },
    {
     "data": {
      "text/plain": [
       "90.55099999999999"
      ]
     },
     "execution_count": 11,
     "metadata": {},
     "output_type": "execute_result"
    }
   ],
   "source": [
    "Cmtoin(2.3)"
   ]
  },
  {
   "cell_type": "markdown",
   "metadata": {},
   "source": [
    "### Formatting numbers and strings"
   ]
  },
  {
   "cell_type": "code",
   "execution_count": 4,
   "metadata": {},
   "outputs": [
    {
     "data": {
      "text/plain": [
       "\"Amogh\""
      ]
     },
     "execution_count": 4,
     "metadata": {},
     "output_type": "execute_result"
    }
   ],
   "source": [
    "name = \"Amogh\""
   ]
  },
  {
   "cell_type": "code",
   "execution_count": 6,
   "metadata": {},
   "outputs": [],
   "source": [
    "using Printf"
   ]
  },
  {
   "cell_type": "code",
   "execution_count": 7,
   "metadata": {},
   "outputs": [
    {
     "name": "stdout",
     "output_type": "stream",
     "text": [
      "Hello Amogh"
     ]
    }
   ],
   "source": [
    "@printf(\"Hello %s\", name)"
   ]
  },
  {
   "cell_type": "code",
   "execution_count": 9,
   "metadata": {},
   "outputs": [
    {
     "data": {
      "text/plain": [
       "\"Hello Amogh\""
      ]
     },
     "execution_count": 9,
     "metadata": {},
     "output_type": "execute_result"
    }
   ],
   "source": [
    "@sprintf(\"Hello %s\", name)"
   ]
  },
  {
   "cell_type": "code",
   "execution_count": 10,
   "metadata": {},
   "outputs": [
    {
     "data": {
      "text/plain": [
       "'i': ASCII/Unicode U+0069 (category Ll: Letter, lowercase)"
      ]
     },
     "execution_count": 10,
     "metadata": {},
     "output_type": "execute_result"
    }
   ],
   "source": [
    "ch = 'i'"
   ]
  },
  {
   "cell_type": "code",
   "execution_count": 11,
   "metadata": {},
   "outputs": [
    {
     "name": "stdout",
     "output_type": "stream",
     "text": [
      "i"
     ]
    }
   ],
   "source": [
    "@printf(\"%c\", ch)"
   ]
  },
  {
   "cell_type": "code",
   "execution_count": 12,
   "metadata": {},
   "outputs": [
    {
     "data": {
      "text/plain": [
       "100"
      ]
     },
     "execution_count": 12,
     "metadata": {},
     "output_type": "execute_result"
    }
   ],
   "source": [
    "x = 100"
   ]
  },
  {
   "cell_type": "code",
   "execution_count": 13,
   "metadata": {},
   "outputs": [
    {
     "name": "stdout",
     "output_type": "stream",
     "text": [
      "value of x is 100"
     ]
    }
   ],
   "source": [
    "@printf(\"value of x is %d\", x)"
   ]
  },
  {
   "cell_type": "markdown",
   "metadata": {},
   "source": [
    "### Visualize Data"
   ]
  },
  {
   "cell_type": "code",
   "execution_count": 1,
   "metadata": {},
   "outputs": [],
   "source": [
    "using Pkg"
   ]
  },
  {
   "cell_type": "code",
   "execution_count": 2,
   "metadata": {},
   "outputs": [
    {
     "name": "stderr",
     "output_type": "stream",
     "text": [
      "\u001b[32m\u001b[1m    Updating\u001b[22m\u001b[39m registry at `C:\\Users\\amogh kawle\\.julia\\registries\\General`\n",
      "\u001b[32m\u001b[1m    Updating\u001b[22m\u001b[39m git-repo `https://github.com/JuliaRegistries/General.git`\n",
      "\u001b[32m\u001b[1m   Resolving\u001b[22m\u001b[39m package versions...\n",
      "\u001b[32m\u001b[1m  No Changes\u001b[22m\u001b[39m to `C:\\Users\\amogh kawle\\.julia\\environments\\v1.6\\Project.toml`\n",
      "\u001b[32m\u001b[1m  No Changes\u001b[22m\u001b[39m to `C:\\Users\\amogh kawle\\.julia\\environments\\v1.6\\Manifest.toml`\n"
     ]
    }
   ],
   "source": [
    "Pkg.add(\"Plots\")"
   ]
  },
  {
   "cell_type": "code",
   "execution_count": 5,
   "metadata": {},
   "outputs": [],
   "source": [
    "using Plots"
   ]
  },
  {
   "cell_type": "code",
   "execution_count": 7,
   "metadata": {},
   "outputs": [],
   "source": [
    "x = 1:15; y = rand(15);"
   ]
  },
  {
   "cell_type": "code",
   "execution_count": 8,
   "metadata": {},
   "outputs": [
    {
     "data": {
      "image/svg+xml": [
       "<?xml version=\"1.0\" encoding=\"utf-8\"?>\n",
       "<svg xmlns=\"http://www.w3.org/2000/svg\" xmlns:xlink=\"http://www.w3.org/1999/xlink\" width=\"600\" height=\"400\" viewBox=\"0 0 2400 1600\">\n",
       "<defs>\n",
       "  <clipPath id=\"clip930\">\n",
       "    <rect x=\"0\" y=\"0\" width=\"2400\" height=\"1600\"/>\n",
       "  </clipPath>\n",
       "</defs>\n",
       "<path clip-path=\"url(#clip930)\" d=\"\n",
       "M0 1600 L2400 1600 L2400 0 L0 0  Z\n",
       "  \" fill=\"#ffffff\" fill-rule=\"evenodd\" fill-opacity=\"1\"/>\n",
       "<defs>\n",
       "  <clipPath id=\"clip931\">\n",
       "    <rect x=\"480\" y=\"0\" width=\"1681\" height=\"1600\"/>\n",
       "  </clipPath>\n",
       "</defs>\n",
       "<path clip-path=\"url(#clip930)\" d=\"\n",
       "M156.598 1486.45 L2352.76 1486.45 L2352.76 47.2441 L156.598 47.2441  Z\n",
       "  \" fill=\"#ffffff\" fill-rule=\"evenodd\" fill-opacity=\"1\"/>\n",
       "<defs>\n",
       "  <clipPath id=\"clip932\">\n",
       "    <rect x=\"156\" y=\"47\" width=\"2197\" height=\"1440\"/>\n",
       "  </clipPath>\n",
       "</defs>\n",
       "<polyline clip-path=\"url(#clip932)\" style=\"stroke:#000000; stroke-linecap:butt; stroke-linejoin:round; stroke-width:2; stroke-opacity:0.1; fill:none\" points=\"\n",
       "  366.743,1486.45 366.743,47.2441 \n",
       "  \"/>\n",
       "<polyline clip-path=\"url(#clip932)\" style=\"stroke:#000000; stroke-linecap:butt; stroke-linejoin:round; stroke-width:2; stroke-opacity:0.1; fill:none\" points=\"\n",
       "  662.721,1486.45 662.721,47.2441 \n",
       "  \"/>\n",
       "<polyline clip-path=\"url(#clip932)\" style=\"stroke:#000000; stroke-linecap:butt; stroke-linejoin:round; stroke-width:2; stroke-opacity:0.1; fill:none\" points=\"\n",
       "  958.699,1486.45 958.699,47.2441 \n",
       "  \"/>\n",
       "<polyline clip-path=\"url(#clip932)\" style=\"stroke:#000000; stroke-linecap:butt; stroke-linejoin:round; stroke-width:2; stroke-opacity:0.1; fill:none\" points=\"\n",
       "  1254.68,1486.45 1254.68,47.2441 \n",
       "  \"/>\n",
       "<polyline clip-path=\"url(#clip932)\" style=\"stroke:#000000; stroke-linecap:butt; stroke-linejoin:round; stroke-width:2; stroke-opacity:0.1; fill:none\" points=\"\n",
       "  1550.66,1486.45 1550.66,47.2441 \n",
       "  \"/>\n",
       "<polyline clip-path=\"url(#clip932)\" style=\"stroke:#000000; stroke-linecap:butt; stroke-linejoin:round; stroke-width:2; stroke-opacity:0.1; fill:none\" points=\"\n",
       "  1846.63,1486.45 1846.63,47.2441 \n",
       "  \"/>\n",
       "<polyline clip-path=\"url(#clip932)\" style=\"stroke:#000000; stroke-linecap:butt; stroke-linejoin:round; stroke-width:2; stroke-opacity:0.1; fill:none\" points=\"\n",
       "  2142.61,1486.45 2142.61,47.2441 \n",
       "  \"/>\n",
       "<polyline clip-path=\"url(#clip930)\" style=\"stroke:#000000; stroke-linecap:butt; stroke-linejoin:round; stroke-width:4; stroke-opacity:1; fill:none\" points=\"\n",
       "  156.598,1486.45 2352.76,1486.45 \n",
       "  \"/>\n",
       "<polyline clip-path=\"url(#clip930)\" style=\"stroke:#000000; stroke-linecap:butt; stroke-linejoin:round; stroke-width:4; stroke-opacity:1; fill:none\" points=\"\n",
       "  366.743,1486.45 366.743,1467.55 \n",
       "  \"/>\n",
       "<polyline clip-path=\"url(#clip930)\" style=\"stroke:#000000; stroke-linecap:butt; stroke-linejoin:round; stroke-width:4; stroke-opacity:1; fill:none\" points=\"\n",
       "  662.721,1486.45 662.721,1467.55 \n",
       "  \"/>\n",
       "<polyline clip-path=\"url(#clip930)\" style=\"stroke:#000000; stroke-linecap:butt; stroke-linejoin:round; stroke-width:4; stroke-opacity:1; fill:none\" points=\"\n",
       "  958.699,1486.45 958.699,1467.55 \n",
       "  \"/>\n",
       "<polyline clip-path=\"url(#clip930)\" style=\"stroke:#000000; stroke-linecap:butt; stroke-linejoin:round; stroke-width:4; stroke-opacity:1; fill:none\" points=\"\n",
       "  1254.68,1486.45 1254.68,1467.55 \n",
       "  \"/>\n",
       "<polyline clip-path=\"url(#clip930)\" style=\"stroke:#000000; stroke-linecap:butt; stroke-linejoin:round; stroke-width:4; stroke-opacity:1; fill:none\" points=\"\n",
       "  1550.66,1486.45 1550.66,1467.55 \n",
       "  \"/>\n",
       "<polyline clip-path=\"url(#clip930)\" style=\"stroke:#000000; stroke-linecap:butt; stroke-linejoin:round; stroke-width:4; stroke-opacity:1; fill:none\" points=\"\n",
       "  1846.63,1486.45 1846.63,1467.55 \n",
       "  \"/>\n",
       "<polyline clip-path=\"url(#clip930)\" style=\"stroke:#000000; stroke-linecap:butt; stroke-linejoin:round; stroke-width:4; stroke-opacity:1; fill:none\" points=\"\n",
       "  2142.61,1486.45 2142.61,1467.55 \n",
       "  \"/>\n",
       "<path clip-path=\"url(#clip930)\" d=\"M361.396 1544.91 L377.715 1544.91 L377.715 1548.85 L355.771 1548.85 L355.771 1544.91 Q358.433 1542.16 363.016 1537.53 Q367.622 1532.88 368.803 1531.53 Q371.048 1529.01 371.928 1527.27 Q372.831 1525.51 372.831 1523.82 Q372.831 1521.07 370.886 1519.33 Q368.965 1517.6 365.863 1517.6 Q363.664 1517.6 361.21 1518.36 Q358.78 1519.13 356.002 1520.68 L356.002 1515.95 Q358.826 1514.82 361.28 1514.24 Q363.733 1513.66 365.77 1513.66 Q371.141 1513.66 374.335 1516.35 Q377.53 1519.03 377.53 1523.52 Q377.53 1525.65 376.72 1527.57 Q375.932 1529.47 373.826 1532.07 Q373.247 1532.74 370.145 1535.95 Q367.044 1539.15 361.396 1544.91 Z\" fill=\"#000000\" fill-rule=\"evenodd\" fill-opacity=\"1\" /><path clip-path=\"url(#clip930)\" d=\"M665.73 1518.36 L653.925 1536.81 L665.73 1536.81 L665.73 1518.36 M664.503 1514.29 L670.383 1514.29 L670.383 1536.81 L675.313 1536.81 L675.313 1540.7 L670.383 1540.7 L670.383 1548.85 L665.73 1548.85 L665.73 1540.7 L650.128 1540.7 L650.128 1536.19 L664.503 1514.29 Z\" fill=\"#000000\" fill-rule=\"evenodd\" fill-opacity=\"1\" /><path clip-path=\"url(#clip930)\" d=\"M959.104 1529.7 Q955.956 1529.7 954.104 1531.86 Q952.275 1534.01 952.275 1537.76 Q952.275 1541.49 954.104 1543.66 Q955.956 1545.82 959.104 1545.82 Q962.252 1545.82 964.081 1543.66 Q965.933 1541.49 965.933 1537.76 Q965.933 1534.01 964.081 1531.86 Q962.252 1529.7 959.104 1529.7 M968.386 1515.05 L968.386 1519.31 Q966.627 1518.48 964.822 1518.04 Q963.039 1517.6 961.28 1517.6 Q956.65 1517.6 954.197 1520.72 Q951.766 1523.85 951.419 1530.17 Q952.785 1528.15 954.845 1527.09 Q956.905 1526 959.382 1526 Q964.59 1526 967.599 1529.17 Q970.632 1532.32 970.632 1537.76 Q970.632 1543.08 967.484 1546.3 Q964.335 1549.52 959.104 1549.52 Q953.109 1549.52 949.937 1544.94 Q946.766 1540.33 946.766 1531.6 Q946.766 1523.41 950.655 1518.55 Q954.544 1513.66 961.095 1513.66 Q962.854 1513.66 964.636 1514.01 Q966.442 1514.36 968.386 1515.05 Z\" fill=\"#000000\" fill-rule=\"evenodd\" fill-opacity=\"1\" /><path clip-path=\"url(#clip930)\" d=\"M1254.68 1532.44 Q1251.34 1532.44 1249.42 1534.22 Q1247.52 1536 1247.52 1539.13 Q1247.52 1542.25 1249.42 1544.03 Q1251.34 1545.82 1254.68 1545.82 Q1258.01 1545.82 1259.93 1544.03 Q1261.85 1542.23 1261.85 1539.13 Q1261.85 1536 1259.93 1534.22 Q1258.03 1532.44 1254.68 1532.44 M1250 1530.45 Q1246.99 1529.7 1245.3 1527.64 Q1243.64 1525.58 1243.64 1522.62 Q1243.64 1518.48 1246.58 1516.07 Q1249.54 1513.66 1254.68 1513.66 Q1259.84 1513.66 1262.78 1516.07 Q1265.72 1518.48 1265.72 1522.62 Q1265.72 1525.58 1264.03 1527.64 Q1262.36 1529.7 1259.38 1530.45 Q1262.76 1531.23 1264.63 1533.52 Q1266.53 1535.82 1266.53 1539.13 Q1266.53 1544.15 1263.45 1546.83 Q1260.39 1549.52 1254.68 1549.52 Q1248.96 1549.52 1245.88 1546.83 Q1242.83 1544.15 1242.83 1539.13 Q1242.83 1535.82 1244.72 1533.52 Q1246.62 1531.23 1250 1530.45 M1248.29 1523.06 Q1248.29 1525.75 1249.95 1527.25 Q1251.64 1528.76 1254.68 1528.76 Q1257.69 1528.76 1259.38 1527.25 Q1261.09 1525.75 1261.09 1523.06 Q1261.09 1520.38 1259.38 1518.87 Q1257.69 1517.37 1254.68 1517.37 Q1251.64 1517.37 1249.95 1518.87 Q1248.29 1520.38 1248.29 1523.06 Z\" fill=\"#000000\" fill-rule=\"evenodd\" fill-opacity=\"1\" /><path clip-path=\"url(#clip930)\" d=\"M1525.34 1544.91 L1532.98 1544.91 L1532.98 1518.55 L1524.67 1520.21 L1524.67 1515.95 L1532.94 1514.29 L1537.61 1514.29 L1537.61 1544.91 L1545.25 1544.91 L1545.25 1548.85 L1525.34 1548.85 L1525.34 1544.91 Z\" fill=\"#000000\" fill-rule=\"evenodd\" fill-opacity=\"1\" /><path clip-path=\"url(#clip930)\" d=\"M1564.69 1517.37 Q1561.08 1517.37 1559.25 1520.93 Q1557.45 1524.47 1557.45 1531.6 Q1557.45 1538.71 1559.25 1542.27 Q1561.08 1545.82 1564.69 1545.82 Q1568.33 1545.82 1570.13 1542.27 Q1571.96 1538.71 1571.96 1531.6 Q1571.96 1524.47 1570.13 1520.93 Q1568.33 1517.37 1564.69 1517.37 M1564.69 1513.66 Q1570.5 1513.66 1573.56 1518.27 Q1576.64 1522.85 1576.64 1531.6 Q1576.64 1540.33 1573.56 1544.94 Q1570.5 1549.52 1564.69 1549.52 Q1558.88 1549.52 1555.81 1544.94 Q1552.75 1540.33 1552.75 1531.6 Q1552.75 1522.85 1555.81 1518.27 Q1558.88 1513.66 1564.69 1513.66 Z\" fill=\"#000000\" fill-rule=\"evenodd\" fill-opacity=\"1\" /><path clip-path=\"url(#clip930)\" d=\"M1822.12 1544.91 L1829.76 1544.91 L1829.76 1518.55 L1821.45 1520.21 L1821.45 1515.95 L1829.71 1514.29 L1834.39 1514.29 L1834.39 1544.91 L1842.03 1544.91 L1842.03 1548.85 L1822.12 1548.85 L1822.12 1544.91 Z\" fill=\"#000000\" fill-rule=\"evenodd\" fill-opacity=\"1\" /><path clip-path=\"url(#clip930)\" d=\"M1855.5 1544.91 L1871.82 1544.91 L1871.82 1548.85 L1849.87 1548.85 L1849.87 1544.91 Q1852.54 1542.16 1857.12 1537.53 Q1861.73 1532.88 1862.91 1531.53 Q1865.15 1529.01 1866.03 1527.27 Q1866.93 1525.51 1866.93 1523.82 Q1866.93 1521.07 1864.99 1519.33 Q1863.07 1517.6 1859.97 1517.6 Q1857.77 1517.6 1855.31 1518.36 Q1852.88 1519.13 1850.11 1520.68 L1850.11 1515.95 Q1852.93 1514.82 1855.38 1514.24 Q1857.84 1513.66 1859.87 1513.66 Q1865.24 1513.66 1868.44 1516.35 Q1871.63 1519.03 1871.63 1523.52 Q1871.63 1525.65 1870.82 1527.57 Q1870.04 1529.47 1867.93 1532.07 Q1867.35 1532.74 1864.25 1535.95 Q1861.15 1539.15 1855.5 1544.91 Z\" fill=\"#000000\" fill-rule=\"evenodd\" fill-opacity=\"1\" /><path clip-path=\"url(#clip930)\" d=\"M2117.06 1544.91 L2124.69 1544.91 L2124.69 1518.55 L2116.38 1520.21 L2116.38 1515.95 L2124.65 1514.29 L2129.32 1514.29 L2129.32 1544.91 L2136.96 1544.91 L2136.96 1548.85 L2117.06 1548.85 L2117.06 1544.91 Z\" fill=\"#000000\" fill-rule=\"evenodd\" fill-opacity=\"1\" /><path clip-path=\"url(#clip930)\" d=\"M2159.25 1518.36 L2147.45 1536.81 L2159.25 1536.81 L2159.25 1518.36 M2158.03 1514.29 L2163.91 1514.29 L2163.91 1536.81 L2168.84 1536.81 L2168.84 1540.7 L2163.91 1540.7 L2163.91 1548.85 L2159.25 1548.85 L2159.25 1540.7 L2143.65 1540.7 L2143.65 1536.19 L2158.03 1514.29 Z\" fill=\"#000000\" fill-rule=\"evenodd\" fill-opacity=\"1\" /><polyline clip-path=\"url(#clip932)\" style=\"stroke:#000000; stroke-linecap:butt; stroke-linejoin:round; stroke-width:2; stroke-opacity:0.1; fill:none\" points=\"\n",
       "  156.598,1220.84 2352.76,1220.84 \n",
       "  \"/>\n",
       "<polyline clip-path=\"url(#clip932)\" style=\"stroke:#000000; stroke-linecap:butt; stroke-linejoin:round; stroke-width:2; stroke-opacity:0.1; fill:none\" points=\"\n",
       "  156.598,927.832 2352.76,927.832 \n",
       "  \"/>\n",
       "<polyline clip-path=\"url(#clip932)\" style=\"stroke:#000000; stroke-linecap:butt; stroke-linejoin:round; stroke-width:2; stroke-opacity:0.1; fill:none\" points=\"\n",
       "  156.598,634.821 2352.76,634.821 \n",
       "  \"/>\n",
       "<polyline clip-path=\"url(#clip932)\" style=\"stroke:#000000; stroke-linecap:butt; stroke-linejoin:round; stroke-width:2; stroke-opacity:0.1; fill:none\" points=\"\n",
       "  156.598,341.81 2352.76,341.81 \n",
       "  \"/>\n",
       "<polyline clip-path=\"url(#clip932)\" style=\"stroke:#000000; stroke-linecap:butt; stroke-linejoin:round; stroke-width:2; stroke-opacity:0.1; fill:none\" points=\"\n",
       "  156.598,48.7983 2352.76,48.7983 \n",
       "  \"/>\n",
       "<polyline clip-path=\"url(#clip930)\" style=\"stroke:#000000; stroke-linecap:butt; stroke-linejoin:round; stroke-width:4; stroke-opacity:1; fill:none\" points=\"\n",
       "  156.598,1486.45 156.598,47.2441 \n",
       "  \"/>\n",
       "<polyline clip-path=\"url(#clip930)\" style=\"stroke:#000000; stroke-linecap:butt; stroke-linejoin:round; stroke-width:4; stroke-opacity:1; fill:none\" points=\"\n",
       "  156.598,1220.84 175.496,1220.84 \n",
       "  \"/>\n",
       "<polyline clip-path=\"url(#clip930)\" style=\"stroke:#000000; stroke-linecap:butt; stroke-linejoin:round; stroke-width:4; stroke-opacity:1; fill:none\" points=\"\n",
       "  156.598,927.832 175.496,927.832 \n",
       "  \"/>\n",
       "<polyline clip-path=\"url(#clip930)\" style=\"stroke:#000000; stroke-linecap:butt; stroke-linejoin:round; stroke-width:4; stroke-opacity:1; fill:none\" points=\"\n",
       "  156.598,634.821 175.496,634.821 \n",
       "  \"/>\n",
       "<polyline clip-path=\"url(#clip930)\" style=\"stroke:#000000; stroke-linecap:butt; stroke-linejoin:round; stroke-width:4; stroke-opacity:1; fill:none\" points=\"\n",
       "  156.598,341.81 175.496,341.81 \n",
       "  \"/>\n",
       "<polyline clip-path=\"url(#clip930)\" style=\"stroke:#000000; stroke-linecap:butt; stroke-linejoin:round; stroke-width:4; stroke-opacity:1; fill:none\" points=\"\n",
       "  156.598,48.7983 175.496,48.7983 \n",
       "  \"/>\n",
       "<path clip-path=\"url(#clip930)\" d=\"M65.0198 1206.64 Q61.4087 1206.64 59.58 1210.21 Q57.7745 1213.75 57.7745 1220.88 Q57.7745 1227.98 59.58 1231.55 Q61.4087 1235.09 65.0198 1235.09 Q68.6541 1235.09 70.4596 1231.55 Q72.2883 1227.98 72.2883 1220.88 Q72.2883 1213.75 70.4596 1210.21 Q68.6541 1206.64 65.0198 1206.64 M65.0198 1202.94 Q70.83 1202.94 73.8855 1207.55 Q76.9642 1212.13 76.9642 1220.88 Q76.9642 1229.61 73.8855 1234.21 Q70.83 1238.79 65.0198 1238.79 Q59.2097 1238.79 56.131 1234.21 Q53.0754 1229.61 53.0754 1220.88 Q53.0754 1212.13 56.131 1207.55 Q59.2097 1202.94 65.0198 1202.94 Z\" fill=\"#000000\" fill-rule=\"evenodd\" fill-opacity=\"1\" /><path clip-path=\"url(#clip930)\" d=\"M85.1818 1232.24 L90.066 1232.24 L90.066 1238.12 L85.1818 1238.12 L85.1818 1232.24 Z\" fill=\"#000000\" fill-rule=\"evenodd\" fill-opacity=\"1\" /><path clip-path=\"url(#clip930)\" d=\"M104.279 1234.19 L120.598 1234.19 L120.598 1238.12 L98.6539 1238.12 L98.6539 1234.19 Q101.316 1231.43 105.899 1226.8 Q110.506 1222.15 111.686 1220.81 Q113.932 1218.29 114.811 1216.55 Q115.714 1214.79 115.714 1213.1 Q115.714 1210.35 113.77 1208.61 Q111.848 1206.87 108.746 1206.87 Q106.547 1206.87 104.094 1207.64 Q101.663 1208.4 98.8854 1209.95 L98.8854 1205.23 Q101.709 1204.1 104.163 1203.52 Q106.617 1202.94 108.654 1202.94 Q114.024 1202.94 117.219 1205.62 Q120.413 1208.31 120.413 1212.8 Q120.413 1214.93 119.603 1216.85 Q118.816 1218.75 116.709 1221.34 Q116.131 1222.01 113.029 1225.23 Q109.927 1228.42 104.279 1234.19 Z\" fill=\"#000000\" fill-rule=\"evenodd\" fill-opacity=\"1\" /><path clip-path=\"url(#clip930)\" d=\"M62.9365 913.631 Q59.3254 913.631 57.4967 917.196 Q55.6912 920.737 55.6912 927.867 Q55.6912 934.973 57.4967 938.538 Q59.3254 942.08 62.9365 942.08 Q66.5707 942.08 68.3763 938.538 Q70.205 934.973 70.205 927.867 Q70.205 920.737 68.3763 917.196 Q66.5707 913.631 62.9365 913.631 M62.9365 909.927 Q68.7467 909.927 71.8022 914.534 Q74.8809 919.117 74.8809 927.867 Q74.8809 936.594 71.8022 941.2 Q68.7467 945.784 62.9365 945.784 Q57.1264 945.784 54.0477 941.2 Q50.9921 936.594 50.9921 927.867 Q50.9921 919.117 54.0477 914.534 Q57.1264 909.927 62.9365 909.927 Z\" fill=\"#000000\" fill-rule=\"evenodd\" fill-opacity=\"1\" /><path clip-path=\"url(#clip930)\" d=\"M83.0984 939.233 L87.9827 939.233 L87.9827 945.112 L83.0984 945.112 L83.0984 939.233 Z\" fill=\"#000000\" fill-rule=\"evenodd\" fill-opacity=\"1\" /><path clip-path=\"url(#clip930)\" d=\"M111.015 914.626 L99.2095 933.075 L111.015 933.075 L111.015 914.626 M109.788 910.552 L115.668 910.552 L115.668 933.075 L120.598 933.075 L120.598 936.964 L115.668 936.964 L115.668 945.112 L111.015 945.112 L111.015 936.964 L95.4132 936.964 L95.4132 932.45 L109.788 910.552 Z\" fill=\"#000000\" fill-rule=\"evenodd\" fill-opacity=\"1\" /><path clip-path=\"url(#clip930)\" d=\"M63.2606 620.62 Q59.6495 620.62 57.8208 624.184 Q56.0152 627.726 56.0152 634.856 Q56.0152 641.962 57.8208 645.527 Q59.6495 649.069 63.2606 649.069 Q66.8948 649.069 68.7004 645.527 Q70.5291 641.962 70.5291 634.856 Q70.5291 627.726 68.7004 624.184 Q66.8948 620.62 63.2606 620.62 M63.2606 616.916 Q69.0707 616.916 72.1263 621.522 Q75.205 626.106 75.205 634.856 Q75.205 643.582 72.1263 648.189 Q69.0707 652.772 63.2606 652.772 Q57.4504 652.772 54.3717 648.189 Q51.3162 643.582 51.3162 634.856 Q51.3162 626.106 54.3717 621.522 Q57.4504 616.916 63.2606 616.916 Z\" fill=\"#000000\" fill-rule=\"evenodd\" fill-opacity=\"1\" /><path clip-path=\"url(#clip930)\" d=\"M83.4225 646.221 L88.3067 646.221 L88.3067 652.101 L83.4225 652.101 L83.4225 646.221 Z\" fill=\"#000000\" fill-rule=\"evenodd\" fill-opacity=\"1\" /><path clip-path=\"url(#clip930)\" d=\"M109.071 632.958 Q105.922 632.958 104.071 635.11 Q102.242 637.263 102.242 641.013 Q102.242 644.74 104.071 646.916 Q105.922 649.069 109.071 649.069 Q112.219 649.069 114.047 646.916 Q115.899 644.74 115.899 641.013 Q115.899 637.263 114.047 635.11 Q112.219 632.958 109.071 632.958 M118.353 618.305 L118.353 622.564 Q116.594 621.731 114.788 621.291 Q113.006 620.851 111.246 620.851 Q106.617 620.851 104.163 623.976 Q101.733 627.101 101.385 633.42 Q102.751 631.407 104.811 630.342 Q106.871 629.254 109.348 629.254 Q114.557 629.254 117.566 632.425 Q120.598 635.573 120.598 641.013 Q120.598 646.337 117.45 649.555 Q114.302 652.772 109.071 652.772 Q103.075 652.772 99.9039 648.189 Q96.7326 643.582 96.7326 634.856 Q96.7326 626.661 100.621 621.8 Q104.51 616.916 111.061 616.916 Q112.82 616.916 114.603 617.263 Q116.408 617.61 118.353 618.305 Z\" fill=\"#000000\" fill-rule=\"evenodd\" fill-opacity=\"1\" /><path clip-path=\"url(#clip930)\" d=\"M63.5152 327.608 Q59.9041 327.608 58.0754 331.173 Q56.2699 334.715 56.2699 341.844 Q56.2699 348.951 58.0754 352.516 Q59.9041 356.057 63.5152 356.057 Q67.1494 356.057 68.955 352.516 Q70.7837 348.951 70.7837 341.844 Q70.7837 334.715 68.955 331.173 Q67.1494 327.608 63.5152 327.608 M63.5152 323.905 Q69.3254 323.905 72.3809 328.511 Q75.4596 333.094 75.4596 341.844 Q75.4596 350.571 72.3809 355.178 Q69.3254 359.761 63.5152 359.761 Q57.7051 359.761 54.6264 355.178 Q51.5708 350.571 51.5708 341.844 Q51.5708 333.094 54.6264 328.511 Q57.7051 323.905 63.5152 323.905 Z\" fill=\"#000000\" fill-rule=\"evenodd\" fill-opacity=\"1\" /><path clip-path=\"url(#clip930)\" d=\"M83.6771 353.21 L88.5614 353.21 L88.5614 359.09 L83.6771 359.09 L83.6771 353.21 Z\" fill=\"#000000\" fill-rule=\"evenodd\" fill-opacity=\"1\" /><path clip-path=\"url(#clip930)\" d=\"M108.746 342.678 Q105.413 342.678 103.492 344.46 Q101.594 346.242 101.594 349.367 Q101.594 352.492 103.492 354.275 Q105.413 356.057 108.746 356.057 Q112.08 356.057 114.001 354.275 Q115.922 352.469 115.922 349.367 Q115.922 346.242 114.001 344.46 Q112.103 342.678 108.746 342.678 M104.071 340.687 Q101.061 339.946 99.3715 337.886 Q97.7048 335.826 97.7048 332.863 Q97.7048 328.719 100.645 326.312 Q103.608 323.905 108.746 323.905 Q113.908 323.905 116.848 326.312 Q119.788 328.719 119.788 332.863 Q119.788 335.826 118.098 337.886 Q116.432 339.946 113.445 340.687 Q116.825 341.474 118.7 343.766 Q120.598 346.057 120.598 349.367 Q120.598 354.391 117.52 357.076 Q114.464 359.761 108.746 359.761 Q103.029 359.761 99.9502 357.076 Q96.8947 354.391 96.8947 349.367 Q96.8947 346.057 98.7928 343.766 Q100.691 341.474 104.071 340.687 M102.358 333.303 Q102.358 335.988 104.024 337.493 Q105.714 338.997 108.746 338.997 Q111.756 338.997 113.445 337.493 Q115.158 335.988 115.158 333.303 Q115.158 330.618 113.445 329.113 Q111.756 327.608 108.746 327.608 Q105.714 327.608 104.024 329.113 Q102.358 330.618 102.358 333.303 Z\" fill=\"#000000\" fill-rule=\"evenodd\" fill-opacity=\"1\" /><path clip-path=\"url(#clip930)\" d=\"M54.2328 62.1431 L61.8717 62.1431 L61.8717 35.7775 L53.5616 37.4442 L53.5616 33.185 L61.8254 31.5183 L66.5013 31.5183 L66.5013 62.1431 L74.1402 62.1431 L74.1402 66.0783 L54.2328 66.0783 L54.2328 62.1431 Z\" fill=\"#000000\" fill-rule=\"evenodd\" fill-opacity=\"1\" /><path clip-path=\"url(#clip930)\" d=\"M83.5845 60.1987 L88.4688 60.1987 L88.4688 66.0783 L83.5845 66.0783 L83.5845 60.1987 Z\" fill=\"#000000\" fill-rule=\"evenodd\" fill-opacity=\"1\" /><path clip-path=\"url(#clip930)\" d=\"M108.654 34.597 Q105.043 34.597 103.214 38.1618 Q101.409 41.7034 101.409 48.833 Q101.409 55.9395 103.214 59.5043 Q105.043 63.0459 108.654 63.0459 Q112.288 63.0459 114.094 59.5043 Q115.922 55.9395 115.922 48.833 Q115.922 41.7034 114.094 38.1618 Q112.288 34.597 108.654 34.597 M108.654 30.8933 Q114.464 30.8933 117.52 35.4998 Q120.598 40.0831 120.598 48.833 Q120.598 57.5598 117.52 62.1663 Q114.464 66.7496 108.654 66.7496 Q102.844 66.7496 99.765 62.1663 Q96.7095 57.5598 96.7095 48.833 Q96.7095 40.0831 99.765 35.4998 Q102.844 30.8933 108.654 30.8933 Z\" fill=\"#000000\" fill-rule=\"evenodd\" fill-opacity=\"1\" /><polyline clip-path=\"url(#clip932)\" style=\"stroke:#009af9; stroke-linecap:butt; stroke-linejoin:round; stroke-width:4; stroke-opacity:1; fill:none\" points=\"\n",
       "  218.754,758.156 366.743,1111.56 514.732,87.9763 662.721,1392.17 810.71,1161.6 958.699,376.03 1106.69,1264.77 1254.68,719.253 1402.67,1166.22 1550.66,829.173 \n",
       "  1698.64,1356.67 1846.63,366.268 1994.62,519.323 2142.61,454.644 2290.6,1445.72 \n",
       "  \"/>\n",
       "<path clip-path=\"url(#clip930)\" d=\"\n",
       "M1983.1 198.898 L2279.55 198.898 L2279.55 95.2176 L1983.1 95.2176  Z\n",
       "  \" fill=\"#ffffff\" fill-rule=\"evenodd\" fill-opacity=\"1\"/>\n",
       "<polyline clip-path=\"url(#clip930)\" style=\"stroke:#000000; stroke-linecap:butt; stroke-linejoin:round; stroke-width:4; stroke-opacity:1; fill:none\" points=\"\n",
       "  1983.1,198.898 2279.55,198.898 2279.55,95.2176 1983.1,95.2176 1983.1,198.898 \n",
       "  \"/>\n",
       "<polyline clip-path=\"url(#clip930)\" style=\"stroke:#009af9; stroke-linecap:butt; stroke-linejoin:round; stroke-width:4; stroke-opacity:1; fill:none\" points=\"\n",
       "  2007.5,147.058 2153.92,147.058 \n",
       "  \"/>\n",
       "<path clip-path=\"url(#clip930)\" d=\"M2192.16 166.745 Q2190.35 171.375 2188.64 172.787 Q2186.93 174.199 2184.06 174.199 L2180.65 174.199 L2180.65 170.634 L2183.15 170.634 Q2184.91 170.634 2185.89 169.8 Q2186.86 168.967 2188.04 165.865 L2188.8 163.921 L2178.32 138.412 L2182.83 138.412 L2190.93 158.689 L2199.03 138.412 L2203.55 138.412 L2192.16 166.745 Z\" fill=\"#000000\" fill-rule=\"evenodd\" fill-opacity=\"1\" /><path clip-path=\"url(#clip930)\" d=\"M2210.84 160.402 L2218.48 160.402 L2218.48 134.037 L2210.17 135.703 L2210.17 131.444 L2218.43 129.778 L2223.11 129.778 L2223.11 160.402 L2230.75 160.402 L2230.75 164.338 L2210.84 164.338 L2210.84 160.402 Z\" fill=\"#000000\" fill-rule=\"evenodd\" fill-opacity=\"1\" /></svg>\n"
      ]
     },
     "execution_count": 8,
     "metadata": {},
     "output_type": "execute_result"
    }
   ],
   "source": [
    "plot(x,y)"
   ]
  },
  {
   "cell_type": "code",
   "execution_count": 21,
   "metadata": {},
   "outputs": [],
   "source": [
    "z = rand(15);"
   ]
  },
  {
   "cell_type": "code",
   "execution_count": 22,
   "metadata": {},
   "outputs": [
    {
     "data": {
      "image/svg+xml": [
       "<?xml version=\"1.0\" encoding=\"utf-8\"?>\n",
       "<svg xmlns=\"http://www.w3.org/2000/svg\" xmlns:xlink=\"http://www.w3.org/1999/xlink\" width=\"600\" height=\"400\" viewBox=\"0 0 2400 1600\">\n",
       "<defs>\n",
       "  <clipPath id=\"clip250\">\n",
       "    <rect x=\"0\" y=\"0\" width=\"2400\" height=\"1600\"/>\n",
       "  </clipPath>\n",
       "</defs>\n",
       "<path clip-path=\"url(#clip250)\" d=\"\n",
       "M0 1600 L2400 1600 L2400 0 L0 0  Z\n",
       "  \" fill=\"#ffffff\" fill-rule=\"evenodd\" fill-opacity=\"1\"/>\n",
       "<defs>\n",
       "  <clipPath id=\"clip251\">\n",
       "    <rect x=\"480\" y=\"0\" width=\"1681\" height=\"1600\"/>\n",
       "  </clipPath>\n",
       "</defs>\n",
       "<path clip-path=\"url(#clip250)\" d=\"\n",
       "M186.274 1486.45 L2352.76 1486.45 L2352.76 123.472 L186.274 123.472  Z\n",
       "  \" fill=\"#ffffff\" fill-rule=\"evenodd\" fill-opacity=\"1\"/>\n",
       "<defs>\n",
       "  <clipPath id=\"clip252\">\n",
       "    <rect x=\"186\" y=\"123\" width=\"2167\" height=\"1364\"/>\n",
       "  </clipPath>\n",
       "</defs>\n",
       "<polyline clip-path=\"url(#clip252)\" style=\"stroke:#000000; stroke-linecap:butt; stroke-linejoin:round; stroke-width:2; stroke-opacity:0.1; fill:none\" points=\"\n",
       "  393.579,1486.45 393.579,123.472 \n",
       "  \"/>\n",
       "<polyline clip-path=\"url(#clip252)\" style=\"stroke:#000000; stroke-linecap:butt; stroke-linejoin:round; stroke-width:2; stroke-opacity:0.1; fill:none\" points=\"\n",
       "  685.558,1486.45 685.558,123.472 \n",
       "  \"/>\n",
       "<polyline clip-path=\"url(#clip252)\" style=\"stroke:#000000; stroke-linecap:butt; stroke-linejoin:round; stroke-width:2; stroke-opacity:0.1; fill:none\" points=\"\n",
       "  977.536,1486.45 977.536,123.472 \n",
       "  \"/>\n",
       "<polyline clip-path=\"url(#clip252)\" style=\"stroke:#000000; stroke-linecap:butt; stroke-linejoin:round; stroke-width:2; stroke-opacity:0.1; fill:none\" points=\"\n",
       "  1269.51,1486.45 1269.51,123.472 \n",
       "  \"/>\n",
       "<polyline clip-path=\"url(#clip252)\" style=\"stroke:#000000; stroke-linecap:butt; stroke-linejoin:round; stroke-width:2; stroke-opacity:0.1; fill:none\" points=\"\n",
       "  1561.49,1486.45 1561.49,123.472 \n",
       "  \"/>\n",
       "<polyline clip-path=\"url(#clip252)\" style=\"stroke:#000000; stroke-linecap:butt; stroke-linejoin:round; stroke-width:2; stroke-opacity:0.1; fill:none\" points=\"\n",
       "  1853.47,1486.45 1853.47,123.472 \n",
       "  \"/>\n",
       "<polyline clip-path=\"url(#clip252)\" style=\"stroke:#000000; stroke-linecap:butt; stroke-linejoin:round; stroke-width:2; stroke-opacity:0.1; fill:none\" points=\"\n",
       "  2145.45,1486.45 2145.45,123.472 \n",
       "  \"/>\n",
       "<polyline clip-path=\"url(#clip250)\" style=\"stroke:#000000; stroke-linecap:butt; stroke-linejoin:round; stroke-width:4; stroke-opacity:1; fill:none\" points=\"\n",
       "  186.274,1486.45 2352.76,1486.45 \n",
       "  \"/>\n",
       "<polyline clip-path=\"url(#clip250)\" style=\"stroke:#000000; stroke-linecap:butt; stroke-linejoin:round; stroke-width:4; stroke-opacity:1; fill:none\" points=\"\n",
       "  393.579,1486.45 393.579,1467.55 \n",
       "  \"/>\n",
       "<polyline clip-path=\"url(#clip250)\" style=\"stroke:#000000; stroke-linecap:butt; stroke-linejoin:round; stroke-width:4; stroke-opacity:1; fill:none\" points=\"\n",
       "  685.558,1486.45 685.558,1467.55 \n",
       "  \"/>\n",
       "<polyline clip-path=\"url(#clip250)\" style=\"stroke:#000000; stroke-linecap:butt; stroke-linejoin:round; stroke-width:4; stroke-opacity:1; fill:none\" points=\"\n",
       "  977.536,1486.45 977.536,1467.55 \n",
       "  \"/>\n",
       "<polyline clip-path=\"url(#clip250)\" style=\"stroke:#000000; stroke-linecap:butt; stroke-linejoin:round; stroke-width:4; stroke-opacity:1; fill:none\" points=\"\n",
       "  1269.51,1486.45 1269.51,1467.55 \n",
       "  \"/>\n",
       "<polyline clip-path=\"url(#clip250)\" style=\"stroke:#000000; stroke-linecap:butt; stroke-linejoin:round; stroke-width:4; stroke-opacity:1; fill:none\" points=\"\n",
       "  1561.49,1486.45 1561.49,1467.55 \n",
       "  \"/>\n",
       "<polyline clip-path=\"url(#clip250)\" style=\"stroke:#000000; stroke-linecap:butt; stroke-linejoin:round; stroke-width:4; stroke-opacity:1; fill:none\" points=\"\n",
       "  1853.47,1486.45 1853.47,1467.55 \n",
       "  \"/>\n",
       "<polyline clip-path=\"url(#clip250)\" style=\"stroke:#000000; stroke-linecap:butt; stroke-linejoin:round; stroke-width:4; stroke-opacity:1; fill:none\" points=\"\n",
       "  2145.45,1486.45 2145.45,1467.55 \n",
       "  \"/>\n",
       "<path clip-path=\"url(#clip250)\" d=\"M388.232 1544.91 L404.551 1544.91 L404.551 1548.85 L382.607 1548.85 L382.607 1544.91 Q385.269 1542.16 389.852 1537.53 Q394.458 1532.88 395.639 1531.53 Q397.884 1529.01 398.764 1527.27 Q399.667 1525.51 399.667 1523.82 Q399.667 1521.07 397.722 1519.33 Q395.801 1517.6 392.699 1517.6 Q390.5 1517.6 388.046 1518.36 Q385.616 1519.13 382.838 1520.68 L382.838 1515.95 Q385.662 1514.82 388.116 1514.24 Q390.57 1513.66 392.607 1513.66 Q397.977 1513.66 401.171 1516.35 Q404.366 1519.03 404.366 1523.52 Q404.366 1525.65 403.556 1527.57 Q402.769 1529.47 400.662 1532.07 Q400.083 1532.74 396.982 1535.95 Q393.88 1539.15 388.232 1544.91 Z\" fill=\"#000000\" fill-rule=\"evenodd\" fill-opacity=\"1\" /><path clip-path=\"url(#clip250)\" d=\"M688.567 1518.36 L676.761 1536.81 L688.567 1536.81 L688.567 1518.36 M687.34 1514.29 L693.22 1514.29 L693.22 1536.81 L698.15 1536.81 L698.15 1540.7 L693.22 1540.7 L693.22 1548.85 L688.567 1548.85 L688.567 1540.7 L672.965 1540.7 L672.965 1536.19 L687.34 1514.29 Z\" fill=\"#000000\" fill-rule=\"evenodd\" fill-opacity=\"1\" /><path clip-path=\"url(#clip250)\" d=\"M977.941 1529.7 Q974.793 1529.7 972.941 1531.86 Q971.113 1534.01 971.113 1537.76 Q971.113 1541.49 972.941 1543.66 Q974.793 1545.82 977.941 1545.82 Q981.089 1545.82 982.918 1543.66 Q984.77 1541.49 984.77 1537.76 Q984.77 1534.01 982.918 1531.86 Q981.089 1529.7 977.941 1529.7 M987.224 1515.05 L987.224 1519.31 Q985.464 1518.48 983.659 1518.04 Q981.877 1517.6 980.117 1517.6 Q975.488 1517.6 973.034 1520.72 Q970.603 1523.85 970.256 1530.17 Q971.622 1528.15 973.682 1527.09 Q975.742 1526 978.219 1526 Q983.427 1526 986.437 1529.17 Q989.469 1532.32 989.469 1537.76 Q989.469 1543.08 986.321 1546.3 Q983.173 1549.52 977.941 1549.52 Q971.946 1549.52 968.775 1544.94 Q965.603 1540.33 965.603 1531.6 Q965.603 1523.41 969.492 1518.55 Q973.381 1513.66 979.932 1513.66 Q981.691 1513.66 983.474 1514.01 Q985.279 1514.36 987.224 1515.05 Z\" fill=\"#000000\" fill-rule=\"evenodd\" fill-opacity=\"1\" /><path clip-path=\"url(#clip250)\" d=\"M1269.51 1532.44 Q1266.18 1532.44 1264.26 1534.22 Q1262.36 1536 1262.36 1539.13 Q1262.36 1542.25 1264.26 1544.03 Q1266.18 1545.82 1269.51 1545.82 Q1272.85 1545.82 1274.77 1544.03 Q1276.69 1542.23 1276.69 1539.13 Q1276.69 1536 1274.77 1534.22 Q1272.87 1532.44 1269.51 1532.44 M1264.84 1530.45 Q1261.83 1529.7 1260.14 1527.64 Q1258.47 1525.58 1258.47 1522.62 Q1258.47 1518.48 1261.41 1516.07 Q1264.38 1513.66 1269.51 1513.66 Q1274.68 1513.66 1277.62 1516.07 Q1280.56 1518.48 1280.56 1522.62 Q1280.56 1525.58 1278.87 1527.64 Q1277.2 1529.7 1274.21 1530.45 Q1277.59 1531.23 1279.47 1533.52 Q1281.37 1535.82 1281.37 1539.13 Q1281.37 1544.15 1278.29 1546.83 Q1275.23 1549.52 1269.51 1549.52 Q1263.8 1549.52 1260.72 1546.83 Q1257.66 1544.15 1257.66 1539.13 Q1257.66 1535.82 1259.56 1533.52 Q1261.46 1531.23 1264.84 1530.45 M1263.13 1523.06 Q1263.13 1525.75 1264.79 1527.25 Q1266.48 1528.76 1269.51 1528.76 Q1272.52 1528.76 1274.21 1527.25 Q1275.93 1525.75 1275.93 1523.06 Q1275.93 1520.38 1274.21 1518.87 Q1272.52 1517.37 1269.51 1517.37 Q1266.48 1517.37 1264.79 1518.87 Q1263.13 1520.38 1263.13 1523.06 Z\" fill=\"#000000\" fill-rule=\"evenodd\" fill-opacity=\"1\" /><path clip-path=\"url(#clip250)\" d=\"M1536.18 1544.91 L1543.82 1544.91 L1543.82 1518.55 L1535.51 1520.21 L1535.51 1515.95 L1543.77 1514.29 L1548.45 1514.29 L1548.45 1544.91 L1556.09 1544.91 L1556.09 1548.85 L1536.18 1548.85 L1536.18 1544.91 Z\" fill=\"#000000\" fill-rule=\"evenodd\" fill-opacity=\"1\" /><path clip-path=\"url(#clip250)\" d=\"M1575.53 1517.37 Q1571.92 1517.37 1570.09 1520.93 Q1568.29 1524.47 1568.29 1531.6 Q1568.29 1538.71 1570.09 1542.27 Q1571.92 1545.82 1575.53 1545.82 Q1579.17 1545.82 1580.97 1542.27 Q1582.8 1538.71 1582.8 1531.6 Q1582.8 1524.47 1580.97 1520.93 Q1579.17 1517.37 1575.53 1517.37 M1575.53 1513.66 Q1581.34 1513.66 1584.4 1518.27 Q1587.48 1522.85 1587.48 1531.6 Q1587.48 1540.33 1584.4 1544.94 Q1581.34 1549.52 1575.53 1549.52 Q1569.72 1549.52 1566.64 1544.94 Q1563.59 1540.33 1563.59 1531.6 Q1563.59 1522.85 1566.64 1518.27 Q1569.72 1513.66 1575.53 1513.66 Z\" fill=\"#000000\" fill-rule=\"evenodd\" fill-opacity=\"1\" /><path clip-path=\"url(#clip250)\" d=\"M1828.96 1544.91 L1836.6 1544.91 L1836.6 1518.55 L1828.29 1520.21 L1828.29 1515.95 L1836.55 1514.29 L1841.23 1514.29 L1841.23 1544.91 L1848.87 1544.91 L1848.87 1548.85 L1828.96 1548.85 L1828.96 1544.91 Z\" fill=\"#000000\" fill-rule=\"evenodd\" fill-opacity=\"1\" /><path clip-path=\"url(#clip250)\" d=\"M1862.34 1544.91 L1878.66 1544.91 L1878.66 1548.85 L1856.71 1548.85 L1856.71 1544.91 Q1859.38 1542.16 1863.96 1537.53 Q1868.56 1532.88 1869.75 1531.53 Q1871.99 1529.01 1872.87 1527.27 Q1873.77 1525.51 1873.77 1523.82 Q1873.77 1521.07 1871.83 1519.33 Q1869.91 1517.6 1866.81 1517.6 Q1864.61 1517.6 1862.15 1518.36 Q1859.72 1519.13 1856.94 1520.68 L1856.94 1515.95 Q1859.77 1514.82 1862.22 1514.24 Q1864.68 1513.66 1866.71 1513.66 Q1872.08 1513.66 1875.28 1516.35 Q1878.47 1519.03 1878.47 1523.52 Q1878.47 1525.65 1877.66 1527.57 Q1876.87 1529.47 1874.77 1532.07 Q1874.19 1532.74 1871.09 1535.95 Q1867.99 1539.15 1862.34 1544.91 Z\" fill=\"#000000\" fill-rule=\"evenodd\" fill-opacity=\"1\" /><path clip-path=\"url(#clip250)\" d=\"M2119.9 1544.91 L2127.53 1544.91 L2127.53 1518.55 L2119.22 1520.21 L2119.22 1515.95 L2127.49 1514.29 L2132.16 1514.29 L2132.16 1544.91 L2139.8 1544.91 L2139.8 1548.85 L2119.9 1548.85 L2119.9 1544.91 Z\" fill=\"#000000\" fill-rule=\"evenodd\" fill-opacity=\"1\" /><path clip-path=\"url(#clip250)\" d=\"M2162.09 1518.36 L2150.29 1536.81 L2162.09 1536.81 L2162.09 1518.36 M2160.87 1514.29 L2166.75 1514.29 L2166.75 1536.81 L2171.68 1536.81 L2171.68 1540.7 L2166.75 1540.7 L2166.75 1548.85 L2162.09 1548.85 L2162.09 1540.7 L2146.49 1540.7 L2146.49 1536.19 L2160.87 1514.29 Z\" fill=\"#000000\" fill-rule=\"evenodd\" fill-opacity=\"1\" /><polyline clip-path=\"url(#clip252)\" style=\"stroke:#000000; stroke-linecap:butt; stroke-linejoin:round; stroke-width:2; stroke-opacity:0.1; fill:none\" points=\"\n",
       "  186.274,1463.49 2352.76,1463.49 \n",
       "  \"/>\n",
       "<polyline clip-path=\"url(#clip252)\" style=\"stroke:#000000; stroke-linecap:butt; stroke-linejoin:round; stroke-width:2; stroke-opacity:0.1; fill:none\" points=\"\n",
       "  186.274,1129.19 2352.76,1129.19 \n",
       "  \"/>\n",
       "<polyline clip-path=\"url(#clip252)\" style=\"stroke:#000000; stroke-linecap:butt; stroke-linejoin:round; stroke-width:2; stroke-opacity:0.1; fill:none\" points=\"\n",
       "  186.274,794.891 2352.76,794.891 \n",
       "  \"/>\n",
       "<polyline clip-path=\"url(#clip252)\" style=\"stroke:#000000; stroke-linecap:butt; stroke-linejoin:round; stroke-width:2; stroke-opacity:0.1; fill:none\" points=\"\n",
       "  186.274,460.589 2352.76,460.589 \n",
       "  \"/>\n",
       "<polyline clip-path=\"url(#clip252)\" style=\"stroke:#000000; stroke-linecap:butt; stroke-linejoin:round; stroke-width:2; stroke-opacity:0.1; fill:none\" points=\"\n",
       "  186.274,126.288 2352.76,126.288 \n",
       "  \"/>\n",
       "<polyline clip-path=\"url(#clip250)\" style=\"stroke:#000000; stroke-linecap:butt; stroke-linejoin:round; stroke-width:4; stroke-opacity:1; fill:none\" points=\"\n",
       "  186.274,1486.45 186.274,123.472 \n",
       "  \"/>\n",
       "<polyline clip-path=\"url(#clip250)\" style=\"stroke:#000000; stroke-linecap:butt; stroke-linejoin:round; stroke-width:4; stroke-opacity:1; fill:none\" points=\"\n",
       "  186.274,1463.49 205.172,1463.49 \n",
       "  \"/>\n",
       "<polyline clip-path=\"url(#clip250)\" style=\"stroke:#000000; stroke-linecap:butt; stroke-linejoin:round; stroke-width:4; stroke-opacity:1; fill:none\" points=\"\n",
       "  186.274,1129.19 205.172,1129.19 \n",
       "  \"/>\n",
       "<polyline clip-path=\"url(#clip250)\" style=\"stroke:#000000; stroke-linecap:butt; stroke-linejoin:round; stroke-width:4; stroke-opacity:1; fill:none\" points=\"\n",
       "  186.274,794.891 205.172,794.891 \n",
       "  \"/>\n",
       "<polyline clip-path=\"url(#clip250)\" style=\"stroke:#000000; stroke-linecap:butt; stroke-linejoin:round; stroke-width:4; stroke-opacity:1; fill:none\" points=\"\n",
       "  186.274,460.589 205.172,460.589 \n",
       "  \"/>\n",
       "<polyline clip-path=\"url(#clip250)\" style=\"stroke:#000000; stroke-linecap:butt; stroke-linejoin:round; stroke-width:4; stroke-opacity:1; fill:none\" points=\"\n",
       "  186.274,126.288 205.172,126.288 \n",
       "  \"/>\n",
       "<path clip-path=\"url(#clip250)\" d=\"M62.9365 1449.29 Q59.3254 1449.29 57.4967 1452.86 Q55.6912 1456.4 55.6912 1463.53 Q55.6912 1470.63 57.4967 1474.2 Q59.3254 1477.74 62.9365 1477.74 Q66.5707 1477.74 68.3763 1474.2 Q70.205 1470.63 70.205 1463.53 Q70.205 1456.4 68.3763 1452.86 Q66.5707 1449.29 62.9365 1449.29 M62.9365 1445.59 Q68.7467 1445.59 71.8022 1450.2 Q74.8809 1454.78 74.8809 1463.53 Q74.8809 1472.26 71.8022 1476.86 Q68.7467 1481.44 62.9365 1481.44 Q57.1264 1481.44 54.0477 1476.86 Q50.9921 1472.26 50.9921 1463.53 Q50.9921 1454.78 54.0477 1450.2 Q57.1264 1445.59 62.9365 1445.59 Z\" fill=\"#000000\" fill-rule=\"evenodd\" fill-opacity=\"1\" /><path clip-path=\"url(#clip250)\" d=\"M83.0984 1474.89 L87.9827 1474.89 L87.9827 1480.77 L83.0984 1480.77 L83.0984 1474.89 Z\" fill=\"#000000\" fill-rule=\"evenodd\" fill-opacity=\"1\" /><path clip-path=\"url(#clip250)\" d=\"M108.168 1449.29 Q104.557 1449.29 102.728 1452.86 Q100.922 1456.4 100.922 1463.53 Q100.922 1470.63 102.728 1474.2 Q104.557 1477.74 108.168 1477.74 Q111.802 1477.74 113.608 1474.2 Q115.436 1470.63 115.436 1463.53 Q115.436 1456.4 113.608 1452.86 Q111.802 1449.29 108.168 1449.29 M108.168 1445.59 Q113.978 1445.59 117.033 1450.2 Q120.112 1454.78 120.112 1463.53 Q120.112 1472.26 117.033 1476.86 Q113.978 1481.44 108.168 1481.44 Q102.358 1481.44 99.2789 1476.86 Q96.2234 1472.26 96.2234 1463.53 Q96.2234 1454.78 99.2789 1450.2 Q102.358 1445.59 108.168 1445.59 Z\" fill=\"#000000\" fill-rule=\"evenodd\" fill-opacity=\"1\" /><path clip-path=\"url(#clip250)\" d=\"M138.33 1449.29 Q134.719 1449.29 132.89 1452.86 Q131.084 1456.4 131.084 1463.53 Q131.084 1470.63 132.89 1474.2 Q134.719 1477.74 138.33 1477.74 Q141.964 1477.74 143.769 1474.2 Q145.598 1470.63 145.598 1463.53 Q145.598 1456.4 143.769 1452.86 Q141.964 1449.29 138.33 1449.29 M138.33 1445.59 Q144.14 1445.59 147.195 1450.2 Q150.274 1454.78 150.274 1463.53 Q150.274 1472.26 147.195 1476.86 Q144.14 1481.44 138.33 1481.44 Q132.519 1481.44 129.441 1476.86 Q126.385 1472.26 126.385 1463.53 Q126.385 1454.78 129.441 1450.2 Q132.519 1445.59 138.33 1445.59 Z\" fill=\"#000000\" fill-rule=\"evenodd\" fill-opacity=\"1\" /><path clip-path=\"url(#clip250)\" d=\"M63.9319 1114.99 Q60.3208 1114.99 58.4921 1118.56 Q56.6865 1122.1 56.6865 1129.23 Q56.6865 1136.33 58.4921 1139.9 Q60.3208 1143.44 63.9319 1143.44 Q67.5661 1143.44 69.3717 1139.9 Q71.2004 1136.33 71.2004 1129.23 Q71.2004 1122.1 69.3717 1118.56 Q67.5661 1114.99 63.9319 1114.99 M63.9319 1111.29 Q69.742 1111.29 72.7976 1115.89 Q75.8763 1120.48 75.8763 1129.23 Q75.8763 1137.95 72.7976 1142.56 Q69.742 1147.14 63.9319 1147.14 Q58.1217 1147.14 55.043 1142.56 Q51.9875 1137.95 51.9875 1129.23 Q51.9875 1120.48 55.043 1115.89 Q58.1217 1111.29 63.9319 1111.29 Z\" fill=\"#000000\" fill-rule=\"evenodd\" fill-opacity=\"1\" /><path clip-path=\"url(#clip250)\" d=\"M84.0938 1140.59 L88.978 1140.59 L88.978 1146.47 L84.0938 1146.47 L84.0938 1140.59 Z\" fill=\"#000000\" fill-rule=\"evenodd\" fill-opacity=\"1\" /><path clip-path=\"url(#clip250)\" d=\"M103.191 1142.54 L119.51 1142.54 L119.51 1146.47 L97.566 1146.47 L97.566 1142.54 Q100.228 1139.78 104.811 1135.15 Q109.418 1130.5 110.598 1129.16 Q112.844 1126.63 113.723 1124.9 Q114.626 1123.14 114.626 1121.45 Q114.626 1118.69 112.682 1116.96 Q110.76 1115.22 107.658 1115.22 Q105.459 1115.22 103.006 1115.99 Q100.575 1116.75 97.7974 1118.3 L97.7974 1113.58 Q100.621 1112.44 103.075 1111.87 Q105.529 1111.29 107.566 1111.29 Q112.936 1111.29 116.131 1113.97 Q119.325 1116.66 119.325 1121.15 Q119.325 1123.28 118.515 1125.2 Q117.728 1127.1 115.621 1129.69 Q115.043 1130.36 111.941 1133.58 Q108.839 1136.77 103.191 1142.54 Z\" fill=\"#000000\" fill-rule=\"evenodd\" fill-opacity=\"1\" /><path clip-path=\"url(#clip250)\" d=\"M129.371 1111.91 L147.728 1111.91 L147.728 1115.85 L133.654 1115.85 L133.654 1124.32 Q134.672 1123.97 135.691 1123.81 Q136.709 1123.63 137.728 1123.63 Q143.515 1123.63 146.894 1126.8 Q150.274 1129.97 150.274 1135.38 Q150.274 1140.96 146.802 1144.06 Q143.33 1147.14 137.01 1147.14 Q134.834 1147.14 132.566 1146.77 Q130.32 1146.4 127.913 1145.66 L127.913 1140.96 Q129.996 1142.1 132.219 1142.65 Q134.441 1143.21 136.918 1143.21 Q140.922 1143.21 143.26 1141.1 Q145.598 1139 145.598 1135.38 Q145.598 1131.77 143.26 1129.67 Q140.922 1127.56 136.918 1127.56 Q135.043 1127.56 133.168 1127.98 Q131.316 1128.39 129.371 1129.27 L129.371 1111.91 Z\" fill=\"#000000\" fill-rule=\"evenodd\" fill-opacity=\"1\" /><path clip-path=\"url(#clip250)\" d=\"M62.9365 780.689 Q59.3254 780.689 57.4967 784.254 Q55.6912 787.796 55.6912 794.925 Q55.6912 802.032 57.4967 805.597 Q59.3254 809.138 62.9365 809.138 Q66.5707 809.138 68.3763 805.597 Q70.205 802.032 70.205 794.925 Q70.205 787.796 68.3763 784.254 Q66.5707 780.689 62.9365 780.689 M62.9365 776.986 Q68.7467 776.986 71.8022 781.592 Q74.8809 786.176 74.8809 794.925 Q74.8809 803.652 71.8022 808.259 Q68.7467 812.842 62.9365 812.842 Q57.1264 812.842 54.0477 808.259 Q50.9921 803.652 50.9921 794.925 Q50.9921 786.176 54.0477 781.592 Q57.1264 776.986 62.9365 776.986 Z\" fill=\"#000000\" fill-rule=\"evenodd\" fill-opacity=\"1\" /><path clip-path=\"url(#clip250)\" d=\"M83.0984 806.291 L87.9827 806.291 L87.9827 812.171 L83.0984 812.171 L83.0984 806.291 Z\" fill=\"#000000\" fill-rule=\"evenodd\" fill-opacity=\"1\" /><path clip-path=\"url(#clip250)\" d=\"M98.2141 777.611 L116.57 777.611 L116.57 781.546 L102.496 781.546 L102.496 790.018 Q103.515 789.671 104.534 789.509 Q105.552 789.324 106.571 789.324 Q112.358 789.324 115.737 792.495 Q119.117 795.666 119.117 801.083 Q119.117 806.662 115.645 809.763 Q112.172 812.842 105.853 812.842 Q103.677 812.842 101.409 812.472 Q99.1632 812.101 96.7558 811.361 L96.7558 806.662 Q98.8391 807.796 101.061 808.351 Q103.284 808.907 105.76 808.907 Q109.765 808.907 112.103 806.8 Q114.441 804.694 114.441 801.083 Q114.441 797.472 112.103 795.365 Q109.765 793.259 105.76 793.259 Q103.885 793.259 102.01 793.675 Q100.159 794.092 98.2141 794.972 L98.2141 777.611 Z\" fill=\"#000000\" fill-rule=\"evenodd\" fill-opacity=\"1\" /><path clip-path=\"url(#clip250)\" d=\"M138.33 780.689 Q134.719 780.689 132.89 784.254 Q131.084 787.796 131.084 794.925 Q131.084 802.032 132.89 805.597 Q134.719 809.138 138.33 809.138 Q141.964 809.138 143.769 805.597 Q145.598 802.032 145.598 794.925 Q145.598 787.796 143.769 784.254 Q141.964 780.689 138.33 780.689 M138.33 776.986 Q144.14 776.986 147.195 781.592 Q150.274 786.176 150.274 794.925 Q150.274 803.652 147.195 808.259 Q144.14 812.842 138.33 812.842 Q132.519 812.842 129.441 808.259 Q126.385 803.652 126.385 794.925 Q126.385 786.176 129.441 781.592 Q132.519 776.986 138.33 776.986 Z\" fill=\"#000000\" fill-rule=\"evenodd\" fill-opacity=\"1\" /><path clip-path=\"url(#clip250)\" d=\"M63.9319 446.388 Q60.3208 446.388 58.4921 449.953 Q56.6865 453.494 56.6865 460.624 Q56.6865 467.73 58.4921 471.295 Q60.3208 474.837 63.9319 474.837 Q67.5661 474.837 69.3717 471.295 Q71.2004 467.73 71.2004 460.624 Q71.2004 453.494 69.3717 449.953 Q67.5661 446.388 63.9319 446.388 M63.9319 442.684 Q69.742 442.684 72.7976 447.291 Q75.8763 451.874 75.8763 460.624 Q75.8763 469.351 72.7976 473.957 Q69.742 478.541 63.9319 478.541 Q58.1217 478.541 55.043 473.957 Q51.9875 469.351 51.9875 460.624 Q51.9875 451.874 55.043 447.291 Q58.1217 442.684 63.9319 442.684 Z\" fill=\"#000000\" fill-rule=\"evenodd\" fill-opacity=\"1\" /><path clip-path=\"url(#clip250)\" d=\"M84.0938 471.99 L88.978 471.99 L88.978 477.869 L84.0938 477.869 L84.0938 471.99 Z\" fill=\"#000000\" fill-rule=\"evenodd\" fill-opacity=\"1\" /><path clip-path=\"url(#clip250)\" d=\"M97.9826 443.309 L120.205 443.309 L120.205 445.3 L107.658 477.869 L102.774 477.869 L114.58 447.244 L97.9826 447.244 L97.9826 443.309 Z\" fill=\"#000000\" fill-rule=\"evenodd\" fill-opacity=\"1\" /><path clip-path=\"url(#clip250)\" d=\"M129.371 443.309 L147.728 443.309 L147.728 447.244 L133.654 447.244 L133.654 455.717 Q134.672 455.369 135.691 455.207 Q136.709 455.022 137.728 455.022 Q143.515 455.022 146.894 458.193 Q150.274 461.365 150.274 466.781 Q150.274 472.36 146.802 475.462 Q143.33 478.541 137.01 478.541 Q134.834 478.541 132.566 478.17 Q130.32 477.8 127.913 477.059 L127.913 472.36 Q129.996 473.494 132.219 474.05 Q134.441 474.605 136.918 474.605 Q140.922 474.605 143.26 472.499 Q145.598 470.392 145.598 466.781 Q145.598 463.17 143.26 461.064 Q140.922 458.957 136.918 458.957 Q135.043 458.957 133.168 459.374 Q131.316 459.791 129.371 460.67 L129.371 443.309 Z\" fill=\"#000000\" fill-rule=\"evenodd\" fill-opacity=\"1\" /><path clip-path=\"url(#clip250)\" d=\"M53.7467 139.633 L61.3856 139.633 L61.3856 113.267 L53.0754 114.934 L53.0754 110.675 L61.3393 109.008 L66.0152 109.008 L66.0152 139.633 L73.654 139.633 L73.654 143.568 L53.7467 143.568 L53.7467 139.633 Z\" fill=\"#000000\" fill-rule=\"evenodd\" fill-opacity=\"1\" /><path clip-path=\"url(#clip250)\" d=\"M83.0984 137.688 L87.9827 137.688 L87.9827 143.568 L83.0984 143.568 L83.0984 137.688 Z\" fill=\"#000000\" fill-rule=\"evenodd\" fill-opacity=\"1\" /><path clip-path=\"url(#clip250)\" d=\"M108.168 112.087 Q104.557 112.087 102.728 115.651 Q100.922 119.193 100.922 126.323 Q100.922 133.429 102.728 136.994 Q104.557 140.535 108.168 140.535 Q111.802 140.535 113.608 136.994 Q115.436 133.429 115.436 126.323 Q115.436 119.193 113.608 115.651 Q111.802 112.087 108.168 112.087 M108.168 108.383 Q113.978 108.383 117.033 112.989 Q120.112 117.573 120.112 126.323 Q120.112 135.049 117.033 139.656 Q113.978 144.239 108.168 144.239 Q102.358 144.239 99.2789 139.656 Q96.2234 135.049 96.2234 126.323 Q96.2234 117.573 99.2789 112.989 Q102.358 108.383 108.168 108.383 Z\" fill=\"#000000\" fill-rule=\"evenodd\" fill-opacity=\"1\" /><path clip-path=\"url(#clip250)\" d=\"M138.33 112.087 Q134.719 112.087 132.89 115.651 Q131.084 119.193 131.084 126.323 Q131.084 133.429 132.89 136.994 Q134.719 140.535 138.33 140.535 Q141.964 140.535 143.769 136.994 Q145.598 133.429 145.598 126.323 Q145.598 119.193 143.769 115.651 Q141.964 112.087 138.33 112.087 M138.33 108.383 Q144.14 108.383 147.195 112.989 Q150.274 117.573 150.274 126.323 Q150.274 135.049 147.195 139.656 Q144.14 144.239 138.33 144.239 Q132.519 144.239 129.441 139.656 Q126.385 135.049 126.385 126.323 Q126.385 117.573 129.441 112.989 Q132.519 108.383 138.33 108.383 Z\" fill=\"#000000\" fill-rule=\"evenodd\" fill-opacity=\"1\" /><path clip-path=\"url(#clip250)\" d=\"M833.273 17.6457 Q824.361 17.6457 819.095 24.2892 Q813.869 30.9327 813.869 42.3968 Q813.869 53.8203 819.095 60.4638 Q824.361 67.1073 833.273 67.1073 Q842.185 67.1073 847.37 60.4638 Q852.596 53.8203 852.596 42.3968 Q852.596 30.9327 847.37 24.2892 Q842.185 17.6457 833.273 17.6457 M833.273 11.0023 Q845.993 11.0023 853.609 19.5497 Q861.224 28.0566 861.224 42.3968 Q861.224 56.6965 853.609 65.2439 Q845.993 73.7508 833.273 73.7508 Q820.513 73.7508 812.857 65.2439 Q805.241 56.737 805.241 42.3968 Q805.241 28.0566 812.857 19.5497 Q820.513 11.0023 833.273 11.0023 Z\" fill=\"#000000\" fill-rule=\"evenodd\" fill-opacity=\"1\" /><path clip-path=\"url(#clip250)\" d=\"M911.415 45.1919 L911.415 72.576 L903.961 72.576 L903.961 45.4349 Q903.961 38.994 901.45 35.7938 Q898.938 32.5936 893.915 32.5936 Q887.879 32.5936 884.395 36.4419 Q880.912 40.2903 880.912 46.9338 L880.912 72.576 L873.418 72.576 L873.418 27.2059 L880.912 27.2059 L880.912 34.2544 Q883.585 30.163 887.191 28.1376 Q890.836 26.1121 895.576 26.1121 Q903.394 26.1121 907.405 30.9732 Q911.415 35.7938 911.415 45.1919 Z\" fill=\"#000000\" fill-rule=\"evenodd\" fill-opacity=\"1\" /><path clip-path=\"url(#clip250)\" d=\"M965.09 48.0275 L965.09 51.6733 L930.819 51.6733 Q931.305 59.3701 935.437 63.421 Q939.609 67.4314 947.022 67.4314 Q951.316 67.4314 955.327 66.3781 Q959.378 65.3249 963.348 63.2184 L963.348 70.267 Q959.337 71.9684 955.124 72.8596 Q950.911 73.7508 946.577 73.7508 Q935.72 73.7508 929.361 67.4314 Q923.041 61.1119 923.041 50.3365 Q923.041 39.1965 929.036 32.6746 Q935.072 26.1121 945.281 26.1121 Q954.436 26.1121 959.742 32.0264 Q965.09 37.9003 965.09 48.0275 M957.636 45.84 Q957.555 39.7232 954.193 36.0774 Q950.871 32.4315 945.362 32.4315 Q939.123 32.4315 935.356 35.9558 Q931.629 39.4801 931.062 45.8805 L957.636 45.84 Z\" fill=\"#000000\" fill-rule=\"evenodd\" fill-opacity=\"1\" /><path clip-path=\"url(#clip250)\" d=\"M1029.98 34.1734 Q1028.73 33.4443 1027.23 33.1202 Q1025.77 32.7556 1023.99 32.7556 Q1017.67 32.7556 1014.27 36.8875 Q1010.91 40.9789 1010.91 48.6757 L1010.91 72.576 L1003.41 72.576 L1003.41 27.2059 L1010.91 27.2059 L1010.91 34.2544 Q1013.25 30.1225 1017.02 28.1376 Q1020.79 26.1121 1026.18 26.1121 Q1026.95 26.1121 1027.88 26.2337 Q1028.81 26.3147 1029.94 26.5172 L1029.98 34.1734 Z\" fill=\"#000000\" fill-rule=\"evenodd\" fill-opacity=\"1\" /><path clip-path=\"url(#clip250)\" d=\"M1058.42 49.7694 Q1049.39 49.7694 1045.91 51.8354 Q1042.42 53.9013 1042.42 58.8839 Q1042.42 62.8538 1045.01 65.2034 Q1047.65 67.5124 1052.14 67.5124 Q1058.34 67.5124 1062.07 63.1374 Q1065.84 58.7219 1065.84 51.4303 L1065.84 49.7694 L1058.42 49.7694 M1073.29 46.6907 L1073.29 72.576 L1065.84 72.576 L1065.84 65.6895 Q1063.28 69.8214 1059.48 71.8063 Q1055.67 73.7508 1050.16 73.7508 Q1043.19 73.7508 1039.06 69.8619 Q1034.97 65.9325 1034.97 59.3701 Q1034.97 51.7138 1040.07 47.825 Q1045.22 43.9361 1055.38 43.9361 L1065.84 43.9361 L1065.84 43.2069 Q1065.84 38.0623 1062.43 35.2672 Q1059.07 32.4315 1052.95 32.4315 Q1049.06 32.4315 1045.38 33.3632 Q1041.69 34.295 1038.29 36.1584 L1038.29 29.2718 Q1042.38 27.692 1046.23 26.9223 Q1050.08 26.1121 1053.72 26.1121 Q1063.57 26.1121 1068.43 31.2163 Q1073.29 36.3204 1073.29 46.6907 Z\" fill=\"#000000\" fill-rule=\"evenodd\" fill-opacity=\"1\" /><path clip-path=\"url(#clip250)\" d=\"M1126.36 45.1919 L1126.36 72.576 L1118.9 72.576 L1118.9 45.4349 Q1118.9 38.994 1116.39 35.7938 Q1113.88 32.5936 1108.86 32.5936 Q1102.82 32.5936 1099.34 36.4419 Q1095.85 40.2903 1095.85 46.9338 L1095.85 72.576 L1088.36 72.576 L1088.36 27.2059 L1095.85 27.2059 L1095.85 34.2544 Q1098.53 30.163 1102.13 28.1376 Q1105.78 26.1121 1110.52 26.1121 Q1118.34 26.1121 1122.35 30.9732 Q1126.36 35.7938 1126.36 45.1919 Z\" fill=\"#000000\" fill-rule=\"evenodd\" fill-opacity=\"1\" /><path clip-path=\"url(#clip250)\" d=\"M1171.08 34.0924 L1171.08 9.54393 L1178.53 9.54393 L1178.53 72.576 L1171.08 72.576 L1171.08 65.7705 Q1168.73 69.8214 1165.12 71.8063 Q1161.56 73.7508 1156.54 73.7508 Q1148.31 73.7508 1143.13 67.1883 Q1137.98 60.6258 1137.98 49.9314 Q1137.98 39.2371 1143.13 32.6746 Q1148.31 26.1121 1156.54 26.1121 Q1161.56 26.1121 1165.12 28.0971 Q1168.73 30.0415 1171.08 34.0924 M1145.68 49.9314 Q1145.68 58.1548 1149.04 62.8538 Q1152.44 67.5124 1158.36 67.5124 Q1164.27 67.5124 1167.68 62.8538 Q1171.08 58.1548 1171.08 49.9314 Q1171.08 41.7081 1167.68 37.0496 Q1164.27 32.3505 1158.36 32.3505 Q1152.44 32.3505 1149.04 37.0496 Q1145.68 41.7081 1145.68 49.9314 Z\" fill=\"#000000\" fill-rule=\"evenodd\" fill-opacity=\"1\" /><path clip-path=\"url(#clip250)\" d=\"M1211.47 32.4315 Q1205.47 32.4315 1201.99 37.1306 Q1198.5 41.7891 1198.5 49.9314 Q1198.5 58.0738 1201.95 62.7728 Q1205.43 67.4314 1211.47 67.4314 Q1217.42 67.4314 1220.9 62.7323 Q1224.39 58.0333 1224.39 49.9314 Q1224.39 41.8701 1220.9 37.1711 Q1217.42 32.4315 1211.47 32.4315 M1211.47 26.1121 Q1221.19 26.1121 1226.74 32.4315 Q1232.29 38.7509 1232.29 49.9314 Q1232.29 61.0714 1226.74 67.4314 Q1221.19 73.7508 1211.47 73.7508 Q1201.7 73.7508 1196.15 67.4314 Q1190.64 61.0714 1190.64 49.9314 Q1190.64 38.7509 1196.15 32.4315 Q1201.7 26.1121 1211.47 26.1121 Z\" fill=\"#000000\" fill-rule=\"evenodd\" fill-opacity=\"1\" /><path clip-path=\"url(#clip250)\" d=\"M1279.97 35.9153 Q1282.76 30.8922 1286.65 28.5022 Q1290.54 26.1121 1295.81 26.1121 Q1302.89 26.1121 1306.74 31.0947 Q1310.59 36.0368 1310.59 45.1919 L1310.59 72.576 L1303.1 72.576 L1303.1 45.4349 Q1303.1 38.913 1300.79 35.7533 Q1298.48 32.5936 1293.74 32.5936 Q1287.95 32.5936 1284.58 36.4419 Q1281.22 40.2903 1281.22 46.9338 L1281.22 72.576 L1273.73 72.576 L1273.73 45.4349 Q1273.73 38.8725 1271.42 35.7533 Q1269.11 32.5936 1264.29 32.5936 Q1258.58 32.5936 1255.22 36.4824 Q1251.85 40.3308 1251.85 46.9338 L1251.85 72.576 L1244.36 72.576 L1244.36 27.2059 L1251.85 27.2059 L1251.85 34.2544 Q1254.41 30.082 1257.97 28.0971 Q1261.53 26.1121 1266.44 26.1121 Q1271.38 26.1121 1274.82 28.6237 Q1278.31 31.1352 1279.97 35.9153 Z\" fill=\"#000000\" fill-rule=\"evenodd\" fill-opacity=\"1\" /><path clip-path=\"url(#clip250)\" d=\"M1351.83 9.54393 L1359.28 9.54393 L1359.28 72.576 L1351.83 72.576 L1351.83 9.54393 Z\" fill=\"#000000\" fill-rule=\"evenodd\" fill-opacity=\"1\" /><path clip-path=\"url(#clip250)\" d=\"M1374.88 27.2059 L1382.33 27.2059 L1382.33 72.576 L1374.88 72.576 L1374.88 27.2059 M1374.88 9.54393 L1382.33 9.54393 L1382.33 18.9825 L1374.88 18.9825 L1374.88 9.54393 Z\" fill=\"#000000\" fill-rule=\"evenodd\" fill-opacity=\"1\" /><path clip-path=\"url(#clip250)\" d=\"M1435.64 45.1919 L1435.64 72.576 L1428.19 72.576 L1428.19 45.4349 Q1428.19 38.994 1425.68 35.7938 Q1423.17 32.5936 1418.14 32.5936 Q1412.11 32.5936 1408.62 36.4419 Q1405.14 40.2903 1405.14 46.9338 L1405.14 72.576 L1397.65 72.576 L1397.65 27.2059 L1405.14 27.2059 L1405.14 34.2544 Q1407.81 30.163 1411.42 28.1376 Q1415.06 26.1121 1419.8 26.1121 Q1427.62 26.1121 1431.63 30.9732 Q1435.64 35.7938 1435.64 45.1919 Z\" fill=\"#000000\" fill-rule=\"evenodd\" fill-opacity=\"1\" /><path clip-path=\"url(#clip250)\" d=\"M1489.32 48.0275 L1489.32 51.6733 L1455.05 51.6733 Q1455.53 59.3701 1459.66 63.421 Q1463.84 67.4314 1471.25 67.4314 Q1475.54 67.4314 1479.55 66.3781 Q1483.61 65.3249 1487.58 63.2184 L1487.58 70.267 Q1483.56 71.9684 1479.35 72.8596 Q1475.14 73.7508 1470.8 73.7508 Q1459.95 73.7508 1453.59 67.4314 Q1447.27 61.1119 1447.27 50.3365 Q1447.27 39.1965 1453.26 32.6746 Q1459.3 26.1121 1469.51 26.1121 Q1478.66 26.1121 1483.97 32.0264 Q1489.32 37.9003 1489.32 48.0275 M1481.86 45.84 Q1481.78 39.7232 1478.42 36.0774 Q1475.1 32.4315 1469.59 32.4315 Q1463.35 32.4315 1459.58 35.9558 Q1455.86 39.4801 1455.29 45.8805 L1481.86 45.84 Z\" fill=\"#000000\" fill-rule=\"evenodd\" fill-opacity=\"1\" /><path clip-path=\"url(#clip250)\" d=\"M1560.57 28.9478 L1560.57 35.9153 Q1557.41 34.1734 1554.21 33.3227 Q1551.05 32.4315 1547.81 32.4315 Q1540.56 32.4315 1536.55 37.0496 Q1532.54 41.6271 1532.54 49.9314 Q1532.54 58.2358 1536.55 62.8538 Q1540.56 67.4314 1547.81 67.4314 Q1551.05 67.4314 1554.21 66.5807 Q1557.41 65.6895 1560.57 63.9476 L1560.57 70.8341 Q1557.45 72.2924 1554.09 73.0216 Q1550.77 73.7508 1547 73.7508 Q1536.75 73.7508 1530.72 67.3098 Q1524.68 60.8689 1524.68 49.9314 Q1524.68 38.832 1530.76 32.472 Q1536.87 26.1121 1547.49 26.1121 Q1550.93 26.1121 1554.21 26.8413 Q1557.49 27.5299 1560.57 28.9478 Z\" fill=\"#000000\" fill-rule=\"evenodd\" fill-opacity=\"1\" /><path clip-path=\"url(#clip250)\" d=\"M1611.25 45.1919 L1611.25 72.576 L1603.8 72.576 L1603.8 45.4349 Q1603.8 38.994 1601.28 35.7938 Q1598.77 32.5936 1593.75 32.5936 Q1587.71 32.5936 1584.23 36.4419 Q1580.75 40.2903 1580.75 46.9338 L1580.75 72.576 L1573.25 72.576 L1573.25 9.54393 L1580.75 9.54393 L1580.75 34.2544 Q1583.42 30.163 1587.02 28.1376 Q1590.67 26.1121 1595.41 26.1121 Q1603.23 26.1121 1607.24 30.9732 Q1611.25 35.7938 1611.25 45.1919 Z\" fill=\"#000000\" fill-rule=\"evenodd\" fill-opacity=\"1\" /><path clip-path=\"url(#clip250)\" d=\"M1646.74 49.7694 Q1637.7 49.7694 1634.22 51.8354 Q1630.73 53.9013 1630.73 58.8839 Q1630.73 62.8538 1633.33 65.2034 Q1635.96 67.5124 1640.46 67.5124 Q1646.65 67.5124 1650.38 63.1374 Q1654.15 58.7219 1654.15 51.4303 L1654.15 49.7694 L1646.74 49.7694 M1661.6 46.6907 L1661.6 72.576 L1654.15 72.576 L1654.15 65.6895 Q1651.6 69.8214 1647.79 71.8063 Q1643.98 73.7508 1638.47 73.7508 Q1631.5 73.7508 1627.37 69.8619 Q1623.28 65.9325 1623.28 59.3701 Q1623.28 51.7138 1628.38 47.825 Q1633.53 43.9361 1643.7 43.9361 L1654.15 43.9361 L1654.15 43.2069 Q1654.15 38.0623 1650.75 35.2672 Q1647.38 32.4315 1641.27 32.4315 Q1637.38 32.4315 1633.69 33.3632 Q1630 34.295 1626.6 36.1584 L1626.6 29.2718 Q1630.69 27.692 1634.54 26.9223 Q1638.39 26.1121 1642.04 26.1121 Q1651.88 26.1121 1656.74 31.2163 Q1661.6 36.3204 1661.6 46.6907 Z\" fill=\"#000000\" fill-rule=\"evenodd\" fill-opacity=\"1\" /><path clip-path=\"url(#clip250)\" d=\"M1703.25 34.1734 Q1701.99 33.4443 1700.49 33.1202 Q1699.03 32.7556 1697.25 32.7556 Q1690.93 32.7556 1687.53 36.8875 Q1684.17 40.9789 1684.17 48.6757 L1684.17 72.576 L1676.67 72.576 L1676.67 27.2059 L1684.17 27.2059 L1684.17 34.2544 Q1686.52 30.1225 1690.28 28.1376 Q1694.05 26.1121 1699.44 26.1121 Q1700.21 26.1121 1701.14 26.2337 Q1702.07 26.3147 1703.2 26.5172 L1703.25 34.1734 Z\" fill=\"#000000\" fill-rule=\"evenodd\" fill-opacity=\"1\" /><path clip-path=\"url(#clip250)\" d=\"M1718.44 14.324 L1718.44 27.2059 L1733.79 27.2059 L1733.79 32.9987 L1718.44 32.9987 L1718.44 57.6282 Q1718.44 63.1779 1719.93 64.7578 Q1721.47 66.3376 1726.13 66.3376 L1733.79 66.3376 L1733.79 72.576 L1726.13 72.576 Q1717.5 72.576 1714.22 69.3758 Q1710.94 66.1351 1710.94 57.6282 L1710.94 32.9987 L1705.47 32.9987 L1705.47 27.2059 L1710.94 27.2059 L1710.94 14.324 L1718.44 14.324 Z\" fill=\"#000000\" fill-rule=\"evenodd\" fill-opacity=\"1\" /><polyline clip-path=\"url(#clip252)\" style=\"stroke:#009af9; stroke-linecap:butt; stroke-linejoin:round; stroke-width:4; stroke-opacity:1; fill:none\" points=\"\n",
       "  247.59,773.743 393.579,1096.31 539.568,162.047 685.558,1352.42 831.547,1141.98 977.536,424.963 1123.53,1236.14 1269.51,738.234 1415.5,1146.19 1561.49,838.561 \n",
       "  1707.48,1320.03 1853.47,416.053 1999.46,555.752 2145.45,496.716 2291.44,1401.3 \n",
       "  \"/>\n",
       "<polyline clip-path=\"url(#clip252)\" style=\"stroke:#e26f46; stroke-linecap:butt; stroke-linejoin:round; stroke-width:4; stroke-opacity:1; fill:none\" points=\"\n",
       "  247.59,1226.4 393.579,170.838 539.568,1072.5 685.558,1057.14 831.547,841.278 977.536,941.756 1123.53,1203.22 1269.51,1049.3 1415.5,634.719 1561.49,662.091 \n",
       "  1707.48,1285.07 1853.47,1440.58 1999.46,536.314 2145.45,892.467 2291.44,1447.87 \n",
       "  \"/>\n",
       "<polyline clip-path=\"url(#clip252)\" style=\"stroke:#3da44d; stroke-linecap:butt; stroke-linejoin:round; stroke-width:4; stroke-opacity:1; fill:none\" points=\"\n",
       "  247.59,1226.4 393.579,170.838 539.568,1072.5 685.558,1057.14 831.547,841.278 977.536,941.756 1123.53,1203.22 1269.51,1049.3 1415.5,634.719 1561.49,662.091 \n",
       "  1707.48,1285.07 1853.47,1440.58 1999.46,536.314 2145.45,892.467 2291.44,1447.87 \n",
       "  \"/>\n",
       "<polyline clip-path=\"url(#clip252)\" style=\"stroke:#c271d2; stroke-linecap:butt; stroke-linejoin:round; stroke-width:4; stroke-opacity:1; fill:none\" points=\"\n",
       "  247.59,207.9 393.579,1233.92 539.568,1298.13 685.558,354.212 831.547,167.592 977.536,380.416 1123.53,229.643 1269.51,1405.87 1415.5,776.381 1561.49,717.106 \n",
       "  1707.48,853.038 1853.47,458.695 1999.46,993.279 2145.45,1340.44 2291.44,854.878 \n",
       "  \"/>\n",
       "<path clip-path=\"url(#clip250)\" d=\"\n",
       "M1985.68 428.105 L2280.54 428.105 L2280.54 168.905 L1985.68 168.905  Z\n",
       "  \" fill=\"#ffffff\" fill-rule=\"evenodd\" fill-opacity=\"1\"/>\n",
       "<polyline clip-path=\"url(#clip250)\" style=\"stroke:#000000; stroke-linecap:butt; stroke-linejoin:round; stroke-width:4; stroke-opacity:1; fill:none\" points=\"\n",
       "  1985.68,428.105 2280.54,428.105 2280.54,168.905 1985.68,168.905 1985.68,428.105 \n",
       "  \"/>\n",
       "<polyline clip-path=\"url(#clip250)\" style=\"stroke:#009af9; stroke-linecap:butt; stroke-linejoin:round; stroke-width:4; stroke-opacity:1; fill:none\" points=\"\n",
       "  2009.75,220.745 2154.18,220.745 \n",
       "  \"/>\n",
       "<path clip-path=\"url(#clip250)\" d=\"M2192.1 240.432 Q2190.29 245.062 2188.58 246.474 Q2186.86 247.886 2183.99 247.886 L2180.59 247.886 L2180.59 244.321 L2183.09 244.321 Q2184.85 244.321 2185.82 243.488 Q2186.79 242.654 2187.97 239.552 L2188.74 237.608 L2178.25 212.099 L2182.77 212.099 L2190.87 232.377 L2198.97 212.099 L2203.48 212.099 L2192.1 240.432 Z\" fill=\"#000000\" fill-rule=\"evenodd\" fill-opacity=\"1\" /><path clip-path=\"url(#clip250)\" d=\"M2210.78 234.089 L2218.41 234.089 L2218.41 207.724 L2210.1 209.391 L2210.1 205.131 L2218.37 203.465 L2223.04 203.465 L2223.04 234.089 L2230.68 234.089 L2230.68 238.025 L2210.78 238.025 L2210.78 234.089 Z\" fill=\"#000000\" fill-rule=\"evenodd\" fill-opacity=\"1\" /><polyline clip-path=\"url(#clip250)\" style=\"stroke:#e26f46; stroke-linecap:butt; stroke-linejoin:round; stroke-width:4; stroke-opacity:1; fill:none\" points=\"\n",
       "  2009.75,272.585 2154.18,272.585 \n",
       "  \"/>\n",
       "<path clip-path=\"url(#clip250)\" d=\"M2192.1 292.272 Q2190.29 296.902 2188.58 298.314 Q2186.86 299.726 2183.99 299.726 L2180.59 299.726 L2180.59 296.161 L2183.09 296.161 Q2184.85 296.161 2185.82 295.328 Q2186.79 294.494 2187.97 291.392 L2188.74 289.448 L2178.25 263.939 L2182.77 263.939 L2190.87 284.217 L2198.97 263.939 L2203.48 263.939 L2192.1 292.272 Z\" fill=\"#000000\" fill-rule=\"evenodd\" fill-opacity=\"1\" /><path clip-path=\"url(#clip250)\" d=\"M2213.99 285.929 L2230.31 285.929 L2230.31 289.865 L2208.37 289.865 L2208.37 285.929 Q2211.03 283.175 2215.61 278.545 Q2220.22 273.893 2221.4 272.55 Q2223.65 270.027 2224.53 268.291 Q2225.43 266.531 2225.43 264.842 Q2225.43 262.087 2223.48 260.351 Q2221.56 258.615 2218.46 258.615 Q2216.26 258.615 2213.81 259.379 Q2211.38 260.143 2208.6 261.694 L2208.6 256.971 Q2211.42 255.837 2213.88 255.258 Q2216.33 254.68 2218.37 254.68 Q2223.74 254.68 2226.93 257.365 Q2230.13 260.05 2230.13 264.541 Q2230.13 266.67 2229.32 268.592 Q2228.53 270.49 2226.42 273.082 Q2225.84 273.754 2222.74 276.971 Q2219.64 280.166 2213.99 285.929 Z\" fill=\"#000000\" fill-rule=\"evenodd\" fill-opacity=\"1\" /><polyline clip-path=\"url(#clip250)\" style=\"stroke:#3da44d; stroke-linecap:butt; stroke-linejoin:round; stroke-width:4; stroke-opacity:1; fill:none\" points=\"\n",
       "  2009.75,324.425 2154.18,324.425 \n",
       "  \"/>\n",
       "<path clip-path=\"url(#clip250)\" d=\"M2192.1 344.112 Q2190.29 348.742 2188.58 350.154 Q2186.86 351.566 2183.99 351.566 L2180.59 351.566 L2180.59 348.001 L2183.09 348.001 Q2184.85 348.001 2185.82 347.168 Q2186.79 346.334 2187.97 343.232 L2188.74 341.288 L2178.25 315.779 L2182.77 315.779 L2190.87 336.057 L2198.97 315.779 L2203.48 315.779 L2192.1 344.112 Z\" fill=\"#000000\" fill-rule=\"evenodd\" fill-opacity=\"1\" /><path clip-path=\"url(#clip250)\" d=\"M2224.13 323.07 Q2227.49 323.788 2229.36 326.057 Q2231.26 328.325 2231.26 331.658 Q2231.26 336.774 2227.74 339.575 Q2224.22 342.376 2217.74 342.376 Q2215.57 342.376 2213.25 341.936 Q2210.96 341.519 2208.51 340.663 L2208.51 336.149 Q2210.45 337.283 2212.77 337.862 Q2215.08 338.441 2217.6 338.441 Q2222 338.441 2224.29 336.705 Q2226.61 334.969 2226.61 331.658 Q2226.61 328.603 2224.46 326.89 Q2222.33 325.154 2218.51 325.154 L2214.48 325.154 L2214.48 321.311 L2218.69 321.311 Q2222.14 321.311 2223.97 319.946 Q2225.8 318.557 2225.8 315.964 Q2225.8 313.302 2223.9 311.89 Q2222.03 310.455 2218.51 310.455 Q2216.59 310.455 2214.39 310.871 Q2212.19 311.288 2209.55 312.168 L2209.55 308.001 Q2212.21 307.26 2214.53 306.89 Q2216.86 306.52 2218.92 306.52 Q2224.25 306.52 2227.35 308.95 Q2230.45 311.358 2230.45 315.478 Q2230.45 318.348 2228.81 320.339 Q2227.16 322.307 2224.13 323.07 Z\" fill=\"#000000\" fill-rule=\"evenodd\" fill-opacity=\"1\" /><polyline clip-path=\"url(#clip250)\" style=\"stroke:#c271d2; stroke-linecap:butt; stroke-linejoin:round; stroke-width:4; stroke-opacity:1; fill:none\" points=\"\n",
       "  2009.75,376.265 2154.18,376.265 \n",
       "  \"/>\n",
       "<path clip-path=\"url(#clip250)\" d=\"M2192.1 395.952 Q2190.29 400.582 2188.58 401.994 Q2186.86 403.406 2183.99 403.406 L2180.59 403.406 L2180.59 399.841 L2183.09 399.841 Q2184.85 399.841 2185.82 399.008 Q2186.79 398.174 2187.97 395.072 L2188.74 393.128 L2178.25 367.619 L2182.77 367.619 L2190.87 387.897 L2198.97 367.619 L2203.48 367.619 L2192.1 395.952 Z\" fill=\"#000000\" fill-rule=\"evenodd\" fill-opacity=\"1\" /><path clip-path=\"url(#clip250)\" d=\"M2222.81 363.059 L2211.01 381.508 L2222.81 381.508 L2222.81 363.059 M2221.59 358.985 L2227.47 358.985 L2227.47 381.508 L2232.4 381.508 L2232.4 385.397 L2227.47 385.397 L2227.47 393.545 L2222.81 393.545 L2222.81 385.397 L2207.21 385.397 L2207.21 380.883 L2221.59 358.985 Z\" fill=\"#000000\" fill-rule=\"evenodd\" fill-opacity=\"1\" /></svg>\n"
      ]
     },
     "execution_count": 22,
     "metadata": {},
     "output_type": "execute_result"
    }
   ],
   "source": [
    "plot!(x,z)"
   ]
  },
  {
   "cell_type": "code",
   "execution_count": 19,
   "metadata": {},
   "outputs": [
    {
     "data": {
      "image/svg+xml": [
       "<?xml version=\"1.0\" encoding=\"utf-8\"?>\n",
       "<svg xmlns=\"http://www.w3.org/2000/svg\" xmlns:xlink=\"http://www.w3.org/1999/xlink\" width=\"600\" height=\"400\" viewBox=\"0 0 2400 1600\">\n",
       "<defs>\n",
       "  <clipPath id=\"clip170\">\n",
       "    <rect x=\"0\" y=\"0\" width=\"2400\" height=\"1600\"/>\n",
       "  </clipPath>\n",
       "</defs>\n",
       "<path clip-path=\"url(#clip170)\" d=\"\n",
       "M0 1600 L2400 1600 L2400 0 L0 0  Z\n",
       "  \" fill=\"#ffffff\" fill-rule=\"evenodd\" fill-opacity=\"1\"/>\n",
       "<defs>\n",
       "  <clipPath id=\"clip171\">\n",
       "    <rect x=\"480\" y=\"0\" width=\"1681\" height=\"1600\"/>\n",
       "  </clipPath>\n",
       "</defs>\n",
       "<path clip-path=\"url(#clip170)\" d=\"\n",
       "M186.274 1486.45 L2352.76 1486.45 L2352.76 123.472 L186.274 123.472  Z\n",
       "  \" fill=\"#ffffff\" fill-rule=\"evenodd\" fill-opacity=\"1\"/>\n",
       "<defs>\n",
       "  <clipPath id=\"clip172\">\n",
       "    <rect x=\"186\" y=\"123\" width=\"2167\" height=\"1364\"/>\n",
       "  </clipPath>\n",
       "</defs>\n",
       "<polyline clip-path=\"url(#clip172)\" style=\"stroke:#000000; stroke-linecap:butt; stroke-linejoin:round; stroke-width:2; stroke-opacity:0.1; fill:none\" points=\"\n",
       "  393.579,1486.45 393.579,123.472 \n",
       "  \"/>\n",
       "<polyline clip-path=\"url(#clip172)\" style=\"stroke:#000000; stroke-linecap:butt; stroke-linejoin:round; stroke-width:2; stroke-opacity:0.1; fill:none\" points=\"\n",
       "  685.558,1486.45 685.558,123.472 \n",
       "  \"/>\n",
       "<polyline clip-path=\"url(#clip172)\" style=\"stroke:#000000; stroke-linecap:butt; stroke-linejoin:round; stroke-width:2; stroke-opacity:0.1; fill:none\" points=\"\n",
       "  977.536,1486.45 977.536,123.472 \n",
       "  \"/>\n",
       "<polyline clip-path=\"url(#clip172)\" style=\"stroke:#000000; stroke-linecap:butt; stroke-linejoin:round; stroke-width:2; stroke-opacity:0.1; fill:none\" points=\"\n",
       "  1269.51,1486.45 1269.51,123.472 \n",
       "  \"/>\n",
       "<polyline clip-path=\"url(#clip172)\" style=\"stroke:#000000; stroke-linecap:butt; stroke-linejoin:round; stroke-width:2; stroke-opacity:0.1; fill:none\" points=\"\n",
       "  1561.49,1486.45 1561.49,123.472 \n",
       "  \"/>\n",
       "<polyline clip-path=\"url(#clip172)\" style=\"stroke:#000000; stroke-linecap:butt; stroke-linejoin:round; stroke-width:2; stroke-opacity:0.1; fill:none\" points=\"\n",
       "  1853.47,1486.45 1853.47,123.472 \n",
       "  \"/>\n",
       "<polyline clip-path=\"url(#clip172)\" style=\"stroke:#000000; stroke-linecap:butt; stroke-linejoin:round; stroke-width:2; stroke-opacity:0.1; fill:none\" points=\"\n",
       "  2145.45,1486.45 2145.45,123.472 \n",
       "  \"/>\n",
       "<polyline clip-path=\"url(#clip170)\" style=\"stroke:#000000; stroke-linecap:butt; stroke-linejoin:round; stroke-width:4; stroke-opacity:1; fill:none\" points=\"\n",
       "  186.274,1486.45 2352.76,1486.45 \n",
       "  \"/>\n",
       "<polyline clip-path=\"url(#clip170)\" style=\"stroke:#000000; stroke-linecap:butt; stroke-linejoin:round; stroke-width:4; stroke-opacity:1; fill:none\" points=\"\n",
       "  393.579,1486.45 393.579,1467.55 \n",
       "  \"/>\n",
       "<polyline clip-path=\"url(#clip170)\" style=\"stroke:#000000; stroke-linecap:butt; stroke-linejoin:round; stroke-width:4; stroke-opacity:1; fill:none\" points=\"\n",
       "  685.558,1486.45 685.558,1467.55 \n",
       "  \"/>\n",
       "<polyline clip-path=\"url(#clip170)\" style=\"stroke:#000000; stroke-linecap:butt; stroke-linejoin:round; stroke-width:4; stroke-opacity:1; fill:none\" points=\"\n",
       "  977.536,1486.45 977.536,1467.55 \n",
       "  \"/>\n",
       "<polyline clip-path=\"url(#clip170)\" style=\"stroke:#000000; stroke-linecap:butt; stroke-linejoin:round; stroke-width:4; stroke-opacity:1; fill:none\" points=\"\n",
       "  1269.51,1486.45 1269.51,1467.55 \n",
       "  \"/>\n",
       "<polyline clip-path=\"url(#clip170)\" style=\"stroke:#000000; stroke-linecap:butt; stroke-linejoin:round; stroke-width:4; stroke-opacity:1; fill:none\" points=\"\n",
       "  1561.49,1486.45 1561.49,1467.55 \n",
       "  \"/>\n",
       "<polyline clip-path=\"url(#clip170)\" style=\"stroke:#000000; stroke-linecap:butt; stroke-linejoin:round; stroke-width:4; stroke-opacity:1; fill:none\" points=\"\n",
       "  1853.47,1486.45 1853.47,1467.55 \n",
       "  \"/>\n",
       "<polyline clip-path=\"url(#clip170)\" style=\"stroke:#000000; stroke-linecap:butt; stroke-linejoin:round; stroke-width:4; stroke-opacity:1; fill:none\" points=\"\n",
       "  2145.45,1486.45 2145.45,1467.55 \n",
       "  \"/>\n",
       "<path clip-path=\"url(#clip170)\" d=\"M388.232 1544.91 L404.551 1544.91 L404.551 1548.85 L382.607 1548.85 L382.607 1544.91 Q385.269 1542.16 389.852 1537.53 Q394.458 1532.88 395.639 1531.53 Q397.884 1529.01 398.764 1527.27 Q399.667 1525.51 399.667 1523.82 Q399.667 1521.07 397.722 1519.33 Q395.801 1517.6 392.699 1517.6 Q390.5 1517.6 388.046 1518.36 Q385.616 1519.13 382.838 1520.68 L382.838 1515.95 Q385.662 1514.82 388.116 1514.24 Q390.57 1513.66 392.607 1513.66 Q397.977 1513.66 401.171 1516.35 Q404.366 1519.03 404.366 1523.52 Q404.366 1525.65 403.556 1527.57 Q402.769 1529.47 400.662 1532.07 Q400.083 1532.74 396.982 1535.95 Q393.88 1539.15 388.232 1544.91 Z\" fill=\"#000000\" fill-rule=\"evenodd\" fill-opacity=\"1\" /><path clip-path=\"url(#clip170)\" d=\"M688.567 1518.36 L676.761 1536.81 L688.567 1536.81 L688.567 1518.36 M687.34 1514.29 L693.22 1514.29 L693.22 1536.81 L698.15 1536.81 L698.15 1540.7 L693.22 1540.7 L693.22 1548.85 L688.567 1548.85 L688.567 1540.7 L672.965 1540.7 L672.965 1536.19 L687.34 1514.29 Z\" fill=\"#000000\" fill-rule=\"evenodd\" fill-opacity=\"1\" /><path clip-path=\"url(#clip170)\" d=\"M977.941 1529.7 Q974.793 1529.7 972.941 1531.86 Q971.113 1534.01 971.113 1537.76 Q971.113 1541.49 972.941 1543.66 Q974.793 1545.82 977.941 1545.82 Q981.089 1545.82 982.918 1543.66 Q984.77 1541.49 984.77 1537.76 Q984.77 1534.01 982.918 1531.86 Q981.089 1529.7 977.941 1529.7 M987.224 1515.05 L987.224 1519.31 Q985.464 1518.48 983.659 1518.04 Q981.877 1517.6 980.117 1517.6 Q975.488 1517.6 973.034 1520.72 Q970.603 1523.85 970.256 1530.17 Q971.622 1528.15 973.682 1527.09 Q975.742 1526 978.219 1526 Q983.427 1526 986.437 1529.17 Q989.469 1532.32 989.469 1537.76 Q989.469 1543.08 986.321 1546.3 Q983.173 1549.52 977.941 1549.52 Q971.946 1549.52 968.775 1544.94 Q965.603 1540.33 965.603 1531.6 Q965.603 1523.41 969.492 1518.55 Q973.381 1513.66 979.932 1513.66 Q981.691 1513.66 983.474 1514.01 Q985.279 1514.36 987.224 1515.05 Z\" fill=\"#000000\" fill-rule=\"evenodd\" fill-opacity=\"1\" /><path clip-path=\"url(#clip170)\" d=\"M1269.51 1532.44 Q1266.18 1532.44 1264.26 1534.22 Q1262.36 1536 1262.36 1539.13 Q1262.36 1542.25 1264.26 1544.03 Q1266.18 1545.82 1269.51 1545.82 Q1272.85 1545.82 1274.77 1544.03 Q1276.69 1542.23 1276.69 1539.13 Q1276.69 1536 1274.77 1534.22 Q1272.87 1532.44 1269.51 1532.44 M1264.84 1530.45 Q1261.83 1529.7 1260.14 1527.64 Q1258.47 1525.58 1258.47 1522.62 Q1258.47 1518.48 1261.41 1516.07 Q1264.38 1513.66 1269.51 1513.66 Q1274.68 1513.66 1277.62 1516.07 Q1280.56 1518.48 1280.56 1522.62 Q1280.56 1525.58 1278.87 1527.64 Q1277.2 1529.7 1274.21 1530.45 Q1277.59 1531.23 1279.47 1533.52 Q1281.37 1535.82 1281.37 1539.13 Q1281.37 1544.15 1278.29 1546.83 Q1275.23 1549.52 1269.51 1549.52 Q1263.8 1549.52 1260.72 1546.83 Q1257.66 1544.15 1257.66 1539.13 Q1257.66 1535.82 1259.56 1533.52 Q1261.46 1531.23 1264.84 1530.45 M1263.13 1523.06 Q1263.13 1525.75 1264.79 1527.25 Q1266.48 1528.76 1269.51 1528.76 Q1272.52 1528.76 1274.21 1527.25 Q1275.93 1525.75 1275.93 1523.06 Q1275.93 1520.38 1274.21 1518.87 Q1272.52 1517.37 1269.51 1517.37 Q1266.48 1517.37 1264.79 1518.87 Q1263.13 1520.38 1263.13 1523.06 Z\" fill=\"#000000\" fill-rule=\"evenodd\" fill-opacity=\"1\" /><path clip-path=\"url(#clip170)\" d=\"M1536.18 1544.91 L1543.82 1544.91 L1543.82 1518.55 L1535.51 1520.21 L1535.51 1515.95 L1543.77 1514.29 L1548.45 1514.29 L1548.45 1544.91 L1556.09 1544.91 L1556.09 1548.85 L1536.18 1548.85 L1536.18 1544.91 Z\" fill=\"#000000\" fill-rule=\"evenodd\" fill-opacity=\"1\" /><path clip-path=\"url(#clip170)\" d=\"M1575.53 1517.37 Q1571.92 1517.37 1570.09 1520.93 Q1568.29 1524.47 1568.29 1531.6 Q1568.29 1538.71 1570.09 1542.27 Q1571.92 1545.82 1575.53 1545.82 Q1579.17 1545.82 1580.97 1542.27 Q1582.8 1538.71 1582.8 1531.6 Q1582.8 1524.47 1580.97 1520.93 Q1579.17 1517.37 1575.53 1517.37 M1575.53 1513.66 Q1581.34 1513.66 1584.4 1518.27 Q1587.48 1522.85 1587.48 1531.6 Q1587.48 1540.33 1584.4 1544.94 Q1581.34 1549.52 1575.53 1549.52 Q1569.72 1549.52 1566.64 1544.94 Q1563.59 1540.33 1563.59 1531.6 Q1563.59 1522.85 1566.64 1518.27 Q1569.72 1513.66 1575.53 1513.66 Z\" fill=\"#000000\" fill-rule=\"evenodd\" fill-opacity=\"1\" /><path clip-path=\"url(#clip170)\" d=\"M1828.96 1544.91 L1836.6 1544.91 L1836.6 1518.55 L1828.29 1520.21 L1828.29 1515.95 L1836.55 1514.29 L1841.23 1514.29 L1841.23 1544.91 L1848.87 1544.91 L1848.87 1548.85 L1828.96 1548.85 L1828.96 1544.91 Z\" fill=\"#000000\" fill-rule=\"evenodd\" fill-opacity=\"1\" /><path clip-path=\"url(#clip170)\" d=\"M1862.34 1544.91 L1878.66 1544.91 L1878.66 1548.85 L1856.71 1548.85 L1856.71 1544.91 Q1859.38 1542.16 1863.96 1537.53 Q1868.56 1532.88 1869.75 1531.53 Q1871.99 1529.01 1872.87 1527.27 Q1873.77 1525.51 1873.77 1523.82 Q1873.77 1521.07 1871.83 1519.33 Q1869.91 1517.6 1866.81 1517.6 Q1864.61 1517.6 1862.15 1518.36 Q1859.72 1519.13 1856.94 1520.68 L1856.94 1515.95 Q1859.77 1514.82 1862.22 1514.24 Q1864.68 1513.66 1866.71 1513.66 Q1872.08 1513.66 1875.28 1516.35 Q1878.47 1519.03 1878.47 1523.52 Q1878.47 1525.65 1877.66 1527.57 Q1876.87 1529.47 1874.77 1532.07 Q1874.19 1532.74 1871.09 1535.95 Q1867.99 1539.15 1862.34 1544.91 Z\" fill=\"#000000\" fill-rule=\"evenodd\" fill-opacity=\"1\" /><path clip-path=\"url(#clip170)\" d=\"M2119.9 1544.91 L2127.53 1544.91 L2127.53 1518.55 L2119.22 1520.21 L2119.22 1515.95 L2127.49 1514.29 L2132.16 1514.29 L2132.16 1544.91 L2139.8 1544.91 L2139.8 1548.85 L2119.9 1548.85 L2119.9 1544.91 Z\" fill=\"#000000\" fill-rule=\"evenodd\" fill-opacity=\"1\" /><path clip-path=\"url(#clip170)\" d=\"M2162.09 1518.36 L2150.29 1536.81 L2162.09 1536.81 L2162.09 1518.36 M2160.87 1514.29 L2166.75 1514.29 L2166.75 1536.81 L2171.68 1536.81 L2171.68 1540.7 L2166.75 1540.7 L2166.75 1548.85 L2162.09 1548.85 L2162.09 1540.7 L2146.49 1540.7 L2146.49 1536.19 L2160.87 1514.29 Z\" fill=\"#000000\" fill-rule=\"evenodd\" fill-opacity=\"1\" /><polyline clip-path=\"url(#clip172)\" style=\"stroke:#000000; stroke-linecap:butt; stroke-linejoin:round; stroke-width:2; stroke-opacity:0.1; fill:none\" points=\"\n",
       "  186.274,1463.49 2352.76,1463.49 \n",
       "  \"/>\n",
       "<polyline clip-path=\"url(#clip172)\" style=\"stroke:#000000; stroke-linecap:butt; stroke-linejoin:round; stroke-width:2; stroke-opacity:0.1; fill:none\" points=\"\n",
       "  186.274,1129.19 2352.76,1129.19 \n",
       "  \"/>\n",
       "<polyline clip-path=\"url(#clip172)\" style=\"stroke:#000000; stroke-linecap:butt; stroke-linejoin:round; stroke-width:2; stroke-opacity:0.1; fill:none\" points=\"\n",
       "  186.274,794.891 2352.76,794.891 \n",
       "  \"/>\n",
       "<polyline clip-path=\"url(#clip172)\" style=\"stroke:#000000; stroke-linecap:butt; stroke-linejoin:round; stroke-width:2; stroke-opacity:0.1; fill:none\" points=\"\n",
       "  186.274,460.589 2352.76,460.589 \n",
       "  \"/>\n",
       "<polyline clip-path=\"url(#clip172)\" style=\"stroke:#000000; stroke-linecap:butt; stroke-linejoin:round; stroke-width:2; stroke-opacity:0.1; fill:none\" points=\"\n",
       "  186.274,126.288 2352.76,126.288 \n",
       "  \"/>\n",
       "<polyline clip-path=\"url(#clip170)\" style=\"stroke:#000000; stroke-linecap:butt; stroke-linejoin:round; stroke-width:4; stroke-opacity:1; fill:none\" points=\"\n",
       "  186.274,1486.45 186.274,123.472 \n",
       "  \"/>\n",
       "<polyline clip-path=\"url(#clip170)\" style=\"stroke:#000000; stroke-linecap:butt; stroke-linejoin:round; stroke-width:4; stroke-opacity:1; fill:none\" points=\"\n",
       "  186.274,1463.49 205.172,1463.49 \n",
       "  \"/>\n",
       "<polyline clip-path=\"url(#clip170)\" style=\"stroke:#000000; stroke-linecap:butt; stroke-linejoin:round; stroke-width:4; stroke-opacity:1; fill:none\" points=\"\n",
       "  186.274,1129.19 205.172,1129.19 \n",
       "  \"/>\n",
       "<polyline clip-path=\"url(#clip170)\" style=\"stroke:#000000; stroke-linecap:butt; stroke-linejoin:round; stroke-width:4; stroke-opacity:1; fill:none\" points=\"\n",
       "  186.274,794.891 205.172,794.891 \n",
       "  \"/>\n",
       "<polyline clip-path=\"url(#clip170)\" style=\"stroke:#000000; stroke-linecap:butt; stroke-linejoin:round; stroke-width:4; stroke-opacity:1; fill:none\" points=\"\n",
       "  186.274,460.589 205.172,460.589 \n",
       "  \"/>\n",
       "<polyline clip-path=\"url(#clip170)\" style=\"stroke:#000000; stroke-linecap:butt; stroke-linejoin:round; stroke-width:4; stroke-opacity:1; fill:none\" points=\"\n",
       "  186.274,126.288 205.172,126.288 \n",
       "  \"/>\n",
       "<path clip-path=\"url(#clip170)\" d=\"M62.9365 1449.29 Q59.3254 1449.29 57.4967 1452.86 Q55.6912 1456.4 55.6912 1463.53 Q55.6912 1470.63 57.4967 1474.2 Q59.3254 1477.74 62.9365 1477.74 Q66.5707 1477.74 68.3763 1474.2 Q70.205 1470.63 70.205 1463.53 Q70.205 1456.4 68.3763 1452.86 Q66.5707 1449.29 62.9365 1449.29 M62.9365 1445.59 Q68.7467 1445.59 71.8022 1450.2 Q74.8809 1454.78 74.8809 1463.53 Q74.8809 1472.26 71.8022 1476.86 Q68.7467 1481.44 62.9365 1481.44 Q57.1264 1481.44 54.0477 1476.86 Q50.9921 1472.26 50.9921 1463.53 Q50.9921 1454.78 54.0477 1450.2 Q57.1264 1445.59 62.9365 1445.59 Z\" fill=\"#000000\" fill-rule=\"evenodd\" fill-opacity=\"1\" /><path clip-path=\"url(#clip170)\" d=\"M83.0984 1474.89 L87.9827 1474.89 L87.9827 1480.77 L83.0984 1480.77 L83.0984 1474.89 Z\" fill=\"#000000\" fill-rule=\"evenodd\" fill-opacity=\"1\" /><path clip-path=\"url(#clip170)\" d=\"M108.168 1449.29 Q104.557 1449.29 102.728 1452.86 Q100.922 1456.4 100.922 1463.53 Q100.922 1470.63 102.728 1474.2 Q104.557 1477.74 108.168 1477.74 Q111.802 1477.74 113.608 1474.2 Q115.436 1470.63 115.436 1463.53 Q115.436 1456.4 113.608 1452.86 Q111.802 1449.29 108.168 1449.29 M108.168 1445.59 Q113.978 1445.59 117.033 1450.2 Q120.112 1454.78 120.112 1463.53 Q120.112 1472.26 117.033 1476.86 Q113.978 1481.44 108.168 1481.44 Q102.358 1481.44 99.2789 1476.86 Q96.2234 1472.26 96.2234 1463.53 Q96.2234 1454.78 99.2789 1450.2 Q102.358 1445.59 108.168 1445.59 Z\" fill=\"#000000\" fill-rule=\"evenodd\" fill-opacity=\"1\" /><path clip-path=\"url(#clip170)\" d=\"M138.33 1449.29 Q134.719 1449.29 132.89 1452.86 Q131.084 1456.4 131.084 1463.53 Q131.084 1470.63 132.89 1474.2 Q134.719 1477.74 138.33 1477.74 Q141.964 1477.74 143.769 1474.2 Q145.598 1470.63 145.598 1463.53 Q145.598 1456.4 143.769 1452.86 Q141.964 1449.29 138.33 1449.29 M138.33 1445.59 Q144.14 1445.59 147.195 1450.2 Q150.274 1454.78 150.274 1463.53 Q150.274 1472.26 147.195 1476.86 Q144.14 1481.44 138.33 1481.44 Q132.519 1481.44 129.441 1476.86 Q126.385 1472.26 126.385 1463.53 Q126.385 1454.78 129.441 1450.2 Q132.519 1445.59 138.33 1445.59 Z\" fill=\"#000000\" fill-rule=\"evenodd\" fill-opacity=\"1\" /><path clip-path=\"url(#clip170)\" d=\"M63.9319 1114.99 Q60.3208 1114.99 58.4921 1118.56 Q56.6865 1122.1 56.6865 1129.23 Q56.6865 1136.33 58.4921 1139.9 Q60.3208 1143.44 63.9319 1143.44 Q67.5661 1143.44 69.3717 1139.9 Q71.2004 1136.33 71.2004 1129.23 Q71.2004 1122.1 69.3717 1118.56 Q67.5661 1114.99 63.9319 1114.99 M63.9319 1111.29 Q69.742 1111.29 72.7976 1115.89 Q75.8763 1120.48 75.8763 1129.23 Q75.8763 1137.95 72.7976 1142.56 Q69.742 1147.14 63.9319 1147.14 Q58.1217 1147.14 55.043 1142.56 Q51.9875 1137.95 51.9875 1129.23 Q51.9875 1120.48 55.043 1115.89 Q58.1217 1111.29 63.9319 1111.29 Z\" fill=\"#000000\" fill-rule=\"evenodd\" fill-opacity=\"1\" /><path clip-path=\"url(#clip170)\" d=\"M84.0938 1140.59 L88.978 1140.59 L88.978 1146.47 L84.0938 1146.47 L84.0938 1140.59 Z\" fill=\"#000000\" fill-rule=\"evenodd\" fill-opacity=\"1\" /><path clip-path=\"url(#clip170)\" d=\"M103.191 1142.54 L119.51 1142.54 L119.51 1146.47 L97.566 1146.47 L97.566 1142.54 Q100.228 1139.78 104.811 1135.15 Q109.418 1130.5 110.598 1129.16 Q112.844 1126.63 113.723 1124.9 Q114.626 1123.14 114.626 1121.45 Q114.626 1118.69 112.682 1116.96 Q110.76 1115.22 107.658 1115.22 Q105.459 1115.22 103.006 1115.99 Q100.575 1116.75 97.7974 1118.3 L97.7974 1113.58 Q100.621 1112.44 103.075 1111.87 Q105.529 1111.29 107.566 1111.29 Q112.936 1111.29 116.131 1113.97 Q119.325 1116.66 119.325 1121.15 Q119.325 1123.28 118.515 1125.2 Q117.728 1127.1 115.621 1129.69 Q115.043 1130.36 111.941 1133.58 Q108.839 1136.77 103.191 1142.54 Z\" fill=\"#000000\" fill-rule=\"evenodd\" fill-opacity=\"1\" /><path clip-path=\"url(#clip170)\" d=\"M129.371 1111.91 L147.728 1111.91 L147.728 1115.85 L133.654 1115.85 L133.654 1124.32 Q134.672 1123.97 135.691 1123.81 Q136.709 1123.63 137.728 1123.63 Q143.515 1123.63 146.894 1126.8 Q150.274 1129.97 150.274 1135.38 Q150.274 1140.96 146.802 1144.06 Q143.33 1147.14 137.01 1147.14 Q134.834 1147.14 132.566 1146.77 Q130.32 1146.4 127.913 1145.66 L127.913 1140.96 Q129.996 1142.1 132.219 1142.65 Q134.441 1143.21 136.918 1143.21 Q140.922 1143.21 143.26 1141.1 Q145.598 1139 145.598 1135.38 Q145.598 1131.77 143.26 1129.67 Q140.922 1127.56 136.918 1127.56 Q135.043 1127.56 133.168 1127.98 Q131.316 1128.39 129.371 1129.27 L129.371 1111.91 Z\" fill=\"#000000\" fill-rule=\"evenodd\" fill-opacity=\"1\" /><path clip-path=\"url(#clip170)\" d=\"M62.9365 780.689 Q59.3254 780.689 57.4967 784.254 Q55.6912 787.796 55.6912 794.925 Q55.6912 802.032 57.4967 805.597 Q59.3254 809.138 62.9365 809.138 Q66.5707 809.138 68.3763 805.597 Q70.205 802.032 70.205 794.925 Q70.205 787.796 68.3763 784.254 Q66.5707 780.689 62.9365 780.689 M62.9365 776.986 Q68.7467 776.986 71.8022 781.592 Q74.8809 786.176 74.8809 794.925 Q74.8809 803.652 71.8022 808.259 Q68.7467 812.842 62.9365 812.842 Q57.1264 812.842 54.0477 808.259 Q50.9921 803.652 50.9921 794.925 Q50.9921 786.176 54.0477 781.592 Q57.1264 776.986 62.9365 776.986 Z\" fill=\"#000000\" fill-rule=\"evenodd\" fill-opacity=\"1\" /><path clip-path=\"url(#clip170)\" d=\"M83.0984 806.291 L87.9827 806.291 L87.9827 812.171 L83.0984 812.171 L83.0984 806.291 Z\" fill=\"#000000\" fill-rule=\"evenodd\" fill-opacity=\"1\" /><path clip-path=\"url(#clip170)\" d=\"M98.2141 777.611 L116.57 777.611 L116.57 781.546 L102.496 781.546 L102.496 790.018 Q103.515 789.671 104.534 789.509 Q105.552 789.324 106.571 789.324 Q112.358 789.324 115.737 792.495 Q119.117 795.666 119.117 801.083 Q119.117 806.662 115.645 809.763 Q112.172 812.842 105.853 812.842 Q103.677 812.842 101.409 812.472 Q99.1632 812.101 96.7558 811.361 L96.7558 806.662 Q98.8391 807.796 101.061 808.351 Q103.284 808.907 105.76 808.907 Q109.765 808.907 112.103 806.8 Q114.441 804.694 114.441 801.083 Q114.441 797.472 112.103 795.365 Q109.765 793.259 105.76 793.259 Q103.885 793.259 102.01 793.675 Q100.159 794.092 98.2141 794.972 L98.2141 777.611 Z\" fill=\"#000000\" fill-rule=\"evenodd\" fill-opacity=\"1\" /><path clip-path=\"url(#clip170)\" d=\"M138.33 780.689 Q134.719 780.689 132.89 784.254 Q131.084 787.796 131.084 794.925 Q131.084 802.032 132.89 805.597 Q134.719 809.138 138.33 809.138 Q141.964 809.138 143.769 805.597 Q145.598 802.032 145.598 794.925 Q145.598 787.796 143.769 784.254 Q141.964 780.689 138.33 780.689 M138.33 776.986 Q144.14 776.986 147.195 781.592 Q150.274 786.176 150.274 794.925 Q150.274 803.652 147.195 808.259 Q144.14 812.842 138.33 812.842 Q132.519 812.842 129.441 808.259 Q126.385 803.652 126.385 794.925 Q126.385 786.176 129.441 781.592 Q132.519 776.986 138.33 776.986 Z\" fill=\"#000000\" fill-rule=\"evenodd\" fill-opacity=\"1\" /><path clip-path=\"url(#clip170)\" d=\"M63.9319 446.388 Q60.3208 446.388 58.4921 449.953 Q56.6865 453.494 56.6865 460.624 Q56.6865 467.73 58.4921 471.295 Q60.3208 474.837 63.9319 474.837 Q67.5661 474.837 69.3717 471.295 Q71.2004 467.73 71.2004 460.624 Q71.2004 453.494 69.3717 449.953 Q67.5661 446.388 63.9319 446.388 M63.9319 442.684 Q69.742 442.684 72.7976 447.291 Q75.8763 451.874 75.8763 460.624 Q75.8763 469.351 72.7976 473.957 Q69.742 478.541 63.9319 478.541 Q58.1217 478.541 55.043 473.957 Q51.9875 469.351 51.9875 460.624 Q51.9875 451.874 55.043 447.291 Q58.1217 442.684 63.9319 442.684 Z\" fill=\"#000000\" fill-rule=\"evenodd\" fill-opacity=\"1\" /><path clip-path=\"url(#clip170)\" d=\"M84.0938 471.99 L88.978 471.99 L88.978 477.869 L84.0938 477.869 L84.0938 471.99 Z\" fill=\"#000000\" fill-rule=\"evenodd\" fill-opacity=\"1\" /><path clip-path=\"url(#clip170)\" d=\"M97.9826 443.309 L120.205 443.309 L120.205 445.3 L107.658 477.869 L102.774 477.869 L114.58 447.244 L97.9826 447.244 L97.9826 443.309 Z\" fill=\"#000000\" fill-rule=\"evenodd\" fill-opacity=\"1\" /><path clip-path=\"url(#clip170)\" d=\"M129.371 443.309 L147.728 443.309 L147.728 447.244 L133.654 447.244 L133.654 455.717 Q134.672 455.369 135.691 455.207 Q136.709 455.022 137.728 455.022 Q143.515 455.022 146.894 458.193 Q150.274 461.365 150.274 466.781 Q150.274 472.36 146.802 475.462 Q143.33 478.541 137.01 478.541 Q134.834 478.541 132.566 478.17 Q130.32 477.8 127.913 477.059 L127.913 472.36 Q129.996 473.494 132.219 474.05 Q134.441 474.605 136.918 474.605 Q140.922 474.605 143.26 472.499 Q145.598 470.392 145.598 466.781 Q145.598 463.17 143.26 461.064 Q140.922 458.957 136.918 458.957 Q135.043 458.957 133.168 459.374 Q131.316 459.791 129.371 460.67 L129.371 443.309 Z\" fill=\"#000000\" fill-rule=\"evenodd\" fill-opacity=\"1\" /><path clip-path=\"url(#clip170)\" d=\"M53.7467 139.633 L61.3856 139.633 L61.3856 113.267 L53.0754 114.934 L53.0754 110.675 L61.3393 109.008 L66.0152 109.008 L66.0152 139.633 L73.654 139.633 L73.654 143.568 L53.7467 143.568 L53.7467 139.633 Z\" fill=\"#000000\" fill-rule=\"evenodd\" fill-opacity=\"1\" /><path clip-path=\"url(#clip170)\" d=\"M83.0984 137.688 L87.9827 137.688 L87.9827 143.568 L83.0984 143.568 L83.0984 137.688 Z\" fill=\"#000000\" fill-rule=\"evenodd\" fill-opacity=\"1\" /><path clip-path=\"url(#clip170)\" d=\"M108.168 112.087 Q104.557 112.087 102.728 115.651 Q100.922 119.193 100.922 126.323 Q100.922 133.429 102.728 136.994 Q104.557 140.535 108.168 140.535 Q111.802 140.535 113.608 136.994 Q115.436 133.429 115.436 126.323 Q115.436 119.193 113.608 115.651 Q111.802 112.087 108.168 112.087 M108.168 108.383 Q113.978 108.383 117.033 112.989 Q120.112 117.573 120.112 126.323 Q120.112 135.049 117.033 139.656 Q113.978 144.239 108.168 144.239 Q102.358 144.239 99.2789 139.656 Q96.2234 135.049 96.2234 126.323 Q96.2234 117.573 99.2789 112.989 Q102.358 108.383 108.168 108.383 Z\" fill=\"#000000\" fill-rule=\"evenodd\" fill-opacity=\"1\" /><path clip-path=\"url(#clip170)\" d=\"M138.33 112.087 Q134.719 112.087 132.89 115.651 Q131.084 119.193 131.084 126.323 Q131.084 133.429 132.89 136.994 Q134.719 140.535 138.33 140.535 Q141.964 140.535 143.769 136.994 Q145.598 133.429 145.598 126.323 Q145.598 119.193 143.769 115.651 Q141.964 112.087 138.33 112.087 M138.33 108.383 Q144.14 108.383 147.195 112.989 Q150.274 117.573 150.274 126.323 Q150.274 135.049 147.195 139.656 Q144.14 144.239 138.33 144.239 Q132.519 144.239 129.441 139.656 Q126.385 135.049 126.385 126.323 Q126.385 117.573 129.441 112.989 Q132.519 108.383 138.33 108.383 Z\" fill=\"#000000\" fill-rule=\"evenodd\" fill-opacity=\"1\" /><path clip-path=\"url(#clip170)\" d=\"M833.273 17.6457 Q824.361 17.6457 819.095 24.2892 Q813.869 30.9327 813.869 42.3968 Q813.869 53.8203 819.095 60.4638 Q824.361 67.1073 833.273 67.1073 Q842.185 67.1073 847.37 60.4638 Q852.596 53.8203 852.596 42.3968 Q852.596 30.9327 847.37 24.2892 Q842.185 17.6457 833.273 17.6457 M833.273 11.0023 Q845.993 11.0023 853.609 19.5497 Q861.224 28.0566 861.224 42.3968 Q861.224 56.6965 853.609 65.2439 Q845.993 73.7508 833.273 73.7508 Q820.513 73.7508 812.857 65.2439 Q805.241 56.737 805.241 42.3968 Q805.241 28.0566 812.857 19.5497 Q820.513 11.0023 833.273 11.0023 Z\" fill=\"#000000\" fill-rule=\"evenodd\" fill-opacity=\"1\" /><path clip-path=\"url(#clip170)\" d=\"M911.415 45.1919 L911.415 72.576 L903.961 72.576 L903.961 45.4349 Q903.961 38.994 901.45 35.7938 Q898.938 32.5936 893.915 32.5936 Q887.879 32.5936 884.395 36.4419 Q880.912 40.2903 880.912 46.9338 L880.912 72.576 L873.418 72.576 L873.418 27.2059 L880.912 27.2059 L880.912 34.2544 Q883.585 30.163 887.191 28.1376 Q890.836 26.1121 895.576 26.1121 Q903.394 26.1121 907.405 30.9732 Q911.415 35.7938 911.415 45.1919 Z\" fill=\"#000000\" fill-rule=\"evenodd\" fill-opacity=\"1\" /><path clip-path=\"url(#clip170)\" d=\"M965.09 48.0275 L965.09 51.6733 L930.819 51.6733 Q931.305 59.3701 935.437 63.421 Q939.609 67.4314 947.022 67.4314 Q951.316 67.4314 955.327 66.3781 Q959.378 65.3249 963.348 63.2184 L963.348 70.267 Q959.337 71.9684 955.124 72.8596 Q950.911 73.7508 946.577 73.7508 Q935.72 73.7508 929.361 67.4314 Q923.041 61.1119 923.041 50.3365 Q923.041 39.1965 929.036 32.6746 Q935.072 26.1121 945.281 26.1121 Q954.436 26.1121 959.742 32.0264 Q965.09 37.9003 965.09 48.0275 M957.636 45.84 Q957.555 39.7232 954.193 36.0774 Q950.871 32.4315 945.362 32.4315 Q939.123 32.4315 935.356 35.9558 Q931.629 39.4801 931.062 45.8805 L957.636 45.84 Z\" fill=\"#000000\" fill-rule=\"evenodd\" fill-opacity=\"1\" /><path clip-path=\"url(#clip170)\" d=\"M1029.98 34.1734 Q1028.73 33.4443 1027.23 33.1202 Q1025.77 32.7556 1023.99 32.7556 Q1017.67 32.7556 1014.27 36.8875 Q1010.91 40.9789 1010.91 48.6757 L1010.91 72.576 L1003.41 72.576 L1003.41 27.2059 L1010.91 27.2059 L1010.91 34.2544 Q1013.25 30.1225 1017.02 28.1376 Q1020.79 26.1121 1026.18 26.1121 Q1026.95 26.1121 1027.88 26.2337 Q1028.81 26.3147 1029.94 26.5172 L1029.98 34.1734 Z\" fill=\"#000000\" fill-rule=\"evenodd\" fill-opacity=\"1\" /><path clip-path=\"url(#clip170)\" d=\"M1058.42 49.7694 Q1049.39 49.7694 1045.91 51.8354 Q1042.42 53.9013 1042.42 58.8839 Q1042.42 62.8538 1045.01 65.2034 Q1047.65 67.5124 1052.14 67.5124 Q1058.34 67.5124 1062.07 63.1374 Q1065.84 58.7219 1065.84 51.4303 L1065.84 49.7694 L1058.42 49.7694 M1073.29 46.6907 L1073.29 72.576 L1065.84 72.576 L1065.84 65.6895 Q1063.28 69.8214 1059.48 71.8063 Q1055.67 73.7508 1050.16 73.7508 Q1043.19 73.7508 1039.06 69.8619 Q1034.97 65.9325 1034.97 59.3701 Q1034.97 51.7138 1040.07 47.825 Q1045.22 43.9361 1055.38 43.9361 L1065.84 43.9361 L1065.84 43.2069 Q1065.84 38.0623 1062.43 35.2672 Q1059.07 32.4315 1052.95 32.4315 Q1049.06 32.4315 1045.38 33.3632 Q1041.69 34.295 1038.29 36.1584 L1038.29 29.2718 Q1042.38 27.692 1046.23 26.9223 Q1050.08 26.1121 1053.72 26.1121 Q1063.57 26.1121 1068.43 31.2163 Q1073.29 36.3204 1073.29 46.6907 Z\" fill=\"#000000\" fill-rule=\"evenodd\" fill-opacity=\"1\" /><path clip-path=\"url(#clip170)\" d=\"M1126.36 45.1919 L1126.36 72.576 L1118.9 72.576 L1118.9 45.4349 Q1118.9 38.994 1116.39 35.7938 Q1113.88 32.5936 1108.86 32.5936 Q1102.82 32.5936 1099.34 36.4419 Q1095.85 40.2903 1095.85 46.9338 L1095.85 72.576 L1088.36 72.576 L1088.36 27.2059 L1095.85 27.2059 L1095.85 34.2544 Q1098.53 30.163 1102.13 28.1376 Q1105.78 26.1121 1110.52 26.1121 Q1118.34 26.1121 1122.35 30.9732 Q1126.36 35.7938 1126.36 45.1919 Z\" fill=\"#000000\" fill-rule=\"evenodd\" fill-opacity=\"1\" /><path clip-path=\"url(#clip170)\" d=\"M1171.08 34.0924 L1171.08 9.54393 L1178.53 9.54393 L1178.53 72.576 L1171.08 72.576 L1171.08 65.7705 Q1168.73 69.8214 1165.12 71.8063 Q1161.56 73.7508 1156.54 73.7508 Q1148.31 73.7508 1143.13 67.1883 Q1137.98 60.6258 1137.98 49.9314 Q1137.98 39.2371 1143.13 32.6746 Q1148.31 26.1121 1156.54 26.1121 Q1161.56 26.1121 1165.12 28.0971 Q1168.73 30.0415 1171.08 34.0924 M1145.68 49.9314 Q1145.68 58.1548 1149.04 62.8538 Q1152.44 67.5124 1158.36 67.5124 Q1164.27 67.5124 1167.68 62.8538 Q1171.08 58.1548 1171.08 49.9314 Q1171.08 41.7081 1167.68 37.0496 Q1164.27 32.3505 1158.36 32.3505 Q1152.44 32.3505 1149.04 37.0496 Q1145.68 41.7081 1145.68 49.9314 Z\" fill=\"#000000\" fill-rule=\"evenodd\" fill-opacity=\"1\" /><path clip-path=\"url(#clip170)\" d=\"M1211.47 32.4315 Q1205.47 32.4315 1201.99 37.1306 Q1198.5 41.7891 1198.5 49.9314 Q1198.5 58.0738 1201.95 62.7728 Q1205.43 67.4314 1211.47 67.4314 Q1217.42 67.4314 1220.9 62.7323 Q1224.39 58.0333 1224.39 49.9314 Q1224.39 41.8701 1220.9 37.1711 Q1217.42 32.4315 1211.47 32.4315 M1211.47 26.1121 Q1221.19 26.1121 1226.74 32.4315 Q1232.29 38.7509 1232.29 49.9314 Q1232.29 61.0714 1226.74 67.4314 Q1221.19 73.7508 1211.47 73.7508 Q1201.7 73.7508 1196.15 67.4314 Q1190.64 61.0714 1190.64 49.9314 Q1190.64 38.7509 1196.15 32.4315 Q1201.7 26.1121 1211.47 26.1121 Z\" fill=\"#000000\" fill-rule=\"evenodd\" fill-opacity=\"1\" /><path clip-path=\"url(#clip170)\" d=\"M1279.97 35.9153 Q1282.76 30.8922 1286.65 28.5022 Q1290.54 26.1121 1295.81 26.1121 Q1302.89 26.1121 1306.74 31.0947 Q1310.59 36.0368 1310.59 45.1919 L1310.59 72.576 L1303.1 72.576 L1303.1 45.4349 Q1303.1 38.913 1300.79 35.7533 Q1298.48 32.5936 1293.74 32.5936 Q1287.95 32.5936 1284.58 36.4419 Q1281.22 40.2903 1281.22 46.9338 L1281.22 72.576 L1273.73 72.576 L1273.73 45.4349 Q1273.73 38.8725 1271.42 35.7533 Q1269.11 32.5936 1264.29 32.5936 Q1258.58 32.5936 1255.22 36.4824 Q1251.85 40.3308 1251.85 46.9338 L1251.85 72.576 L1244.36 72.576 L1244.36 27.2059 L1251.85 27.2059 L1251.85 34.2544 Q1254.41 30.082 1257.97 28.0971 Q1261.53 26.1121 1266.44 26.1121 Q1271.38 26.1121 1274.82 28.6237 Q1278.31 31.1352 1279.97 35.9153 Z\" fill=\"#000000\" fill-rule=\"evenodd\" fill-opacity=\"1\" /><path clip-path=\"url(#clip170)\" d=\"M1351.83 9.54393 L1359.28 9.54393 L1359.28 72.576 L1351.83 72.576 L1351.83 9.54393 Z\" fill=\"#000000\" fill-rule=\"evenodd\" fill-opacity=\"1\" /><path clip-path=\"url(#clip170)\" d=\"M1374.88 27.2059 L1382.33 27.2059 L1382.33 72.576 L1374.88 72.576 L1374.88 27.2059 M1374.88 9.54393 L1382.33 9.54393 L1382.33 18.9825 L1374.88 18.9825 L1374.88 9.54393 Z\" fill=\"#000000\" fill-rule=\"evenodd\" fill-opacity=\"1\" /><path clip-path=\"url(#clip170)\" d=\"M1435.64 45.1919 L1435.64 72.576 L1428.19 72.576 L1428.19 45.4349 Q1428.19 38.994 1425.68 35.7938 Q1423.17 32.5936 1418.14 32.5936 Q1412.11 32.5936 1408.62 36.4419 Q1405.14 40.2903 1405.14 46.9338 L1405.14 72.576 L1397.65 72.576 L1397.65 27.2059 L1405.14 27.2059 L1405.14 34.2544 Q1407.81 30.163 1411.42 28.1376 Q1415.06 26.1121 1419.8 26.1121 Q1427.62 26.1121 1431.63 30.9732 Q1435.64 35.7938 1435.64 45.1919 Z\" fill=\"#000000\" fill-rule=\"evenodd\" fill-opacity=\"1\" /><path clip-path=\"url(#clip170)\" d=\"M1489.32 48.0275 L1489.32 51.6733 L1455.05 51.6733 Q1455.53 59.3701 1459.66 63.421 Q1463.84 67.4314 1471.25 67.4314 Q1475.54 67.4314 1479.55 66.3781 Q1483.61 65.3249 1487.58 63.2184 L1487.58 70.267 Q1483.56 71.9684 1479.35 72.8596 Q1475.14 73.7508 1470.8 73.7508 Q1459.95 73.7508 1453.59 67.4314 Q1447.27 61.1119 1447.27 50.3365 Q1447.27 39.1965 1453.26 32.6746 Q1459.3 26.1121 1469.51 26.1121 Q1478.66 26.1121 1483.97 32.0264 Q1489.32 37.9003 1489.32 48.0275 M1481.86 45.84 Q1481.78 39.7232 1478.42 36.0774 Q1475.1 32.4315 1469.59 32.4315 Q1463.35 32.4315 1459.58 35.9558 Q1455.86 39.4801 1455.29 45.8805 L1481.86 45.84 Z\" fill=\"#000000\" fill-rule=\"evenodd\" fill-opacity=\"1\" /><path clip-path=\"url(#clip170)\" d=\"M1560.57 28.9478 L1560.57 35.9153 Q1557.41 34.1734 1554.21 33.3227 Q1551.05 32.4315 1547.81 32.4315 Q1540.56 32.4315 1536.55 37.0496 Q1532.54 41.6271 1532.54 49.9314 Q1532.54 58.2358 1536.55 62.8538 Q1540.56 67.4314 1547.81 67.4314 Q1551.05 67.4314 1554.21 66.5807 Q1557.41 65.6895 1560.57 63.9476 L1560.57 70.8341 Q1557.45 72.2924 1554.09 73.0216 Q1550.77 73.7508 1547 73.7508 Q1536.75 73.7508 1530.72 67.3098 Q1524.68 60.8689 1524.68 49.9314 Q1524.68 38.832 1530.76 32.472 Q1536.87 26.1121 1547.49 26.1121 Q1550.93 26.1121 1554.21 26.8413 Q1557.49 27.5299 1560.57 28.9478 Z\" fill=\"#000000\" fill-rule=\"evenodd\" fill-opacity=\"1\" /><path clip-path=\"url(#clip170)\" d=\"M1611.25 45.1919 L1611.25 72.576 L1603.8 72.576 L1603.8 45.4349 Q1603.8 38.994 1601.28 35.7938 Q1598.77 32.5936 1593.75 32.5936 Q1587.71 32.5936 1584.23 36.4419 Q1580.75 40.2903 1580.75 46.9338 L1580.75 72.576 L1573.25 72.576 L1573.25 9.54393 L1580.75 9.54393 L1580.75 34.2544 Q1583.42 30.163 1587.02 28.1376 Q1590.67 26.1121 1595.41 26.1121 Q1603.23 26.1121 1607.24 30.9732 Q1611.25 35.7938 1611.25 45.1919 Z\" fill=\"#000000\" fill-rule=\"evenodd\" fill-opacity=\"1\" /><path clip-path=\"url(#clip170)\" d=\"M1646.74 49.7694 Q1637.7 49.7694 1634.22 51.8354 Q1630.73 53.9013 1630.73 58.8839 Q1630.73 62.8538 1633.33 65.2034 Q1635.96 67.5124 1640.46 67.5124 Q1646.65 67.5124 1650.38 63.1374 Q1654.15 58.7219 1654.15 51.4303 L1654.15 49.7694 L1646.74 49.7694 M1661.6 46.6907 L1661.6 72.576 L1654.15 72.576 L1654.15 65.6895 Q1651.6 69.8214 1647.79 71.8063 Q1643.98 73.7508 1638.47 73.7508 Q1631.5 73.7508 1627.37 69.8619 Q1623.28 65.9325 1623.28 59.3701 Q1623.28 51.7138 1628.38 47.825 Q1633.53 43.9361 1643.7 43.9361 L1654.15 43.9361 L1654.15 43.2069 Q1654.15 38.0623 1650.75 35.2672 Q1647.38 32.4315 1641.27 32.4315 Q1637.38 32.4315 1633.69 33.3632 Q1630 34.295 1626.6 36.1584 L1626.6 29.2718 Q1630.69 27.692 1634.54 26.9223 Q1638.39 26.1121 1642.04 26.1121 Q1651.88 26.1121 1656.74 31.2163 Q1661.6 36.3204 1661.6 46.6907 Z\" fill=\"#000000\" fill-rule=\"evenodd\" fill-opacity=\"1\" /><path clip-path=\"url(#clip170)\" d=\"M1703.25 34.1734 Q1701.99 33.4443 1700.49 33.1202 Q1699.03 32.7556 1697.25 32.7556 Q1690.93 32.7556 1687.53 36.8875 Q1684.17 40.9789 1684.17 48.6757 L1684.17 72.576 L1676.67 72.576 L1676.67 27.2059 L1684.17 27.2059 L1684.17 34.2544 Q1686.52 30.1225 1690.28 28.1376 Q1694.05 26.1121 1699.44 26.1121 Q1700.21 26.1121 1701.14 26.2337 Q1702.07 26.3147 1703.2 26.5172 L1703.25 34.1734 Z\" fill=\"#000000\" fill-rule=\"evenodd\" fill-opacity=\"1\" /><path clip-path=\"url(#clip170)\" d=\"M1718.44 14.324 L1718.44 27.2059 L1733.79 27.2059 L1733.79 32.9987 L1718.44 32.9987 L1718.44 57.6282 Q1718.44 63.1779 1719.93 64.7578 Q1721.47 66.3376 1726.13 66.3376 L1733.79 66.3376 L1733.79 72.576 L1726.13 72.576 Q1717.5 72.576 1714.22 69.3758 Q1710.94 66.1351 1710.94 57.6282 L1710.94 32.9987 L1705.47 32.9987 L1705.47 27.2059 L1710.94 27.2059 L1710.94 14.324 L1718.44 14.324 Z\" fill=\"#000000\" fill-rule=\"evenodd\" fill-opacity=\"1\" /><polyline clip-path=\"url(#clip172)\" style=\"stroke:#009af9; stroke-linecap:butt; stroke-linejoin:round; stroke-width:4; stroke-opacity:1; fill:none\" points=\"\n",
       "  247.59,773.743 393.579,1096.31 539.568,162.047 685.558,1352.42 831.547,1141.98 977.536,424.963 1123.53,1236.14 1269.51,738.234 1415.5,1146.19 1561.49,838.561 \n",
       "  1707.48,1320.03 1853.47,416.053 1999.46,555.752 2145.45,496.716 2291.44,1401.3 \n",
       "  \"/>\n",
       "<polyline clip-path=\"url(#clip172)\" style=\"stroke:#e26f46; stroke-linecap:butt; stroke-linejoin:round; stroke-width:4; stroke-opacity:1; fill:none\" points=\"\n",
       "  247.59,1226.4 393.579,170.838 539.568,1072.5 685.558,1057.14 831.547,841.278 977.536,941.756 1123.53,1203.22 1269.51,1049.3 1415.5,634.719 1561.49,662.091 \n",
       "  1707.48,1285.07 1853.47,1440.58 1999.46,536.314 2145.45,892.467 2291.44,1447.87 \n",
       "  \"/>\n",
       "<path clip-path=\"url(#clip170)\" d=\"\n",
       "M1987.39 324.425 L2280.54 324.425 L2280.54 168.905 L1987.39 168.905  Z\n",
       "  \" fill=\"#ffffff\" fill-rule=\"evenodd\" fill-opacity=\"1\"/>\n",
       "<polyline clip-path=\"url(#clip170)\" style=\"stroke:#000000; stroke-linecap:butt; stroke-linejoin:round; stroke-width:4; stroke-opacity:1; fill:none\" points=\"\n",
       "  1987.39,324.425 2280.54,324.425 2280.54,168.905 1987.39,168.905 1987.39,324.425 \n",
       "  \"/>\n",
       "<polyline clip-path=\"url(#clip170)\" style=\"stroke:#009af9; stroke-linecap:butt; stroke-linejoin:round; stroke-width:4; stroke-opacity:1; fill:none\" points=\"\n",
       "  2011.46,220.745 2155.89,220.745 \n",
       "  \"/>\n",
       "<path clip-path=\"url(#clip170)\" d=\"M2193.81 240.432 Q2192 245.062 2190.29 246.474 Q2188.58 247.886 2185.71 247.886 L2182.3 247.886 L2182.3 244.321 L2184.8 244.321 Q2186.56 244.321 2187.53 243.488 Q2188.51 242.654 2189.69 239.552 L2190.45 237.608 L2179.97 212.099 L2184.48 212.099 L2192.58 232.377 L2200.68 212.099 L2205.2 212.099 L2193.81 240.432 Z\" fill=\"#000000\" fill-rule=\"evenodd\" fill-opacity=\"1\" /><path clip-path=\"url(#clip170)\" d=\"M2212.49 234.089 L2220.13 234.089 L2220.13 207.724 L2211.82 209.391 L2211.82 205.131 L2220.08 203.465 L2224.76 203.465 L2224.76 234.089 L2232.4 234.089 L2232.4 238.025 L2212.49 238.025 L2212.49 234.089 Z\" fill=\"#000000\" fill-rule=\"evenodd\" fill-opacity=\"1\" /><polyline clip-path=\"url(#clip170)\" style=\"stroke:#e26f46; stroke-linecap:butt; stroke-linejoin:round; stroke-width:4; stroke-opacity:1; fill:none\" points=\"\n",
       "  2011.46,272.585 2155.89,272.585 \n",
       "  \"/>\n",
       "<path clip-path=\"url(#clip170)\" d=\"M2193.81 292.272 Q2192 296.902 2190.29 298.314 Q2188.58 299.726 2185.71 299.726 L2182.3 299.726 L2182.3 296.161 L2184.8 296.161 Q2186.56 296.161 2187.53 295.328 Q2188.51 294.494 2189.69 291.392 L2190.45 289.448 L2179.97 263.939 L2184.48 263.939 L2192.58 284.217 L2200.68 263.939 L2205.2 263.939 L2193.81 292.272 Z\" fill=\"#000000\" fill-rule=\"evenodd\" fill-opacity=\"1\" /><path clip-path=\"url(#clip170)\" d=\"M2215.71 285.929 L2232.03 285.929 L2232.03 289.865 L2210.08 289.865 L2210.08 285.929 Q2212.74 283.175 2217.33 278.545 Q2221.93 273.893 2223.11 272.55 Q2225.36 270.027 2226.24 268.291 Q2227.14 266.531 2227.14 264.842 Q2227.14 262.087 2225.2 260.351 Q2223.28 258.615 2220.17 258.615 Q2217.97 258.615 2215.52 259.379 Q2213.09 260.143 2210.31 261.694 L2210.31 256.971 Q2213.14 255.837 2215.59 255.258 Q2218.04 254.68 2220.08 254.68 Q2225.45 254.68 2228.65 257.365 Q2231.84 260.05 2231.84 264.541 Q2231.84 266.67 2231.03 268.592 Q2230.24 270.49 2228.14 273.082 Q2227.56 273.754 2224.46 276.971 Q2221.35 280.166 2215.71 285.929 Z\" fill=\"#000000\" fill-rule=\"evenodd\" fill-opacity=\"1\" /></svg>\n"
      ]
     },
     "execution_count": 19,
     "metadata": {},
     "output_type": "execute_result"
    }
   ],
   "source": [
    "p = plot(x,y)\n",
    "plot!(p,x,z,title = \"One random line chart\")"
   ]
  },
  {
   "cell_type": "code",
   "execution_count": 23,
   "metadata": {},
   "outputs": [
    {
     "data": {
      "image/svg+xml": [
       "<?xml version=\"1.0\" encoding=\"utf-8\"?>\n",
       "<svg xmlns=\"http://www.w3.org/2000/svg\" xmlns:xlink=\"http://www.w3.org/1999/xlink\" width=\"600\" height=\"400\" viewBox=\"0 0 2400 1600\">\n",
       "<defs>\n",
       "  <clipPath id=\"clip290\">\n",
       "    <rect x=\"0\" y=\"0\" width=\"2400\" height=\"1600\"/>\n",
       "  </clipPath>\n",
       "</defs>\n",
       "<path clip-path=\"url(#clip290)\" d=\"\n",
       "M0 1600 L2400 1600 L2400 0 L0 0  Z\n",
       "  \" fill=\"#ffffff\" fill-rule=\"evenodd\" fill-opacity=\"1\"/>\n",
       "<defs>\n",
       "  <clipPath id=\"clip291\">\n",
       "    <rect x=\"480\" y=\"0\" width=\"1681\" height=\"1600\"/>\n",
       "  </clipPath>\n",
       "</defs>\n",
       "<path clip-path=\"url(#clip290)\" d=\"\n",
       "M156.598 1486.45 L2352.76 1486.45 L2352.76 47.2441 L156.598 47.2441  Z\n",
       "  \" fill=\"#ffffff\" fill-rule=\"evenodd\" fill-opacity=\"1\"/>\n",
       "<defs>\n",
       "  <clipPath id=\"clip292\">\n",
       "    <rect x=\"156\" y=\"47\" width=\"2197\" height=\"1440\"/>\n",
       "  </clipPath>\n",
       "</defs>\n",
       "<polyline clip-path=\"url(#clip292)\" style=\"stroke:#000000; stroke-linecap:butt; stroke-linejoin:round; stroke-width:2; stroke-opacity:0.1; fill:none\" points=\"\n",
       "  366.743,1486.45 366.743,47.2441 \n",
       "  \"/>\n",
       "<polyline clip-path=\"url(#clip292)\" style=\"stroke:#000000; stroke-linecap:butt; stroke-linejoin:round; stroke-width:2; stroke-opacity:0.1; fill:none\" points=\"\n",
       "  662.721,1486.45 662.721,47.2441 \n",
       "  \"/>\n",
       "<polyline clip-path=\"url(#clip292)\" style=\"stroke:#000000; stroke-linecap:butt; stroke-linejoin:round; stroke-width:2; stroke-opacity:0.1; fill:none\" points=\"\n",
       "  958.699,1486.45 958.699,47.2441 \n",
       "  \"/>\n",
       "<polyline clip-path=\"url(#clip292)\" style=\"stroke:#000000; stroke-linecap:butt; stroke-linejoin:round; stroke-width:2; stroke-opacity:0.1; fill:none\" points=\"\n",
       "  1254.68,1486.45 1254.68,47.2441 \n",
       "  \"/>\n",
       "<polyline clip-path=\"url(#clip292)\" style=\"stroke:#000000; stroke-linecap:butt; stroke-linejoin:round; stroke-width:2; stroke-opacity:0.1; fill:none\" points=\"\n",
       "  1550.66,1486.45 1550.66,47.2441 \n",
       "  \"/>\n",
       "<polyline clip-path=\"url(#clip292)\" style=\"stroke:#000000; stroke-linecap:butt; stroke-linejoin:round; stroke-width:2; stroke-opacity:0.1; fill:none\" points=\"\n",
       "  1846.63,1486.45 1846.63,47.2441 \n",
       "  \"/>\n",
       "<polyline clip-path=\"url(#clip292)\" style=\"stroke:#000000; stroke-linecap:butt; stroke-linejoin:round; stroke-width:2; stroke-opacity:0.1; fill:none\" points=\"\n",
       "  2142.61,1486.45 2142.61,47.2441 \n",
       "  \"/>\n",
       "<polyline clip-path=\"url(#clip290)\" style=\"stroke:#000000; stroke-linecap:butt; stroke-linejoin:round; stroke-width:4; stroke-opacity:1; fill:none\" points=\"\n",
       "  156.598,1486.45 2352.76,1486.45 \n",
       "  \"/>\n",
       "<polyline clip-path=\"url(#clip290)\" style=\"stroke:#000000; stroke-linecap:butt; stroke-linejoin:round; stroke-width:4; stroke-opacity:1; fill:none\" points=\"\n",
       "  366.743,1486.45 366.743,1467.55 \n",
       "  \"/>\n",
       "<polyline clip-path=\"url(#clip290)\" style=\"stroke:#000000; stroke-linecap:butt; stroke-linejoin:round; stroke-width:4; stroke-opacity:1; fill:none\" points=\"\n",
       "  662.721,1486.45 662.721,1467.55 \n",
       "  \"/>\n",
       "<polyline clip-path=\"url(#clip290)\" style=\"stroke:#000000; stroke-linecap:butt; stroke-linejoin:round; stroke-width:4; stroke-opacity:1; fill:none\" points=\"\n",
       "  958.699,1486.45 958.699,1467.55 \n",
       "  \"/>\n",
       "<polyline clip-path=\"url(#clip290)\" style=\"stroke:#000000; stroke-linecap:butt; stroke-linejoin:round; stroke-width:4; stroke-opacity:1; fill:none\" points=\"\n",
       "  1254.68,1486.45 1254.68,1467.55 \n",
       "  \"/>\n",
       "<polyline clip-path=\"url(#clip290)\" style=\"stroke:#000000; stroke-linecap:butt; stroke-linejoin:round; stroke-width:4; stroke-opacity:1; fill:none\" points=\"\n",
       "  1550.66,1486.45 1550.66,1467.55 \n",
       "  \"/>\n",
       "<polyline clip-path=\"url(#clip290)\" style=\"stroke:#000000; stroke-linecap:butt; stroke-linejoin:round; stroke-width:4; stroke-opacity:1; fill:none\" points=\"\n",
       "  1846.63,1486.45 1846.63,1467.55 \n",
       "  \"/>\n",
       "<polyline clip-path=\"url(#clip290)\" style=\"stroke:#000000; stroke-linecap:butt; stroke-linejoin:round; stroke-width:4; stroke-opacity:1; fill:none\" points=\"\n",
       "  2142.61,1486.45 2142.61,1467.55 \n",
       "  \"/>\n",
       "<path clip-path=\"url(#clip290)\" d=\"M361.396 1544.91 L377.715 1544.91 L377.715 1548.85 L355.771 1548.85 L355.771 1544.91 Q358.433 1542.16 363.016 1537.53 Q367.622 1532.88 368.803 1531.53 Q371.048 1529.01 371.928 1527.27 Q372.831 1525.51 372.831 1523.82 Q372.831 1521.07 370.886 1519.33 Q368.965 1517.6 365.863 1517.6 Q363.664 1517.6 361.21 1518.36 Q358.78 1519.13 356.002 1520.68 L356.002 1515.95 Q358.826 1514.82 361.28 1514.24 Q363.733 1513.66 365.77 1513.66 Q371.141 1513.66 374.335 1516.35 Q377.53 1519.03 377.53 1523.52 Q377.53 1525.65 376.72 1527.57 Q375.932 1529.47 373.826 1532.07 Q373.247 1532.74 370.145 1535.95 Q367.044 1539.15 361.396 1544.91 Z\" fill=\"#000000\" fill-rule=\"evenodd\" fill-opacity=\"1\" /><path clip-path=\"url(#clip290)\" d=\"M665.73 1518.36 L653.925 1536.81 L665.73 1536.81 L665.73 1518.36 M664.503 1514.29 L670.383 1514.29 L670.383 1536.81 L675.313 1536.81 L675.313 1540.7 L670.383 1540.7 L670.383 1548.85 L665.73 1548.85 L665.73 1540.7 L650.128 1540.7 L650.128 1536.19 L664.503 1514.29 Z\" fill=\"#000000\" fill-rule=\"evenodd\" fill-opacity=\"1\" /><path clip-path=\"url(#clip290)\" d=\"M959.104 1529.7 Q955.956 1529.7 954.104 1531.86 Q952.275 1534.01 952.275 1537.76 Q952.275 1541.49 954.104 1543.66 Q955.956 1545.82 959.104 1545.82 Q962.252 1545.82 964.081 1543.66 Q965.933 1541.49 965.933 1537.76 Q965.933 1534.01 964.081 1531.86 Q962.252 1529.7 959.104 1529.7 M968.386 1515.05 L968.386 1519.31 Q966.627 1518.48 964.822 1518.04 Q963.039 1517.6 961.28 1517.6 Q956.65 1517.6 954.197 1520.72 Q951.766 1523.85 951.419 1530.17 Q952.785 1528.15 954.845 1527.09 Q956.905 1526 959.382 1526 Q964.59 1526 967.599 1529.17 Q970.632 1532.32 970.632 1537.76 Q970.632 1543.08 967.484 1546.3 Q964.335 1549.52 959.104 1549.52 Q953.109 1549.52 949.937 1544.94 Q946.766 1540.33 946.766 1531.6 Q946.766 1523.41 950.655 1518.55 Q954.544 1513.66 961.095 1513.66 Q962.854 1513.66 964.636 1514.01 Q966.442 1514.36 968.386 1515.05 Z\" fill=\"#000000\" fill-rule=\"evenodd\" fill-opacity=\"1\" /><path clip-path=\"url(#clip290)\" d=\"M1254.68 1532.44 Q1251.34 1532.44 1249.42 1534.22 Q1247.52 1536 1247.52 1539.13 Q1247.52 1542.25 1249.42 1544.03 Q1251.34 1545.82 1254.68 1545.82 Q1258.01 1545.82 1259.93 1544.03 Q1261.85 1542.23 1261.85 1539.13 Q1261.85 1536 1259.93 1534.22 Q1258.03 1532.44 1254.68 1532.44 M1250 1530.45 Q1246.99 1529.7 1245.3 1527.64 Q1243.64 1525.58 1243.64 1522.62 Q1243.64 1518.48 1246.58 1516.07 Q1249.54 1513.66 1254.68 1513.66 Q1259.84 1513.66 1262.78 1516.07 Q1265.72 1518.48 1265.72 1522.62 Q1265.72 1525.58 1264.03 1527.64 Q1262.36 1529.7 1259.38 1530.45 Q1262.76 1531.23 1264.63 1533.52 Q1266.53 1535.82 1266.53 1539.13 Q1266.53 1544.15 1263.45 1546.83 Q1260.39 1549.52 1254.68 1549.52 Q1248.96 1549.52 1245.88 1546.83 Q1242.83 1544.15 1242.83 1539.13 Q1242.83 1535.82 1244.72 1533.52 Q1246.62 1531.23 1250 1530.45 M1248.29 1523.06 Q1248.29 1525.75 1249.95 1527.25 Q1251.64 1528.76 1254.68 1528.76 Q1257.69 1528.76 1259.38 1527.25 Q1261.09 1525.75 1261.09 1523.06 Q1261.09 1520.38 1259.38 1518.87 Q1257.69 1517.37 1254.68 1517.37 Q1251.64 1517.37 1249.95 1518.87 Q1248.29 1520.38 1248.29 1523.06 Z\" fill=\"#000000\" fill-rule=\"evenodd\" fill-opacity=\"1\" /><path clip-path=\"url(#clip290)\" d=\"M1525.34 1544.91 L1532.98 1544.91 L1532.98 1518.55 L1524.67 1520.21 L1524.67 1515.95 L1532.94 1514.29 L1537.61 1514.29 L1537.61 1544.91 L1545.25 1544.91 L1545.25 1548.85 L1525.34 1548.85 L1525.34 1544.91 Z\" fill=\"#000000\" fill-rule=\"evenodd\" fill-opacity=\"1\" /><path clip-path=\"url(#clip290)\" d=\"M1564.69 1517.37 Q1561.08 1517.37 1559.25 1520.93 Q1557.45 1524.47 1557.45 1531.6 Q1557.45 1538.71 1559.25 1542.27 Q1561.08 1545.82 1564.69 1545.82 Q1568.33 1545.82 1570.13 1542.27 Q1571.96 1538.71 1571.96 1531.6 Q1571.96 1524.47 1570.13 1520.93 Q1568.33 1517.37 1564.69 1517.37 M1564.69 1513.66 Q1570.5 1513.66 1573.56 1518.27 Q1576.64 1522.85 1576.64 1531.6 Q1576.64 1540.33 1573.56 1544.94 Q1570.5 1549.52 1564.69 1549.52 Q1558.88 1549.52 1555.81 1544.94 Q1552.75 1540.33 1552.75 1531.6 Q1552.75 1522.85 1555.81 1518.27 Q1558.88 1513.66 1564.69 1513.66 Z\" fill=\"#000000\" fill-rule=\"evenodd\" fill-opacity=\"1\" /><path clip-path=\"url(#clip290)\" d=\"M1822.12 1544.91 L1829.76 1544.91 L1829.76 1518.55 L1821.45 1520.21 L1821.45 1515.95 L1829.71 1514.29 L1834.39 1514.29 L1834.39 1544.91 L1842.03 1544.91 L1842.03 1548.85 L1822.12 1548.85 L1822.12 1544.91 Z\" fill=\"#000000\" fill-rule=\"evenodd\" fill-opacity=\"1\" /><path clip-path=\"url(#clip290)\" d=\"M1855.5 1544.91 L1871.82 1544.91 L1871.82 1548.85 L1849.87 1548.85 L1849.87 1544.91 Q1852.54 1542.16 1857.12 1537.53 Q1861.73 1532.88 1862.91 1531.53 Q1865.15 1529.01 1866.03 1527.27 Q1866.93 1525.51 1866.93 1523.82 Q1866.93 1521.07 1864.99 1519.33 Q1863.07 1517.6 1859.97 1517.6 Q1857.77 1517.6 1855.31 1518.36 Q1852.88 1519.13 1850.11 1520.68 L1850.11 1515.95 Q1852.93 1514.82 1855.38 1514.24 Q1857.84 1513.66 1859.87 1513.66 Q1865.24 1513.66 1868.44 1516.35 Q1871.63 1519.03 1871.63 1523.52 Q1871.63 1525.65 1870.82 1527.57 Q1870.04 1529.47 1867.93 1532.07 Q1867.35 1532.74 1864.25 1535.95 Q1861.15 1539.15 1855.5 1544.91 Z\" fill=\"#000000\" fill-rule=\"evenodd\" fill-opacity=\"1\" /><path clip-path=\"url(#clip290)\" d=\"M2117.06 1544.91 L2124.69 1544.91 L2124.69 1518.55 L2116.38 1520.21 L2116.38 1515.95 L2124.65 1514.29 L2129.32 1514.29 L2129.32 1544.91 L2136.96 1544.91 L2136.96 1548.85 L2117.06 1548.85 L2117.06 1544.91 Z\" fill=\"#000000\" fill-rule=\"evenodd\" fill-opacity=\"1\" /><path clip-path=\"url(#clip290)\" d=\"M2159.25 1518.36 L2147.45 1536.81 L2159.25 1536.81 L2159.25 1518.36 M2158.03 1514.29 L2163.91 1514.29 L2163.91 1536.81 L2168.84 1536.81 L2168.84 1540.7 L2163.91 1540.7 L2163.91 1548.85 L2159.25 1548.85 L2159.25 1540.7 L2143.65 1540.7 L2143.65 1536.19 L2158.03 1514.29 Z\" fill=\"#000000\" fill-rule=\"evenodd\" fill-opacity=\"1\" /><polyline clip-path=\"url(#clip292)\" style=\"stroke:#000000; stroke-linecap:butt; stroke-linejoin:round; stroke-width:2; stroke-opacity:0.1; fill:none\" points=\"\n",
       "  156.598,1220.84 2352.76,1220.84 \n",
       "  \"/>\n",
       "<polyline clip-path=\"url(#clip292)\" style=\"stroke:#000000; stroke-linecap:butt; stroke-linejoin:round; stroke-width:2; stroke-opacity:0.1; fill:none\" points=\"\n",
       "  156.598,927.832 2352.76,927.832 \n",
       "  \"/>\n",
       "<polyline clip-path=\"url(#clip292)\" style=\"stroke:#000000; stroke-linecap:butt; stroke-linejoin:round; stroke-width:2; stroke-opacity:0.1; fill:none\" points=\"\n",
       "  156.598,634.821 2352.76,634.821 \n",
       "  \"/>\n",
       "<polyline clip-path=\"url(#clip292)\" style=\"stroke:#000000; stroke-linecap:butt; stroke-linejoin:round; stroke-width:2; stroke-opacity:0.1; fill:none\" points=\"\n",
       "  156.598,341.81 2352.76,341.81 \n",
       "  \"/>\n",
       "<polyline clip-path=\"url(#clip292)\" style=\"stroke:#000000; stroke-linecap:butt; stroke-linejoin:round; stroke-width:2; stroke-opacity:0.1; fill:none\" points=\"\n",
       "  156.598,48.7983 2352.76,48.7983 \n",
       "  \"/>\n",
       "<polyline clip-path=\"url(#clip290)\" style=\"stroke:#000000; stroke-linecap:butt; stroke-linejoin:round; stroke-width:4; stroke-opacity:1; fill:none\" points=\"\n",
       "  156.598,1486.45 156.598,47.2441 \n",
       "  \"/>\n",
       "<polyline clip-path=\"url(#clip290)\" style=\"stroke:#000000; stroke-linecap:butt; stroke-linejoin:round; stroke-width:4; stroke-opacity:1; fill:none\" points=\"\n",
       "  156.598,1220.84 175.496,1220.84 \n",
       "  \"/>\n",
       "<polyline clip-path=\"url(#clip290)\" style=\"stroke:#000000; stroke-linecap:butt; stroke-linejoin:round; stroke-width:4; stroke-opacity:1; fill:none\" points=\"\n",
       "  156.598,927.832 175.496,927.832 \n",
       "  \"/>\n",
       "<polyline clip-path=\"url(#clip290)\" style=\"stroke:#000000; stroke-linecap:butt; stroke-linejoin:round; stroke-width:4; stroke-opacity:1; fill:none\" points=\"\n",
       "  156.598,634.821 175.496,634.821 \n",
       "  \"/>\n",
       "<polyline clip-path=\"url(#clip290)\" style=\"stroke:#000000; stroke-linecap:butt; stroke-linejoin:round; stroke-width:4; stroke-opacity:1; fill:none\" points=\"\n",
       "  156.598,341.81 175.496,341.81 \n",
       "  \"/>\n",
       "<polyline clip-path=\"url(#clip290)\" style=\"stroke:#000000; stroke-linecap:butt; stroke-linejoin:round; stroke-width:4; stroke-opacity:1; fill:none\" points=\"\n",
       "  156.598,48.7983 175.496,48.7983 \n",
       "  \"/>\n",
       "<path clip-path=\"url(#clip290)\" d=\"M65.0198 1206.64 Q61.4087 1206.64 59.58 1210.21 Q57.7745 1213.75 57.7745 1220.88 Q57.7745 1227.98 59.58 1231.55 Q61.4087 1235.09 65.0198 1235.09 Q68.6541 1235.09 70.4596 1231.55 Q72.2883 1227.98 72.2883 1220.88 Q72.2883 1213.75 70.4596 1210.21 Q68.6541 1206.64 65.0198 1206.64 M65.0198 1202.94 Q70.83 1202.94 73.8855 1207.55 Q76.9642 1212.13 76.9642 1220.88 Q76.9642 1229.61 73.8855 1234.21 Q70.83 1238.79 65.0198 1238.79 Q59.2097 1238.79 56.131 1234.21 Q53.0754 1229.61 53.0754 1220.88 Q53.0754 1212.13 56.131 1207.55 Q59.2097 1202.94 65.0198 1202.94 Z\" fill=\"#000000\" fill-rule=\"evenodd\" fill-opacity=\"1\" /><path clip-path=\"url(#clip290)\" d=\"M85.1818 1232.24 L90.066 1232.24 L90.066 1238.12 L85.1818 1238.12 L85.1818 1232.24 Z\" fill=\"#000000\" fill-rule=\"evenodd\" fill-opacity=\"1\" /><path clip-path=\"url(#clip290)\" d=\"M104.279 1234.19 L120.598 1234.19 L120.598 1238.12 L98.6539 1238.12 L98.6539 1234.19 Q101.316 1231.43 105.899 1226.8 Q110.506 1222.15 111.686 1220.81 Q113.932 1218.29 114.811 1216.55 Q115.714 1214.79 115.714 1213.1 Q115.714 1210.35 113.77 1208.61 Q111.848 1206.87 108.746 1206.87 Q106.547 1206.87 104.094 1207.64 Q101.663 1208.4 98.8854 1209.95 L98.8854 1205.23 Q101.709 1204.1 104.163 1203.52 Q106.617 1202.94 108.654 1202.94 Q114.024 1202.94 117.219 1205.62 Q120.413 1208.31 120.413 1212.8 Q120.413 1214.93 119.603 1216.85 Q118.816 1218.75 116.709 1221.34 Q116.131 1222.01 113.029 1225.23 Q109.927 1228.42 104.279 1234.19 Z\" fill=\"#000000\" fill-rule=\"evenodd\" fill-opacity=\"1\" /><path clip-path=\"url(#clip290)\" d=\"M62.9365 913.631 Q59.3254 913.631 57.4967 917.196 Q55.6912 920.737 55.6912 927.867 Q55.6912 934.973 57.4967 938.538 Q59.3254 942.08 62.9365 942.08 Q66.5707 942.08 68.3763 938.538 Q70.205 934.973 70.205 927.867 Q70.205 920.737 68.3763 917.196 Q66.5707 913.631 62.9365 913.631 M62.9365 909.927 Q68.7467 909.927 71.8022 914.534 Q74.8809 919.117 74.8809 927.867 Q74.8809 936.594 71.8022 941.2 Q68.7467 945.784 62.9365 945.784 Q57.1264 945.784 54.0477 941.2 Q50.9921 936.594 50.9921 927.867 Q50.9921 919.117 54.0477 914.534 Q57.1264 909.927 62.9365 909.927 Z\" fill=\"#000000\" fill-rule=\"evenodd\" fill-opacity=\"1\" /><path clip-path=\"url(#clip290)\" d=\"M83.0984 939.233 L87.9827 939.233 L87.9827 945.112 L83.0984 945.112 L83.0984 939.233 Z\" fill=\"#000000\" fill-rule=\"evenodd\" fill-opacity=\"1\" /><path clip-path=\"url(#clip290)\" d=\"M111.015 914.626 L99.2095 933.075 L111.015 933.075 L111.015 914.626 M109.788 910.552 L115.668 910.552 L115.668 933.075 L120.598 933.075 L120.598 936.964 L115.668 936.964 L115.668 945.112 L111.015 945.112 L111.015 936.964 L95.4132 936.964 L95.4132 932.45 L109.788 910.552 Z\" fill=\"#000000\" fill-rule=\"evenodd\" fill-opacity=\"1\" /><path clip-path=\"url(#clip290)\" d=\"M63.2606 620.62 Q59.6495 620.62 57.8208 624.184 Q56.0152 627.726 56.0152 634.856 Q56.0152 641.962 57.8208 645.527 Q59.6495 649.069 63.2606 649.069 Q66.8948 649.069 68.7004 645.527 Q70.5291 641.962 70.5291 634.856 Q70.5291 627.726 68.7004 624.184 Q66.8948 620.62 63.2606 620.62 M63.2606 616.916 Q69.0707 616.916 72.1263 621.522 Q75.205 626.106 75.205 634.856 Q75.205 643.582 72.1263 648.189 Q69.0707 652.772 63.2606 652.772 Q57.4504 652.772 54.3717 648.189 Q51.3162 643.582 51.3162 634.856 Q51.3162 626.106 54.3717 621.522 Q57.4504 616.916 63.2606 616.916 Z\" fill=\"#000000\" fill-rule=\"evenodd\" fill-opacity=\"1\" /><path clip-path=\"url(#clip290)\" d=\"M83.4225 646.221 L88.3067 646.221 L88.3067 652.101 L83.4225 652.101 L83.4225 646.221 Z\" fill=\"#000000\" fill-rule=\"evenodd\" fill-opacity=\"1\" /><path clip-path=\"url(#clip290)\" d=\"M109.071 632.958 Q105.922 632.958 104.071 635.11 Q102.242 637.263 102.242 641.013 Q102.242 644.74 104.071 646.916 Q105.922 649.069 109.071 649.069 Q112.219 649.069 114.047 646.916 Q115.899 644.74 115.899 641.013 Q115.899 637.263 114.047 635.11 Q112.219 632.958 109.071 632.958 M118.353 618.305 L118.353 622.564 Q116.594 621.731 114.788 621.291 Q113.006 620.851 111.246 620.851 Q106.617 620.851 104.163 623.976 Q101.733 627.101 101.385 633.42 Q102.751 631.407 104.811 630.342 Q106.871 629.254 109.348 629.254 Q114.557 629.254 117.566 632.425 Q120.598 635.573 120.598 641.013 Q120.598 646.337 117.45 649.555 Q114.302 652.772 109.071 652.772 Q103.075 652.772 99.9039 648.189 Q96.7326 643.582 96.7326 634.856 Q96.7326 626.661 100.621 621.8 Q104.51 616.916 111.061 616.916 Q112.82 616.916 114.603 617.263 Q116.408 617.61 118.353 618.305 Z\" fill=\"#000000\" fill-rule=\"evenodd\" fill-opacity=\"1\" /><path clip-path=\"url(#clip290)\" d=\"M63.5152 327.608 Q59.9041 327.608 58.0754 331.173 Q56.2699 334.715 56.2699 341.844 Q56.2699 348.951 58.0754 352.516 Q59.9041 356.057 63.5152 356.057 Q67.1494 356.057 68.955 352.516 Q70.7837 348.951 70.7837 341.844 Q70.7837 334.715 68.955 331.173 Q67.1494 327.608 63.5152 327.608 M63.5152 323.905 Q69.3254 323.905 72.3809 328.511 Q75.4596 333.094 75.4596 341.844 Q75.4596 350.571 72.3809 355.178 Q69.3254 359.761 63.5152 359.761 Q57.7051 359.761 54.6264 355.178 Q51.5708 350.571 51.5708 341.844 Q51.5708 333.094 54.6264 328.511 Q57.7051 323.905 63.5152 323.905 Z\" fill=\"#000000\" fill-rule=\"evenodd\" fill-opacity=\"1\" /><path clip-path=\"url(#clip290)\" d=\"M83.6771 353.21 L88.5614 353.21 L88.5614 359.09 L83.6771 359.09 L83.6771 353.21 Z\" fill=\"#000000\" fill-rule=\"evenodd\" fill-opacity=\"1\" /><path clip-path=\"url(#clip290)\" d=\"M108.746 342.678 Q105.413 342.678 103.492 344.46 Q101.594 346.242 101.594 349.367 Q101.594 352.492 103.492 354.275 Q105.413 356.057 108.746 356.057 Q112.08 356.057 114.001 354.275 Q115.922 352.469 115.922 349.367 Q115.922 346.242 114.001 344.46 Q112.103 342.678 108.746 342.678 M104.071 340.687 Q101.061 339.946 99.3715 337.886 Q97.7048 335.826 97.7048 332.863 Q97.7048 328.719 100.645 326.312 Q103.608 323.905 108.746 323.905 Q113.908 323.905 116.848 326.312 Q119.788 328.719 119.788 332.863 Q119.788 335.826 118.098 337.886 Q116.432 339.946 113.445 340.687 Q116.825 341.474 118.7 343.766 Q120.598 346.057 120.598 349.367 Q120.598 354.391 117.52 357.076 Q114.464 359.761 108.746 359.761 Q103.029 359.761 99.9502 357.076 Q96.8947 354.391 96.8947 349.367 Q96.8947 346.057 98.7928 343.766 Q100.691 341.474 104.071 340.687 M102.358 333.303 Q102.358 335.988 104.024 337.493 Q105.714 338.997 108.746 338.997 Q111.756 338.997 113.445 337.493 Q115.158 335.988 115.158 333.303 Q115.158 330.618 113.445 329.113 Q111.756 327.608 108.746 327.608 Q105.714 327.608 104.024 329.113 Q102.358 330.618 102.358 333.303 Z\" fill=\"#000000\" fill-rule=\"evenodd\" fill-opacity=\"1\" /><path clip-path=\"url(#clip290)\" d=\"M54.2328 62.1431 L61.8717 62.1431 L61.8717 35.7775 L53.5616 37.4442 L53.5616 33.185 L61.8254 31.5183 L66.5013 31.5183 L66.5013 62.1431 L74.1402 62.1431 L74.1402 66.0783 L54.2328 66.0783 L54.2328 62.1431 Z\" fill=\"#000000\" fill-rule=\"evenodd\" fill-opacity=\"1\" /><path clip-path=\"url(#clip290)\" d=\"M83.5845 60.1987 L88.4688 60.1987 L88.4688 66.0783 L83.5845 66.0783 L83.5845 60.1987 Z\" fill=\"#000000\" fill-rule=\"evenodd\" fill-opacity=\"1\" /><path clip-path=\"url(#clip290)\" d=\"M108.654 34.597 Q105.043 34.597 103.214 38.1618 Q101.409 41.7034 101.409 48.833 Q101.409 55.9395 103.214 59.5043 Q105.043 63.0459 108.654 63.0459 Q112.288 63.0459 114.094 59.5043 Q115.922 55.9395 115.922 48.833 Q115.922 41.7034 114.094 38.1618 Q112.288 34.597 108.654 34.597 M108.654 30.8933 Q114.464 30.8933 117.52 35.4998 Q120.598 40.0831 120.598 48.833 Q120.598 57.5598 117.52 62.1663 Q114.464 66.7496 108.654 66.7496 Q102.844 66.7496 99.765 62.1663 Q96.7095 57.5598 96.7095 48.833 Q96.7095 40.0831 99.765 35.4998 Q102.844 30.8933 108.654 30.8933 Z\" fill=\"#000000\" fill-rule=\"evenodd\" fill-opacity=\"1\" /><circle clip-path=\"url(#clip292)\" cx=\"218.754\" cy=\"758.156\" r=\"14\" fill=\"#009af9\" fill-rule=\"evenodd\" fill-opacity=\"1\" stroke=\"#000000\" stroke-opacity=\"1\" stroke-width=\"3.2\"/>\n",
       "<circle clip-path=\"url(#clip292)\" cx=\"366.743\" cy=\"1111.56\" r=\"14\" fill=\"#009af9\" fill-rule=\"evenodd\" fill-opacity=\"1\" stroke=\"#000000\" stroke-opacity=\"1\" stroke-width=\"3.2\"/>\n",
       "<circle clip-path=\"url(#clip292)\" cx=\"514.732\" cy=\"87.9763\" r=\"14\" fill=\"#009af9\" fill-rule=\"evenodd\" fill-opacity=\"1\" stroke=\"#000000\" stroke-opacity=\"1\" stroke-width=\"3.2\"/>\n",
       "<circle clip-path=\"url(#clip292)\" cx=\"662.721\" cy=\"1392.17\" r=\"14\" fill=\"#009af9\" fill-rule=\"evenodd\" fill-opacity=\"1\" stroke=\"#000000\" stroke-opacity=\"1\" stroke-width=\"3.2\"/>\n",
       "<circle clip-path=\"url(#clip292)\" cx=\"810.71\" cy=\"1161.6\" r=\"14\" fill=\"#009af9\" fill-rule=\"evenodd\" fill-opacity=\"1\" stroke=\"#000000\" stroke-opacity=\"1\" stroke-width=\"3.2\"/>\n",
       "<circle clip-path=\"url(#clip292)\" cx=\"958.699\" cy=\"376.03\" r=\"14\" fill=\"#009af9\" fill-rule=\"evenodd\" fill-opacity=\"1\" stroke=\"#000000\" stroke-opacity=\"1\" stroke-width=\"3.2\"/>\n",
       "<circle clip-path=\"url(#clip292)\" cx=\"1106.69\" cy=\"1264.77\" r=\"14\" fill=\"#009af9\" fill-rule=\"evenodd\" fill-opacity=\"1\" stroke=\"#000000\" stroke-opacity=\"1\" stroke-width=\"3.2\"/>\n",
       "<circle clip-path=\"url(#clip292)\" cx=\"1254.68\" cy=\"719.253\" r=\"14\" fill=\"#009af9\" fill-rule=\"evenodd\" fill-opacity=\"1\" stroke=\"#000000\" stroke-opacity=\"1\" stroke-width=\"3.2\"/>\n",
       "<circle clip-path=\"url(#clip292)\" cx=\"1402.67\" cy=\"1166.22\" r=\"14\" fill=\"#009af9\" fill-rule=\"evenodd\" fill-opacity=\"1\" stroke=\"#000000\" stroke-opacity=\"1\" stroke-width=\"3.2\"/>\n",
       "<circle clip-path=\"url(#clip292)\" cx=\"1550.66\" cy=\"829.173\" r=\"14\" fill=\"#009af9\" fill-rule=\"evenodd\" fill-opacity=\"1\" stroke=\"#000000\" stroke-opacity=\"1\" stroke-width=\"3.2\"/>\n",
       "<circle clip-path=\"url(#clip292)\" cx=\"1698.64\" cy=\"1356.67\" r=\"14\" fill=\"#009af9\" fill-rule=\"evenodd\" fill-opacity=\"1\" stroke=\"#000000\" stroke-opacity=\"1\" stroke-width=\"3.2\"/>\n",
       "<circle clip-path=\"url(#clip292)\" cx=\"1846.63\" cy=\"366.268\" r=\"14\" fill=\"#009af9\" fill-rule=\"evenodd\" fill-opacity=\"1\" stroke=\"#000000\" stroke-opacity=\"1\" stroke-width=\"3.2\"/>\n",
       "<circle clip-path=\"url(#clip292)\" cx=\"1994.62\" cy=\"519.323\" r=\"14\" fill=\"#009af9\" fill-rule=\"evenodd\" fill-opacity=\"1\" stroke=\"#000000\" stroke-opacity=\"1\" stroke-width=\"3.2\"/>\n",
       "<circle clip-path=\"url(#clip292)\" cx=\"2142.61\" cy=\"454.644\" r=\"14\" fill=\"#009af9\" fill-rule=\"evenodd\" fill-opacity=\"1\" stroke=\"#000000\" stroke-opacity=\"1\" stroke-width=\"3.2\"/>\n",
       "<circle clip-path=\"url(#clip292)\" cx=\"2290.6\" cy=\"1445.72\" r=\"14\" fill=\"#009af9\" fill-rule=\"evenodd\" fill-opacity=\"1\" stroke=\"#000000\" stroke-opacity=\"1\" stroke-width=\"3.2\"/>\n",
       "<path clip-path=\"url(#clip290)\" d=\"\n",
       "M1983.1 198.898 L2279.55 198.898 L2279.55 95.2176 L1983.1 95.2176  Z\n",
       "  \" fill=\"#ffffff\" fill-rule=\"evenodd\" fill-opacity=\"1\"/>\n",
       "<polyline clip-path=\"url(#clip290)\" style=\"stroke:#000000; stroke-linecap:butt; stroke-linejoin:round; stroke-width:4; stroke-opacity:1; fill:none\" points=\"\n",
       "  1983.1,198.898 2279.55,198.898 2279.55,95.2176 1983.1,95.2176 1983.1,198.898 \n",
       "  \"/>\n",
       "<circle clip-path=\"url(#clip290)\" cx=\"2080.71\" cy=\"147.058\" r=\"23\" fill=\"#009af9\" fill-rule=\"evenodd\" fill-opacity=\"1\" stroke=\"#000000\" stroke-opacity=\"1\" stroke-width=\"5.12\"/>\n",
       "<path clip-path=\"url(#clip290)\" d=\"M2192.16 166.745 Q2190.35 171.375 2188.64 172.787 Q2186.93 174.199 2184.06 174.199 L2180.65 174.199 L2180.65 170.634 L2183.15 170.634 Q2184.91 170.634 2185.89 169.8 Q2186.86 168.967 2188.04 165.865 L2188.8 163.921 L2178.32 138.412 L2182.83 138.412 L2190.93 158.689 L2199.03 138.412 L2203.55 138.412 L2192.16 166.745 Z\" fill=\"#000000\" fill-rule=\"evenodd\" fill-opacity=\"1\" /><path clip-path=\"url(#clip290)\" d=\"M2210.84 160.402 L2218.48 160.402 L2218.48 134.037 L2210.17 135.703 L2210.17 131.444 L2218.43 129.778 L2223.11 129.778 L2223.11 160.402 L2230.75 160.402 L2230.75 164.338 L2210.84 164.338 L2210.84 160.402 Z\" fill=\"#000000\" fill-rule=\"evenodd\" fill-opacity=\"1\" /></svg>\n"
      ]
     },
     "execution_count": 23,
     "metadata": {},
     "output_type": "execute_result"
    }
   ],
   "source": [
    "scatter(x,y)"
   ]
  },
  {
   "cell_type": "code",
   "execution_count": 24,
   "metadata": {},
   "outputs": [
    {
     "data": {
      "image/svg+xml": [
       "<?xml version=\"1.0\" encoding=\"utf-8\"?>\n",
       "<svg xmlns=\"http://www.w3.org/2000/svg\" xmlns:xlink=\"http://www.w3.org/1999/xlink\" width=\"600\" height=\"400\" viewBox=\"0 0 2400 1600\">\n",
       "<defs>\n",
       "  <clipPath id=\"clip330\">\n",
       "    <rect x=\"0\" y=\"0\" width=\"2400\" height=\"1600\"/>\n",
       "  </clipPath>\n",
       "</defs>\n",
       "<path clip-path=\"url(#clip330)\" d=\"\n",
       "M0 1600 L2400 1600 L2400 0 L0 0  Z\n",
       "  \" fill=\"#ffffff\" fill-rule=\"evenodd\" fill-opacity=\"1\"/>\n",
       "<defs>\n",
       "  <clipPath id=\"clip331\">\n",
       "    <rect x=\"480\" y=\"0\" width=\"1681\" height=\"1600\"/>\n",
       "  </clipPath>\n",
       "</defs>\n",
       "<path clip-path=\"url(#clip330)\" d=\"\n",
       "M186.274 1486.45 L2352.76 1486.45 L2352.76 47.2441 L186.274 47.2441  Z\n",
       "  \" fill=\"#ffffff\" fill-rule=\"evenodd\" fill-opacity=\"1\"/>\n",
       "<defs>\n",
       "  <clipPath id=\"clip332\">\n",
       "    <rect x=\"186\" y=\"47\" width=\"2167\" height=\"1440\"/>\n",
       "  </clipPath>\n",
       "</defs>\n",
       "<polyline clip-path=\"url(#clip332)\" style=\"stroke:#000000; stroke-linecap:butt; stroke-linejoin:round; stroke-width:2; stroke-opacity:0.1; fill:none\" points=\"\n",
       "  227.266,1486.45 227.266,47.2441 \n",
       "  \"/>\n",
       "<polyline clip-path=\"url(#clip332)\" style=\"stroke:#000000; stroke-linecap:butt; stroke-linejoin:round; stroke-width:2; stroke-opacity:0.1; fill:none\" points=\"\n",
       "  878.671,1486.45 878.671,47.2441 \n",
       "  \"/>\n",
       "<polyline clip-path=\"url(#clip332)\" style=\"stroke:#000000; stroke-linecap:butt; stroke-linejoin:round; stroke-width:2; stroke-opacity:0.1; fill:none\" points=\"\n",
       "  1530.08,1486.45 1530.08,47.2441 \n",
       "  \"/>\n",
       "<polyline clip-path=\"url(#clip332)\" style=\"stroke:#000000; stroke-linecap:butt; stroke-linejoin:round; stroke-width:2; stroke-opacity:0.1; fill:none\" points=\"\n",
       "  2181.48,1486.45 2181.48,47.2441 \n",
       "  \"/>\n",
       "<polyline clip-path=\"url(#clip330)\" style=\"stroke:#000000; stroke-linecap:butt; stroke-linejoin:round; stroke-width:4; stroke-opacity:1; fill:none\" points=\"\n",
       "  186.274,1486.45 2352.76,1486.45 \n",
       "  \"/>\n",
       "<polyline clip-path=\"url(#clip330)\" style=\"stroke:#000000; stroke-linecap:butt; stroke-linejoin:round; stroke-width:4; stroke-opacity:1; fill:none\" points=\"\n",
       "  227.266,1486.45 227.266,1467.55 \n",
       "  \"/>\n",
       "<polyline clip-path=\"url(#clip330)\" style=\"stroke:#000000; stroke-linecap:butt; stroke-linejoin:round; stroke-width:4; stroke-opacity:1; fill:none\" points=\"\n",
       "  878.671,1486.45 878.671,1467.55 \n",
       "  \"/>\n",
       "<polyline clip-path=\"url(#clip330)\" style=\"stroke:#000000; stroke-linecap:butt; stroke-linejoin:round; stroke-width:4; stroke-opacity:1; fill:none\" points=\"\n",
       "  1530.08,1486.45 1530.08,1467.55 \n",
       "  \"/>\n",
       "<polyline clip-path=\"url(#clip330)\" style=\"stroke:#000000; stroke-linecap:butt; stroke-linejoin:round; stroke-width:4; stroke-opacity:1; fill:none\" points=\"\n",
       "  2181.48,1486.45 2181.48,1467.55 \n",
       "  \"/>\n",
       "<path clip-path=\"url(#clip330)\" d=\"M227.266 1517.37 Q223.655 1517.37 221.826 1520.93 Q220.02 1524.47 220.02 1531.6 Q220.02 1538.71 221.826 1542.27 Q223.655 1545.82 227.266 1545.82 Q230.9 1545.82 232.705 1542.27 Q234.534 1538.71 234.534 1531.6 Q234.534 1524.47 232.705 1520.93 Q230.9 1517.37 227.266 1517.37 M227.266 1513.66 Q233.076 1513.66 236.131 1518.27 Q239.21 1522.85 239.21 1531.6 Q239.21 1540.33 236.131 1544.94 Q233.076 1549.52 227.266 1549.52 Q221.456 1549.52 218.377 1544.94 Q215.321 1540.33 215.321 1531.6 Q215.321 1522.85 218.377 1518.27 Q221.456 1513.66 227.266 1513.66 Z\" fill=\"#000000\" fill-rule=\"evenodd\" fill-opacity=\"1\" /><path clip-path=\"url(#clip330)\" d=\"M868.949 1514.29 L887.306 1514.29 L887.306 1518.22 L873.232 1518.22 L873.232 1526.7 Q874.25 1526.35 875.269 1526.19 Q876.287 1526 877.306 1526 Q883.093 1526 886.472 1529.17 Q889.852 1532.34 889.852 1537.76 Q889.852 1543.34 886.38 1546.44 Q882.908 1549.52 876.588 1549.52 Q874.412 1549.52 872.144 1549.15 Q869.898 1548.78 867.491 1548.04 L867.491 1543.34 Q869.574 1544.47 871.797 1545.03 Q874.019 1545.58 876.496 1545.58 Q880.5 1545.58 882.838 1543.48 Q885.176 1541.37 885.176 1537.76 Q885.176 1534.15 882.838 1532.04 Q880.5 1529.94 876.496 1529.94 Q874.621 1529.94 872.746 1530.35 Q870.894 1530.77 868.949 1531.65 L868.949 1514.29 Z\" fill=\"#000000\" fill-rule=\"evenodd\" fill-opacity=\"1\" /><path clip-path=\"url(#clip330)\" d=\"M1504.76 1544.91 L1512.4 1544.91 L1512.4 1518.55 L1504.09 1520.21 L1504.09 1515.95 L1512.36 1514.29 L1517.03 1514.29 L1517.03 1544.91 L1524.67 1544.91 L1524.67 1548.85 L1504.76 1548.85 L1504.76 1544.91 Z\" fill=\"#000000\" fill-rule=\"evenodd\" fill-opacity=\"1\" /><path clip-path=\"url(#clip330)\" d=\"M1544.12 1517.37 Q1540.51 1517.37 1538.68 1520.93 Q1536.87 1524.47 1536.87 1531.6 Q1536.87 1538.71 1538.68 1542.27 Q1540.51 1545.82 1544.12 1545.82 Q1547.75 1545.82 1549.56 1542.27 Q1551.39 1538.71 1551.39 1531.6 Q1551.39 1524.47 1549.56 1520.93 Q1547.75 1517.37 1544.12 1517.37 M1544.12 1513.66 Q1549.93 1513.66 1552.98 1518.27 Q1556.06 1522.85 1556.06 1531.6 Q1556.06 1540.33 1552.98 1544.94 Q1549.93 1549.52 1544.12 1549.52 Q1538.31 1549.52 1535.23 1544.94 Q1532.17 1540.33 1532.17 1531.6 Q1532.17 1522.85 1535.23 1518.27 Q1538.31 1513.66 1544.12 1513.66 Z\" fill=\"#000000\" fill-rule=\"evenodd\" fill-opacity=\"1\" /><path clip-path=\"url(#clip330)\" d=\"M2156.67 1544.91 L2164.31 1544.91 L2164.31 1518.55 L2156 1520.21 L2156 1515.95 L2164.26 1514.29 L2168.94 1514.29 L2168.94 1544.91 L2176.58 1544.91 L2176.58 1548.85 L2156.67 1548.85 L2156.67 1544.91 Z\" fill=\"#000000\" fill-rule=\"evenodd\" fill-opacity=\"1\" /><path clip-path=\"url(#clip330)\" d=\"M2186.07 1514.29 L2204.42 1514.29 L2204.42 1518.22 L2190.35 1518.22 L2190.35 1526.7 Q2191.37 1526.35 2192.39 1526.19 Q2193.4 1526 2194.42 1526 Q2200.21 1526 2203.59 1529.17 Q2206.97 1532.34 2206.97 1537.76 Q2206.97 1543.34 2203.5 1546.44 Q2200.02 1549.52 2193.71 1549.52 Q2191.53 1549.52 2189.26 1549.15 Q2187.02 1548.78 2184.61 1548.04 L2184.61 1543.34 Q2186.69 1544.47 2188.91 1545.03 Q2191.14 1545.58 2193.61 1545.58 Q2197.62 1545.58 2199.96 1543.48 Q2202.29 1541.37 2202.29 1537.76 Q2202.29 1534.15 2199.96 1532.04 Q2197.62 1529.94 2193.61 1529.94 Q2191.74 1529.94 2189.86 1530.35 Q2188.01 1530.77 2186.07 1531.65 L2186.07 1514.29 Z\" fill=\"#000000\" fill-rule=\"evenodd\" fill-opacity=\"1\" /><polyline clip-path=\"url(#clip332)\" style=\"stroke:#000000; stroke-linecap:butt; stroke-linejoin:round; stroke-width:2; stroke-opacity:0.1; fill:none\" points=\"\n",
       "  186.274,1445.72 2352.76,1445.72 \n",
       "  \"/>\n",
       "<polyline clip-path=\"url(#clip332)\" style=\"stroke:#000000; stroke-linecap:butt; stroke-linejoin:round; stroke-width:2; stroke-opacity:0.1; fill:none\" points=\"\n",
       "  186.274,1096.95 2352.76,1096.95 \n",
       "  \"/>\n",
       "<polyline clip-path=\"url(#clip332)\" style=\"stroke:#000000; stroke-linecap:butt; stroke-linejoin:round; stroke-width:2; stroke-opacity:0.1; fill:none\" points=\"\n",
       "  186.274,748.193 2352.76,748.193 \n",
       "  \"/>\n",
       "<polyline clip-path=\"url(#clip332)\" style=\"stroke:#000000; stroke-linecap:butt; stroke-linejoin:round; stroke-width:2; stroke-opacity:0.1; fill:none\" points=\"\n",
       "  186.274,399.432 2352.76,399.432 \n",
       "  \"/>\n",
       "<polyline clip-path=\"url(#clip332)\" style=\"stroke:#000000; stroke-linecap:butt; stroke-linejoin:round; stroke-width:2; stroke-opacity:0.1; fill:none\" points=\"\n",
       "  186.274,50.6705 2352.76,50.6705 \n",
       "  \"/>\n",
       "<polyline clip-path=\"url(#clip330)\" style=\"stroke:#000000; stroke-linecap:butt; stroke-linejoin:round; stroke-width:4; stroke-opacity:1; fill:none\" points=\"\n",
       "  186.274,1486.45 186.274,47.2441 \n",
       "  \"/>\n",
       "<polyline clip-path=\"url(#clip330)\" style=\"stroke:#000000; stroke-linecap:butt; stroke-linejoin:round; stroke-width:4; stroke-opacity:1; fill:none\" points=\"\n",
       "  186.274,1445.72 205.172,1445.72 \n",
       "  \"/>\n",
       "<polyline clip-path=\"url(#clip330)\" style=\"stroke:#000000; stroke-linecap:butt; stroke-linejoin:round; stroke-width:4; stroke-opacity:1; fill:none\" points=\"\n",
       "  186.274,1096.95 205.172,1096.95 \n",
       "  \"/>\n",
       "<polyline clip-path=\"url(#clip330)\" style=\"stroke:#000000; stroke-linecap:butt; stroke-linejoin:round; stroke-width:4; stroke-opacity:1; fill:none\" points=\"\n",
       "  186.274,748.193 205.172,748.193 \n",
       "  \"/>\n",
       "<polyline clip-path=\"url(#clip330)\" style=\"stroke:#000000; stroke-linecap:butt; stroke-linejoin:round; stroke-width:4; stroke-opacity:1; fill:none\" points=\"\n",
       "  186.274,399.432 205.172,399.432 \n",
       "  \"/>\n",
       "<polyline clip-path=\"url(#clip330)\" style=\"stroke:#000000; stroke-linecap:butt; stroke-linejoin:round; stroke-width:4; stroke-opacity:1; fill:none\" points=\"\n",
       "  186.274,50.6705 205.172,50.6705 \n",
       "  \"/>\n",
       "<path clip-path=\"url(#clip330)\" d=\"M62.9365 1431.51 Q59.3254 1431.51 57.4967 1435.08 Q55.6912 1438.62 55.6912 1445.75 Q55.6912 1452.86 57.4967 1456.42 Q59.3254 1459.96 62.9365 1459.96 Q66.5707 1459.96 68.3763 1456.42 Q70.205 1452.86 70.205 1445.75 Q70.205 1438.62 68.3763 1435.08 Q66.5707 1431.51 62.9365 1431.51 M62.9365 1427.81 Q68.7467 1427.81 71.8022 1432.42 Q74.8809 1437 74.8809 1445.75 Q74.8809 1454.48 71.8022 1459.08 Q68.7467 1463.67 62.9365 1463.67 Q57.1264 1463.67 54.0477 1459.08 Q50.9921 1454.48 50.9921 1445.75 Q50.9921 1437 54.0477 1432.42 Q57.1264 1427.81 62.9365 1427.81 Z\" fill=\"#000000\" fill-rule=\"evenodd\" fill-opacity=\"1\" /><path clip-path=\"url(#clip330)\" d=\"M83.0984 1457.12 L87.9827 1457.12 L87.9827 1463 L83.0984 1463 L83.0984 1457.12 Z\" fill=\"#000000\" fill-rule=\"evenodd\" fill-opacity=\"1\" /><path clip-path=\"url(#clip330)\" d=\"M108.168 1431.51 Q104.557 1431.51 102.728 1435.08 Q100.922 1438.62 100.922 1445.75 Q100.922 1452.86 102.728 1456.42 Q104.557 1459.96 108.168 1459.96 Q111.802 1459.96 113.608 1456.42 Q115.436 1452.86 115.436 1445.75 Q115.436 1438.62 113.608 1435.08 Q111.802 1431.51 108.168 1431.51 M108.168 1427.81 Q113.978 1427.81 117.033 1432.42 Q120.112 1437 120.112 1445.75 Q120.112 1454.48 117.033 1459.08 Q113.978 1463.67 108.168 1463.67 Q102.358 1463.67 99.2789 1459.08 Q96.2234 1454.48 96.2234 1445.75 Q96.2234 1437 99.2789 1432.42 Q102.358 1427.81 108.168 1427.81 Z\" fill=\"#000000\" fill-rule=\"evenodd\" fill-opacity=\"1\" /><path clip-path=\"url(#clip330)\" d=\"M138.33 1431.51 Q134.719 1431.51 132.89 1435.08 Q131.084 1438.62 131.084 1445.75 Q131.084 1452.86 132.89 1456.42 Q134.719 1459.96 138.33 1459.96 Q141.964 1459.96 143.769 1456.42 Q145.598 1452.86 145.598 1445.75 Q145.598 1438.62 143.769 1435.08 Q141.964 1431.51 138.33 1431.51 M138.33 1427.81 Q144.14 1427.81 147.195 1432.42 Q150.274 1437 150.274 1445.75 Q150.274 1454.48 147.195 1459.08 Q144.14 1463.67 138.33 1463.67 Q132.519 1463.67 129.441 1459.08 Q126.385 1454.48 126.385 1445.75 Q126.385 1437 129.441 1432.42 Q132.519 1427.81 138.33 1427.81 Z\" fill=\"#000000\" fill-rule=\"evenodd\" fill-opacity=\"1\" /><path clip-path=\"url(#clip330)\" d=\"M63.9319 1082.75 Q60.3208 1082.75 58.4921 1086.32 Q56.6865 1089.86 56.6865 1096.99 Q56.6865 1104.1 58.4921 1107.66 Q60.3208 1111.2 63.9319 1111.2 Q67.5661 1111.2 69.3717 1107.66 Q71.2004 1104.1 71.2004 1096.99 Q71.2004 1089.86 69.3717 1086.32 Q67.5661 1082.75 63.9319 1082.75 M63.9319 1079.05 Q69.742 1079.05 72.7976 1083.66 Q75.8763 1088.24 75.8763 1096.99 Q75.8763 1105.72 72.7976 1110.32 Q69.742 1114.91 63.9319 1114.91 Q58.1217 1114.91 55.043 1110.32 Q51.9875 1105.72 51.9875 1096.99 Q51.9875 1088.24 55.043 1083.66 Q58.1217 1079.05 63.9319 1079.05 Z\" fill=\"#000000\" fill-rule=\"evenodd\" fill-opacity=\"1\" /><path clip-path=\"url(#clip330)\" d=\"M84.0938 1108.35 L88.978 1108.35 L88.978 1114.23 L84.0938 1114.23 L84.0938 1108.35 Z\" fill=\"#000000\" fill-rule=\"evenodd\" fill-opacity=\"1\" /><path clip-path=\"url(#clip330)\" d=\"M103.191 1110.3 L119.51 1110.3 L119.51 1114.23 L97.566 1114.23 L97.566 1110.3 Q100.228 1107.54 104.811 1102.92 Q109.418 1098.26 110.598 1096.92 Q112.844 1094.4 113.723 1092.66 Q114.626 1090.9 114.626 1089.21 Q114.626 1086.46 112.682 1084.72 Q110.76 1082.98 107.658 1082.98 Q105.459 1082.98 103.006 1083.75 Q100.575 1084.51 97.7974 1086.06 L97.7974 1081.34 Q100.621 1080.21 103.075 1079.63 Q105.529 1079.05 107.566 1079.05 Q112.936 1079.05 116.131 1081.73 Q119.325 1084.42 119.325 1088.91 Q119.325 1091.04 118.515 1092.96 Q117.728 1094.86 115.621 1097.45 Q115.043 1098.12 111.941 1101.34 Q108.839 1104.54 103.191 1110.3 Z\" fill=\"#000000\" fill-rule=\"evenodd\" fill-opacity=\"1\" /><path clip-path=\"url(#clip330)\" d=\"M129.371 1079.67 L147.728 1079.67 L147.728 1083.61 L133.654 1083.61 L133.654 1092.08 Q134.672 1091.73 135.691 1091.57 Q136.709 1091.39 137.728 1091.39 Q143.515 1091.39 146.894 1094.56 Q150.274 1097.73 150.274 1103.15 Q150.274 1108.73 146.802 1111.83 Q143.33 1114.91 137.01 1114.91 Q134.834 1114.91 132.566 1114.54 Q130.32 1114.16 127.913 1113.42 L127.913 1108.73 Q129.996 1109.86 132.219 1110.41 Q134.441 1110.97 136.918 1110.97 Q140.922 1110.97 143.26 1108.86 Q145.598 1106.76 145.598 1103.15 Q145.598 1099.54 143.26 1097.43 Q140.922 1095.32 136.918 1095.32 Q135.043 1095.32 133.168 1095.74 Q131.316 1096.16 129.371 1097.04 L129.371 1079.67 Z\" fill=\"#000000\" fill-rule=\"evenodd\" fill-opacity=\"1\" /><path clip-path=\"url(#clip330)\" d=\"M62.9365 733.992 Q59.3254 733.992 57.4967 737.557 Q55.6912 741.098 55.6912 748.228 Q55.6912 755.334 57.4967 758.899 Q59.3254 762.441 62.9365 762.441 Q66.5707 762.441 68.3763 758.899 Q70.205 755.334 70.205 748.228 Q70.205 741.098 68.3763 737.557 Q66.5707 733.992 62.9365 733.992 M62.9365 730.288 Q68.7467 730.288 71.8022 734.895 Q74.8809 739.478 74.8809 748.228 Q74.8809 756.955 71.8022 761.561 Q68.7467 766.144 62.9365 766.144 Q57.1264 766.144 54.0477 761.561 Q50.9921 756.955 50.9921 748.228 Q50.9921 739.478 54.0477 734.895 Q57.1264 730.288 62.9365 730.288 Z\" fill=\"#000000\" fill-rule=\"evenodd\" fill-opacity=\"1\" /><path clip-path=\"url(#clip330)\" d=\"M83.0984 759.594 L87.9827 759.594 L87.9827 765.473 L83.0984 765.473 L83.0984 759.594 Z\" fill=\"#000000\" fill-rule=\"evenodd\" fill-opacity=\"1\" /><path clip-path=\"url(#clip330)\" d=\"M98.2141 730.913 L116.57 730.913 L116.57 734.848 L102.496 734.848 L102.496 743.32 Q103.515 742.973 104.534 742.811 Q105.552 742.626 106.571 742.626 Q112.358 742.626 115.737 745.797 Q119.117 748.969 119.117 754.385 Q119.117 759.964 115.645 763.066 Q112.172 766.144 105.853 766.144 Q103.677 766.144 101.409 765.774 Q99.1632 765.404 96.7558 764.663 L96.7558 759.964 Q98.8391 761.098 101.061 761.654 Q103.284 762.209 105.76 762.209 Q109.765 762.209 112.103 760.103 Q114.441 757.996 114.441 754.385 Q114.441 750.774 112.103 748.668 Q109.765 746.561 105.76 746.561 Q103.885 746.561 102.01 746.978 Q100.159 747.394 98.2141 748.274 L98.2141 730.913 Z\" fill=\"#000000\" fill-rule=\"evenodd\" fill-opacity=\"1\" /><path clip-path=\"url(#clip330)\" d=\"M138.33 733.992 Q134.719 733.992 132.89 737.557 Q131.084 741.098 131.084 748.228 Q131.084 755.334 132.89 758.899 Q134.719 762.441 138.33 762.441 Q141.964 762.441 143.769 758.899 Q145.598 755.334 145.598 748.228 Q145.598 741.098 143.769 737.557 Q141.964 733.992 138.33 733.992 M138.33 730.288 Q144.14 730.288 147.195 734.895 Q150.274 739.478 150.274 748.228 Q150.274 756.955 147.195 761.561 Q144.14 766.144 138.33 766.144 Q132.519 766.144 129.441 761.561 Q126.385 756.955 126.385 748.228 Q126.385 739.478 129.441 734.895 Q132.519 730.288 138.33 730.288 Z\" fill=\"#000000\" fill-rule=\"evenodd\" fill-opacity=\"1\" /><path clip-path=\"url(#clip330)\" d=\"M63.9319 385.23 Q60.3208 385.23 58.4921 388.795 Q56.6865 392.337 56.6865 399.467 Q56.6865 406.573 58.4921 410.138 Q60.3208 413.679 63.9319 413.679 Q67.5661 413.679 69.3717 410.138 Q71.2004 406.573 71.2004 399.467 Q71.2004 392.337 69.3717 388.795 Q67.5661 385.23 63.9319 385.23 M63.9319 381.527 Q69.742 381.527 72.7976 386.133 Q75.8763 390.717 75.8763 399.467 Q75.8763 408.193 72.7976 412.8 Q69.742 417.383 63.9319 417.383 Q58.1217 417.383 55.043 412.8 Q51.9875 408.193 51.9875 399.467 Q51.9875 390.717 55.043 386.133 Q58.1217 381.527 63.9319 381.527 Z\" fill=\"#000000\" fill-rule=\"evenodd\" fill-opacity=\"1\" /><path clip-path=\"url(#clip330)\" d=\"M84.0938 410.832 L88.978 410.832 L88.978 416.712 L84.0938 416.712 L84.0938 410.832 Z\" fill=\"#000000\" fill-rule=\"evenodd\" fill-opacity=\"1\" /><path clip-path=\"url(#clip330)\" d=\"M97.9826 382.152 L120.205 382.152 L120.205 384.143 L107.658 416.712 L102.774 416.712 L114.58 386.087 L97.9826 386.087 L97.9826 382.152 Z\" fill=\"#000000\" fill-rule=\"evenodd\" fill-opacity=\"1\" /><path clip-path=\"url(#clip330)\" d=\"M129.371 382.152 L147.728 382.152 L147.728 386.087 L133.654 386.087 L133.654 394.559 Q134.672 394.212 135.691 394.05 Q136.709 393.865 137.728 393.865 Q143.515 393.865 146.894 397.036 Q150.274 400.207 150.274 405.624 Q150.274 411.203 146.802 414.304 Q143.33 417.383 137.01 417.383 Q134.834 417.383 132.566 417.013 Q130.32 416.642 127.913 415.902 L127.913 411.203 Q129.996 412.337 132.219 412.892 Q134.441 413.448 136.918 413.448 Q140.922 413.448 143.26 411.341 Q145.598 409.235 145.598 405.624 Q145.598 402.013 143.26 399.906 Q140.922 397.8 136.918 397.8 Q135.043 397.8 133.168 398.217 Q131.316 398.633 129.371 399.513 L129.371 382.152 Z\" fill=\"#000000\" fill-rule=\"evenodd\" fill-opacity=\"1\" /><path clip-path=\"url(#clip330)\" d=\"M53.7467 64.0153 L61.3856 64.0153 L61.3856 37.6497 L53.0754 39.3164 L53.0754 35.0572 L61.3393 33.3905 L66.0152 33.3905 L66.0152 64.0153 L73.654 64.0153 L73.654 67.9505 L53.7467 67.9505 L53.7467 64.0153 Z\" fill=\"#000000\" fill-rule=\"evenodd\" fill-opacity=\"1\" /><path clip-path=\"url(#clip330)\" d=\"M83.0984 62.0709 L87.9827 62.0709 L87.9827 67.9505 L83.0984 67.9505 L83.0984 62.0709 Z\" fill=\"#000000\" fill-rule=\"evenodd\" fill-opacity=\"1\" /><path clip-path=\"url(#clip330)\" d=\"M108.168 36.4692 Q104.557 36.4692 102.728 40.034 Q100.922 43.5756 100.922 50.7052 Q100.922 57.8117 102.728 61.3765 Q104.557 64.9181 108.168 64.9181 Q111.802 64.9181 113.608 61.3765 Q115.436 57.8117 115.436 50.7052 Q115.436 43.5756 113.608 40.034 Q111.802 36.4692 108.168 36.4692 M108.168 32.7655 Q113.978 32.7655 117.033 37.372 Q120.112 41.9553 120.112 50.7052 Q120.112 59.432 117.033 64.0385 Q113.978 68.6218 108.168 68.6218 Q102.358 68.6218 99.2789 64.0385 Q96.2234 59.432 96.2234 50.7052 Q96.2234 41.9553 99.2789 37.372 Q102.358 32.7655 108.168 32.7655 Z\" fill=\"#000000\" fill-rule=\"evenodd\" fill-opacity=\"1\" /><path clip-path=\"url(#clip330)\" d=\"M138.33 36.4692 Q134.719 36.4692 132.89 40.034 Q131.084 43.5756 131.084 50.7052 Q131.084 57.8117 132.89 61.3765 Q134.719 64.9181 138.33 64.9181 Q141.964 64.9181 143.769 61.3765 Q145.598 57.8117 145.598 50.7052 Q145.598 43.5756 143.769 40.034 Q141.964 36.4692 138.33 36.4692 M138.33 32.7655 Q144.14 32.7655 147.195 37.372 Q150.274 41.9553 150.274 50.7052 Q150.274 59.432 147.195 64.0385 Q144.14 68.6218 138.33 68.6218 Q132.519 68.6218 129.441 64.0385 Q126.385 59.432 126.385 50.7052 Q126.385 41.9553 129.441 37.372 Q132.519 32.7655 138.33 32.7655 Z\" fill=\"#000000\" fill-rule=\"evenodd\" fill-opacity=\"1\" /><path clip-path=\"url(#clip332)\" d=\"\n",
       "M305.434 726.13 L305.434 1445.72 L409.659 1445.72 L409.659 726.13 L305.434 726.13 L305.434 726.13  Z\n",
       "  \" fill=\"#009af9\" fill-rule=\"evenodd\" fill-opacity=\"1\"/>\n",
       "<polyline clip-path=\"url(#clip332)\" style=\"stroke:#000000; stroke-linecap:butt; stroke-linejoin:round; stroke-width:4; stroke-opacity:1; fill:none\" points=\"\n",
       "  305.434,726.13 305.434,1445.72 409.659,1445.72 409.659,726.13 305.434,726.13 \n",
       "  \"/>\n",
       "<path clip-path=\"url(#clip332)\" d=\"\n",
       "M435.716 1062.65 L435.716 1445.72 L539.94 1445.72 L539.94 1062.65 L435.716 1062.65 L435.716 1062.65  Z\n",
       "  \" fill=\"#009af9\" fill-rule=\"evenodd\" fill-opacity=\"1\"/>\n",
       "<polyline clip-path=\"url(#clip332)\" style=\"stroke:#000000; stroke-linecap:butt; stroke-linejoin:round; stroke-width:4; stroke-opacity:1; fill:none\" points=\"\n",
       "  435.716,1062.65 435.716,1445.72 539.94,1445.72 539.94,1062.65 435.716,1062.65 \n",
       "  \"/>\n",
       "<path clip-path=\"url(#clip332)\" d=\"\n",
       "M565.997 87.9763 L565.997 1445.72 L670.222 1445.72 L670.222 87.9763 L565.997 87.9763 L565.997 87.9763  Z\n",
       "  \" fill=\"#009af9\" fill-rule=\"evenodd\" fill-opacity=\"1\"/>\n",
       "<polyline clip-path=\"url(#clip332)\" style=\"stroke:#000000; stroke-linecap:butt; stroke-linejoin:round; stroke-width:4; stroke-opacity:1; fill:none\" points=\"\n",
       "  565.997,87.9763 565.997,1445.72 670.222,1445.72 670.222,87.9763 565.997,87.9763 \n",
       "  \"/>\n",
       "<path clip-path=\"url(#clip332)\" d=\"\n",
       "M696.278 1329.84 L696.278 1445.72 L800.503 1445.72 L800.503 1329.84 L696.278 1329.84 L696.278 1329.84  Z\n",
       "  \" fill=\"#009af9\" fill-rule=\"evenodd\" fill-opacity=\"1\"/>\n",
       "<polyline clip-path=\"url(#clip332)\" style=\"stroke:#000000; stroke-linecap:butt; stroke-linejoin:round; stroke-width:4; stroke-opacity:1; fill:none\" points=\"\n",
       "  696.278,1329.84 696.278,1445.72 800.503,1445.72 800.503,1329.84 696.278,1329.84 \n",
       "  \"/>\n",
       "<path clip-path=\"url(#clip332)\" d=\"\n",
       "M826.559 1110.3 L826.559 1445.72 L930.784 1445.72 L930.784 1110.3 L826.559 1110.3 L826.559 1110.3  Z\n",
       "  \" fill=\"#009af9\" fill-rule=\"evenodd\" fill-opacity=\"1\"/>\n",
       "<polyline clip-path=\"url(#clip332)\" style=\"stroke:#000000; stroke-linecap:butt; stroke-linejoin:round; stroke-width:4; stroke-opacity:1; fill:none\" points=\"\n",
       "  826.559,1110.3 826.559,1445.72 930.784,1445.72 930.784,1110.3 826.559,1110.3 \n",
       "  \"/>\n",
       "<path clip-path=\"url(#clip332)\" d=\"\n",
       "M956.84 362.265 L956.84 1445.72 L1061.07 1445.72 L1061.07 362.265 L956.84 362.265 L956.84 362.265  Z\n",
       "  \" fill=\"#009af9\" fill-rule=\"evenodd\" fill-opacity=\"1\"/>\n",
       "<polyline clip-path=\"url(#clip332)\" style=\"stroke:#000000; stroke-linecap:butt; stroke-linejoin:round; stroke-width:4; stroke-opacity:1; fill:none\" points=\"\n",
       "  956.84,362.265 956.84,1445.72 1061.07,1445.72 1061.07,362.265 956.84,362.265 \n",
       "  \"/>\n",
       "<path clip-path=\"url(#clip332)\" d=\"\n",
       "M1087.12 1208.53 L1087.12 1445.72 L1191.35 1445.72 L1191.35 1208.53 L1087.12 1208.53 L1087.12 1208.53  Z\n",
       "  \" fill=\"#009af9\" fill-rule=\"evenodd\" fill-opacity=\"1\"/>\n",
       "<polyline clip-path=\"url(#clip332)\" style=\"stroke:#000000; stroke-linecap:butt; stroke-linejoin:round; stroke-width:4; stroke-opacity:1; fill:none\" points=\"\n",
       "  1087.12,1208.53 1087.12,1445.72 1191.35,1445.72 1191.35,1208.53 1087.12,1208.53 \n",
       "  \"/>\n",
       "<path clip-path=\"url(#clip332)\" d=\"\n",
       "M1217.4 689.086 L1217.4 1445.72 L1321.63 1445.72 L1321.63 689.086 L1217.4 689.086 L1217.4 689.086  Z\n",
       "  \" fill=\"#009af9\" fill-rule=\"evenodd\" fill-opacity=\"1\"/>\n",
       "<polyline clip-path=\"url(#clip332)\" style=\"stroke:#000000; stroke-linecap:butt; stroke-linejoin:round; stroke-width:4; stroke-opacity:1; fill:none\" points=\"\n",
       "  1217.4,689.086 1217.4,1445.72 1321.63,1445.72 1321.63,689.086 1217.4,689.086 \n",
       "  \"/>\n",
       "<path clip-path=\"url(#clip332)\" d=\"\n",
       "M1347.68 1114.69 L1347.68 1445.72 L1451.91 1445.72 L1451.91 1114.69 L1347.68 1114.69 L1347.68 1114.69  Z\n",
       "  \" fill=\"#009af9\" fill-rule=\"evenodd\" fill-opacity=\"1\"/>\n",
       "<polyline clip-path=\"url(#clip332)\" style=\"stroke:#000000; stroke-linecap:butt; stroke-linejoin:round; stroke-width:4; stroke-opacity:1; fill:none\" points=\"\n",
       "  1347.68,1114.69 1347.68,1445.72 1451.91,1445.72 1451.91,1114.69 1347.68,1114.69 \n",
       "  \"/>\n",
       "<path clip-path=\"url(#clip332)\" d=\"\n",
       "M1477.96 793.753 L1477.96 1445.72 L1582.19 1445.72 L1582.19 793.753 L1477.96 793.753 L1477.96 793.753  Z\n",
       "  \" fill=\"#009af9\" fill-rule=\"evenodd\" fill-opacity=\"1\"/>\n",
       "<polyline clip-path=\"url(#clip332)\" style=\"stroke:#000000; stroke-linecap:butt; stroke-linejoin:round; stroke-width:4; stroke-opacity:1; fill:none\" points=\"\n",
       "  1477.96,793.753 1477.96,1445.72 1582.19,1445.72 1582.19,793.753 1477.96,793.753 \n",
       "  \"/>\n",
       "<path clip-path=\"url(#clip332)\" d=\"\n",
       "M1608.25 1296.05 L1608.25 1445.72 L1712.47 1445.72 L1712.47 1296.05 L1608.25 1296.05 L1608.25 1296.05  Z\n",
       "  \" fill=\"#009af9\" fill-rule=\"evenodd\" fill-opacity=\"1\"/>\n",
       "<polyline clip-path=\"url(#clip332)\" style=\"stroke:#000000; stroke-linecap:butt; stroke-linejoin:round; stroke-width:4; stroke-opacity:1; fill:none\" points=\"\n",
       "  1608.25,1296.05 1608.25,1445.72 1712.47,1445.72 1712.47,1296.05 1608.25,1296.05 \n",
       "  \"/>\n",
       "<path clip-path=\"url(#clip332)\" d=\"\n",
       "M1738.53 352.969 L1738.53 1445.72 L1842.75 1445.72 L1842.75 352.969 L1738.53 352.969 L1738.53 352.969  Z\n",
       "  \" fill=\"#009af9\" fill-rule=\"evenodd\" fill-opacity=\"1\"/>\n",
       "<polyline clip-path=\"url(#clip332)\" style=\"stroke:#000000; stroke-linecap:butt; stroke-linejoin:round; stroke-width:4; stroke-opacity:1; fill:none\" points=\"\n",
       "  1738.53,352.969 1738.53,1445.72 1842.75,1445.72 1842.75,352.969 1738.53,352.969 \n",
       "  \"/>\n",
       "<path clip-path=\"url(#clip332)\" d=\"\n",
       "M1868.81 498.71 L1868.81 1445.72 L1973.03 1445.72 L1973.03 498.71 L1868.81 498.71 L1868.81 498.71  Z\n",
       "  \" fill=\"#009af9\" fill-rule=\"evenodd\" fill-opacity=\"1\"/>\n",
       "<polyline clip-path=\"url(#clip332)\" style=\"stroke:#000000; stroke-linecap:butt; stroke-linejoin:round; stroke-width:4; stroke-opacity:1; fill:none\" points=\"\n",
       "  1868.81,498.71 1868.81,1445.72 1973.03,1445.72 1973.03,498.71 1868.81,498.71 \n",
       "  \"/>\n",
       "<path clip-path=\"url(#clip332)\" d=\"\n",
       "M1999.09 437.122 L1999.09 1445.72 L2103.31 1445.72 L2103.31 437.122 L1999.09 437.122 L1999.09 437.122  Z\n",
       "  \" fill=\"#009af9\" fill-rule=\"evenodd\" fill-opacity=\"1\"/>\n",
       "<polyline clip-path=\"url(#clip332)\" style=\"stroke:#000000; stroke-linecap:butt; stroke-linejoin:round; stroke-width:4; stroke-opacity:1; fill:none\" points=\"\n",
       "  1999.09,437.122 1999.09,1445.72 2103.31,1445.72 2103.31,437.122 1999.09,437.122 \n",
       "  \"/>\n",
       "<path clip-path=\"url(#clip332)\" d=\"\n",
       "M2129.37 1380.83 L2129.37 1445.72 L2233.6 1445.72 L2233.6 1380.83 L2129.37 1380.83 L2129.37 1380.83  Z\n",
       "  \" fill=\"#009af9\" fill-rule=\"evenodd\" fill-opacity=\"1\"/>\n",
       "<polyline clip-path=\"url(#clip332)\" style=\"stroke:#000000; stroke-linecap:butt; stroke-linejoin:round; stroke-width:4; stroke-opacity:1; fill:none\" points=\"\n",
       "  2129.37,1380.83 2129.37,1445.72 2233.6,1445.72 2233.6,1380.83 2129.37,1380.83 \n",
       "  \"/>\n",
       "<circle clip-path=\"url(#clip332)\" style=\"fill:#009af9; stroke:none; fill-opacity:0\" cx=\"357.547\" cy=\"726.13\" r=\"2\"/>\n",
       "<circle clip-path=\"url(#clip332)\" style=\"fill:#009af9; stroke:none; fill-opacity:0\" cx=\"487.828\" cy=\"1062.65\" r=\"2\"/>\n",
       "<circle clip-path=\"url(#clip332)\" style=\"fill:#009af9; stroke:none; fill-opacity:0\" cx=\"618.109\" cy=\"87.9763\" r=\"2\"/>\n",
       "<circle clip-path=\"url(#clip332)\" style=\"fill:#009af9; stroke:none; fill-opacity:0\" cx=\"748.39\" cy=\"1329.84\" r=\"2\"/>\n",
       "<circle clip-path=\"url(#clip332)\" style=\"fill:#009af9; stroke:none; fill-opacity:0\" cx=\"878.671\" cy=\"1110.3\" r=\"2\"/>\n",
       "<circle clip-path=\"url(#clip332)\" style=\"fill:#009af9; stroke:none; fill-opacity:0\" cx=\"1008.95\" cy=\"362.265\" r=\"2\"/>\n",
       "<circle clip-path=\"url(#clip332)\" style=\"fill:#009af9; stroke:none; fill-opacity:0\" cx=\"1139.23\" cy=\"1208.53\" r=\"2\"/>\n",
       "<circle clip-path=\"url(#clip332)\" style=\"fill:#009af9; stroke:none; fill-opacity:0\" cx=\"1269.51\" cy=\"689.086\" r=\"2\"/>\n",
       "<circle clip-path=\"url(#clip332)\" style=\"fill:#009af9; stroke:none; fill-opacity:0\" cx=\"1399.8\" cy=\"1114.69\" r=\"2\"/>\n",
       "<circle clip-path=\"url(#clip332)\" style=\"fill:#009af9; stroke:none; fill-opacity:0\" cx=\"1530.08\" cy=\"793.753\" r=\"2\"/>\n",
       "<circle clip-path=\"url(#clip332)\" style=\"fill:#009af9; stroke:none; fill-opacity:0\" cx=\"1660.36\" cy=\"1296.05\" r=\"2\"/>\n",
       "<circle clip-path=\"url(#clip332)\" style=\"fill:#009af9; stroke:none; fill-opacity:0\" cx=\"1790.64\" cy=\"352.969\" r=\"2\"/>\n",
       "<circle clip-path=\"url(#clip332)\" style=\"fill:#009af9; stroke:none; fill-opacity:0\" cx=\"1920.92\" cy=\"498.71\" r=\"2\"/>\n",
       "<circle clip-path=\"url(#clip332)\" style=\"fill:#009af9; stroke:none; fill-opacity:0\" cx=\"2051.2\" cy=\"437.122\" r=\"2\"/>\n",
       "<circle clip-path=\"url(#clip332)\" style=\"fill:#009af9; stroke:none; fill-opacity:0\" cx=\"2181.48\" cy=\"1380.83\" r=\"2\"/>\n",
       "<path clip-path=\"url(#clip330)\" d=\"\n",
       "M1987.39 198.898 L2280.54 198.898 L2280.54 95.2176 L1987.39 95.2176  Z\n",
       "  \" fill=\"#ffffff\" fill-rule=\"evenodd\" fill-opacity=\"1\"/>\n",
       "<polyline clip-path=\"url(#clip330)\" style=\"stroke:#000000; stroke-linecap:butt; stroke-linejoin:round; stroke-width:4; stroke-opacity:1; fill:none\" points=\"\n",
       "  1987.39,198.898 2280.54,198.898 2280.54,95.2176 1987.39,95.2176 1987.39,198.898 \n",
       "  \"/>\n",
       "<path clip-path=\"url(#clip330)\" d=\"\n",
       "M2011.46 167.794 L2155.89 167.794 L2155.89 126.322 L2011.46 126.322 L2011.46 167.794  Z\n",
       "  \" fill=\"#009af9\" fill-rule=\"evenodd\" fill-opacity=\"1\"/>\n",
       "<polyline clip-path=\"url(#clip330)\" style=\"stroke:#000000; stroke-linecap:butt; stroke-linejoin:round; stroke-width:4; stroke-opacity:1; fill:none\" points=\"\n",
       "  2011.46,167.794 2155.89,167.794 2155.89,126.322 2011.46,126.322 2011.46,167.794 \n",
       "  \"/>\n",
       "<path clip-path=\"url(#clip330)\" d=\"M2193.81 166.745 Q2192 171.375 2190.29 172.787 Q2188.58 174.199 2185.71 174.199 L2182.3 174.199 L2182.3 170.634 L2184.8 170.634 Q2186.56 170.634 2187.53 169.8 Q2188.51 168.967 2189.69 165.865 L2190.45 163.921 L2179.97 138.412 L2184.48 138.412 L2192.58 158.689 L2200.68 138.412 L2205.2 138.412 L2193.81 166.745 Z\" fill=\"#000000\" fill-rule=\"evenodd\" fill-opacity=\"1\" /><path clip-path=\"url(#clip330)\" d=\"M2212.49 160.402 L2220.13 160.402 L2220.13 134.037 L2211.82 135.703 L2211.82 131.444 L2220.08 129.778 L2224.76 129.778 L2224.76 160.402 L2232.4 160.402 L2232.4 164.338 L2212.49 164.338 L2212.49 160.402 Z\" fill=\"#000000\" fill-rule=\"evenodd\" fill-opacity=\"1\" /></svg>\n"
      ]
     },
     "execution_count": 24,
     "metadata": {},
     "output_type": "execute_result"
    }
   ],
   "source": [
    "bar(x,y)"
   ]
  },
  {
   "cell_type": "code",
   "execution_count": 25,
   "metadata": {},
   "outputs": [
    {
     "data": {
      "image/svg+xml": [
       "<?xml version=\"1.0\" encoding=\"utf-8\"?>\n",
       "<svg xmlns=\"http://www.w3.org/2000/svg\" xmlns:xlink=\"http://www.w3.org/1999/xlink\" width=\"600\" height=\"400\" viewBox=\"0 0 2400 1600\">\n",
       "<defs>\n",
       "  <clipPath id=\"clip370\">\n",
       "    <rect x=\"0\" y=\"0\" width=\"2400\" height=\"1600\"/>\n",
       "  </clipPath>\n",
       "</defs>\n",
       "<path clip-path=\"url(#clip370)\" d=\"\n",
       "M0 1600 L2400 1600 L2400 0 L0 0  Z\n",
       "  \" fill=\"#ffffff\" fill-rule=\"evenodd\" fill-opacity=\"1\"/>\n",
       "<defs>\n",
       "  <clipPath id=\"clip371\">\n",
       "    <rect x=\"480\" y=\"0\" width=\"1681\" height=\"1600\"/>\n",
       "  </clipPath>\n",
       "</defs>\n",
       "<path clip-path=\"url(#clip370)\" d=\"\n",
       "M112.177 1486.45 L2352.76 1486.45 L2352.76 47.2441 L112.177 47.2441  Z\n",
       "  \" fill=\"#ffffff\" fill-rule=\"evenodd\" fill-opacity=\"1\"/>\n",
       "<defs>\n",
       "  <clipPath id=\"clip372\">\n",
       "    <rect x=\"112\" y=\"47\" width=\"2242\" height=\"1440\"/>\n",
       "  </clipPath>\n",
       "</defs>\n",
       "<polyline clip-path=\"url(#clip372)\" style=\"stroke:#000000; stroke-linecap:butt; stroke-linejoin:round; stroke-width:2; stroke-opacity:0.1; fill:none\" points=\"\n",
       "  235.413,1486.45 235.413,47.2441 \n",
       "  \"/>\n",
       "<polyline clip-path=\"url(#clip372)\" style=\"stroke:#000000; stroke-linecap:butt; stroke-linejoin:round; stroke-width:2; stroke-opacity:0.1; fill:none\" points=\"\n",
       "  733.94,1486.45 733.94,47.2441 \n",
       "  \"/>\n",
       "<polyline clip-path=\"url(#clip372)\" style=\"stroke:#000000; stroke-linecap:butt; stroke-linejoin:round; stroke-width:2; stroke-opacity:0.1; fill:none\" points=\"\n",
       "  1232.47,1486.45 1232.47,47.2441 \n",
       "  \"/>\n",
       "<polyline clip-path=\"url(#clip372)\" style=\"stroke:#000000; stroke-linecap:butt; stroke-linejoin:round; stroke-width:2; stroke-opacity:0.1; fill:none\" points=\"\n",
       "  1730.99,1486.45 1730.99,47.2441 \n",
       "  \"/>\n",
       "<polyline clip-path=\"url(#clip372)\" style=\"stroke:#000000; stroke-linecap:butt; stroke-linejoin:round; stroke-width:2; stroke-opacity:0.1; fill:none\" points=\"\n",
       "  2229.52,1486.45 2229.52,47.2441 \n",
       "  \"/>\n",
       "<polyline clip-path=\"url(#clip370)\" style=\"stroke:#000000; stroke-linecap:butt; stroke-linejoin:round; stroke-width:4; stroke-opacity:1; fill:none\" points=\"\n",
       "  112.177,1486.45 2352.76,1486.45 \n",
       "  \"/>\n",
       "<polyline clip-path=\"url(#clip370)\" style=\"stroke:#000000; stroke-linecap:butt; stroke-linejoin:round; stroke-width:4; stroke-opacity:1; fill:none\" points=\"\n",
       "  235.413,1486.45 235.413,1467.55 \n",
       "  \"/>\n",
       "<polyline clip-path=\"url(#clip370)\" style=\"stroke:#000000; stroke-linecap:butt; stroke-linejoin:round; stroke-width:4; stroke-opacity:1; fill:none\" points=\"\n",
       "  733.94,1486.45 733.94,1467.55 \n",
       "  \"/>\n",
       "<polyline clip-path=\"url(#clip370)\" style=\"stroke:#000000; stroke-linecap:butt; stroke-linejoin:round; stroke-width:4; stroke-opacity:1; fill:none\" points=\"\n",
       "  1232.47,1486.45 1232.47,1467.55 \n",
       "  \"/>\n",
       "<polyline clip-path=\"url(#clip370)\" style=\"stroke:#000000; stroke-linecap:butt; stroke-linejoin:round; stroke-width:4; stroke-opacity:1; fill:none\" points=\"\n",
       "  1730.99,1486.45 1730.99,1467.55 \n",
       "  \"/>\n",
       "<polyline clip-path=\"url(#clip370)\" style=\"stroke:#000000; stroke-linecap:butt; stroke-linejoin:round; stroke-width:4; stroke-opacity:1; fill:none\" points=\"\n",
       "  2229.52,1486.45 2229.52,1467.55 \n",
       "  \"/>\n",
       "<path clip-path=\"url(#clip370)\" d=\"M197.716 1517.37 Q194.105 1517.37 192.277 1520.93 Q190.471 1524.47 190.471 1531.6 Q190.471 1538.71 192.277 1542.27 Q194.105 1545.82 197.716 1545.82 Q201.351 1545.82 203.156 1542.27 Q204.985 1538.71 204.985 1531.6 Q204.985 1524.47 203.156 1520.93 Q201.351 1517.37 197.716 1517.37 M197.716 1513.66 Q203.527 1513.66 206.582 1518.27 Q209.661 1522.85 209.661 1531.6 Q209.661 1540.33 206.582 1544.94 Q203.527 1549.52 197.716 1549.52 Q191.906 1549.52 188.828 1544.94 Q185.772 1540.33 185.772 1531.6 Q185.772 1522.85 188.828 1518.27 Q191.906 1513.66 197.716 1513.66 Z\" fill=\"#000000\" fill-rule=\"evenodd\" fill-opacity=\"1\" /><path clip-path=\"url(#clip370)\" d=\"M217.878 1542.97 L222.763 1542.97 L222.763 1548.85 L217.878 1548.85 L217.878 1542.97 Z\" fill=\"#000000\" fill-rule=\"evenodd\" fill-opacity=\"1\" /><path clip-path=\"url(#clip370)\" d=\"M242.948 1517.37 Q239.337 1517.37 237.508 1520.93 Q235.702 1524.47 235.702 1531.6 Q235.702 1538.71 237.508 1542.27 Q239.337 1545.82 242.948 1545.82 Q246.582 1545.82 248.387 1542.27 Q250.216 1538.71 250.216 1531.6 Q250.216 1524.47 248.387 1520.93 Q246.582 1517.37 242.948 1517.37 M242.948 1513.66 Q248.758 1513.66 251.813 1518.27 Q254.892 1522.85 254.892 1531.6 Q254.892 1540.33 251.813 1544.94 Q248.758 1549.52 242.948 1549.52 Q237.138 1549.52 234.059 1544.94 Q231.003 1540.33 231.003 1531.6 Q231.003 1522.85 234.059 1518.27 Q237.138 1513.66 242.948 1513.66 Z\" fill=\"#000000\" fill-rule=\"evenodd\" fill-opacity=\"1\" /><path clip-path=\"url(#clip370)\" d=\"M273.11 1517.37 Q269.498 1517.37 267.67 1520.93 Q265.864 1524.47 265.864 1531.6 Q265.864 1538.71 267.67 1542.27 Q269.498 1545.82 273.11 1545.82 Q276.744 1545.82 278.549 1542.27 Q280.378 1538.71 280.378 1531.6 Q280.378 1524.47 278.549 1520.93 Q276.744 1517.37 273.11 1517.37 M273.11 1513.66 Q278.92 1513.66 281.975 1518.27 Q285.054 1522.85 285.054 1531.6 Q285.054 1540.33 281.975 1544.94 Q278.92 1549.52 273.11 1549.52 Q267.299 1549.52 264.221 1544.94 Q261.165 1540.33 261.165 1531.6 Q261.165 1522.85 264.221 1518.27 Q267.299 1513.66 273.11 1513.66 Z\" fill=\"#000000\" fill-rule=\"evenodd\" fill-opacity=\"1\" /><path clip-path=\"url(#clip370)\" d=\"M696.741 1517.37 Q693.13 1517.37 691.301 1520.93 Q689.496 1524.47 689.496 1531.6 Q689.496 1538.71 691.301 1542.27 Q693.13 1545.82 696.741 1545.82 Q700.375 1545.82 702.181 1542.27 Q704.009 1538.71 704.009 1531.6 Q704.009 1524.47 702.181 1520.93 Q700.375 1517.37 696.741 1517.37 M696.741 1513.66 Q702.551 1513.66 705.607 1518.27 Q708.685 1522.85 708.685 1531.6 Q708.685 1540.33 705.607 1544.94 Q702.551 1549.52 696.741 1549.52 Q690.931 1549.52 687.852 1544.94 Q684.797 1540.33 684.797 1531.6 Q684.797 1522.85 687.852 1518.27 Q690.931 1513.66 696.741 1513.66 Z\" fill=\"#000000\" fill-rule=\"evenodd\" fill-opacity=\"1\" /><path clip-path=\"url(#clip370)\" d=\"M716.903 1542.97 L721.787 1542.97 L721.787 1548.85 L716.903 1548.85 L716.903 1542.97 Z\" fill=\"#000000\" fill-rule=\"evenodd\" fill-opacity=\"1\" /><path clip-path=\"url(#clip370)\" d=\"M736 1544.91 L752.319 1544.91 L752.319 1548.85 L730.375 1548.85 L730.375 1544.91 Q733.037 1542.16 737.62 1537.53 Q742.227 1532.88 743.407 1531.53 Q745.653 1529.01 746.532 1527.27 Q747.435 1525.51 747.435 1523.82 Q747.435 1521.07 745.491 1519.33 Q743.569 1517.6 740.468 1517.6 Q738.268 1517.6 735.815 1518.36 Q733.384 1519.13 730.606 1520.68 L730.606 1515.95 Q733.431 1514.82 735.884 1514.24 Q738.338 1513.66 740.375 1513.66 Q745.745 1513.66 748.94 1516.35 Q752.134 1519.03 752.134 1523.52 Q752.134 1525.65 751.324 1527.57 Q750.537 1529.47 748.43 1532.07 Q747.852 1532.74 744.75 1535.95 Q741.648 1539.15 736 1544.91 Z\" fill=\"#000000\" fill-rule=\"evenodd\" fill-opacity=\"1\" /><path clip-path=\"url(#clip370)\" d=\"M762.18 1514.29 L780.537 1514.29 L780.537 1518.22 L766.463 1518.22 L766.463 1526.7 Q767.481 1526.35 768.5 1526.19 Q769.518 1526 770.537 1526 Q776.324 1526 779.703 1529.17 Q783.083 1532.34 783.083 1537.76 Q783.083 1543.34 779.611 1546.44 Q776.139 1549.52 769.819 1549.52 Q767.643 1549.52 765.375 1549.15 Q763.129 1548.78 760.722 1548.04 L760.722 1543.34 Q762.805 1544.47 765.028 1545.03 Q767.25 1545.58 769.727 1545.58 Q773.731 1545.58 776.069 1543.48 Q778.407 1541.37 778.407 1537.76 Q778.407 1534.15 776.069 1532.04 Q773.731 1529.94 769.727 1529.94 Q767.852 1529.94 765.977 1530.35 Q764.125 1530.77 762.18 1531.65 L762.18 1514.29 Z\" fill=\"#000000\" fill-rule=\"evenodd\" fill-opacity=\"1\" /><path clip-path=\"url(#clip370)\" d=\"M1194.77 1517.37 Q1191.16 1517.37 1189.33 1520.93 Q1187.52 1524.47 1187.52 1531.6 Q1187.52 1538.71 1189.33 1542.27 Q1191.16 1545.82 1194.77 1545.82 Q1198.4 1545.82 1200.21 1542.27 Q1202.04 1538.71 1202.04 1531.6 Q1202.04 1524.47 1200.21 1520.93 Q1198.4 1517.37 1194.77 1517.37 M1194.77 1513.66 Q1200.58 1513.66 1203.64 1518.27 Q1206.71 1522.85 1206.71 1531.6 Q1206.71 1540.33 1203.64 1544.94 Q1200.58 1549.52 1194.77 1549.52 Q1188.96 1549.52 1185.88 1544.94 Q1182.83 1540.33 1182.83 1531.6 Q1182.83 1522.85 1185.88 1518.27 Q1188.96 1513.66 1194.77 1513.66 Z\" fill=\"#000000\" fill-rule=\"evenodd\" fill-opacity=\"1\" /><path clip-path=\"url(#clip370)\" d=\"M1214.93 1542.97 L1219.82 1542.97 L1219.82 1548.85 L1214.93 1548.85 L1214.93 1542.97 Z\" fill=\"#000000\" fill-rule=\"evenodd\" fill-opacity=\"1\" /><path clip-path=\"url(#clip370)\" d=\"M1230.05 1514.29 L1248.4 1514.29 L1248.4 1518.22 L1234.33 1518.22 L1234.33 1526.7 Q1235.35 1526.35 1236.37 1526.19 Q1237.39 1526 1238.4 1526 Q1244.19 1526 1247.57 1529.17 Q1250.95 1532.34 1250.95 1537.76 Q1250.95 1543.34 1247.48 1546.44 Q1244.01 1549.52 1237.69 1549.52 Q1235.51 1549.52 1233.24 1549.15 Q1231 1548.78 1228.59 1548.04 L1228.59 1543.34 Q1230.67 1544.47 1232.89 1545.03 Q1235.12 1545.58 1237.59 1545.58 Q1241.6 1545.58 1243.94 1543.48 Q1246.27 1541.37 1246.27 1537.76 Q1246.27 1534.15 1243.94 1532.04 Q1241.6 1529.94 1237.59 1529.94 Q1235.72 1529.94 1233.84 1530.35 Q1231.99 1530.77 1230.05 1531.65 L1230.05 1514.29 Z\" fill=\"#000000\" fill-rule=\"evenodd\" fill-opacity=\"1\" /><path clip-path=\"url(#clip370)\" d=\"M1270.16 1517.37 Q1266.55 1517.37 1264.72 1520.93 Q1262.92 1524.47 1262.92 1531.6 Q1262.92 1538.71 1264.72 1542.27 Q1266.55 1545.82 1270.16 1545.82 Q1273.8 1545.82 1275.6 1542.27 Q1277.43 1538.71 1277.43 1531.6 Q1277.43 1524.47 1275.6 1520.93 Q1273.8 1517.37 1270.16 1517.37 M1270.16 1513.66 Q1275.97 1513.66 1279.03 1518.27 Q1282.11 1522.85 1282.11 1531.6 Q1282.11 1540.33 1279.03 1544.94 Q1275.97 1549.52 1270.16 1549.52 Q1264.35 1549.52 1261.27 1544.94 Q1258.22 1540.33 1258.22 1531.6 Q1258.22 1522.85 1261.27 1518.27 Q1264.35 1513.66 1270.16 1513.66 Z\" fill=\"#000000\" fill-rule=\"evenodd\" fill-opacity=\"1\" /><path clip-path=\"url(#clip370)\" d=\"M1693.79 1517.37 Q1690.18 1517.37 1688.35 1520.93 Q1686.55 1524.47 1686.55 1531.6 Q1686.55 1538.71 1688.35 1542.27 Q1690.18 1545.82 1693.79 1545.82 Q1697.43 1545.82 1699.23 1542.27 Q1701.06 1538.71 1701.06 1531.6 Q1701.06 1524.47 1699.23 1520.93 Q1697.43 1517.37 1693.79 1517.37 M1693.79 1513.66 Q1699.6 1513.66 1702.66 1518.27 Q1705.74 1522.85 1705.74 1531.6 Q1705.74 1540.33 1702.66 1544.94 Q1699.6 1549.52 1693.79 1549.52 Q1687.98 1549.52 1684.91 1544.94 Q1681.85 1540.33 1681.85 1531.6 Q1681.85 1522.85 1684.91 1518.27 Q1687.98 1513.66 1693.79 1513.66 Z\" fill=\"#000000\" fill-rule=\"evenodd\" fill-opacity=\"1\" /><path clip-path=\"url(#clip370)\" d=\"M1713.96 1542.97 L1718.84 1542.97 L1718.84 1548.85 L1713.96 1548.85 L1713.96 1542.97 Z\" fill=\"#000000\" fill-rule=\"evenodd\" fill-opacity=\"1\" /><path clip-path=\"url(#clip370)\" d=\"M1727.85 1514.29 L1750.07 1514.29 L1750.07 1516.28 L1737.52 1548.85 L1732.64 1548.85 L1744.44 1518.22 L1727.85 1518.22 L1727.85 1514.29 Z\" fill=\"#000000\" fill-rule=\"evenodd\" fill-opacity=\"1\" /><path clip-path=\"url(#clip370)\" d=\"M1759.23 1514.29 L1777.59 1514.29 L1777.59 1518.22 L1763.52 1518.22 L1763.52 1526.7 Q1764.53 1526.35 1765.55 1526.19 Q1766.57 1526 1767.59 1526 Q1773.38 1526 1776.76 1529.17 Q1780.14 1532.34 1780.14 1537.76 Q1780.14 1543.34 1776.66 1546.44 Q1773.19 1549.52 1766.87 1549.52 Q1764.7 1549.52 1762.43 1549.15 Q1760.18 1548.78 1757.78 1548.04 L1757.78 1543.34 Q1759.86 1544.47 1762.08 1545.03 Q1764.3 1545.58 1766.78 1545.58 Q1770.78 1545.58 1773.12 1543.48 Q1775.46 1541.37 1775.46 1537.76 Q1775.46 1534.15 1773.12 1532.04 Q1770.78 1529.94 1766.78 1529.94 Q1764.91 1529.94 1763.03 1530.35 Q1761.18 1530.77 1759.23 1531.65 L1759.23 1514.29 Z\" fill=\"#000000\" fill-rule=\"evenodd\" fill-opacity=\"1\" /><path clip-path=\"url(#clip370)\" d=\"M2181.59 1544.91 L2189.23 1544.91 L2189.23 1518.55 L2180.92 1520.21 L2180.92 1515.95 L2189.18 1514.29 L2193.86 1514.29 L2193.86 1544.91 L2201.5 1544.91 L2201.5 1548.85 L2181.59 1548.85 L2181.59 1544.91 Z\" fill=\"#000000\" fill-rule=\"evenodd\" fill-opacity=\"1\" /><path clip-path=\"url(#clip370)\" d=\"M2210.94 1542.97 L2215.83 1542.97 L2215.83 1548.85 L2210.94 1548.85 L2210.94 1542.97 Z\" fill=\"#000000\" fill-rule=\"evenodd\" fill-opacity=\"1\" /><path clip-path=\"url(#clip370)\" d=\"M2236.01 1517.37 Q2232.4 1517.37 2230.57 1520.93 Q2228.77 1524.47 2228.77 1531.6 Q2228.77 1538.71 2230.57 1542.27 Q2232.4 1545.82 2236.01 1545.82 Q2239.65 1545.82 2241.45 1542.27 Q2243.28 1538.71 2243.28 1531.6 Q2243.28 1524.47 2241.45 1520.93 Q2239.65 1517.37 2236.01 1517.37 M2236.01 1513.66 Q2241.82 1513.66 2244.88 1518.27 Q2247.96 1522.85 2247.96 1531.6 Q2247.96 1540.33 2244.88 1544.94 Q2241.82 1549.52 2236.01 1549.52 Q2230.2 1549.52 2227.12 1544.94 Q2224.07 1540.33 2224.07 1531.6 Q2224.07 1522.85 2227.12 1518.27 Q2230.2 1513.66 2236.01 1513.66 Z\" fill=\"#000000\" fill-rule=\"evenodd\" fill-opacity=\"1\" /><path clip-path=\"url(#clip370)\" d=\"M2266.17 1517.37 Q2262.56 1517.37 2260.74 1520.93 Q2258.93 1524.47 2258.93 1531.6 Q2258.93 1538.71 2260.74 1542.27 Q2262.56 1545.82 2266.17 1545.82 Q2269.81 1545.82 2271.61 1542.27 Q2273.44 1538.71 2273.44 1531.6 Q2273.44 1524.47 2271.61 1520.93 Q2269.81 1517.37 2266.17 1517.37 M2266.17 1513.66 Q2271.99 1513.66 2275.04 1518.27 Q2278.12 1522.85 2278.12 1531.6 Q2278.12 1540.33 2275.04 1544.94 Q2271.99 1549.52 2266.17 1549.52 Q2260.36 1549.52 2257.29 1544.94 Q2254.23 1540.33 2254.23 1531.6 Q2254.23 1522.85 2257.29 1518.27 Q2260.36 1513.66 2266.17 1513.66 Z\" fill=\"#000000\" fill-rule=\"evenodd\" fill-opacity=\"1\" /><polyline clip-path=\"url(#clip372)\" style=\"stroke:#000000; stroke-linecap:butt; stroke-linejoin:round; stroke-width:2; stroke-opacity:0.1; fill:none\" points=\"\n",
       "  112.177,1445.72 2352.76,1445.72 \n",
       "  \"/>\n",
       "<polyline clip-path=\"url(#clip372)\" style=\"stroke:#000000; stroke-linecap:butt; stroke-linejoin:round; stroke-width:2; stroke-opacity:0.1; fill:none\" points=\"\n",
       "  112.177,1106.28 2352.76,1106.28 \n",
       "  \"/>\n",
       "<polyline clip-path=\"url(#clip372)\" style=\"stroke:#000000; stroke-linecap:butt; stroke-linejoin:round; stroke-width:2; stroke-opacity:0.1; fill:none\" points=\"\n",
       "  112.177,766.846 2352.76,766.846 \n",
       "  \"/>\n",
       "<polyline clip-path=\"url(#clip372)\" style=\"stroke:#000000; stroke-linecap:butt; stroke-linejoin:round; stroke-width:2; stroke-opacity:0.1; fill:none\" points=\"\n",
       "  112.177,427.411 2352.76,427.411 \n",
       "  \"/>\n",
       "<polyline clip-path=\"url(#clip372)\" style=\"stroke:#000000; stroke-linecap:butt; stroke-linejoin:round; stroke-width:2; stroke-opacity:0.1; fill:none\" points=\"\n",
       "  112.177,87.9763 2352.76,87.9763 \n",
       "  \"/>\n",
       "<polyline clip-path=\"url(#clip370)\" style=\"stroke:#000000; stroke-linecap:butt; stroke-linejoin:round; stroke-width:4; stroke-opacity:1; fill:none\" points=\"\n",
       "  112.177,1486.45 112.177,47.2441 \n",
       "  \"/>\n",
       "<polyline clip-path=\"url(#clip370)\" style=\"stroke:#000000; stroke-linecap:butt; stroke-linejoin:round; stroke-width:4; stroke-opacity:1; fill:none\" points=\"\n",
       "  112.177,1445.72 131.075,1445.72 \n",
       "  \"/>\n",
       "<polyline clip-path=\"url(#clip370)\" style=\"stroke:#000000; stroke-linecap:butt; stroke-linejoin:round; stroke-width:4; stroke-opacity:1; fill:none\" points=\"\n",
       "  112.177,1106.28 131.075,1106.28 \n",
       "  \"/>\n",
       "<polyline clip-path=\"url(#clip370)\" style=\"stroke:#000000; stroke-linecap:butt; stroke-linejoin:round; stroke-width:4; stroke-opacity:1; fill:none\" points=\"\n",
       "  112.177,766.846 131.075,766.846 \n",
       "  \"/>\n",
       "<polyline clip-path=\"url(#clip370)\" style=\"stroke:#000000; stroke-linecap:butt; stroke-linejoin:round; stroke-width:4; stroke-opacity:1; fill:none\" points=\"\n",
       "  112.177,427.411 131.075,427.411 \n",
       "  \"/>\n",
       "<polyline clip-path=\"url(#clip370)\" style=\"stroke:#000000; stroke-linecap:butt; stroke-linejoin:round; stroke-width:4; stroke-opacity:1; fill:none\" points=\"\n",
       "  112.177,87.9763 131.075,87.9763 \n",
       "  \"/>\n",
       "<path clip-path=\"url(#clip370)\" d=\"M64.2328 1431.51 Q60.6217 1431.51 58.793 1435.08 Q56.9875 1438.62 56.9875 1445.75 Q56.9875 1452.86 58.793 1456.42 Q60.6217 1459.96 64.2328 1459.96 Q67.867 1459.96 69.6726 1456.42 Q71.5013 1452.86 71.5013 1445.75 Q71.5013 1438.62 69.6726 1435.08 Q67.867 1431.51 64.2328 1431.51 M64.2328 1427.81 Q70.0429 1427.81 73.0985 1432.42 Q76.1772 1437 76.1772 1445.75 Q76.1772 1454.48 73.0985 1459.08 Q70.0429 1463.67 64.2328 1463.67 Q58.4226 1463.67 55.344 1459.08 Q52.2884 1454.48 52.2884 1445.75 Q52.2884 1437 55.344 1432.42 Q58.4226 1427.81 64.2328 1427.81 Z\" fill=\"#000000\" fill-rule=\"evenodd\" fill-opacity=\"1\" /><path clip-path=\"url(#clip370)\" d=\"M59.8578 1119.63 L76.1772 1119.63 L76.1772 1123.56 L54.2328 1123.56 L54.2328 1119.63 Q56.8949 1116.87 61.4782 1112.24 Q66.0846 1107.59 67.2652 1106.25 Q69.5105 1103.72 70.3902 1101.99 Q71.2929 1100.23 71.2929 1098.54 Q71.2929 1095.78 69.3485 1094.05 Q67.4272 1092.31 64.3254 1092.31 Q62.1263 1092.31 59.6726 1093.07 Q57.2421 1093.84 54.4643 1095.39 L54.4643 1090.67 Q57.2884 1089.53 59.7421 1088.95 Q62.1958 1088.38 64.2328 1088.38 Q69.6031 1088.38 72.7976 1091.06 Q75.992 1093.75 75.992 1098.24 Q75.992 1100.37 75.1818 1102.29 Q74.3948 1104.19 72.2883 1106.78 Q71.7096 1107.45 68.6078 1110.67 Q65.5059 1113.86 59.8578 1119.63 Z\" fill=\"#000000\" fill-rule=\"evenodd\" fill-opacity=\"1\" /><path clip-path=\"url(#clip370)\" d=\"M66.5939 753.64 L54.7884 772.089 L66.5939 772.089 L66.5939 753.64 M65.367 749.566 L71.2466 749.566 L71.2466 772.089 L76.1772 772.089 L76.1772 775.978 L71.2466 775.978 L71.2466 784.126 L66.5939 784.126 L66.5939 775.978 L50.9921 775.978 L50.9921 771.464 L65.367 749.566 Z\" fill=\"#000000\" fill-rule=\"evenodd\" fill-opacity=\"1\" /><path clip-path=\"url(#clip370)\" d=\"M64.6495 425.548 Q61.5013 425.548 59.6495 427.7 Q57.8208 429.853 57.8208 433.603 Q57.8208 437.33 59.6495 439.506 Q61.5013 441.659 64.6495 441.659 Q67.7976 441.659 69.6263 439.506 Q71.4781 437.33 71.4781 433.603 Q71.4781 429.853 69.6263 427.7 Q67.7976 425.548 64.6495 425.548 M73.9318 410.895 L73.9318 415.154 Q72.1726 414.321 70.367 413.881 Q68.5846 413.441 66.8254 413.441 Q62.1958 413.441 59.7421 416.566 Q57.3115 419.691 56.9643 426.011 Q58.33 423.997 60.3902 422.932 Q62.4504 421.844 64.9272 421.844 Q70.1355 421.844 73.1448 425.015 Q76.1772 428.163 76.1772 433.603 Q76.1772 438.927 73.029 442.145 Q69.8809 445.362 64.6495 445.362 Q58.6541 445.362 55.4828 440.779 Q52.3116 436.173 52.3116 427.446 Q52.3116 419.251 56.2004 414.39 Q60.0893 409.506 66.6402 409.506 Q68.3994 409.506 70.1818 409.853 Q71.9874 410.201 73.9318 410.895 Z\" fill=\"#000000\" fill-rule=\"evenodd\" fill-opacity=\"1\" /><path clip-path=\"url(#clip370)\" d=\"M64.3254 88.8443 Q60.9921 88.8443 59.0708 90.6267 Q57.1726 92.4091 57.1726 95.5341 Q57.1726 98.6591 59.0708 100.441 Q60.9921 102.224 64.3254 102.224 Q67.6587 102.224 69.58 100.441 Q71.5013 98.6359 71.5013 95.5341 Q71.5013 92.4091 69.58 90.6267 Q67.6819 88.8443 64.3254 88.8443 M59.6495 86.8536 Q56.6402 86.1129 54.9504 84.0527 Q53.2838 81.9925 53.2838 79.0296 Q53.2838 74.8861 56.2236 72.4787 Q59.1865 70.0713 64.3254 70.0713 Q69.4874 70.0713 72.4272 72.4787 Q75.367 74.8861 75.367 79.0296 Q75.367 81.9925 73.6772 84.0527 Q72.0105 86.1129 69.0244 86.8536 Q72.404 87.6406 74.279 89.9323 Q76.1772 92.2239 76.1772 95.5341 Q76.1772 100.557 73.0985 103.242 Q70.0429 105.928 64.3254 105.928 Q58.6078 105.928 55.5291 103.242 Q52.4736 100.557 52.4736 95.5341 Q52.4736 92.2239 54.3717 89.9323 Q56.2699 87.6406 59.6495 86.8536 M57.9365 79.4694 Q57.9365 82.1545 59.6032 83.6592 Q61.293 85.1638 64.3254 85.1638 Q67.3346 85.1638 69.0244 83.6592 Q70.7374 82.1545 70.7374 79.4694 Q70.7374 76.7842 69.0244 75.2796 Q67.3346 73.775 64.3254 73.775 Q61.293 73.775 59.6032 75.2796 Q57.9365 76.7842 57.9365 79.4694 Z\" fill=\"#000000\" fill-rule=\"evenodd\" fill-opacity=\"1\" /><path clip-path=\"url(#clip372)\" d=\"\n",
       "M235.413 87.9763 L235.413 1445.72 L1232.47 1445.72 L1232.47 87.9763 L235.413 87.9763 L235.413 87.9763  Z\n",
       "  \" fill=\"#009af9\" fill-rule=\"evenodd\" fill-opacity=\"1\"/>\n",
       "<polyline clip-path=\"url(#clip372)\" style=\"stroke:#000000; stroke-linecap:butt; stroke-linejoin:round; stroke-width:4; stroke-opacity:1; fill:none\" points=\"\n",
       "  235.413,87.9763 235.413,1445.72 1232.47,1445.72 1232.47,87.9763 235.413,87.9763 \n",
       "  \"/>\n",
       "<path clip-path=\"url(#clip372)\" d=\"\n",
       "M1232.47 257.694 L1232.47 1445.72 L2229.52 1445.72 L2229.52 257.694 L1232.47 257.694 L1232.47 257.694  Z\n",
       "  \" fill=\"#009af9\" fill-rule=\"evenodd\" fill-opacity=\"1\"/>\n",
       "<polyline clip-path=\"url(#clip372)\" style=\"stroke:#000000; stroke-linecap:butt; stroke-linejoin:round; stroke-width:4; stroke-opacity:1; fill:none\" points=\"\n",
       "  1232.47,257.694 1232.47,1445.72 2229.52,1445.72 2229.52,257.694 1232.47,257.694 \n",
       "  \"/>\n",
       "<circle clip-path=\"url(#clip372)\" style=\"fill:#009af9; stroke:none; fill-opacity:0\" cx=\"733.94\" cy=\"87.9763\" r=\"2\"/>\n",
       "<circle clip-path=\"url(#clip372)\" style=\"fill:#009af9; stroke:none; fill-opacity:0\" cx=\"1730.99\" cy=\"257.694\" r=\"2\"/>\n",
       "<path clip-path=\"url(#clip370)\" d=\"\n",
       "M1976.69 198.898 L2278.07 198.898 L2278.07 95.2176 L1976.69 95.2176  Z\n",
       "  \" fill=\"#ffffff\" fill-rule=\"evenodd\" fill-opacity=\"1\"/>\n",
       "<polyline clip-path=\"url(#clip370)\" style=\"stroke:#000000; stroke-linecap:butt; stroke-linejoin:round; stroke-width:4; stroke-opacity:1; fill:none\" points=\"\n",
       "  1976.69,198.898 2278.07,198.898 2278.07,95.2176 1976.69,95.2176 1976.69,198.898 \n",
       "  \"/>\n",
       "<path clip-path=\"url(#clip370)\" d=\"\n",
       "M2001.58 167.794 L2150.95 167.794 L2150.95 126.322 L2001.58 126.322 L2001.58 167.794  Z\n",
       "  \" fill=\"#009af9\" fill-rule=\"evenodd\" fill-opacity=\"1\"/>\n",
       "<polyline clip-path=\"url(#clip370)\" style=\"stroke:#000000; stroke-linecap:butt; stroke-linejoin:round; stroke-width:4; stroke-opacity:1; fill:none\" points=\"\n",
       "  2001.58,167.794 2150.95,167.794 2150.95,126.322 2001.58,126.322 2001.58,167.794 \n",
       "  \"/>\n",
       "<path clip-path=\"url(#clip370)\" d=\"M2189.69 166.745 Q2187.89 171.375 2186.17 172.787 Q2184.46 174.199 2181.59 174.199 L2178.19 174.199 L2178.19 170.634 L2180.69 170.634 Q2182.45 170.634 2183.42 169.8 Q2184.39 168.967 2185.57 165.865 L2186.34 163.921 L2175.85 138.412 L2180.36 138.412 L2188.46 158.689 L2196.57 138.412 L2201.08 138.412 L2189.69 166.745 Z\" fill=\"#000000\" fill-rule=\"evenodd\" fill-opacity=\"1\" /><path clip-path=\"url(#clip370)\" d=\"M2208.37 160.402 L2216.01 160.402 L2216.01 134.037 L2207.7 135.703 L2207.7 131.444 L2215.96 129.778 L2220.64 129.778 L2220.64 160.402 L2228.28 160.402 L2228.28 164.338 L2208.37 164.338 L2208.37 160.402 Z\" fill=\"#000000\" fill-rule=\"evenodd\" fill-opacity=\"1\" /></svg>\n"
      ]
     },
     "execution_count": 25,
     "metadata": {},
     "output_type": "execute_result"
    }
   ],
   "source": [
    "histogram(y)"
   ]
  },
  {
   "cell_type": "code",
   "execution_count": 27,
   "metadata": {},
   "outputs": [
    {
     "data": {
      "image/svg+xml": [
       "<?xml version=\"1.0\" encoding=\"utf-8\"?>\n",
       "<svg xmlns=\"http://www.w3.org/2000/svg\" xmlns:xlink=\"http://www.w3.org/1999/xlink\" width=\"600\" height=\"400\" viewBox=\"0 0 2400 1600\">\n",
       "<defs>\n",
       "  <clipPath id=\"clip410\">\n",
       "    <rect x=\"0\" y=\"0\" width=\"2400\" height=\"1600\"/>\n",
       "  </clipPath>\n",
       "</defs>\n",
       "<path clip-path=\"url(#clip410)\" d=\"\n",
       "M0 1600 L2400 1600 L2400 0 L0 0  Z\n",
       "  \" fill=\"#ffffff\" fill-rule=\"evenodd\" fill-opacity=\"1\"/>\n",
       "<defs>\n",
       "  <clipPath id=\"clip411\">\n",
       "    <rect x=\"480\" y=\"0\" width=\"1681\" height=\"1600\"/>\n",
       "  </clipPath>\n",
       "</defs>\n",
       "<path clip-path=\"url(#clip410)\" d=\"\n",
       "M186.274 686.448 L1167.59 686.448 L1167.59 47.2441 L186.274 47.2441  Z\n",
       "  \" fill=\"#ffffff\" fill-rule=\"evenodd\" fill-opacity=\"1\"/>\n",
       "<defs>\n",
       "  <clipPath id=\"clip412\">\n",
       "    <rect x=\"186\" y=\"47\" width=\"982\" height=\"640\"/>\n",
       "  </clipPath>\n",
       "</defs>\n",
       "<polyline clip-path=\"url(#clip412)\" style=\"stroke:#000000; stroke-linecap:butt; stroke-linejoin:round; stroke-width:2; stroke-opacity:0.1; fill:none\" points=\"\n",
       "  280.174,686.448 280.174,47.2441 \n",
       "  \"/>\n",
       "<polyline clip-path=\"url(#clip412)\" style=\"stroke:#000000; stroke-linecap:butt; stroke-linejoin:round; stroke-width:2; stroke-opacity:0.1; fill:none\" points=\"\n",
       "  412.427,686.448 412.427,47.2441 \n",
       "  \"/>\n",
       "<polyline clip-path=\"url(#clip412)\" style=\"stroke:#000000; stroke-linecap:butt; stroke-linejoin:round; stroke-width:2; stroke-opacity:0.1; fill:none\" points=\"\n",
       "  544.681,686.448 544.681,47.2441 \n",
       "  \"/>\n",
       "<polyline clip-path=\"url(#clip412)\" style=\"stroke:#000000; stroke-linecap:butt; stroke-linejoin:round; stroke-width:2; stroke-opacity:0.1; fill:none\" points=\"\n",
       "  676.934,686.448 676.934,47.2441 \n",
       "  \"/>\n",
       "<polyline clip-path=\"url(#clip412)\" style=\"stroke:#000000; stroke-linecap:butt; stroke-linejoin:round; stroke-width:2; stroke-opacity:0.1; fill:none\" points=\"\n",
       "  809.187,686.448 809.187,47.2441 \n",
       "  \"/>\n",
       "<polyline clip-path=\"url(#clip412)\" style=\"stroke:#000000; stroke-linecap:butt; stroke-linejoin:round; stroke-width:2; stroke-opacity:0.1; fill:none\" points=\"\n",
       "  941.441,686.448 941.441,47.2441 \n",
       "  \"/>\n",
       "<polyline clip-path=\"url(#clip412)\" style=\"stroke:#000000; stroke-linecap:butt; stroke-linejoin:round; stroke-width:2; stroke-opacity:0.1; fill:none\" points=\"\n",
       "  1073.69,686.448 1073.69,47.2441 \n",
       "  \"/>\n",
       "<polyline clip-path=\"url(#clip410)\" style=\"stroke:#000000; stroke-linecap:butt; stroke-linejoin:round; stroke-width:4; stroke-opacity:1; fill:none\" points=\"\n",
       "  186.274,686.448 1167.59,686.448 \n",
       "  \"/>\n",
       "<polyline clip-path=\"url(#clip410)\" style=\"stroke:#000000; stroke-linecap:butt; stroke-linejoin:round; stroke-width:4; stroke-opacity:1; fill:none\" points=\"\n",
       "  280.174,686.448 280.174,667.55 \n",
       "  \"/>\n",
       "<polyline clip-path=\"url(#clip410)\" style=\"stroke:#000000; stroke-linecap:butt; stroke-linejoin:round; stroke-width:4; stroke-opacity:1; fill:none\" points=\"\n",
       "  412.427,686.448 412.427,667.55 \n",
       "  \"/>\n",
       "<polyline clip-path=\"url(#clip410)\" style=\"stroke:#000000; stroke-linecap:butt; stroke-linejoin:round; stroke-width:4; stroke-opacity:1; fill:none\" points=\"\n",
       "  544.681,686.448 544.681,667.55 \n",
       "  \"/>\n",
       "<polyline clip-path=\"url(#clip410)\" style=\"stroke:#000000; stroke-linecap:butt; stroke-linejoin:round; stroke-width:4; stroke-opacity:1; fill:none\" points=\"\n",
       "  676.934,686.448 676.934,667.55 \n",
       "  \"/>\n",
       "<polyline clip-path=\"url(#clip410)\" style=\"stroke:#000000; stroke-linecap:butt; stroke-linejoin:round; stroke-width:4; stroke-opacity:1; fill:none\" points=\"\n",
       "  809.187,686.448 809.187,667.55 \n",
       "  \"/>\n",
       "<polyline clip-path=\"url(#clip410)\" style=\"stroke:#000000; stroke-linecap:butt; stroke-linejoin:round; stroke-width:4; stroke-opacity:1; fill:none\" points=\"\n",
       "  941.441,686.448 941.441,667.55 \n",
       "  \"/>\n",
       "<polyline clip-path=\"url(#clip410)\" style=\"stroke:#000000; stroke-linecap:butt; stroke-linejoin:round; stroke-width:4; stroke-opacity:1; fill:none\" points=\"\n",
       "  1073.69,686.448 1073.69,667.55 \n",
       "  \"/>\n",
       "<path clip-path=\"url(#clip410)\" d=\"M274.827 744.913 L291.146 744.913 L291.146 748.848 L269.202 748.848 L269.202 744.913 Q271.864 742.158 276.447 737.528 Q281.053 732.876 282.234 731.533 Q284.479 729.01 285.359 727.274 Q286.262 725.515 286.262 723.825 Q286.262 721.07 284.317 719.334 Q282.396 717.598 279.294 717.598 Q277.095 717.598 274.641 718.362 Q272.211 719.126 269.433 720.677 L269.433 715.955 Q272.257 714.82 274.711 714.242 Q277.165 713.663 279.202 713.663 Q284.572 713.663 287.766 716.348 Q290.961 719.033 290.961 723.524 Q290.961 725.654 290.151 727.575 Q289.364 729.473 287.257 732.066 Q286.678 732.737 283.577 735.954 Q280.475 739.149 274.827 744.913 Z\" fill=\"#000000\" fill-rule=\"evenodd\" fill-opacity=\"1\" /><path clip-path=\"url(#clip410)\" d=\"M415.436 718.362 L403.631 736.811 L415.436 736.811 L415.436 718.362 M414.21 714.288 L420.089 714.288 L420.089 736.811 L425.02 736.811 L425.02 740.7 L420.089 740.7 L420.089 748.848 L415.436 748.848 L415.436 740.7 L399.835 740.7 L399.835 736.186 L414.21 714.288 Z\" fill=\"#000000\" fill-rule=\"evenodd\" fill-opacity=\"1\" /><path clip-path=\"url(#clip410)\" d=\"M545.086 729.704 Q541.938 729.704 540.086 731.857 Q538.257 734.01 538.257 737.76 Q538.257 741.487 540.086 743.663 Q541.938 745.815 545.086 745.815 Q548.234 745.815 550.062 743.663 Q551.914 741.487 551.914 737.76 Q551.914 734.01 550.062 731.857 Q548.234 729.704 545.086 729.704 M554.368 715.052 L554.368 719.311 Q552.609 718.478 550.803 718.038 Q549.021 717.598 547.262 717.598 Q542.632 717.598 540.178 720.723 Q537.748 723.848 537.401 730.167 Q538.766 728.154 540.826 727.089 Q542.887 726.001 545.363 726.001 Q550.572 726.001 553.581 729.172 Q556.613 732.32 556.613 737.76 Q556.613 743.084 553.465 746.302 Q550.317 749.519 545.086 749.519 Q539.09 749.519 535.919 744.936 Q532.748 740.329 532.748 731.603 Q532.748 723.408 536.637 718.547 Q540.525 713.663 547.076 713.663 Q548.836 713.663 550.618 714.01 Q552.424 714.357 554.368 715.052 Z\" fill=\"#000000\" fill-rule=\"evenodd\" fill-opacity=\"1\" /><path clip-path=\"url(#clip410)\" d=\"M676.934 732.436 Q673.601 732.436 671.679 734.218 Q669.781 736.001 669.781 739.126 Q669.781 742.251 671.679 744.033 Q673.601 745.815 676.934 745.815 Q680.267 745.815 682.188 744.033 Q684.11 742.228 684.11 739.126 Q684.11 736.001 682.188 734.218 Q680.29 732.436 676.934 732.436 M672.258 730.445 Q669.249 729.704 667.559 727.644 Q665.892 725.584 665.892 722.621 Q665.892 718.478 668.832 716.07 Q671.795 713.663 676.934 713.663 Q682.096 713.663 685.036 716.07 Q687.976 718.478 687.976 722.621 Q687.976 725.584 686.286 727.644 Q684.619 729.704 681.633 730.445 Q685.013 731.232 686.888 733.524 Q688.786 735.816 688.786 739.126 Q688.786 744.149 685.707 746.834 Q682.651 749.519 676.934 749.519 Q671.216 749.519 668.138 746.834 Q665.082 744.149 665.082 739.126 Q665.082 735.816 666.98 733.524 Q668.878 731.232 672.258 730.445 M670.545 723.061 Q670.545 725.746 672.212 727.251 Q673.902 728.755 676.934 728.755 Q679.943 728.755 681.633 727.251 Q683.346 725.746 683.346 723.061 Q683.346 720.376 681.633 718.871 Q679.943 717.367 676.934 717.367 Q673.902 717.367 672.212 718.871 Q670.545 720.376 670.545 723.061 Z\" fill=\"#000000\" fill-rule=\"evenodd\" fill-opacity=\"1\" /><path clip-path=\"url(#clip410)\" d=\"M783.875 744.913 L791.514 744.913 L791.514 718.547 L783.204 720.214 L783.204 715.955 L791.467 714.288 L796.143 714.288 L796.143 744.913 L803.782 744.913 L803.782 748.848 L783.875 748.848 L783.875 744.913 Z\" fill=\"#000000\" fill-rule=\"evenodd\" fill-opacity=\"1\" /><path clip-path=\"url(#clip410)\" d=\"M823.227 717.367 Q819.615 717.367 817.787 720.931 Q815.981 724.473 815.981 731.603 Q815.981 738.709 817.787 742.274 Q819.615 745.815 823.227 745.815 Q826.861 745.815 828.666 742.274 Q830.495 738.709 830.495 731.603 Q830.495 724.473 828.666 720.931 Q826.861 717.367 823.227 717.367 M823.227 713.663 Q829.037 713.663 832.092 718.269 Q835.171 722.853 835.171 731.603 Q835.171 740.329 832.092 744.936 Q829.037 749.519 823.227 749.519 Q817.416 749.519 814.338 744.936 Q811.282 740.329 811.282 731.603 Q811.282 722.853 814.338 718.269 Q817.416 713.663 823.227 713.663 Z\" fill=\"#000000\" fill-rule=\"evenodd\" fill-opacity=\"1\" /><path clip-path=\"url(#clip410)\" d=\"M916.927 744.913 L924.566 744.913 L924.566 718.547 L916.256 720.214 L916.256 715.955 L924.519 714.288 L929.195 714.288 L929.195 744.913 L936.834 744.913 L936.834 748.848 L916.927 748.848 L916.927 744.913 Z\" fill=\"#000000\" fill-rule=\"evenodd\" fill-opacity=\"1\" /><path clip-path=\"url(#clip410)\" d=\"M950.306 744.913 L966.626 744.913 L966.626 748.848 L944.681 748.848 L944.681 744.913 Q947.343 742.158 951.927 737.528 Q956.533 732.876 957.714 731.533 Q959.959 729.01 960.839 727.274 Q961.741 725.515 961.741 723.825 Q961.741 721.07 959.797 719.334 Q957.876 717.598 954.774 717.598 Q952.575 717.598 950.121 718.362 Q947.691 719.126 944.913 720.677 L944.913 715.955 Q947.737 714.82 950.191 714.242 Q952.644 713.663 954.681 713.663 Q960.052 713.663 963.246 716.348 Q966.44 719.033 966.44 723.524 Q966.44 725.654 965.63 727.575 Q964.843 729.473 962.737 732.066 Q962.158 732.737 959.056 735.954 Q955.954 739.149 950.306 744.913 Z\" fill=\"#000000\" fill-rule=\"evenodd\" fill-opacity=\"1\" /><path clip-path=\"url(#clip410)\" d=\"M1048.14 744.913 L1055.78 744.913 L1055.78 718.547 L1047.47 720.214 L1047.47 715.955 L1055.73 714.288 L1060.41 714.288 L1060.41 744.913 L1068.05 744.913 L1068.05 748.848 L1048.14 748.848 L1048.14 744.913 Z\" fill=\"#000000\" fill-rule=\"evenodd\" fill-opacity=\"1\" /><path clip-path=\"url(#clip410)\" d=\"M1090.34 718.362 L1078.53 736.811 L1090.34 736.811 L1090.34 718.362 M1089.11 714.288 L1094.99 714.288 L1094.99 736.811 L1099.92 736.811 L1099.92 740.7 L1094.99 740.7 L1094.99 748.848 L1090.34 748.848 L1090.34 740.7 L1074.74 740.7 L1074.74 736.186 L1089.11 714.288 Z\" fill=\"#000000\" fill-rule=\"evenodd\" fill-opacity=\"1\" /><polyline clip-path=\"url(#clip412)\" style=\"stroke:#000000; stroke-linecap:butt; stroke-linejoin:round; stroke-width:2; stroke-opacity:0.1; fill:none\" points=\"\n",
       "  186.274,568.483 1167.59,568.483 \n",
       "  \"/>\n",
       "<polyline clip-path=\"url(#clip412)\" style=\"stroke:#000000; stroke-linecap:butt; stroke-linejoin:round; stroke-width:2; stroke-opacity:0.1; fill:none\" points=\"\n",
       "  186.274,438.346 1167.59,438.346 \n",
       "  \"/>\n",
       "<polyline clip-path=\"url(#clip412)\" style=\"stroke:#000000; stroke-linecap:butt; stroke-linejoin:round; stroke-width:2; stroke-opacity:0.1; fill:none\" points=\"\n",
       "  186.274,308.209 1167.59,308.209 \n",
       "  \"/>\n",
       "<polyline clip-path=\"url(#clip412)\" style=\"stroke:#000000; stroke-linecap:butt; stroke-linejoin:round; stroke-width:2; stroke-opacity:0.1; fill:none\" points=\"\n",
       "  186.274,178.072 1167.59,178.072 \n",
       "  \"/>\n",
       "<polyline clip-path=\"url(#clip412)\" style=\"stroke:#000000; stroke-linecap:butt; stroke-linejoin:round; stroke-width:2; stroke-opacity:0.1; fill:none\" points=\"\n",
       "  186.274,47.9344 1167.59,47.9344 \n",
       "  \"/>\n",
       "<polyline clip-path=\"url(#clip410)\" style=\"stroke:#000000; stroke-linecap:butt; stroke-linejoin:round; stroke-width:4; stroke-opacity:1; fill:none\" points=\"\n",
       "  186.274,686.448 186.274,47.2441 \n",
       "  \"/>\n",
       "<polyline clip-path=\"url(#clip410)\" style=\"stroke:#000000; stroke-linecap:butt; stroke-linejoin:round; stroke-width:4; stroke-opacity:1; fill:none\" points=\"\n",
       "  186.274,568.483 205.172,568.483 \n",
       "  \"/>\n",
       "<polyline clip-path=\"url(#clip410)\" style=\"stroke:#000000; stroke-linecap:butt; stroke-linejoin:round; stroke-width:4; stroke-opacity:1; fill:none\" points=\"\n",
       "  186.274,438.346 205.172,438.346 \n",
       "  \"/>\n",
       "<polyline clip-path=\"url(#clip410)\" style=\"stroke:#000000; stroke-linecap:butt; stroke-linejoin:round; stroke-width:4; stroke-opacity:1; fill:none\" points=\"\n",
       "  186.274,308.209 205.172,308.209 \n",
       "  \"/>\n",
       "<polyline clip-path=\"url(#clip410)\" style=\"stroke:#000000; stroke-linecap:butt; stroke-linejoin:round; stroke-width:4; stroke-opacity:1; fill:none\" points=\"\n",
       "  186.274,178.072 205.172,178.072 \n",
       "  \"/>\n",
       "<polyline clip-path=\"url(#clip410)\" style=\"stroke:#000000; stroke-linecap:butt; stroke-linejoin:round; stroke-width:4; stroke-opacity:1; fill:none\" points=\"\n",
       "  186.274,47.9344 205.172,47.9344 \n",
       "  \"/>\n",
       "<path clip-path=\"url(#clip410)\" d=\"M94.6956 554.282 Q91.0845 554.282 89.2558 557.847 Q87.4503 561.388 87.4503 568.518 Q87.4503 575.624 89.2558 579.189 Q91.0845 582.731 94.6956 582.731 Q98.3298 582.731 100.135 579.189 Q101.964 575.624 101.964 568.518 Q101.964 561.388 100.135 557.847 Q98.3298 554.282 94.6956 554.282 M94.6956 550.578 Q100.506 550.578 103.561 555.185 Q106.64 559.768 106.64 568.518 Q106.64 577.245 103.561 581.851 Q100.506 586.434 94.6956 586.434 Q88.8854 586.434 85.8068 581.851 Q82.7512 577.245 82.7512 568.518 Q82.7512 559.768 85.8068 555.185 Q88.8854 550.578 94.6956 550.578 Z\" fill=\"#000000\" fill-rule=\"evenodd\" fill-opacity=\"1\" /><path clip-path=\"url(#clip410)\" d=\"M114.858 579.884 L119.742 579.884 L119.742 585.763 L114.858 585.763 L114.858 579.884 Z\" fill=\"#000000\" fill-rule=\"evenodd\" fill-opacity=\"1\" /><path clip-path=\"url(#clip410)\" d=\"M133.955 581.828 L150.274 581.828 L150.274 585.763 L128.33 585.763 L128.33 581.828 Q130.992 579.073 135.575 574.444 Q140.181 569.791 141.362 568.448 Q143.607 565.925 144.487 564.189 Q145.39 562.43 145.39 560.74 Q145.39 557.986 143.445 556.249 Q141.524 554.513 138.422 554.513 Q136.223 554.513 133.769 555.277 Q131.339 556.041 128.561 557.592 L128.561 552.87 Q131.385 551.736 133.839 551.157 Q136.293 550.578 138.33 550.578 Q143.7 550.578 146.894 553.263 Q150.089 555.949 150.089 560.439 Q150.089 562.569 149.279 564.49 Q148.492 566.388 146.385 568.981 Q145.806 569.652 142.705 572.87 Q139.603 576.064 133.955 581.828 Z\" fill=\"#000000\" fill-rule=\"evenodd\" fill-opacity=\"1\" /><path clip-path=\"url(#clip410)\" d=\"M92.6123 424.145 Q89.0012 424.145 87.1725 427.709 Q85.3669 431.251 85.3669 438.381 Q85.3669 445.487 87.1725 449.052 Q89.0012 452.594 92.6123 452.594 Q96.2465 452.594 98.0521 449.052 Q99.8808 445.487 99.8808 438.381 Q99.8808 431.251 98.0521 427.709 Q96.2465 424.145 92.6123 424.145 M92.6123 420.441 Q98.4224 420.441 101.478 425.047 Q104.557 429.631 104.557 438.381 Q104.557 447.107 101.478 451.714 Q98.4224 456.297 92.6123 456.297 Q86.8021 456.297 83.7234 451.714 Q80.6679 447.107 80.6679 438.381 Q80.6679 429.631 83.7234 425.047 Q86.8021 420.441 92.6123 420.441 Z\" fill=\"#000000\" fill-rule=\"evenodd\" fill-opacity=\"1\" /><path clip-path=\"url(#clip410)\" d=\"M112.774 449.746 L117.658 449.746 L117.658 455.626 L112.774 455.626 L112.774 449.746 Z\" fill=\"#000000\" fill-rule=\"evenodd\" fill-opacity=\"1\" /><path clip-path=\"url(#clip410)\" d=\"M140.691 425.14 L128.885 443.589 L140.691 443.589 L140.691 425.14 M139.464 421.066 L145.343 421.066 L145.343 443.589 L150.274 443.589 L150.274 447.478 L145.343 447.478 L145.343 455.626 L140.691 455.626 L140.691 447.478 L125.089 447.478 L125.089 442.964 L139.464 421.066 Z\" fill=\"#000000\" fill-rule=\"evenodd\" fill-opacity=\"1\" /><path clip-path=\"url(#clip410)\" d=\"M92.9363 294.007 Q89.3253 294.007 87.4966 297.572 Q85.691 301.114 85.691 308.243 Q85.691 315.35 87.4966 318.915 Q89.3253 322.456 92.9363 322.456 Q96.5706 322.456 98.3761 318.915 Q100.205 315.35 100.205 308.243 Q100.205 301.114 98.3761 297.572 Q96.5706 294.007 92.9363 294.007 M92.9363 290.304 Q98.7465 290.304 101.802 294.91 Q104.881 299.494 104.881 308.243 Q104.881 316.97 101.802 321.577 Q98.7465 326.16 92.9363 326.16 Q87.1262 326.16 84.0475 321.577 Q80.992 316.97 80.992 308.243 Q80.992 299.494 84.0475 294.91 Q87.1262 290.304 92.9363 290.304 Z\" fill=\"#000000\" fill-rule=\"evenodd\" fill-opacity=\"1\" /><path clip-path=\"url(#clip410)\" d=\"M113.098 319.609 L117.983 319.609 L117.983 325.489 L113.098 325.489 L113.098 319.609 Z\" fill=\"#000000\" fill-rule=\"evenodd\" fill-opacity=\"1\" /><path clip-path=\"url(#clip410)\" d=\"M138.746 306.345 Q135.598 306.345 133.746 308.498 Q131.918 310.651 131.918 314.401 Q131.918 318.128 133.746 320.304 Q135.598 322.456 138.746 322.456 Q141.894 322.456 143.723 320.304 Q145.575 318.128 145.575 314.401 Q145.575 310.651 143.723 308.498 Q141.894 306.345 138.746 306.345 M148.029 291.693 L148.029 295.952 Q146.269 295.119 144.464 294.679 Q142.681 294.239 140.922 294.239 Q136.293 294.239 133.839 297.364 Q131.408 300.489 131.061 306.808 Q132.427 304.794 134.487 303.73 Q136.547 302.642 139.024 302.642 Q144.232 302.642 147.242 305.813 Q150.274 308.961 150.274 314.401 Q150.274 319.725 147.126 322.942 Q143.978 326.16 138.746 326.16 Q132.751 326.16 129.58 321.577 Q126.408 316.97 126.408 308.243 Q126.408 300.049 130.297 295.188 Q134.186 290.304 140.737 290.304 Q142.496 290.304 144.279 290.651 Q146.084 290.998 148.029 291.693 Z\" fill=\"#000000\" fill-rule=\"evenodd\" fill-opacity=\"1\" /><path clip-path=\"url(#clip410)\" d=\"M93.191 163.87 Q89.5799 163.87 87.7512 167.435 Q85.9456 170.977 85.9456 178.106 Q85.9456 185.213 87.7512 188.778 Q89.5799 192.319 93.191 192.319 Q96.8252 192.319 98.6308 188.778 Q100.459 185.213 100.459 178.106 Q100.459 170.977 98.6308 167.435 Q96.8252 163.87 93.191 163.87 M93.191 160.167 Q99.0011 160.167 102.057 164.773 Q105.135 169.356 105.135 178.106 Q105.135 186.833 102.057 191.44 Q99.0011 196.023 93.191 196.023 Q87.3808 196.023 84.3021 191.44 Q81.2466 186.833 81.2466 178.106 Q81.2466 169.356 84.3021 164.773 Q87.3808 160.167 93.191 160.167 Z\" fill=\"#000000\" fill-rule=\"evenodd\" fill-opacity=\"1\" /><path clip-path=\"url(#clip410)\" d=\"M113.353 189.472 L118.237 189.472 L118.237 195.352 L113.353 195.352 L113.353 189.472 Z\" fill=\"#000000\" fill-rule=\"evenodd\" fill-opacity=\"1\" /><path clip-path=\"url(#clip410)\" d=\"M138.422 178.94 Q135.089 178.94 133.168 180.722 Q131.269 182.504 131.269 185.629 Q131.269 188.754 133.168 190.537 Q135.089 192.319 138.422 192.319 Q141.756 192.319 143.677 190.537 Q145.598 188.731 145.598 185.629 Q145.598 182.504 143.677 180.722 Q141.779 178.94 138.422 178.94 M133.746 176.949 Q130.737 176.208 129.047 174.148 Q127.381 172.088 127.381 169.125 Q127.381 164.981 130.32 162.574 Q133.283 160.167 138.422 160.167 Q143.584 160.167 146.524 162.574 Q149.464 164.981 149.464 169.125 Q149.464 172.088 147.774 174.148 Q146.107 176.208 143.121 176.949 Q146.501 177.736 148.376 180.028 Q150.274 182.319 150.274 185.629 Q150.274 190.653 147.195 193.338 Q144.14 196.023 138.422 196.023 Q132.705 196.023 129.626 193.338 Q126.57 190.653 126.57 185.629 Q126.57 182.319 128.469 180.028 Q130.367 177.736 133.746 176.949 M132.033 169.565 Q132.033 172.25 133.7 173.754 Q135.39 175.259 138.422 175.259 Q141.431 175.259 143.121 173.754 Q144.834 172.25 144.834 169.565 Q144.834 166.879 143.121 165.375 Q141.431 163.87 138.422 163.87 Q135.39 163.87 133.7 165.375 Q132.033 166.879 132.033 169.565 Z\" fill=\"#000000\" fill-rule=\"evenodd\" fill-opacity=\"1\" /><path clip-path=\"url(#clip410)\" d=\"M83.9086 61.2792 L91.5475 61.2792 L91.5475 34.9136 L83.2373 36.5803 L83.2373 32.321 L91.5012 30.6544 L96.1771 30.6544 L96.1771 61.2792 L103.816 61.2792 L103.816 65.2144 L83.9086 65.2144 L83.9086 61.2792 Z\" fill=\"#000000\" fill-rule=\"evenodd\" fill-opacity=\"1\" /><path clip-path=\"url(#clip410)\" d=\"M113.26 59.3348 L118.145 59.3348 L118.145 65.2144 L113.26 65.2144 L113.26 59.3348 Z\" fill=\"#000000\" fill-rule=\"evenodd\" fill-opacity=\"1\" /><path clip-path=\"url(#clip410)\" d=\"M138.33 33.7331 Q134.719 33.7331 132.89 37.2979 Q131.084 40.8395 131.084 47.9691 Q131.084 55.0755 132.89 58.6403 Q134.719 62.182 138.33 62.182 Q141.964 62.182 143.769 58.6403 Q145.598 55.0755 145.598 47.9691 Q145.598 40.8395 143.769 37.2979 Q141.964 33.7331 138.33 33.7331 M138.33 30.0294 Q144.14 30.0294 147.195 34.6358 Q150.274 39.2191 150.274 47.9691 Q150.274 56.6959 147.195 61.3024 Q144.14 65.8857 138.33 65.8857 Q132.519 65.8857 129.441 61.3024 Q126.385 56.6959 126.385 47.9691 Q126.385 39.2191 129.441 34.6358 Q132.519 30.0294 138.33 30.0294 Z\" fill=\"#000000\" fill-rule=\"evenodd\" fill-opacity=\"1\" /><polyline clip-path=\"url(#clip412)\" style=\"stroke:#009af9; stroke-linecap:butt; stroke-linejoin:round; stroke-width:4; stroke-opacity:1; fill:none\" points=\"\n",
       "  214.047,362.987 280.174,519.948 346.301,65.3348 412.427,644.574 478.554,542.172 544.681,193.27 610.807,587.991 676.934,345.708 743.061,544.222 809.187,394.528 \n",
       "  875.314,628.811 941.441,188.934 1007.57,256.912 1073.69,228.185 1139.82,668.357 \n",
       "  \"/>\n",
       "<path clip-path=\"url(#clip410)\" d=\"\n",
       "M1371.44 686.448 L2352.76 686.448 L2352.76 47.2441 L1371.44 47.2441  Z\n",
       "  \" fill=\"#ffffff\" fill-rule=\"evenodd\" fill-opacity=\"1\"/>\n",
       "<defs>\n",
       "  <clipPath id=\"clip413\">\n",
       "    <rect x=\"1371\" y=\"47\" width=\"982\" height=\"640\"/>\n",
       "  </clipPath>\n",
       "</defs>\n",
       "<polyline clip-path=\"url(#clip413)\" style=\"stroke:#000000; stroke-linecap:butt; stroke-linejoin:round; stroke-width:2; stroke-opacity:0.1; fill:none\" points=\"\n",
       "  1465.34,686.448 1465.34,47.2441 \n",
       "  \"/>\n",
       "<polyline clip-path=\"url(#clip413)\" style=\"stroke:#000000; stroke-linecap:butt; stroke-linejoin:round; stroke-width:2; stroke-opacity:0.1; fill:none\" points=\"\n",
       "  1597.59,686.448 1597.59,47.2441 \n",
       "  \"/>\n",
       "<polyline clip-path=\"url(#clip413)\" style=\"stroke:#000000; stroke-linecap:butt; stroke-linejoin:round; stroke-width:2; stroke-opacity:0.1; fill:none\" points=\"\n",
       "  1729.84,686.448 1729.84,47.2441 \n",
       "  \"/>\n",
       "<polyline clip-path=\"url(#clip413)\" style=\"stroke:#000000; stroke-linecap:butt; stroke-linejoin:round; stroke-width:2; stroke-opacity:0.1; fill:none\" points=\"\n",
       "  1862.1,686.448 1862.1,47.2441 \n",
       "  \"/>\n",
       "<polyline clip-path=\"url(#clip413)\" style=\"stroke:#000000; stroke-linecap:butt; stroke-linejoin:round; stroke-width:2; stroke-opacity:0.1; fill:none\" points=\"\n",
       "  1994.35,686.448 1994.35,47.2441 \n",
       "  \"/>\n",
       "<polyline clip-path=\"url(#clip413)\" style=\"stroke:#000000; stroke-linecap:butt; stroke-linejoin:round; stroke-width:2; stroke-opacity:0.1; fill:none\" points=\"\n",
       "  2126.6,686.448 2126.6,47.2441 \n",
       "  \"/>\n",
       "<polyline clip-path=\"url(#clip413)\" style=\"stroke:#000000; stroke-linecap:butt; stroke-linejoin:round; stroke-width:2; stroke-opacity:0.1; fill:none\" points=\"\n",
       "  2258.86,686.448 2258.86,47.2441 \n",
       "  \"/>\n",
       "<polyline clip-path=\"url(#clip410)\" style=\"stroke:#000000; stroke-linecap:butt; stroke-linejoin:round; stroke-width:4; stroke-opacity:1; fill:none\" points=\"\n",
       "  1371.44,686.448 2352.76,686.448 \n",
       "  \"/>\n",
       "<polyline clip-path=\"url(#clip410)\" style=\"stroke:#000000; stroke-linecap:butt; stroke-linejoin:round; stroke-width:4; stroke-opacity:1; fill:none\" points=\"\n",
       "  1465.34,686.448 1465.34,667.55 \n",
       "  \"/>\n",
       "<polyline clip-path=\"url(#clip410)\" style=\"stroke:#000000; stroke-linecap:butt; stroke-linejoin:round; stroke-width:4; stroke-opacity:1; fill:none\" points=\"\n",
       "  1597.59,686.448 1597.59,667.55 \n",
       "  \"/>\n",
       "<polyline clip-path=\"url(#clip410)\" style=\"stroke:#000000; stroke-linecap:butt; stroke-linejoin:round; stroke-width:4; stroke-opacity:1; fill:none\" points=\"\n",
       "  1729.84,686.448 1729.84,667.55 \n",
       "  \"/>\n",
       "<polyline clip-path=\"url(#clip410)\" style=\"stroke:#000000; stroke-linecap:butt; stroke-linejoin:round; stroke-width:4; stroke-opacity:1; fill:none\" points=\"\n",
       "  1862.1,686.448 1862.1,667.55 \n",
       "  \"/>\n",
       "<polyline clip-path=\"url(#clip410)\" style=\"stroke:#000000; stroke-linecap:butt; stroke-linejoin:round; stroke-width:4; stroke-opacity:1; fill:none\" points=\"\n",
       "  1994.35,686.448 1994.35,667.55 \n",
       "  \"/>\n",
       "<polyline clip-path=\"url(#clip410)\" style=\"stroke:#000000; stroke-linecap:butt; stroke-linejoin:round; stroke-width:4; stroke-opacity:1; fill:none\" points=\"\n",
       "  2126.6,686.448 2126.6,667.55 \n",
       "  \"/>\n",
       "<polyline clip-path=\"url(#clip410)\" style=\"stroke:#000000; stroke-linecap:butt; stroke-linejoin:round; stroke-width:4; stroke-opacity:1; fill:none\" points=\"\n",
       "  2258.86,686.448 2258.86,667.55 \n",
       "  \"/>\n",
       "<path clip-path=\"url(#clip410)\" d=\"M1459.99 744.913 L1476.31 744.913 L1476.31 748.848 L1454.36 748.848 L1454.36 744.913 Q1457.03 742.158 1461.61 737.528 Q1466.22 732.876 1467.4 731.533 Q1469.64 729.01 1470.52 727.274 Q1471.42 725.515 1471.42 723.825 Q1471.42 721.07 1469.48 719.334 Q1467.56 717.598 1464.46 717.598 Q1462.26 717.598 1459.8 718.362 Q1457.37 719.126 1454.6 720.677 L1454.6 715.955 Q1457.42 714.82 1459.87 714.242 Q1462.33 713.663 1464.36 713.663 Q1469.73 713.663 1472.93 716.348 Q1476.12 719.033 1476.12 723.524 Q1476.12 725.654 1475.31 727.575 Q1474.53 729.473 1472.42 732.066 Q1471.84 732.737 1468.74 735.954 Q1465.64 739.149 1459.99 744.913 Z\" fill=\"#000000\" fill-rule=\"evenodd\" fill-opacity=\"1\" /><path clip-path=\"url(#clip410)\" d=\"M1600.6 718.362 L1588.79 736.811 L1600.6 736.811 L1600.6 718.362 M1599.37 714.288 L1605.25 714.288 L1605.25 736.811 L1610.18 736.811 L1610.18 740.7 L1605.25 740.7 L1605.25 748.848 L1600.6 748.848 L1600.6 740.7 L1585 740.7 L1585 736.186 L1599.37 714.288 Z\" fill=\"#000000\" fill-rule=\"evenodd\" fill-opacity=\"1\" /><path clip-path=\"url(#clip410)\" d=\"M1730.25 729.704 Q1727.1 729.704 1725.25 731.857 Q1723.42 734.01 1723.42 737.76 Q1723.42 741.487 1725.25 743.663 Q1727.1 745.815 1730.25 745.815 Q1733.4 745.815 1735.22 743.663 Q1737.08 741.487 1737.08 737.76 Q1737.08 734.01 1735.22 731.857 Q1733.4 729.704 1730.25 729.704 M1739.53 715.052 L1739.53 719.311 Q1737.77 718.478 1735.97 718.038 Q1734.18 717.598 1732.42 717.598 Q1727.79 717.598 1725.34 720.723 Q1722.91 723.848 1722.56 730.167 Q1723.93 728.154 1725.99 727.089 Q1728.05 726.001 1730.53 726.001 Q1735.73 726.001 1738.74 729.172 Q1741.78 732.32 1741.78 737.76 Q1741.78 743.084 1738.63 746.302 Q1735.48 749.519 1730.25 749.519 Q1724.25 749.519 1721.08 744.936 Q1717.91 740.329 1717.91 731.603 Q1717.91 723.408 1721.8 718.547 Q1725.69 713.663 1732.24 713.663 Q1734 713.663 1735.78 714.01 Q1737.59 714.357 1739.53 715.052 Z\" fill=\"#000000\" fill-rule=\"evenodd\" fill-opacity=\"1\" /><path clip-path=\"url(#clip410)\" d=\"M1862.1 732.436 Q1858.76 732.436 1856.84 734.218 Q1854.94 736.001 1854.94 739.126 Q1854.94 742.251 1856.84 744.033 Q1858.76 745.815 1862.1 745.815 Q1865.43 745.815 1867.35 744.033 Q1869.27 742.228 1869.27 739.126 Q1869.27 736.001 1867.35 734.218 Q1865.45 732.436 1862.1 732.436 M1857.42 730.445 Q1854.41 729.704 1852.72 727.644 Q1851.05 725.584 1851.05 722.621 Q1851.05 718.478 1853.99 716.07 Q1856.96 713.663 1862.1 713.663 Q1867.26 713.663 1870.2 716.07 Q1873.14 718.478 1873.14 722.621 Q1873.14 725.584 1871.45 727.644 Q1869.78 729.704 1866.8 730.445 Q1870.17 731.232 1872.05 733.524 Q1873.95 735.816 1873.95 739.126 Q1873.95 744.149 1870.87 746.834 Q1867.81 749.519 1862.1 749.519 Q1856.38 749.519 1853.3 746.834 Q1850.24 744.149 1850.24 739.126 Q1850.24 735.816 1852.14 733.524 Q1854.04 731.232 1857.42 730.445 M1855.71 723.061 Q1855.71 725.746 1857.37 727.251 Q1859.06 728.755 1862.1 728.755 Q1865.11 728.755 1866.8 727.251 Q1868.51 725.746 1868.51 723.061 Q1868.51 720.376 1866.8 718.871 Q1865.11 717.367 1862.1 717.367 Q1859.06 717.367 1857.37 718.871 Q1855.71 720.376 1855.71 723.061 Z\" fill=\"#000000\" fill-rule=\"evenodd\" fill-opacity=\"1\" /><path clip-path=\"url(#clip410)\" d=\"M1969.04 744.913 L1976.68 744.913 L1976.68 718.547 L1968.37 720.214 L1968.37 715.955 L1976.63 714.288 L1981.31 714.288 L1981.31 744.913 L1988.94 744.913 L1988.94 748.848 L1969.04 748.848 L1969.04 744.913 Z\" fill=\"#000000\" fill-rule=\"evenodd\" fill-opacity=\"1\" /><path clip-path=\"url(#clip410)\" d=\"M2008.39 717.367 Q2004.78 717.367 2002.95 720.931 Q2001.14 724.473 2001.14 731.603 Q2001.14 738.709 2002.95 742.274 Q2004.78 745.815 2008.39 745.815 Q2012.02 745.815 2013.83 742.274 Q2015.66 738.709 2015.66 731.603 Q2015.66 724.473 2013.83 720.931 Q2012.02 717.367 2008.39 717.367 M2008.39 713.663 Q2014.2 713.663 2017.25 718.269 Q2020.33 722.853 2020.33 731.603 Q2020.33 740.329 2017.25 744.936 Q2014.2 749.519 2008.39 749.519 Q2002.58 749.519 1999.5 744.936 Q1996.44 740.329 1996.44 731.603 Q1996.44 722.853 1999.5 718.269 Q2002.58 713.663 2008.39 713.663 Z\" fill=\"#000000\" fill-rule=\"evenodd\" fill-opacity=\"1\" /><path clip-path=\"url(#clip410)\" d=\"M2102.09 744.913 L2109.73 744.913 L2109.73 718.547 L2101.42 720.214 L2101.42 715.955 L2109.68 714.288 L2114.36 714.288 L2114.36 744.913 L2122 744.913 L2122 748.848 L2102.09 748.848 L2102.09 744.913 Z\" fill=\"#000000\" fill-rule=\"evenodd\" fill-opacity=\"1\" /><path clip-path=\"url(#clip410)\" d=\"M2135.47 744.913 L2151.79 744.913 L2151.79 748.848 L2129.84 748.848 L2129.84 744.913 Q2132.51 742.158 2137.09 737.528 Q2141.7 732.876 2142.88 731.533 Q2145.12 729.01 2146 727.274 Q2146.9 725.515 2146.9 723.825 Q2146.9 721.07 2144.96 719.334 Q2143.04 717.598 2139.94 717.598 Q2137.74 717.598 2135.28 718.362 Q2132.85 719.126 2130.07 720.677 L2130.07 715.955 Q2132.9 714.82 2135.35 714.242 Q2137.81 713.663 2139.84 713.663 Q2145.21 713.663 2148.41 716.348 Q2151.6 719.033 2151.6 723.524 Q2151.6 725.654 2150.79 727.575 Q2150.01 729.473 2147.9 732.066 Q2147.32 732.737 2144.22 735.954 Q2141.12 739.149 2135.47 744.913 Z\" fill=\"#000000\" fill-rule=\"evenodd\" fill-opacity=\"1\" /><path clip-path=\"url(#clip410)\" d=\"M2233.3 744.913 L2240.94 744.913 L2240.94 718.547 L2232.63 720.214 L2232.63 715.955 L2240.89 714.288 L2245.57 714.288 L2245.57 744.913 L2253.21 744.913 L2253.21 748.848 L2233.3 748.848 L2233.3 744.913 Z\" fill=\"#000000\" fill-rule=\"evenodd\" fill-opacity=\"1\" /><path clip-path=\"url(#clip410)\" d=\"M2275.5 718.362 L2263.69 736.811 L2275.5 736.811 L2275.5 718.362 M2274.27 714.288 L2280.15 714.288 L2280.15 736.811 L2285.08 736.811 L2285.08 740.7 L2280.15 740.7 L2280.15 748.848 L2275.5 748.848 L2275.5 740.7 L2259.9 740.7 L2259.9 736.186 L2274.27 714.288 Z\" fill=\"#000000\" fill-rule=\"evenodd\" fill-opacity=\"1\" /><polyline clip-path=\"url(#clip413)\" style=\"stroke:#000000; stroke-linecap:butt; stroke-linejoin:round; stroke-width:2; stroke-opacity:0.1; fill:none\" points=\"\n",
       "  1371.44,568.483 2352.76,568.483 \n",
       "  \"/>\n",
       "<polyline clip-path=\"url(#clip413)\" style=\"stroke:#000000; stroke-linecap:butt; stroke-linejoin:round; stroke-width:2; stroke-opacity:0.1; fill:none\" points=\"\n",
       "  1371.44,438.346 2352.76,438.346 \n",
       "  \"/>\n",
       "<polyline clip-path=\"url(#clip413)\" style=\"stroke:#000000; stroke-linecap:butt; stroke-linejoin:round; stroke-width:2; stroke-opacity:0.1; fill:none\" points=\"\n",
       "  1371.44,308.209 2352.76,308.209 \n",
       "  \"/>\n",
       "<polyline clip-path=\"url(#clip413)\" style=\"stroke:#000000; stroke-linecap:butt; stroke-linejoin:round; stroke-width:2; stroke-opacity:0.1; fill:none\" points=\"\n",
       "  1371.44,178.072 2352.76,178.072 \n",
       "  \"/>\n",
       "<polyline clip-path=\"url(#clip413)\" style=\"stroke:#000000; stroke-linecap:butt; stroke-linejoin:round; stroke-width:2; stroke-opacity:0.1; fill:none\" points=\"\n",
       "  1371.44,47.9344 2352.76,47.9344 \n",
       "  \"/>\n",
       "<polyline clip-path=\"url(#clip410)\" style=\"stroke:#000000; stroke-linecap:butt; stroke-linejoin:round; stroke-width:4; stroke-opacity:1; fill:none\" points=\"\n",
       "  1371.44,686.448 1371.44,47.2441 \n",
       "  \"/>\n",
       "<polyline clip-path=\"url(#clip410)\" style=\"stroke:#000000; stroke-linecap:butt; stroke-linejoin:round; stroke-width:4; stroke-opacity:1; fill:none\" points=\"\n",
       "  1371.44,568.483 1390.33,568.483 \n",
       "  \"/>\n",
       "<polyline clip-path=\"url(#clip410)\" style=\"stroke:#000000; stroke-linecap:butt; stroke-linejoin:round; stroke-width:4; stroke-opacity:1; fill:none\" points=\"\n",
       "  1371.44,438.346 1390.33,438.346 \n",
       "  \"/>\n",
       "<polyline clip-path=\"url(#clip410)\" style=\"stroke:#000000; stroke-linecap:butt; stroke-linejoin:round; stroke-width:4; stroke-opacity:1; fill:none\" points=\"\n",
       "  1371.44,308.209 1390.33,308.209 \n",
       "  \"/>\n",
       "<polyline clip-path=\"url(#clip410)\" style=\"stroke:#000000; stroke-linecap:butt; stroke-linejoin:round; stroke-width:4; stroke-opacity:1; fill:none\" points=\"\n",
       "  1371.44,178.072 1390.33,178.072 \n",
       "  \"/>\n",
       "<polyline clip-path=\"url(#clip410)\" style=\"stroke:#000000; stroke-linecap:butt; stroke-linejoin:round; stroke-width:4; stroke-opacity:1; fill:none\" points=\"\n",
       "  1371.44,47.9344 1390.33,47.9344 \n",
       "  \"/>\n",
       "<path clip-path=\"url(#clip410)\" d=\"M1279.86 554.282 Q1276.25 554.282 1274.42 557.847 Q1272.61 561.388 1272.61 568.518 Q1272.61 575.624 1274.42 579.189 Q1276.25 582.731 1279.86 582.731 Q1283.49 582.731 1285.3 579.189 Q1287.13 575.624 1287.13 568.518 Q1287.13 561.388 1285.3 557.847 Q1283.49 554.282 1279.86 554.282 M1279.86 550.578 Q1285.67 550.578 1288.72 555.185 Q1291.8 559.768 1291.8 568.518 Q1291.8 577.245 1288.72 581.851 Q1285.67 586.434 1279.86 586.434 Q1274.05 586.434 1270.97 581.851 Q1267.91 577.245 1267.91 568.518 Q1267.91 559.768 1270.97 555.185 Q1274.05 550.578 1279.86 550.578 Z\" fill=\"#000000\" fill-rule=\"evenodd\" fill-opacity=\"1\" /><path clip-path=\"url(#clip410)\" d=\"M1300.02 579.884 L1304.9 579.884 L1304.9 585.763 L1300.02 585.763 L1300.02 579.884 Z\" fill=\"#000000\" fill-rule=\"evenodd\" fill-opacity=\"1\" /><path clip-path=\"url(#clip410)\" d=\"M1319.12 581.828 L1335.44 581.828 L1335.44 585.763 L1313.49 585.763 L1313.49 581.828 Q1316.15 579.073 1320.74 574.444 Q1325.34 569.791 1326.52 568.448 Q1328.77 565.925 1329.65 564.189 Q1330.55 562.43 1330.55 560.74 Q1330.55 557.986 1328.61 556.249 Q1326.69 554.513 1323.58 554.513 Q1321.39 554.513 1318.93 555.277 Q1316.5 556.041 1313.72 557.592 L1313.72 552.87 Q1316.55 551.736 1319 551.157 Q1321.45 550.578 1323.49 550.578 Q1328.86 550.578 1332.06 553.263 Q1335.25 555.949 1335.25 560.439 Q1335.25 562.569 1334.44 564.49 Q1333.65 566.388 1331.55 568.981 Q1330.97 569.652 1327.87 572.87 Q1324.76 576.064 1319.12 581.828 Z\" fill=\"#000000\" fill-rule=\"evenodd\" fill-opacity=\"1\" /><path clip-path=\"url(#clip410)\" d=\"M1277.77 424.145 Q1274.16 424.145 1272.33 427.709 Q1270.53 431.251 1270.53 438.381 Q1270.53 445.487 1272.33 449.052 Q1274.16 452.594 1277.77 452.594 Q1281.41 452.594 1283.21 449.052 Q1285.04 445.487 1285.04 438.381 Q1285.04 431.251 1283.21 427.709 Q1281.41 424.145 1277.77 424.145 M1277.77 420.441 Q1283.58 420.441 1286.64 425.047 Q1289.72 429.631 1289.72 438.381 Q1289.72 447.107 1286.64 451.714 Q1283.58 456.297 1277.77 456.297 Q1271.96 456.297 1268.89 451.714 Q1265.83 447.107 1265.83 438.381 Q1265.83 429.631 1268.89 425.047 Q1271.96 420.441 1277.77 420.441 Z\" fill=\"#000000\" fill-rule=\"evenodd\" fill-opacity=\"1\" /><path clip-path=\"url(#clip410)\" d=\"M1297.94 449.746 L1302.82 449.746 L1302.82 455.626 L1297.94 455.626 L1297.94 449.746 Z\" fill=\"#000000\" fill-rule=\"evenodd\" fill-opacity=\"1\" /><path clip-path=\"url(#clip410)\" d=\"M1325.85 425.14 L1314.05 443.589 L1325.85 443.589 L1325.85 425.14 M1324.63 421.066 L1330.51 421.066 L1330.51 443.589 L1335.44 443.589 L1335.44 447.478 L1330.51 447.478 L1330.51 455.626 L1325.85 455.626 L1325.85 447.478 L1310.25 447.478 L1310.25 442.964 L1324.63 421.066 Z\" fill=\"#000000\" fill-rule=\"evenodd\" fill-opacity=\"1\" /><path clip-path=\"url(#clip410)\" d=\"M1278.1 294.007 Q1274.49 294.007 1272.66 297.572 Q1270.85 301.114 1270.85 308.243 Q1270.85 315.35 1272.66 318.915 Q1274.49 322.456 1278.1 322.456 Q1281.73 322.456 1283.54 318.915 Q1285.37 315.35 1285.37 308.243 Q1285.37 301.114 1283.54 297.572 Q1281.73 294.007 1278.1 294.007 M1278.1 290.304 Q1283.91 290.304 1286.96 294.91 Q1290.04 299.494 1290.04 308.243 Q1290.04 316.97 1286.96 321.577 Q1283.91 326.16 1278.1 326.16 Q1272.29 326.16 1269.21 321.577 Q1266.15 316.97 1266.15 308.243 Q1266.15 299.494 1269.21 294.91 Q1272.29 290.304 1278.1 290.304 Z\" fill=\"#000000\" fill-rule=\"evenodd\" fill-opacity=\"1\" /><path clip-path=\"url(#clip410)\" d=\"M1298.26 319.609 L1303.14 319.609 L1303.14 325.489 L1298.26 325.489 L1298.26 319.609 Z\" fill=\"#000000\" fill-rule=\"evenodd\" fill-opacity=\"1\" /><path clip-path=\"url(#clip410)\" d=\"M1323.91 306.345 Q1320.76 306.345 1318.91 308.498 Q1317.08 310.651 1317.08 314.401 Q1317.08 318.128 1318.91 320.304 Q1320.76 322.456 1323.91 322.456 Q1327.06 322.456 1328.89 320.304 Q1330.74 318.128 1330.74 314.401 Q1330.74 310.651 1328.89 308.498 Q1327.06 306.345 1323.91 306.345 M1333.19 291.693 L1333.19 295.952 Q1331.43 295.119 1329.63 294.679 Q1327.84 294.239 1326.08 294.239 Q1321.45 294.239 1319 297.364 Q1316.57 300.489 1316.22 306.808 Q1317.59 304.794 1319.65 303.73 Q1321.71 302.642 1324.19 302.642 Q1329.39 302.642 1332.4 305.813 Q1335.44 308.961 1335.44 314.401 Q1335.44 319.725 1332.29 322.942 Q1329.14 326.16 1323.91 326.16 Q1317.91 326.16 1314.74 321.577 Q1311.57 316.97 1311.57 308.243 Q1311.57 300.049 1315.46 295.188 Q1319.35 290.304 1325.9 290.304 Q1327.66 290.304 1329.44 290.651 Q1331.25 290.998 1333.19 291.693 Z\" fill=\"#000000\" fill-rule=\"evenodd\" fill-opacity=\"1\" /><path clip-path=\"url(#clip410)\" d=\"M1278.35 163.87 Q1274.74 163.87 1272.91 167.435 Q1271.11 170.977 1271.11 178.106 Q1271.11 185.213 1272.91 188.778 Q1274.74 192.319 1278.35 192.319 Q1281.99 192.319 1283.79 188.778 Q1285.62 185.213 1285.62 178.106 Q1285.62 170.977 1283.79 167.435 Q1281.99 163.87 1278.35 163.87 M1278.35 160.167 Q1284.16 160.167 1287.22 164.773 Q1290.3 169.356 1290.3 178.106 Q1290.3 186.833 1287.22 191.44 Q1284.16 196.023 1278.35 196.023 Q1272.54 196.023 1269.46 191.44 Q1266.41 186.833 1266.41 178.106 Q1266.41 169.356 1269.46 164.773 Q1272.54 160.167 1278.35 160.167 Z\" fill=\"#000000\" fill-rule=\"evenodd\" fill-opacity=\"1\" /><path clip-path=\"url(#clip410)\" d=\"M1298.52 189.472 L1303.4 189.472 L1303.4 195.352 L1298.52 195.352 L1298.52 189.472 Z\" fill=\"#000000\" fill-rule=\"evenodd\" fill-opacity=\"1\" /><path clip-path=\"url(#clip410)\" d=\"M1323.58 178.94 Q1320.25 178.94 1318.33 180.722 Q1316.43 182.504 1316.43 185.629 Q1316.43 188.754 1318.33 190.537 Q1320.25 192.319 1323.58 192.319 Q1326.92 192.319 1328.84 190.537 Q1330.76 188.731 1330.76 185.629 Q1330.76 182.504 1328.84 180.722 Q1326.94 178.94 1323.58 178.94 M1318.91 176.949 Q1315.9 176.208 1314.21 174.148 Q1312.54 172.088 1312.54 169.125 Q1312.54 164.981 1315.48 162.574 Q1318.45 160.167 1323.58 160.167 Q1328.75 160.167 1331.69 162.574 Q1334.63 164.981 1334.63 169.125 Q1334.63 172.088 1332.94 174.148 Q1331.27 176.208 1328.28 176.949 Q1331.66 177.736 1333.54 180.028 Q1335.44 182.319 1335.44 185.629 Q1335.44 190.653 1332.36 193.338 Q1329.3 196.023 1323.58 196.023 Q1317.87 196.023 1314.79 193.338 Q1311.73 190.653 1311.73 185.629 Q1311.73 182.319 1313.63 180.028 Q1315.53 177.736 1318.91 176.949 M1317.2 169.565 Q1317.2 172.25 1318.86 173.754 Q1320.55 175.259 1323.58 175.259 Q1326.59 175.259 1328.28 173.754 Q1330 172.25 1330 169.565 Q1330 166.879 1328.28 165.375 Q1326.59 163.87 1323.58 163.87 Q1320.55 163.87 1318.86 165.375 Q1317.2 166.879 1317.2 169.565 Z\" fill=\"#000000\" fill-rule=\"evenodd\" fill-opacity=\"1\" /><path clip-path=\"url(#clip410)\" d=\"M1269.07 61.2792 L1276.71 61.2792 L1276.71 34.9136 L1268.4 36.5803 L1268.4 32.321 L1276.66 30.6544 L1281.34 30.6544 L1281.34 61.2792 L1288.98 61.2792 L1288.98 65.2144 L1269.07 65.2144 L1269.07 61.2792 Z\" fill=\"#000000\" fill-rule=\"evenodd\" fill-opacity=\"1\" /><path clip-path=\"url(#clip410)\" d=\"M1298.42 59.3348 L1303.31 59.3348 L1303.31 65.2144 L1298.42 65.2144 L1298.42 59.3348 Z\" fill=\"#000000\" fill-rule=\"evenodd\" fill-opacity=\"1\" /><path clip-path=\"url(#clip410)\" d=\"M1323.49 33.7331 Q1319.88 33.7331 1318.05 37.2979 Q1316.25 40.8395 1316.25 47.9691 Q1316.25 55.0755 1318.05 58.6403 Q1319.88 62.182 1323.49 62.182 Q1327.13 62.182 1328.93 58.6403 Q1330.76 55.0755 1330.76 47.9691 Q1330.76 40.8395 1328.93 37.2979 Q1327.13 33.7331 1323.49 33.7331 M1323.49 30.0294 Q1329.3 30.0294 1332.36 34.6358 Q1335.44 39.2191 1335.44 47.9691 Q1335.44 56.6959 1332.36 61.3024 Q1329.3 65.8857 1323.49 65.8857 Q1317.68 65.8857 1314.6 61.3024 Q1311.55 56.6959 1311.55 47.9691 Q1311.55 39.2191 1314.6 34.6358 Q1317.68 30.0294 1323.49 30.0294 Z\" fill=\"#000000\" fill-rule=\"evenodd\" fill-opacity=\"1\" /><circle clip-path=\"url(#clip413)\" cx=\"1399.21\" cy=\"362.987\" r=\"14\" fill=\"#009af9\" fill-rule=\"evenodd\" fill-opacity=\"1\" stroke=\"#000000\" stroke-opacity=\"1\" stroke-width=\"3.2\"/>\n",
       "<circle clip-path=\"url(#clip413)\" cx=\"1465.34\" cy=\"519.948\" r=\"14\" fill=\"#009af9\" fill-rule=\"evenodd\" fill-opacity=\"1\" stroke=\"#000000\" stroke-opacity=\"1\" stroke-width=\"3.2\"/>\n",
       "<circle clip-path=\"url(#clip413)\" cx=\"1531.46\" cy=\"65.3348\" r=\"14\" fill=\"#009af9\" fill-rule=\"evenodd\" fill-opacity=\"1\" stroke=\"#000000\" stroke-opacity=\"1\" stroke-width=\"3.2\"/>\n",
       "<circle clip-path=\"url(#clip413)\" cx=\"1597.59\" cy=\"644.574\" r=\"14\" fill=\"#009af9\" fill-rule=\"evenodd\" fill-opacity=\"1\" stroke=\"#000000\" stroke-opacity=\"1\" stroke-width=\"3.2\"/>\n",
       "<circle clip-path=\"url(#clip413)\" cx=\"1663.72\" cy=\"542.172\" r=\"14\" fill=\"#009af9\" fill-rule=\"evenodd\" fill-opacity=\"1\" stroke=\"#000000\" stroke-opacity=\"1\" stroke-width=\"3.2\"/>\n",
       "<circle clip-path=\"url(#clip413)\" cx=\"1729.84\" cy=\"193.27\" r=\"14\" fill=\"#009af9\" fill-rule=\"evenodd\" fill-opacity=\"1\" stroke=\"#000000\" stroke-opacity=\"1\" stroke-width=\"3.2\"/>\n",
       "<circle clip-path=\"url(#clip413)\" cx=\"1795.97\" cy=\"587.991\" r=\"14\" fill=\"#009af9\" fill-rule=\"evenodd\" fill-opacity=\"1\" stroke=\"#000000\" stroke-opacity=\"1\" stroke-width=\"3.2\"/>\n",
       "<circle clip-path=\"url(#clip413)\" cx=\"1862.1\" cy=\"345.708\" r=\"14\" fill=\"#009af9\" fill-rule=\"evenodd\" fill-opacity=\"1\" stroke=\"#000000\" stroke-opacity=\"1\" stroke-width=\"3.2\"/>\n",
       "<circle clip-path=\"url(#clip413)\" cx=\"1928.22\" cy=\"544.222\" r=\"14\" fill=\"#009af9\" fill-rule=\"evenodd\" fill-opacity=\"1\" stroke=\"#000000\" stroke-opacity=\"1\" stroke-width=\"3.2\"/>\n",
       "<circle clip-path=\"url(#clip413)\" cx=\"1994.35\" cy=\"394.528\" r=\"14\" fill=\"#009af9\" fill-rule=\"evenodd\" fill-opacity=\"1\" stroke=\"#000000\" stroke-opacity=\"1\" stroke-width=\"3.2\"/>\n",
       "<circle clip-path=\"url(#clip413)\" cx=\"2060.48\" cy=\"628.811\" r=\"14\" fill=\"#009af9\" fill-rule=\"evenodd\" fill-opacity=\"1\" stroke=\"#000000\" stroke-opacity=\"1\" stroke-width=\"3.2\"/>\n",
       "<circle clip-path=\"url(#clip413)\" cx=\"2126.6\" cy=\"188.934\" r=\"14\" fill=\"#009af9\" fill-rule=\"evenodd\" fill-opacity=\"1\" stroke=\"#000000\" stroke-opacity=\"1\" stroke-width=\"3.2\"/>\n",
       "<circle clip-path=\"url(#clip413)\" cx=\"2192.73\" cy=\"256.912\" r=\"14\" fill=\"#009af9\" fill-rule=\"evenodd\" fill-opacity=\"1\" stroke=\"#000000\" stroke-opacity=\"1\" stroke-width=\"3.2\"/>\n",
       "<circle clip-path=\"url(#clip413)\" cx=\"2258.86\" cy=\"228.185\" r=\"14\" fill=\"#009af9\" fill-rule=\"evenodd\" fill-opacity=\"1\" stroke=\"#000000\" stroke-opacity=\"1\" stroke-width=\"3.2\"/>\n",
       "<circle clip-path=\"url(#clip413)\" cx=\"2324.98\" cy=\"668.357\" r=\"14\" fill=\"#009af9\" fill-rule=\"evenodd\" fill-opacity=\"1\" stroke=\"#000000\" stroke-opacity=\"1\" stroke-width=\"3.2\"/>\n",
       "<path clip-path=\"url(#clip410)\" d=\"\n",
       "M186.274 1486.45 L1167.59 1486.45 L1167.59 847.244 L186.274 847.244  Z\n",
       "  \" fill=\"#ffffff\" fill-rule=\"evenodd\" fill-opacity=\"1\"/>\n",
       "<defs>\n",
       "  <clipPath id=\"clip414\">\n",
       "    <rect x=\"186\" y=\"847\" width=\"982\" height=\"640\"/>\n",
       "  </clipPath>\n",
       "</defs>\n",
       "<polyline clip-path=\"url(#clip414)\" style=\"stroke:#000000; stroke-linecap:butt; stroke-linejoin:round; stroke-width:2; stroke-opacity:0.1; fill:none\" points=\"\n",
       "  204.841,1486.45 204.841,847.244 \n",
       "  \"/>\n",
       "<polyline clip-path=\"url(#clip414)\" style=\"stroke:#000000; stroke-linecap:butt; stroke-linejoin:round; stroke-width:2; stroke-opacity:0.1; fill:none\" points=\"\n",
       "  499.899,1486.45 499.899,847.244 \n",
       "  \"/>\n",
       "<polyline clip-path=\"url(#clip414)\" style=\"stroke:#000000; stroke-linecap:butt; stroke-linejoin:round; stroke-width:2; stroke-opacity:0.1; fill:none\" points=\"\n",
       "  794.957,1486.45 794.957,847.244 \n",
       "  \"/>\n",
       "<polyline clip-path=\"url(#clip414)\" style=\"stroke:#000000; stroke-linecap:butt; stroke-linejoin:round; stroke-width:2; stroke-opacity:0.1; fill:none\" points=\"\n",
       "  1090.01,1486.45 1090.01,847.244 \n",
       "  \"/>\n",
       "<polyline clip-path=\"url(#clip410)\" style=\"stroke:#000000; stroke-linecap:butt; stroke-linejoin:round; stroke-width:4; stroke-opacity:1; fill:none\" points=\"\n",
       "  186.274,1486.45 1167.59,1486.45 \n",
       "  \"/>\n",
       "<polyline clip-path=\"url(#clip410)\" style=\"stroke:#000000; stroke-linecap:butt; stroke-linejoin:round; stroke-width:4; stroke-opacity:1; fill:none\" points=\"\n",
       "  204.841,1486.45 204.841,1467.55 \n",
       "  \"/>\n",
       "<polyline clip-path=\"url(#clip410)\" style=\"stroke:#000000; stroke-linecap:butt; stroke-linejoin:round; stroke-width:4; stroke-opacity:1; fill:none\" points=\"\n",
       "  499.899,1486.45 499.899,1467.55 \n",
       "  \"/>\n",
       "<polyline clip-path=\"url(#clip410)\" style=\"stroke:#000000; stroke-linecap:butt; stroke-linejoin:round; stroke-width:4; stroke-opacity:1; fill:none\" points=\"\n",
       "  794.957,1486.45 794.957,1467.55 \n",
       "  \"/>\n",
       "<polyline clip-path=\"url(#clip410)\" style=\"stroke:#000000; stroke-linecap:butt; stroke-linejoin:round; stroke-width:4; stroke-opacity:1; fill:none\" points=\"\n",
       "  1090.01,1486.45 1090.01,1467.55 \n",
       "  \"/>\n",
       "<path clip-path=\"url(#clip410)\" d=\"M204.841 1517.37 Q201.23 1517.37 199.402 1520.93 Q197.596 1524.47 197.596 1531.6 Q197.596 1538.71 199.402 1542.27 Q201.23 1545.82 204.841 1545.82 Q208.476 1545.82 210.281 1542.27 Q212.11 1538.71 212.11 1531.6 Q212.11 1524.47 210.281 1520.93 Q208.476 1517.37 204.841 1517.37 M204.841 1513.66 Q210.652 1513.66 213.707 1518.27 Q216.786 1522.85 216.786 1531.6 Q216.786 1540.33 213.707 1544.94 Q210.652 1549.52 204.841 1549.52 Q199.031 1549.52 195.953 1544.94 Q192.897 1540.33 192.897 1531.6 Q192.897 1522.85 195.953 1518.27 Q199.031 1513.66 204.841 1513.66 Z\" fill=\"#000000\" fill-rule=\"evenodd\" fill-opacity=\"1\" /><path clip-path=\"url(#clip410)\" d=\"M490.177 1514.29 L508.533 1514.29 L508.533 1518.22 L494.459 1518.22 L494.459 1526.7 Q495.478 1526.35 496.496 1526.19 Q497.515 1526 498.533 1526 Q504.32 1526 507.7 1529.17 Q511.08 1532.34 511.08 1537.76 Q511.08 1543.34 507.608 1546.44 Q504.135 1549.52 497.816 1549.52 Q495.64 1549.52 493.371 1549.15 Q491.126 1548.78 488.719 1548.04 L488.719 1543.34 Q490.802 1544.47 493.024 1545.03 Q495.246 1545.58 497.723 1545.58 Q501.728 1545.58 504.066 1543.48 Q506.404 1541.37 506.404 1537.76 Q506.404 1534.15 504.066 1532.04 Q501.728 1529.94 497.723 1529.94 Q495.848 1529.94 493.973 1530.35 Q492.121 1530.77 490.177 1531.65 L490.177 1514.29 Z\" fill=\"#000000\" fill-rule=\"evenodd\" fill-opacity=\"1\" /><path clip-path=\"url(#clip410)\" d=\"M769.645 1544.91 L777.284 1544.91 L777.284 1518.55 L768.973 1520.21 L768.973 1515.95 L777.237 1514.29 L781.913 1514.29 L781.913 1544.91 L789.552 1544.91 L789.552 1548.85 L769.645 1548.85 L769.645 1544.91 Z\" fill=\"#000000\" fill-rule=\"evenodd\" fill-opacity=\"1\" /><path clip-path=\"url(#clip410)\" d=\"M808.996 1517.37 Q805.385 1517.37 803.557 1520.93 Q801.751 1524.47 801.751 1531.6 Q801.751 1538.71 803.557 1542.27 Q805.385 1545.82 808.996 1545.82 Q812.631 1545.82 814.436 1542.27 Q816.265 1538.71 816.265 1531.6 Q816.265 1524.47 814.436 1520.93 Q812.631 1517.37 808.996 1517.37 M808.996 1513.66 Q814.806 1513.66 817.862 1518.27 Q820.941 1522.85 820.941 1531.6 Q820.941 1540.33 817.862 1544.94 Q814.806 1549.52 808.996 1549.52 Q803.186 1549.52 800.107 1544.94 Q797.052 1540.33 797.052 1531.6 Q797.052 1522.85 800.107 1518.27 Q803.186 1513.66 808.996 1513.66 Z\" fill=\"#000000\" fill-rule=\"evenodd\" fill-opacity=\"1\" /><path clip-path=\"url(#clip410)\" d=\"M1065.2 1544.91 L1072.84 1544.91 L1072.84 1518.55 L1064.53 1520.21 L1064.53 1515.95 L1072.79 1514.29 L1077.47 1514.29 L1077.47 1544.91 L1085.11 1544.91 L1085.11 1548.85 L1065.2 1548.85 L1065.2 1544.91 Z\" fill=\"#000000\" fill-rule=\"evenodd\" fill-opacity=\"1\" /><path clip-path=\"url(#clip410)\" d=\"M1094.6 1514.29 L1112.95 1514.29 L1112.95 1518.22 L1098.88 1518.22 L1098.88 1526.7 Q1099.9 1526.35 1100.92 1526.19 Q1101.94 1526 1102.95 1526 Q1108.74 1526 1112.12 1529.17 Q1115.5 1532.34 1115.5 1537.76 Q1115.5 1543.34 1112.03 1546.44 Q1108.56 1549.52 1102.24 1549.52 Q1100.06 1549.52 1097.79 1549.15 Q1095.55 1548.78 1093.14 1548.04 L1093.14 1543.34 Q1095.22 1544.47 1097.45 1545.03 Q1099.67 1545.58 1102.14 1545.58 Q1106.15 1545.58 1108.49 1543.48 Q1110.82 1541.37 1110.82 1537.76 Q1110.82 1534.15 1108.49 1532.04 Q1106.15 1529.94 1102.14 1529.94 Q1100.27 1529.94 1098.39 1530.35 Q1096.54 1530.77 1094.6 1531.65 L1094.6 1514.29 Z\" fill=\"#000000\" fill-rule=\"evenodd\" fill-opacity=\"1\" /><polyline clip-path=\"url(#clip414)\" style=\"stroke:#000000; stroke-linecap:butt; stroke-linejoin:round; stroke-width:2; stroke-opacity:0.1; fill:none\" points=\"\n",
       "  186.274,1468.36 1167.59,1468.36 \n",
       "  \"/>\n",
       "<polyline clip-path=\"url(#clip414)\" style=\"stroke:#000000; stroke-linecap:butt; stroke-linejoin:round; stroke-width:2; stroke-opacity:0.1; fill:none\" points=\"\n",
       "  186.274,1313.46 1167.59,1313.46 \n",
       "  \"/>\n",
       "<polyline clip-path=\"url(#clip414)\" style=\"stroke:#000000; stroke-linecap:butt; stroke-linejoin:round; stroke-width:2; stroke-opacity:0.1; fill:none\" points=\"\n",
       "  186.274,1158.56 1167.59,1158.56 \n",
       "  \"/>\n",
       "<polyline clip-path=\"url(#clip414)\" style=\"stroke:#000000; stroke-linecap:butt; stroke-linejoin:round; stroke-width:2; stroke-opacity:0.1; fill:none\" points=\"\n",
       "  186.274,1003.66 1167.59,1003.66 \n",
       "  \"/>\n",
       "<polyline clip-path=\"url(#clip414)\" style=\"stroke:#000000; stroke-linecap:butt; stroke-linejoin:round; stroke-width:2; stroke-opacity:0.1; fill:none\" points=\"\n",
       "  186.274,848.766 1167.59,848.766 \n",
       "  \"/>\n",
       "<polyline clip-path=\"url(#clip410)\" style=\"stroke:#000000; stroke-linecap:butt; stroke-linejoin:round; stroke-width:4; stroke-opacity:1; fill:none\" points=\"\n",
       "  186.274,1486.45 186.274,847.244 \n",
       "  \"/>\n",
       "<polyline clip-path=\"url(#clip410)\" style=\"stroke:#000000; stroke-linecap:butt; stroke-linejoin:round; stroke-width:4; stroke-opacity:1; fill:none\" points=\"\n",
       "  186.274,1468.36 205.172,1468.36 \n",
       "  \"/>\n",
       "<polyline clip-path=\"url(#clip410)\" style=\"stroke:#000000; stroke-linecap:butt; stroke-linejoin:round; stroke-width:4; stroke-opacity:1; fill:none\" points=\"\n",
       "  186.274,1313.46 205.172,1313.46 \n",
       "  \"/>\n",
       "<polyline clip-path=\"url(#clip410)\" style=\"stroke:#000000; stroke-linecap:butt; stroke-linejoin:round; stroke-width:4; stroke-opacity:1; fill:none\" points=\"\n",
       "  186.274,1158.56 205.172,1158.56 \n",
       "  \"/>\n",
       "<polyline clip-path=\"url(#clip410)\" style=\"stroke:#000000; stroke-linecap:butt; stroke-linejoin:round; stroke-width:4; stroke-opacity:1; fill:none\" points=\"\n",
       "  186.274,1003.66 205.172,1003.66 \n",
       "  \"/>\n",
       "<polyline clip-path=\"url(#clip410)\" style=\"stroke:#000000; stroke-linecap:butt; stroke-linejoin:round; stroke-width:4; stroke-opacity:1; fill:none\" points=\"\n",
       "  186.274,848.766 205.172,848.766 \n",
       "  \"/>\n",
       "<path clip-path=\"url(#clip410)\" d=\"M62.9365 1454.16 Q59.3254 1454.16 57.4967 1457.72 Q55.6912 1461.26 55.6912 1468.39 Q55.6912 1475.5 57.4967 1479.06 Q59.3254 1482.6 62.9365 1482.6 Q66.5707 1482.6 68.3763 1479.06 Q70.205 1475.5 70.205 1468.39 Q70.205 1461.26 68.3763 1457.72 Q66.5707 1454.16 62.9365 1454.16 M62.9365 1450.45 Q68.7467 1450.45 71.8022 1455.06 Q74.8809 1459.64 74.8809 1468.39 Q74.8809 1477.12 71.8022 1481.73 Q68.7467 1486.31 62.9365 1486.31 Q57.1264 1486.31 54.0477 1481.73 Q50.9921 1477.12 50.9921 1468.39 Q50.9921 1459.64 54.0477 1455.06 Q57.1264 1450.45 62.9365 1450.45 Z\" fill=\"#000000\" fill-rule=\"evenodd\" fill-opacity=\"1\" /><path clip-path=\"url(#clip410)\" d=\"M83.0984 1479.76 L87.9827 1479.76 L87.9827 1485.64 L83.0984 1485.64 L83.0984 1479.76 Z\" fill=\"#000000\" fill-rule=\"evenodd\" fill-opacity=\"1\" /><path clip-path=\"url(#clip410)\" d=\"M108.168 1454.16 Q104.557 1454.16 102.728 1457.72 Q100.922 1461.26 100.922 1468.39 Q100.922 1475.5 102.728 1479.06 Q104.557 1482.6 108.168 1482.6 Q111.802 1482.6 113.608 1479.06 Q115.436 1475.5 115.436 1468.39 Q115.436 1461.26 113.608 1457.72 Q111.802 1454.16 108.168 1454.16 M108.168 1450.45 Q113.978 1450.45 117.033 1455.06 Q120.112 1459.64 120.112 1468.39 Q120.112 1477.12 117.033 1481.73 Q113.978 1486.31 108.168 1486.31 Q102.358 1486.31 99.2789 1481.73 Q96.2234 1477.12 96.2234 1468.39 Q96.2234 1459.64 99.2789 1455.06 Q102.358 1450.45 108.168 1450.45 Z\" fill=\"#000000\" fill-rule=\"evenodd\" fill-opacity=\"1\" /><path clip-path=\"url(#clip410)\" d=\"M138.33 1454.16 Q134.719 1454.16 132.89 1457.72 Q131.084 1461.26 131.084 1468.39 Q131.084 1475.5 132.89 1479.06 Q134.719 1482.6 138.33 1482.6 Q141.964 1482.6 143.769 1479.06 Q145.598 1475.5 145.598 1468.39 Q145.598 1461.26 143.769 1457.72 Q141.964 1454.16 138.33 1454.16 M138.33 1450.45 Q144.14 1450.45 147.195 1455.06 Q150.274 1459.64 150.274 1468.39 Q150.274 1477.12 147.195 1481.73 Q144.14 1486.31 138.33 1486.31 Q132.519 1486.31 129.441 1481.73 Q126.385 1477.12 126.385 1468.39 Q126.385 1459.64 129.441 1455.06 Q132.519 1450.45 138.33 1450.45 Z\" fill=\"#000000\" fill-rule=\"evenodd\" fill-opacity=\"1\" /><path clip-path=\"url(#clip410)\" d=\"M63.9319 1299.26 Q60.3208 1299.26 58.4921 1302.82 Q56.6865 1306.36 56.6865 1313.49 Q56.6865 1320.6 58.4921 1324.17 Q60.3208 1327.71 63.9319 1327.71 Q67.5661 1327.71 69.3717 1324.17 Q71.2004 1320.6 71.2004 1313.49 Q71.2004 1306.36 69.3717 1302.82 Q67.5661 1299.26 63.9319 1299.26 M63.9319 1295.55 Q69.742 1295.55 72.7976 1300.16 Q75.8763 1304.74 75.8763 1313.49 Q75.8763 1322.22 72.7976 1326.83 Q69.742 1331.41 63.9319 1331.41 Q58.1217 1331.41 55.043 1326.83 Q51.9875 1322.22 51.9875 1313.49 Q51.9875 1304.74 55.043 1300.16 Q58.1217 1295.55 63.9319 1295.55 Z\" fill=\"#000000\" fill-rule=\"evenodd\" fill-opacity=\"1\" /><path clip-path=\"url(#clip410)\" d=\"M84.0938 1324.86 L88.978 1324.86 L88.978 1330.74 L84.0938 1330.74 L84.0938 1324.86 Z\" fill=\"#000000\" fill-rule=\"evenodd\" fill-opacity=\"1\" /><path clip-path=\"url(#clip410)\" d=\"M103.191 1326.8 L119.51 1326.8 L119.51 1330.74 L97.566 1330.74 L97.566 1326.8 Q100.228 1324.05 104.811 1319.42 Q109.418 1314.77 110.598 1313.42 Q112.844 1310.9 113.723 1309.17 Q114.626 1307.41 114.626 1305.72 Q114.626 1302.96 112.682 1301.23 Q110.76 1299.49 107.658 1299.49 Q105.459 1299.49 103.006 1300.25 Q100.575 1301.02 97.7974 1302.57 L97.7974 1297.85 Q100.621 1296.71 103.075 1296.13 Q105.529 1295.55 107.566 1295.55 Q112.936 1295.55 116.131 1298.24 Q119.325 1300.92 119.325 1305.42 Q119.325 1307.55 118.515 1309.47 Q117.728 1311.36 115.621 1313.96 Q115.043 1314.63 111.941 1317.85 Q108.839 1321.04 103.191 1326.8 Z\" fill=\"#000000\" fill-rule=\"evenodd\" fill-opacity=\"1\" /><path clip-path=\"url(#clip410)\" d=\"M129.371 1296.18 L147.728 1296.18 L147.728 1300.11 L133.654 1300.11 L133.654 1308.59 Q134.672 1308.24 135.691 1308.08 Q136.709 1307.89 137.728 1307.89 Q143.515 1307.89 146.894 1311.06 Q150.274 1314.23 150.274 1319.65 Q150.274 1325.23 146.802 1328.33 Q143.33 1331.41 137.01 1331.41 Q134.834 1331.41 132.566 1331.04 Q130.32 1330.67 127.913 1329.93 L127.913 1325.23 Q129.996 1326.36 132.219 1326.92 Q134.441 1327.48 136.918 1327.48 Q140.922 1327.48 143.26 1325.37 Q145.598 1323.26 145.598 1319.65 Q145.598 1316.04 143.26 1313.93 Q140.922 1311.83 136.918 1311.83 Q135.043 1311.83 133.168 1312.24 Q131.316 1312.66 129.371 1313.54 L129.371 1296.18 Z\" fill=\"#000000\" fill-rule=\"evenodd\" fill-opacity=\"1\" /><path clip-path=\"url(#clip410)\" d=\"M62.9365 1144.36 Q59.3254 1144.36 57.4967 1147.93 Q55.6912 1151.47 55.6912 1158.6 Q55.6912 1165.7 57.4967 1169.27 Q59.3254 1172.81 62.9365 1172.81 Q66.5707 1172.81 68.3763 1169.27 Q70.205 1165.7 70.205 1158.6 Q70.205 1151.47 68.3763 1147.93 Q66.5707 1144.36 62.9365 1144.36 M62.9365 1140.66 Q68.7467 1140.66 71.8022 1145.26 Q74.8809 1149.85 74.8809 1158.6 Q74.8809 1167.32 71.8022 1171.93 Q68.7467 1176.51 62.9365 1176.51 Q57.1264 1176.51 54.0477 1171.93 Q50.9921 1167.32 50.9921 1158.6 Q50.9921 1149.85 54.0477 1145.26 Q57.1264 1140.66 62.9365 1140.66 Z\" fill=\"#000000\" fill-rule=\"evenodd\" fill-opacity=\"1\" /><path clip-path=\"url(#clip410)\" d=\"M83.0984 1169.96 L87.9827 1169.96 L87.9827 1175.84 L83.0984 1175.84 L83.0984 1169.96 Z\" fill=\"#000000\" fill-rule=\"evenodd\" fill-opacity=\"1\" /><path clip-path=\"url(#clip410)\" d=\"M98.2141 1141.28 L116.57 1141.28 L116.57 1145.22 L102.496 1145.22 L102.496 1153.69 Q103.515 1153.34 104.534 1153.18 Q105.552 1152.99 106.571 1152.99 Q112.358 1152.99 115.737 1156.17 Q119.117 1159.34 119.117 1164.75 Q119.117 1170.33 115.645 1173.43 Q112.172 1176.51 105.853 1176.51 Q103.677 1176.51 101.409 1176.14 Q99.1632 1175.77 96.7558 1175.03 L96.7558 1170.33 Q98.8391 1171.47 101.061 1172.02 Q103.284 1172.58 105.76 1172.58 Q109.765 1172.58 112.103 1170.47 Q114.441 1168.36 114.441 1164.75 Q114.441 1161.14 112.103 1159.04 Q109.765 1156.93 105.76 1156.93 Q103.885 1156.93 102.01 1157.35 Q100.159 1157.76 98.2141 1158.64 L98.2141 1141.28 Z\" fill=\"#000000\" fill-rule=\"evenodd\" fill-opacity=\"1\" /><path clip-path=\"url(#clip410)\" d=\"M138.33 1144.36 Q134.719 1144.36 132.89 1147.93 Q131.084 1151.47 131.084 1158.6 Q131.084 1165.7 132.89 1169.27 Q134.719 1172.81 138.33 1172.81 Q141.964 1172.81 143.769 1169.27 Q145.598 1165.7 145.598 1158.6 Q145.598 1151.47 143.769 1147.93 Q141.964 1144.36 138.33 1144.36 M138.33 1140.66 Q144.14 1140.66 147.195 1145.26 Q150.274 1149.85 150.274 1158.6 Q150.274 1167.32 147.195 1171.93 Q144.14 1176.51 138.33 1176.51 Q132.519 1176.51 129.441 1171.93 Q126.385 1167.32 126.385 1158.6 Q126.385 1149.85 129.441 1145.26 Q132.519 1140.66 138.33 1140.66 Z\" fill=\"#000000\" fill-rule=\"evenodd\" fill-opacity=\"1\" /><path clip-path=\"url(#clip410)\" d=\"M63.9319 989.462 Q60.3208 989.462 58.4921 993.027 Q56.6865 996.569 56.6865 1003.7 Q56.6865 1010.8 58.4921 1014.37 Q60.3208 1017.91 63.9319 1017.91 Q67.5661 1017.91 69.3717 1014.37 Q71.2004 1010.8 71.2004 1003.7 Q71.2004 996.569 69.3717 993.027 Q67.5661 989.462 63.9319 989.462 M63.9319 985.759 Q69.742 985.759 72.7976 990.365 Q75.8763 994.948 75.8763 1003.7 Q75.8763 1012.43 72.7976 1017.03 Q69.742 1021.62 63.9319 1021.62 Q58.1217 1021.62 55.043 1017.03 Q51.9875 1012.43 51.9875 1003.7 Q51.9875 994.948 55.043 990.365 Q58.1217 985.759 63.9319 985.759 Z\" fill=\"#000000\" fill-rule=\"evenodd\" fill-opacity=\"1\" /><path clip-path=\"url(#clip410)\" d=\"M84.0938 1015.06 L88.978 1015.06 L88.978 1020.94 L84.0938 1020.94 L84.0938 1015.06 Z\" fill=\"#000000\" fill-rule=\"evenodd\" fill-opacity=\"1\" /><path clip-path=\"url(#clip410)\" d=\"M97.9826 986.384 L120.205 986.384 L120.205 988.374 L107.658 1020.94 L102.774 1020.94 L114.58 990.319 L97.9826 990.319 L97.9826 986.384 Z\" fill=\"#000000\" fill-rule=\"evenodd\" fill-opacity=\"1\" /><path clip-path=\"url(#clip410)\" d=\"M129.371 986.384 L147.728 986.384 L147.728 990.319 L133.654 990.319 L133.654 998.791 Q134.672 998.444 135.691 998.282 Q136.709 998.097 137.728 998.097 Q143.515 998.097 146.894 1001.27 Q150.274 1004.44 150.274 1009.86 Q150.274 1015.43 146.802 1018.54 Q143.33 1021.62 137.01 1021.62 Q134.834 1021.62 132.566 1021.24 Q130.32 1020.87 127.913 1020.13 L127.913 1015.43 Q129.996 1016.57 132.219 1017.12 Q134.441 1017.68 136.918 1017.68 Q140.922 1017.68 143.26 1015.57 Q145.598 1013.47 145.598 1009.86 Q145.598 1006.24 143.26 1004.14 Q140.922 1002.03 136.918 1002.03 Q135.043 1002.03 133.168 1002.45 Q131.316 1002.87 129.371 1003.74 L129.371 986.384 Z\" fill=\"#000000\" fill-rule=\"evenodd\" fill-opacity=\"1\" /><path clip-path=\"url(#clip410)\" d=\"M53.7467 862.111 L61.3856 862.111 L61.3856 835.745 L53.0754 837.412 L53.0754 833.153 L61.3393 831.486 L66.0152 831.486 L66.0152 862.111 L73.654 862.111 L73.654 866.046 L53.7467 866.046 L53.7467 862.111 Z\" fill=\"#000000\" fill-rule=\"evenodd\" fill-opacity=\"1\" /><path clip-path=\"url(#clip410)\" d=\"M83.0984 860.166 L87.9827 860.166 L87.9827 866.046 L83.0984 866.046 L83.0984 860.166 Z\" fill=\"#000000\" fill-rule=\"evenodd\" fill-opacity=\"1\" /><path clip-path=\"url(#clip410)\" d=\"M108.168 834.565 Q104.557 834.565 102.728 838.129 Q100.922 841.671 100.922 848.801 Q100.922 855.907 102.728 859.472 Q104.557 863.014 108.168 863.014 Q111.802 863.014 113.608 859.472 Q115.436 855.907 115.436 848.801 Q115.436 841.671 113.608 838.129 Q111.802 834.565 108.168 834.565 M108.168 830.861 Q113.978 830.861 117.033 835.467 Q120.112 840.051 120.112 848.801 Q120.112 857.527 117.033 862.134 Q113.978 866.717 108.168 866.717 Q102.358 866.717 99.2789 862.134 Q96.2234 857.527 96.2234 848.801 Q96.2234 840.051 99.2789 835.467 Q102.358 830.861 108.168 830.861 Z\" fill=\"#000000\" fill-rule=\"evenodd\" fill-opacity=\"1\" /><path clip-path=\"url(#clip410)\" d=\"M138.33 834.565 Q134.719 834.565 132.89 838.129 Q131.084 841.671 131.084 848.801 Q131.084 855.907 132.89 859.472 Q134.719 863.014 138.33 863.014 Q141.964 863.014 143.769 859.472 Q145.598 855.907 145.598 848.801 Q145.598 841.671 143.769 838.129 Q141.964 834.565 138.33 834.565 M138.33 830.861 Q144.14 830.861 147.195 835.467 Q150.274 840.051 150.274 848.801 Q150.274 857.527 147.195 862.134 Q144.14 866.717 138.33 866.717 Q132.519 866.717 129.441 862.134 Q126.385 857.527 126.385 848.801 Q126.385 840.051 129.441 835.467 Q132.519 830.861 138.33 830.861 Z\" fill=\"#000000\" fill-rule=\"evenodd\" fill-opacity=\"1\" /><path clip-path=\"url(#clip414)\" d=\"\n",
       "M240.248 1148.76 L240.248 1468.36 L287.458 1468.36 L287.458 1148.76 L240.248 1148.76 L240.248 1148.76  Z\n",
       "  \" fill=\"#009af9\" fill-rule=\"evenodd\" fill-opacity=\"1\"/>\n",
       "<polyline clip-path=\"url(#clip414)\" style=\"stroke:#000000; stroke-linecap:butt; stroke-linejoin:round; stroke-width:4; stroke-opacity:1; fill:none\" points=\"\n",
       "  240.248,1148.76 240.248,1468.36 287.458,1468.36 287.458,1148.76 240.248,1148.76 \n",
       "  \"/>\n",
       "<path clip-path=\"url(#clip414)\" d=\"\n",
       "M299.26 1298.22 L299.26 1468.36 L346.469 1468.36 L346.469 1298.22 L299.26 1298.22 L299.26 1298.22  Z\n",
       "  \" fill=\"#009af9\" fill-rule=\"evenodd\" fill-opacity=\"1\"/>\n",
       "<polyline clip-path=\"url(#clip414)\" style=\"stroke:#000000; stroke-linecap:butt; stroke-linejoin:round; stroke-width:4; stroke-opacity:1; fill:none\" points=\"\n",
       "  299.26,1298.22 299.26,1468.36 346.469,1468.36 346.469,1298.22 299.26,1298.22 \n",
       "  \"/>\n",
       "<path clip-path=\"url(#clip414)\" d=\"\n",
       "M358.271 865.335 L358.271 1468.36 L405.481 1468.36 L405.481 865.335 L358.271 865.335 L358.271 865.335  Z\n",
       "  \" fill=\"#009af9\" fill-rule=\"evenodd\" fill-opacity=\"1\"/>\n",
       "<polyline clip-path=\"url(#clip414)\" style=\"stroke:#000000; stroke-linecap:butt; stroke-linejoin:round; stroke-width:4; stroke-opacity:1; fill:none\" points=\"\n",
       "  358.271,865.335 358.271,1468.36 405.481,1468.36 405.481,865.335 358.271,865.335 \n",
       "  \"/>\n",
       "<path clip-path=\"url(#clip414)\" d=\"\n",
       "M417.283 1416.89 L417.283 1468.36 L464.492 1468.36 L464.492 1416.89 L417.283 1416.89 L417.283 1416.89  Z\n",
       "  \" fill=\"#009af9\" fill-rule=\"evenodd\" fill-opacity=\"1\"/>\n",
       "<polyline clip-path=\"url(#clip414)\" style=\"stroke:#000000; stroke-linecap:butt; stroke-linejoin:round; stroke-width:4; stroke-opacity:1; fill:none\" points=\"\n",
       "  417.283,1416.89 417.283,1468.36 464.492,1468.36 464.492,1416.89 417.283,1416.89 \n",
       "  \"/>\n",
       "<path clip-path=\"url(#clip414)\" d=\"\n",
       "M476.295 1319.39 L476.295 1468.36 L523.504 1468.36 L523.504 1319.39 L476.295 1319.39 L476.295 1319.39  Z\n",
       "  \" fill=\"#009af9\" fill-rule=\"evenodd\" fill-opacity=\"1\"/>\n",
       "<polyline clip-path=\"url(#clip414)\" style=\"stroke:#000000; stroke-linecap:butt; stroke-linejoin:round; stroke-width:4; stroke-opacity:1; fill:none\" points=\"\n",
       "  476.295,1319.39 476.295,1468.36 523.504,1468.36 523.504,1319.39 476.295,1319.39 \n",
       "  \"/>\n",
       "<path clip-path=\"url(#clip414)\" d=\"\n",
       "M535.306 987.156 L535.306 1468.36 L582.515 1468.36 L582.515 987.156 L535.306 987.156 L535.306 987.156  Z\n",
       "  \" fill=\"#009af9\" fill-rule=\"evenodd\" fill-opacity=\"1\"/>\n",
       "<polyline clip-path=\"url(#clip414)\" style=\"stroke:#000000; stroke-linecap:butt; stroke-linejoin:round; stroke-width:4; stroke-opacity:1; fill:none\" points=\"\n",
       "  535.306,987.156 535.306,1468.36 582.515,1468.36 582.515,987.156 535.306,987.156 \n",
       "  \"/>\n",
       "<path clip-path=\"url(#clip414)\" d=\"\n",
       "M594.318 1363.01 L594.318 1468.36 L641.527 1468.36 L641.527 1363.01 L594.318 1363.01 L594.318 1363.01  Z\n",
       "  \" fill=\"#009af9\" fill-rule=\"evenodd\" fill-opacity=\"1\"/>\n",
       "<polyline clip-path=\"url(#clip414)\" style=\"stroke:#000000; stroke-linecap:butt; stroke-linejoin:round; stroke-width:4; stroke-opacity:1; fill:none\" points=\"\n",
       "  594.318,1363.01 594.318,1468.36 641.527,1468.36 641.527,1363.01 594.318,1363.01 \n",
       "  \"/>\n",
       "<path clip-path=\"url(#clip414)\" d=\"\n",
       "M653.329 1132.31 L653.329 1468.36 L700.539 1468.36 L700.539 1132.31 L653.329 1132.31 L653.329 1132.31  Z\n",
       "  \" fill=\"#009af9\" fill-rule=\"evenodd\" fill-opacity=\"1\"/>\n",
       "<polyline clip-path=\"url(#clip414)\" style=\"stroke:#000000; stroke-linecap:butt; stroke-linejoin:round; stroke-width:4; stroke-opacity:1; fill:none\" points=\"\n",
       "  653.329,1132.31 653.329,1468.36 700.539,1468.36 700.539,1132.31 653.329,1132.31 \n",
       "  \"/>\n",
       "<path clip-path=\"url(#clip414)\" d=\"\n",
       "M712.341 1321.34 L712.341 1468.36 L759.55 1468.36 L759.55 1321.34 L712.341 1321.34 L712.341 1321.34  Z\n",
       "  \" fill=\"#009af9\" fill-rule=\"evenodd\" fill-opacity=\"1\"/>\n",
       "<polyline clip-path=\"url(#clip414)\" style=\"stroke:#000000; stroke-linecap:butt; stroke-linejoin:round; stroke-width:4; stroke-opacity:1; fill:none\" points=\"\n",
       "  712.341,1321.34 712.341,1468.36 759.55,1468.36 759.55,1321.34 712.341,1321.34 \n",
       "  \"/>\n",
       "<path clip-path=\"url(#clip414)\" d=\"\n",
       "M771.352 1178.8 L771.352 1468.36 L818.562 1468.36 L818.562 1178.8 L771.352 1178.8 L771.352 1178.8  Z\n",
       "  \" fill=\"#009af9\" fill-rule=\"evenodd\" fill-opacity=\"1\"/>\n",
       "<polyline clip-path=\"url(#clip414)\" style=\"stroke:#000000; stroke-linecap:butt; stroke-linejoin:round; stroke-width:4; stroke-opacity:1; fill:none\" points=\"\n",
       "  771.352,1178.8 771.352,1468.36 818.562,1468.36 818.562,1178.8 771.352,1178.8 \n",
       "  \"/>\n",
       "<path clip-path=\"url(#clip414)\" d=\"\n",
       "M830.364 1401.88 L830.364 1468.36 L877.573 1468.36 L877.573 1401.88 L830.364 1401.88 L830.364 1401.88  Z\n",
       "  \" fill=\"#009af9\" fill-rule=\"evenodd\" fill-opacity=\"1\"/>\n",
       "<polyline clip-path=\"url(#clip414)\" style=\"stroke:#000000; stroke-linecap:butt; stroke-linejoin:round; stroke-width:4; stroke-opacity:1; fill:none\" points=\"\n",
       "  830.364,1401.88 830.364,1468.36 877.573,1468.36 877.573,1401.88 830.364,1401.88 \n",
       "  \"/>\n",
       "<path clip-path=\"url(#clip414)\" d=\"\n",
       "M889.376 983.028 L889.376 1468.36 L936.585 1468.36 L936.585 983.028 L889.376 983.028 L889.376 983.028  Z\n",
       "  \" fill=\"#009af9\" fill-rule=\"evenodd\" fill-opacity=\"1\"/>\n",
       "<polyline clip-path=\"url(#clip414)\" style=\"stroke:#000000; stroke-linecap:butt; stroke-linejoin:round; stroke-width:4; stroke-opacity:1; fill:none\" points=\"\n",
       "  889.376,983.028 889.376,1468.36 936.585,1468.36 936.585,983.028 889.376,983.028 \n",
       "  \"/>\n",
       "<path clip-path=\"url(#clip414)\" d=\"\n",
       "M948.387 1047.76 L948.387 1468.36 L995.596 1468.36 L995.596 1047.76 L948.387 1047.76 L948.387 1047.76  Z\n",
       "  \" fill=\"#009af9\" fill-rule=\"evenodd\" fill-opacity=\"1\"/>\n",
       "<polyline clip-path=\"url(#clip414)\" style=\"stroke:#000000; stroke-linecap:butt; stroke-linejoin:round; stroke-width:4; stroke-opacity:1; fill:none\" points=\"\n",
       "  948.387,1047.76 948.387,1468.36 995.596,1468.36 995.596,1047.76 948.387,1047.76 \n",
       "  \"/>\n",
       "<path clip-path=\"url(#clip414)\" d=\"\n",
       "M1007.4 1020.4 L1007.4 1468.36 L1054.61 1468.36 L1054.61 1020.4 L1007.4 1020.4 L1007.4 1020.4  Z\n",
       "  \" fill=\"#009af9\" fill-rule=\"evenodd\" fill-opacity=\"1\"/>\n",
       "<polyline clip-path=\"url(#clip414)\" style=\"stroke:#000000; stroke-linecap:butt; stroke-linejoin:round; stroke-width:4; stroke-opacity:1; fill:none\" points=\"\n",
       "  1007.4,1020.4 1007.4,1468.36 1054.61,1468.36 1054.61,1020.4 1007.4,1020.4 \n",
       "  \"/>\n",
       "<path clip-path=\"url(#clip414)\" d=\"\n",
       "M1066.41 1439.54 L1066.41 1468.36 L1113.62 1468.36 L1113.62 1439.54 L1066.41 1439.54 L1066.41 1439.54  Z\n",
       "  \" fill=\"#009af9\" fill-rule=\"evenodd\" fill-opacity=\"1\"/>\n",
       "<polyline clip-path=\"url(#clip414)\" style=\"stroke:#000000; stroke-linecap:butt; stroke-linejoin:round; stroke-width:4; stroke-opacity:1; fill:none\" points=\"\n",
       "  1066.41,1439.54 1066.41,1468.36 1113.62,1468.36 1113.62,1439.54 1066.41,1439.54 \n",
       "  \"/>\n",
       "<circle clip-path=\"url(#clip414)\" style=\"fill:#009af9; stroke:none; fill-opacity:0\" cx=\"263.853\" cy=\"1148.76\" r=\"2\"/>\n",
       "<circle clip-path=\"url(#clip414)\" style=\"fill:#009af9; stroke:none; fill-opacity:0\" cx=\"322.865\" cy=\"1298.22\" r=\"2\"/>\n",
       "<circle clip-path=\"url(#clip414)\" style=\"fill:#009af9; stroke:none; fill-opacity:0\" cx=\"381.876\" cy=\"865.335\" r=\"2\"/>\n",
       "<circle clip-path=\"url(#clip414)\" style=\"fill:#009af9; stroke:none; fill-opacity:0\" cx=\"440.888\" cy=\"1416.89\" r=\"2\"/>\n",
       "<circle clip-path=\"url(#clip414)\" style=\"fill:#009af9; stroke:none; fill-opacity:0\" cx=\"499.899\" cy=\"1319.39\" r=\"2\"/>\n",
       "<circle clip-path=\"url(#clip414)\" style=\"fill:#009af9; stroke:none; fill-opacity:0\" cx=\"558.911\" cy=\"987.156\" r=\"2\"/>\n",
       "<circle clip-path=\"url(#clip414)\" style=\"fill:#009af9; stroke:none; fill-opacity:0\" cx=\"617.922\" cy=\"1363.01\" r=\"2\"/>\n",
       "<circle clip-path=\"url(#clip414)\" style=\"fill:#009af9; stroke:none; fill-opacity:0\" cx=\"676.934\" cy=\"1132.31\" r=\"2\"/>\n",
       "<circle clip-path=\"url(#clip414)\" style=\"fill:#009af9; stroke:none; fill-opacity:0\" cx=\"735.945\" cy=\"1321.34\" r=\"2\"/>\n",
       "<circle clip-path=\"url(#clip414)\" style=\"fill:#009af9; stroke:none; fill-opacity:0\" cx=\"794.957\" cy=\"1178.8\" r=\"2\"/>\n",
       "<circle clip-path=\"url(#clip414)\" style=\"fill:#009af9; stroke:none; fill-opacity:0\" cx=\"853.969\" cy=\"1401.88\" r=\"2\"/>\n",
       "<circle clip-path=\"url(#clip414)\" style=\"fill:#009af9; stroke:none; fill-opacity:0\" cx=\"912.98\" cy=\"983.028\" r=\"2\"/>\n",
       "<circle clip-path=\"url(#clip414)\" style=\"fill:#009af9; stroke:none; fill-opacity:0\" cx=\"971.992\" cy=\"1047.76\" r=\"2\"/>\n",
       "<circle clip-path=\"url(#clip414)\" style=\"fill:#009af9; stroke:none; fill-opacity:0\" cx=\"1031\" cy=\"1020.4\" r=\"2\"/>\n",
       "<circle clip-path=\"url(#clip414)\" style=\"fill:#009af9; stroke:none; fill-opacity:0\" cx=\"1090.01\" cy=\"1439.54\" r=\"2\"/>\n",
       "<path clip-path=\"url(#clip410)\" d=\"\n",
       "M1371.44 1486.45 L2352.76 1486.45 L2352.76 847.244 L1371.44 847.244  Z\n",
       "  \" fill=\"#ffffff\" fill-rule=\"evenodd\" fill-opacity=\"1\"/>\n",
       "<defs>\n",
       "  <clipPath id=\"clip415\">\n",
       "    <rect x=\"1371\" y=\"847\" width=\"982\" height=\"640\"/>\n",
       "  </clipPath>\n",
       "</defs>\n",
       "<polyline clip-path=\"url(#clip415)\" style=\"stroke:#000000; stroke-linecap:butt; stroke-linejoin:round; stroke-width:2; stroke-opacity:0.1; fill:none\" points=\"\n",
       "  1425.41,1486.45 1425.41,847.244 \n",
       "  \"/>\n",
       "<polyline clip-path=\"url(#clip415)\" style=\"stroke:#000000; stroke-linecap:butt; stroke-linejoin:round; stroke-width:2; stroke-opacity:0.1; fill:none\" points=\"\n",
       "  1643.75,1486.45 1643.75,847.244 \n",
       "  \"/>\n",
       "<polyline clip-path=\"url(#clip415)\" style=\"stroke:#000000; stroke-linecap:butt; stroke-linejoin:round; stroke-width:2; stroke-opacity:0.1; fill:none\" points=\"\n",
       "  1862.1,1486.45 1862.1,847.244 \n",
       "  \"/>\n",
       "<polyline clip-path=\"url(#clip415)\" style=\"stroke:#000000; stroke-linecap:butt; stroke-linejoin:round; stroke-width:2; stroke-opacity:0.1; fill:none\" points=\"\n",
       "  2080.44,1486.45 2080.44,847.244 \n",
       "  \"/>\n",
       "<polyline clip-path=\"url(#clip415)\" style=\"stroke:#000000; stroke-linecap:butt; stroke-linejoin:round; stroke-width:2; stroke-opacity:0.1; fill:none\" points=\"\n",
       "  2298.78,1486.45 2298.78,847.244 \n",
       "  \"/>\n",
       "<polyline clip-path=\"url(#clip410)\" style=\"stroke:#000000; stroke-linecap:butt; stroke-linejoin:round; stroke-width:4; stroke-opacity:1; fill:none\" points=\"\n",
       "  1371.44,1486.45 2352.76,1486.45 \n",
       "  \"/>\n",
       "<polyline clip-path=\"url(#clip410)\" style=\"stroke:#000000; stroke-linecap:butt; stroke-linejoin:round; stroke-width:4; stroke-opacity:1; fill:none\" points=\"\n",
       "  1425.41,1486.45 1425.41,1467.55 \n",
       "  \"/>\n",
       "<polyline clip-path=\"url(#clip410)\" style=\"stroke:#000000; stroke-linecap:butt; stroke-linejoin:round; stroke-width:4; stroke-opacity:1; fill:none\" points=\"\n",
       "  1643.75,1486.45 1643.75,1467.55 \n",
       "  \"/>\n",
       "<polyline clip-path=\"url(#clip410)\" style=\"stroke:#000000; stroke-linecap:butt; stroke-linejoin:round; stroke-width:4; stroke-opacity:1; fill:none\" points=\"\n",
       "  1862.1,1486.45 1862.1,1467.55 \n",
       "  \"/>\n",
       "<polyline clip-path=\"url(#clip410)\" style=\"stroke:#000000; stroke-linecap:butt; stroke-linejoin:round; stroke-width:4; stroke-opacity:1; fill:none\" points=\"\n",
       "  2080.44,1486.45 2080.44,1467.55 \n",
       "  \"/>\n",
       "<polyline clip-path=\"url(#clip410)\" style=\"stroke:#000000; stroke-linecap:butt; stroke-linejoin:round; stroke-width:4; stroke-opacity:1; fill:none\" points=\"\n",
       "  2298.78,1486.45 2298.78,1467.55 \n",
       "  \"/>\n",
       "<path clip-path=\"url(#clip410)\" d=\"M1387.71 1517.37 Q1384.1 1517.37 1382.27 1520.93 Q1380.47 1524.47 1380.47 1531.6 Q1380.47 1538.71 1382.27 1542.27 Q1384.1 1545.82 1387.71 1545.82 Q1391.35 1545.82 1393.15 1542.27 Q1394.98 1538.71 1394.98 1531.6 Q1394.98 1524.47 1393.15 1520.93 Q1391.35 1517.37 1387.71 1517.37 M1387.71 1513.66 Q1393.52 1513.66 1396.58 1518.27 Q1399.66 1522.85 1399.66 1531.6 Q1399.66 1540.33 1396.58 1544.94 Q1393.52 1549.52 1387.71 1549.52 Q1381.9 1549.52 1378.83 1544.94 Q1375.77 1540.33 1375.77 1531.6 Q1375.77 1522.85 1378.83 1518.27 Q1381.9 1513.66 1387.71 1513.66 Z\" fill=\"#000000\" fill-rule=\"evenodd\" fill-opacity=\"1\" /><path clip-path=\"url(#clip410)\" d=\"M1407.88 1542.97 L1412.76 1542.97 L1412.76 1548.85 L1407.88 1548.85 L1407.88 1542.97 Z\" fill=\"#000000\" fill-rule=\"evenodd\" fill-opacity=\"1\" /><path clip-path=\"url(#clip410)\" d=\"M1432.95 1517.37 Q1429.33 1517.37 1427.51 1520.93 Q1425.7 1524.47 1425.7 1531.6 Q1425.7 1538.71 1427.51 1542.27 Q1429.33 1545.82 1432.95 1545.82 Q1436.58 1545.82 1438.38 1542.27 Q1440.21 1538.71 1440.21 1531.6 Q1440.21 1524.47 1438.38 1520.93 Q1436.58 1517.37 1432.95 1517.37 M1432.95 1513.66 Q1438.76 1513.66 1441.81 1518.27 Q1444.89 1522.85 1444.89 1531.6 Q1444.89 1540.33 1441.81 1544.94 Q1438.76 1549.52 1432.95 1549.52 Q1427.13 1549.52 1424.06 1544.94 Q1421 1540.33 1421 1531.6 Q1421 1522.85 1424.06 1518.27 Q1427.13 1513.66 1432.95 1513.66 Z\" fill=\"#000000\" fill-rule=\"evenodd\" fill-opacity=\"1\" /><path clip-path=\"url(#clip410)\" d=\"M1463.11 1517.37 Q1459.5 1517.37 1457.67 1520.93 Q1455.86 1524.47 1455.86 1531.6 Q1455.86 1538.71 1457.67 1542.27 Q1459.5 1545.82 1463.11 1545.82 Q1466.74 1545.82 1468.55 1542.27 Q1470.38 1538.71 1470.38 1531.6 Q1470.38 1524.47 1468.55 1520.93 Q1466.74 1517.37 1463.11 1517.37 M1463.11 1513.66 Q1468.92 1513.66 1471.97 1518.27 Q1475.05 1522.85 1475.05 1531.6 Q1475.05 1540.33 1471.97 1544.94 Q1468.92 1549.52 1463.11 1549.52 Q1457.3 1549.52 1454.22 1544.94 Q1451.16 1540.33 1451.16 1531.6 Q1451.16 1522.85 1454.22 1518.27 Q1457.3 1513.66 1463.11 1513.66 Z\" fill=\"#000000\" fill-rule=\"evenodd\" fill-opacity=\"1\" /><path clip-path=\"url(#clip410)\" d=\"M1606.55 1517.37 Q1602.94 1517.37 1601.11 1520.93 Q1599.31 1524.47 1599.31 1531.6 Q1599.31 1538.71 1601.11 1542.27 Q1602.94 1545.82 1606.55 1545.82 Q1610.19 1545.82 1611.99 1542.27 Q1613.82 1538.71 1613.82 1531.6 Q1613.82 1524.47 1611.99 1520.93 Q1610.19 1517.37 1606.55 1517.37 M1606.55 1513.66 Q1612.36 1513.66 1615.42 1518.27 Q1618.5 1522.85 1618.5 1531.6 Q1618.5 1540.33 1615.42 1544.94 Q1612.36 1549.52 1606.55 1549.52 Q1600.74 1549.52 1597.67 1544.94 Q1594.61 1540.33 1594.61 1531.6 Q1594.61 1522.85 1597.67 1518.27 Q1600.74 1513.66 1606.55 1513.66 Z\" fill=\"#000000\" fill-rule=\"evenodd\" fill-opacity=\"1\" /><path clip-path=\"url(#clip410)\" d=\"M1626.72 1542.97 L1631.6 1542.97 L1631.6 1548.85 L1626.72 1548.85 L1626.72 1542.97 Z\" fill=\"#000000\" fill-rule=\"evenodd\" fill-opacity=\"1\" /><path clip-path=\"url(#clip410)\" d=\"M1645.81 1544.91 L1662.13 1544.91 L1662.13 1548.85 L1640.19 1548.85 L1640.19 1544.91 Q1642.85 1542.16 1647.43 1537.53 Q1652.04 1532.88 1653.22 1531.53 Q1655.47 1529.01 1656.35 1527.27 Q1657.25 1525.51 1657.25 1523.82 Q1657.25 1521.07 1655.3 1519.33 Q1653.38 1517.6 1650.28 1517.6 Q1648.08 1517.6 1645.63 1518.36 Q1643.2 1519.13 1640.42 1520.68 L1640.42 1515.95 Q1643.24 1514.82 1645.7 1514.24 Q1648.15 1513.66 1650.19 1513.66 Q1655.56 1513.66 1658.75 1516.35 Q1661.95 1519.03 1661.95 1523.52 Q1661.95 1525.65 1661.14 1527.57 Q1660.35 1529.47 1658.24 1532.07 Q1657.67 1532.74 1654.56 1535.95 Q1651.46 1539.15 1645.81 1544.91 Z\" fill=\"#000000\" fill-rule=\"evenodd\" fill-opacity=\"1\" /><path clip-path=\"url(#clip410)\" d=\"M1671.99 1514.29 L1690.35 1514.29 L1690.35 1518.22 L1676.28 1518.22 L1676.28 1526.7 Q1677.29 1526.35 1678.31 1526.19 Q1679.33 1526 1680.35 1526 Q1686.14 1526 1689.52 1529.17 Q1692.9 1532.34 1692.9 1537.76 Q1692.9 1543.34 1689.42 1546.44 Q1685.95 1549.52 1679.63 1549.52 Q1677.46 1549.52 1675.19 1549.15 Q1672.94 1548.78 1670.54 1548.04 L1670.54 1543.34 Q1672.62 1544.47 1674.84 1545.03 Q1677.06 1545.58 1679.54 1545.58 Q1683.54 1545.58 1685.88 1543.48 Q1688.22 1541.37 1688.22 1537.76 Q1688.22 1534.15 1685.88 1532.04 Q1683.54 1529.94 1679.54 1529.94 Q1677.67 1529.94 1675.79 1530.35 Q1673.94 1530.77 1671.99 1531.65 L1671.99 1514.29 Z\" fill=\"#000000\" fill-rule=\"evenodd\" fill-opacity=\"1\" /><path clip-path=\"url(#clip410)\" d=\"M1824.4 1517.37 Q1820.79 1517.37 1818.96 1520.93 Q1817.15 1524.47 1817.15 1531.6 Q1817.15 1538.71 1818.96 1542.27 Q1820.79 1545.82 1824.4 1545.82 Q1828.03 1545.82 1829.84 1542.27 Q1831.67 1538.71 1831.67 1531.6 Q1831.67 1524.47 1829.84 1520.93 Q1828.03 1517.37 1824.4 1517.37 M1824.4 1513.66 Q1830.21 1513.66 1833.27 1518.27 Q1836.34 1522.85 1836.34 1531.6 Q1836.34 1540.33 1833.27 1544.94 Q1830.21 1549.52 1824.4 1549.52 Q1818.59 1549.52 1815.51 1544.94 Q1812.46 1540.33 1812.46 1531.6 Q1812.46 1522.85 1815.51 1518.27 Q1818.59 1513.66 1824.4 1513.66 Z\" fill=\"#000000\" fill-rule=\"evenodd\" fill-opacity=\"1\" /><path clip-path=\"url(#clip410)\" d=\"M1844.56 1542.97 L1849.45 1542.97 L1849.45 1548.85 L1844.56 1548.85 L1844.56 1542.97 Z\" fill=\"#000000\" fill-rule=\"evenodd\" fill-opacity=\"1\" /><path clip-path=\"url(#clip410)\" d=\"M1859.68 1514.29 L1878.03 1514.29 L1878.03 1518.22 L1863.96 1518.22 L1863.96 1526.7 Q1864.98 1526.35 1866 1526.19 Q1867.01 1526 1868.03 1526 Q1873.82 1526 1877.2 1529.17 Q1880.58 1532.34 1880.58 1537.76 Q1880.58 1543.34 1877.11 1546.44 Q1873.64 1549.52 1867.32 1549.52 Q1865.14 1549.52 1862.87 1549.15 Q1860.63 1548.78 1858.22 1548.04 L1858.22 1543.34 Q1860.3 1544.47 1862.52 1545.03 Q1864.75 1545.58 1867.22 1545.58 Q1871.23 1545.58 1873.57 1543.48 Q1875.9 1541.37 1875.9 1537.76 Q1875.9 1534.15 1873.57 1532.04 Q1871.23 1529.94 1867.22 1529.94 Q1865.35 1529.94 1863.47 1530.35 Q1861.62 1530.77 1859.68 1531.65 L1859.68 1514.29 Z\" fill=\"#000000\" fill-rule=\"evenodd\" fill-opacity=\"1\" /><path clip-path=\"url(#clip410)\" d=\"M1899.79 1517.37 Q1896.18 1517.37 1894.35 1520.93 Q1892.55 1524.47 1892.55 1531.6 Q1892.55 1538.71 1894.35 1542.27 Q1896.18 1545.82 1899.79 1545.82 Q1903.43 1545.82 1905.23 1542.27 Q1907.06 1538.71 1907.06 1531.6 Q1907.06 1524.47 1905.23 1520.93 Q1903.43 1517.37 1899.79 1517.37 M1899.79 1513.66 Q1905.6 1513.66 1908.66 1518.27 Q1911.74 1522.85 1911.74 1531.6 Q1911.74 1540.33 1908.66 1544.94 Q1905.6 1549.52 1899.79 1549.52 Q1893.98 1549.52 1890.9 1544.94 Q1887.85 1540.33 1887.85 1531.6 Q1887.85 1522.85 1890.9 1518.27 Q1893.98 1513.66 1899.79 1513.66 Z\" fill=\"#000000\" fill-rule=\"evenodd\" fill-opacity=\"1\" /><path clip-path=\"url(#clip410)\" d=\"M2043.24 1517.37 Q2039.63 1517.37 2037.8 1520.93 Q2035.99 1524.47 2035.99 1531.6 Q2035.99 1538.71 2037.8 1542.27 Q2039.63 1545.82 2043.24 1545.82 Q2046.87 1545.82 2048.68 1542.27 Q2050.51 1538.71 2050.51 1531.6 Q2050.51 1524.47 2048.68 1520.93 Q2046.87 1517.37 2043.24 1517.37 M2043.24 1513.66 Q2049.05 1513.66 2052.11 1518.27 Q2055.18 1522.85 2055.18 1531.6 Q2055.18 1540.33 2052.11 1544.94 Q2049.05 1549.52 2043.24 1549.52 Q2037.43 1549.52 2034.35 1544.94 Q2031.3 1540.33 2031.3 1531.6 Q2031.3 1522.85 2034.35 1518.27 Q2037.43 1513.66 2043.24 1513.66 Z\" fill=\"#000000\" fill-rule=\"evenodd\" fill-opacity=\"1\" /><path clip-path=\"url(#clip410)\" d=\"M2063.4 1542.97 L2068.29 1542.97 L2068.29 1548.85 L2063.4 1548.85 L2063.4 1542.97 Z\" fill=\"#000000\" fill-rule=\"evenodd\" fill-opacity=\"1\" /><path clip-path=\"url(#clip410)\" d=\"M2077.29 1514.29 L2099.51 1514.29 L2099.51 1516.28 L2086.97 1548.85 L2082.08 1548.85 L2093.89 1518.22 L2077.29 1518.22 L2077.29 1514.29 Z\" fill=\"#000000\" fill-rule=\"evenodd\" fill-opacity=\"1\" /><path clip-path=\"url(#clip410)\" d=\"M2108.68 1514.29 L2127.04 1514.29 L2127.04 1518.22 L2112.96 1518.22 L2112.96 1526.7 Q2113.98 1526.35 2115 1526.19 Q2116.02 1526 2117.04 1526 Q2122.82 1526 2126.2 1529.17 Q2129.58 1532.34 2129.58 1537.76 Q2129.58 1543.34 2126.11 1546.44 Q2122.64 1549.52 2116.32 1549.52 Q2114.14 1549.52 2111.87 1549.15 Q2109.63 1548.78 2107.22 1548.04 L2107.22 1543.34 Q2109.3 1544.47 2111.53 1545.03 Q2113.75 1545.58 2116.23 1545.58 Q2120.23 1545.58 2122.57 1543.48 Q2124.91 1541.37 2124.91 1537.76 Q2124.91 1534.15 2122.57 1532.04 Q2120.23 1529.94 2116.23 1529.94 Q2114.35 1529.94 2112.48 1530.35 Q2110.62 1530.77 2108.68 1531.65 L2108.68 1514.29 Z\" fill=\"#000000\" fill-rule=\"evenodd\" fill-opacity=\"1\" /><path clip-path=\"url(#clip410)\" d=\"M2250.85 1544.91 L2258.49 1544.91 L2258.49 1518.55 L2250.18 1520.21 L2250.18 1515.95 L2258.45 1514.29 L2263.12 1514.29 L2263.12 1544.91 L2270.76 1544.91 L2270.76 1548.85 L2250.85 1548.85 L2250.85 1544.91 Z\" fill=\"#000000\" fill-rule=\"evenodd\" fill-opacity=\"1\" /><path clip-path=\"url(#clip410)\" d=\"M2280.21 1542.97 L2285.09 1542.97 L2285.09 1548.85 L2280.21 1548.85 L2280.21 1542.97 Z\" fill=\"#000000\" fill-rule=\"evenodd\" fill-opacity=\"1\" /><path clip-path=\"url(#clip410)\" d=\"M2305.27 1517.37 Q2301.66 1517.37 2299.83 1520.93 Q2298.03 1524.47 2298.03 1531.6 Q2298.03 1538.71 2299.83 1542.27 Q2301.66 1545.82 2305.27 1545.82 Q2308.91 1545.82 2310.71 1542.27 Q2312.54 1538.71 2312.54 1531.6 Q2312.54 1524.47 2310.71 1520.93 Q2308.91 1517.37 2305.27 1517.37 M2305.27 1513.66 Q2311.08 1513.66 2314.14 1518.27 Q2317.22 1522.85 2317.22 1531.6 Q2317.22 1540.33 2314.14 1544.94 Q2311.08 1549.52 2305.27 1549.52 Q2299.46 1549.52 2296.39 1544.94 Q2293.33 1540.33 2293.33 1531.6 Q2293.33 1522.85 2296.39 1518.27 Q2299.46 1513.66 2305.27 1513.66 Z\" fill=\"#000000\" fill-rule=\"evenodd\" fill-opacity=\"1\" /><path clip-path=\"url(#clip410)\" d=\"M2335.44 1517.37 Q2331.83 1517.37 2330 1520.93 Q2328.19 1524.47 2328.19 1531.6 Q2328.19 1538.71 2330 1542.27 Q2331.83 1545.82 2335.44 1545.82 Q2339.07 1545.82 2340.88 1542.27 Q2342.7 1538.71 2342.7 1531.6 Q2342.7 1524.47 2340.88 1520.93 Q2339.07 1517.37 2335.44 1517.37 M2335.44 1513.66 Q2341.25 1513.66 2344.3 1518.27 Q2347.38 1522.85 2347.38 1531.6 Q2347.38 1540.33 2344.3 1544.94 Q2341.25 1549.52 2335.44 1549.52 Q2329.63 1549.52 2326.55 1544.94 Q2323.49 1540.33 2323.49 1531.6 Q2323.49 1522.85 2326.55 1518.27 Q2329.63 1513.66 2335.44 1513.66 Z\" fill=\"#000000\" fill-rule=\"evenodd\" fill-opacity=\"1\" /><polyline clip-path=\"url(#clip415)\" style=\"stroke:#000000; stroke-linecap:butt; stroke-linejoin:round; stroke-width:2; stroke-opacity:0.1; fill:none\" points=\"\n",
       "  1371.44,1468.36 2352.76,1468.36 \n",
       "  \"/>\n",
       "<polyline clip-path=\"url(#clip415)\" style=\"stroke:#000000; stroke-linecap:butt; stroke-linejoin:round; stroke-width:2; stroke-opacity:0.1; fill:none\" points=\"\n",
       "  1371.44,1317.6 2352.76,1317.6 \n",
       "  \"/>\n",
       "<polyline clip-path=\"url(#clip415)\" style=\"stroke:#000000; stroke-linecap:butt; stroke-linejoin:round; stroke-width:2; stroke-opacity:0.1; fill:none\" points=\"\n",
       "  1371.44,1166.85 2352.76,1166.85 \n",
       "  \"/>\n",
       "<polyline clip-path=\"url(#clip415)\" style=\"stroke:#000000; stroke-linecap:butt; stroke-linejoin:round; stroke-width:2; stroke-opacity:0.1; fill:none\" points=\"\n",
       "  1371.44,1016.09 2352.76,1016.09 \n",
       "  \"/>\n",
       "<polyline clip-path=\"url(#clip415)\" style=\"stroke:#000000; stroke-linecap:butt; stroke-linejoin:round; stroke-width:2; stroke-opacity:0.1; fill:none\" points=\"\n",
       "  1371.44,865.335 2352.76,865.335 \n",
       "  \"/>\n",
       "<polyline clip-path=\"url(#clip410)\" style=\"stroke:#000000; stroke-linecap:butt; stroke-linejoin:round; stroke-width:4; stroke-opacity:1; fill:none\" points=\"\n",
       "  1371.44,1486.45 1371.44,847.244 \n",
       "  \"/>\n",
       "<polyline clip-path=\"url(#clip410)\" style=\"stroke:#000000; stroke-linecap:butt; stroke-linejoin:round; stroke-width:4; stroke-opacity:1; fill:none\" points=\"\n",
       "  1371.44,1468.36 1390.33,1468.36 \n",
       "  \"/>\n",
       "<polyline clip-path=\"url(#clip410)\" style=\"stroke:#000000; stroke-linecap:butt; stroke-linejoin:round; stroke-width:4; stroke-opacity:1; fill:none\" points=\"\n",
       "  1371.44,1317.6 1390.33,1317.6 \n",
       "  \"/>\n",
       "<polyline clip-path=\"url(#clip410)\" style=\"stroke:#000000; stroke-linecap:butt; stroke-linejoin:round; stroke-width:4; stroke-opacity:1; fill:none\" points=\"\n",
       "  1371.44,1166.85 1390.33,1166.85 \n",
       "  \"/>\n",
       "<polyline clip-path=\"url(#clip410)\" style=\"stroke:#000000; stroke-linecap:butt; stroke-linejoin:round; stroke-width:4; stroke-opacity:1; fill:none\" points=\"\n",
       "  1371.44,1016.09 1390.33,1016.09 \n",
       "  \"/>\n",
       "<polyline clip-path=\"url(#clip410)\" style=\"stroke:#000000; stroke-linecap:butt; stroke-linejoin:round; stroke-width:4; stroke-opacity:1; fill:none\" points=\"\n",
       "  1371.44,865.335 1390.33,865.335 \n",
       "  \"/>\n",
       "<path clip-path=\"url(#clip410)\" d=\"M1323.49 1454.16 Q1319.88 1454.16 1318.05 1457.72 Q1316.25 1461.26 1316.25 1468.39 Q1316.25 1475.5 1318.05 1479.06 Q1319.88 1482.6 1323.49 1482.6 Q1327.13 1482.6 1328.93 1479.06 Q1330.76 1475.5 1330.76 1468.39 Q1330.76 1461.26 1328.93 1457.72 Q1327.13 1454.16 1323.49 1454.16 M1323.49 1450.45 Q1329.3 1450.45 1332.36 1455.06 Q1335.44 1459.64 1335.44 1468.39 Q1335.44 1477.12 1332.36 1481.73 Q1329.3 1486.31 1323.49 1486.31 Q1317.68 1486.31 1314.6 1481.73 Q1311.55 1477.12 1311.55 1468.39 Q1311.55 1459.64 1314.6 1455.06 Q1317.68 1450.45 1323.49 1450.45 Z\" fill=\"#000000\" fill-rule=\"evenodd\" fill-opacity=\"1\" /><path clip-path=\"url(#clip410)\" d=\"M1319.12 1330.95 L1335.44 1330.95 L1335.44 1334.88 L1313.49 1334.88 L1313.49 1330.95 Q1316.15 1328.19 1320.74 1323.56 Q1325.34 1318.91 1326.52 1317.57 Q1328.77 1315.04 1329.65 1313.31 Q1330.55 1311.55 1330.55 1309.86 Q1330.55 1307.1 1328.61 1305.37 Q1326.69 1303.63 1323.58 1303.63 Q1321.39 1303.63 1318.93 1304.4 Q1316.5 1305.16 1313.72 1306.71 L1313.72 1301.99 Q1316.55 1300.85 1319 1300.28 Q1321.45 1299.7 1323.49 1299.7 Q1328.86 1299.7 1332.06 1302.38 Q1335.25 1305.07 1335.25 1309.56 Q1335.25 1311.69 1334.44 1313.61 Q1333.65 1315.51 1331.55 1318.1 Q1330.97 1318.77 1327.87 1321.99 Q1324.76 1325.18 1319.12 1330.95 Z\" fill=\"#000000\" fill-rule=\"evenodd\" fill-opacity=\"1\" /><path clip-path=\"url(#clip410)\" d=\"M1325.85 1153.64 L1314.05 1172.09 L1325.85 1172.09 L1325.85 1153.64 M1324.63 1149.57 L1330.51 1149.57 L1330.51 1172.09 L1335.44 1172.09 L1335.44 1175.98 L1330.51 1175.98 L1330.51 1184.13 L1325.85 1184.13 L1325.85 1175.98 L1310.25 1175.98 L1310.25 1171.46 L1324.63 1149.57 Z\" fill=\"#000000\" fill-rule=\"evenodd\" fill-opacity=\"1\" /><path clip-path=\"url(#clip410)\" d=\"M1323.91 1014.23 Q1320.76 1014.23 1318.91 1016.38 Q1317.08 1018.53 1317.08 1022.28 Q1317.08 1026.01 1318.91 1028.19 Q1320.76 1030.34 1323.91 1030.34 Q1327.06 1030.34 1328.89 1028.19 Q1330.74 1026.01 1330.74 1022.28 Q1330.74 1018.53 1328.89 1016.38 Q1327.06 1014.23 1323.91 1014.23 M1333.19 999.574 L1333.19 1003.83 Q1331.43 1003 1329.63 1002.56 Q1327.84 1002.12 1326.08 1002.12 Q1321.45 1002.12 1319 1005.25 Q1316.57 1008.37 1316.22 1014.69 Q1317.59 1012.68 1319.65 1011.61 Q1321.71 1010.52 1324.19 1010.52 Q1329.39 1010.52 1332.4 1013.69 Q1335.44 1016.84 1335.44 1022.28 Q1335.44 1027.61 1332.29 1030.82 Q1329.14 1034.04 1323.91 1034.04 Q1317.91 1034.04 1314.74 1029.46 Q1311.57 1024.85 1311.57 1016.13 Q1311.57 1007.93 1315.46 1003.07 Q1319.35 998.185 1325.9 998.185 Q1327.66 998.185 1329.44 998.533 Q1331.25 998.88 1333.19 999.574 Z\" fill=\"#000000\" fill-rule=\"evenodd\" fill-opacity=\"1\" /><path clip-path=\"url(#clip410)\" d=\"M1323.58 866.203 Q1320.25 866.203 1318.33 867.985 Q1316.43 869.768 1316.43 872.893 Q1316.43 876.018 1318.33 877.8 Q1320.25 879.582 1323.58 879.582 Q1326.92 879.582 1328.84 877.8 Q1330.76 875.994 1330.76 872.893 Q1330.76 869.768 1328.84 867.985 Q1326.94 866.203 1323.58 866.203 M1318.91 864.212 Q1315.9 863.471 1314.21 861.411 Q1312.54 859.351 1312.54 856.388 Q1312.54 852.245 1315.48 849.837 Q1318.45 847.43 1323.58 847.43 Q1328.75 847.43 1331.69 849.837 Q1334.63 852.245 1334.63 856.388 Q1334.63 859.351 1332.94 861.411 Q1331.27 863.471 1328.28 864.212 Q1331.66 864.999 1333.54 867.291 Q1335.44 869.582 1335.44 872.893 Q1335.44 877.916 1332.36 880.601 Q1329.3 883.286 1323.58 883.286 Q1317.87 883.286 1314.79 880.601 Q1311.73 877.916 1311.73 872.893 Q1311.73 869.582 1313.63 867.291 Q1315.53 864.999 1318.91 864.212 M1317.2 856.828 Q1317.2 859.513 1318.86 861.018 Q1320.55 862.522 1323.58 862.522 Q1326.59 862.522 1328.28 861.018 Q1330 859.513 1330 856.828 Q1330 854.143 1328.28 852.638 Q1326.59 851.133 1323.58 851.133 Q1320.55 851.133 1318.86 852.638 Q1317.2 854.143 1317.2 856.828 Z\" fill=\"#000000\" fill-rule=\"evenodd\" fill-opacity=\"1\" /><path clip-path=\"url(#clip415)\" d=\"\n",
       "M1425.41 865.335 L1425.41 1468.36 L1862.1 1468.36 L1862.1 865.335 L1425.41 865.335 L1425.41 865.335  Z\n",
       "  \" fill=\"#009af9\" fill-rule=\"evenodd\" fill-opacity=\"1\"/>\n",
       "<polyline clip-path=\"url(#clip415)\" style=\"stroke:#000000; stroke-linecap:butt; stroke-linejoin:round; stroke-width:4; stroke-opacity:1; fill:none\" points=\"\n",
       "  1425.41,865.335 1425.41,1468.36 1862.1,1468.36 1862.1,865.335 1425.41,865.335 \n",
       "  \"/>\n",
       "<path clip-path=\"url(#clip415)\" d=\"\n",
       "M1862.1 940.713 L1862.1 1468.36 L2298.78 1468.36 L2298.78 940.713 L1862.1 940.713 L1862.1 940.713  Z\n",
       "  \" fill=\"#009af9\" fill-rule=\"evenodd\" fill-opacity=\"1\"/>\n",
       "<polyline clip-path=\"url(#clip415)\" style=\"stroke:#000000; stroke-linecap:butt; stroke-linejoin:round; stroke-width:4; stroke-opacity:1; fill:none\" points=\"\n",
       "  1862.1,940.713 1862.1,1468.36 2298.78,1468.36 2298.78,940.713 1862.1,940.713 \n",
       "  \"/>\n",
       "<circle clip-path=\"url(#clip415)\" style=\"fill:#009af9; stroke:none; fill-opacity:0\" cx=\"1643.75\" cy=\"865.335\" r=\"2\"/>\n",
       "<circle clip-path=\"url(#clip415)\" style=\"fill:#009af9; stroke:none; fill-opacity:0\" cx=\"2080.44\" cy=\"940.713\" r=\"2\"/>\n",
       "</svg>\n"
      ]
     },
     "execution_count": 27,
     "metadata": {},
     "output_type": "execute_result"
    }
   ],
   "source": [
    "p1 = plot(x,y)\n",
    "p2 = scatter(x,y)\n",
    "p3 = bar(x,y)\n",
    "p4 = histogram(y)\n",
    "\n",
    "plot(p1,p2,p3,p4, layout=(2,2),legend = false)"
   ]
  },
  {
   "cell_type": "code",
   "execution_count": 28,
   "metadata": {},
   "outputs": [
    {
     "data": {
      "text/plain": [
       "15×4 Matrix{Float64}:\n",
       " 0.0112114  0.679099  0.738396    0.66007\n",
       " 0.304257   0.335804  0.4182      0.0500847\n",
       " 0.667834   0.630212  0.485398    0.455818\n",
       " 0.865927   0.8461    0.60415     0.76501\n",
       " 0.287199   0.799979  0.490378    0.356232\n",
       " 0.887154   0.399195  0.272458    0.627879\n",
       " 0.299784   0.635329  0.865117    0.44564\n",
       " 0.104778   0.973945  0.693178    0.448821\n",
       " 0.766524   0.334308  0.377804    0.0150401\n",
       " 0.430492   0.870909  0.472406    0.43637\n",
       " 0.244661   0.12211   0.617371    0.319416\n",
       " 0.961501   0.120707  0.566854    0.152871\n",
       " 0.0901448  0.221541  0.555451    0.55719\n",
       " 0.153261   0.215519  0.00140434  0.500223\n",
       " 0.0898555  0.478246  0.381337    0.0412313"
      ]
     },
     "execution_count": 28,
     "metadata": {},
     "output_type": "execute_result"
    }
   ],
   "source": [
    "y =rand(15,4)"
   ]
  },
  {
   "cell_type": "code",
   "execution_count": 30,
   "metadata": {},
   "outputs": [
    {
     "data": {
      "image/svg+xml": [
       "<?xml version=\"1.0\" encoding=\"utf-8\"?>\n",
       "<svg xmlns=\"http://www.w3.org/2000/svg\" xmlns:xlink=\"http://www.w3.org/1999/xlink\" width=\"600\" height=\"400\" viewBox=\"0 0 2400 1600\">\n",
       "<defs>\n",
       "  <clipPath id=\"clip490\">\n",
       "    <rect x=\"0\" y=\"0\" width=\"2400\" height=\"1600\"/>\n",
       "  </clipPath>\n",
       "</defs>\n",
       "<path clip-path=\"url(#clip490)\" d=\"\n",
       "M0 1600 L2400 1600 L2400 0 L0 0  Z\n",
       "  \" fill=\"#ffffff\" fill-rule=\"evenodd\" fill-opacity=\"1\"/>\n",
       "<defs>\n",
       "  <clipPath id=\"clip491\">\n",
       "    <rect x=\"480\" y=\"0\" width=\"1681\" height=\"1600\"/>\n",
       "  </clipPath>\n",
       "</defs>\n",
       "<path clip-path=\"url(#clip490)\" d=\"\n",
       "M156.598 286.448 L2352.76 286.448 L2352.76 47.2441 L156.598 47.2441  Z\n",
       "  \" fill=\"#ffffff\" fill-rule=\"evenodd\" fill-opacity=\"1\"/>\n",
       "<defs>\n",
       "  <clipPath id=\"clip492\">\n",
       "    <rect x=\"156\" y=\"47\" width=\"2197\" height=\"240\"/>\n",
       "  </clipPath>\n",
       "</defs>\n",
       "<polyline clip-path=\"url(#clip492)\" style=\"stroke:#000000; stroke-linecap:butt; stroke-linejoin:round; stroke-width:2; stroke-opacity:0.1; fill:none\" points=\"\n",
       "  366.743,286.448 366.743,47.2441 \n",
       "  \"/>\n",
       "<polyline clip-path=\"url(#clip492)\" style=\"stroke:#000000; stroke-linecap:butt; stroke-linejoin:round; stroke-width:2; stroke-opacity:0.1; fill:none\" points=\"\n",
       "  662.721,286.448 662.721,47.2441 \n",
       "  \"/>\n",
       "<polyline clip-path=\"url(#clip492)\" style=\"stroke:#000000; stroke-linecap:butt; stroke-linejoin:round; stroke-width:2; stroke-opacity:0.1; fill:none\" points=\"\n",
       "  958.699,286.448 958.699,47.2441 \n",
       "  \"/>\n",
       "<polyline clip-path=\"url(#clip492)\" style=\"stroke:#000000; stroke-linecap:butt; stroke-linejoin:round; stroke-width:2; stroke-opacity:0.1; fill:none\" points=\"\n",
       "  1254.68,286.448 1254.68,47.2441 \n",
       "  \"/>\n",
       "<polyline clip-path=\"url(#clip492)\" style=\"stroke:#000000; stroke-linecap:butt; stroke-linejoin:round; stroke-width:2; stroke-opacity:0.1; fill:none\" points=\"\n",
       "  1550.66,286.448 1550.66,47.2441 \n",
       "  \"/>\n",
       "<polyline clip-path=\"url(#clip492)\" style=\"stroke:#000000; stroke-linecap:butt; stroke-linejoin:round; stroke-width:2; stroke-opacity:0.1; fill:none\" points=\"\n",
       "  1846.63,286.448 1846.63,47.2441 \n",
       "  \"/>\n",
       "<polyline clip-path=\"url(#clip492)\" style=\"stroke:#000000; stroke-linecap:butt; stroke-linejoin:round; stroke-width:2; stroke-opacity:0.1; fill:none\" points=\"\n",
       "  2142.61,286.448 2142.61,47.2441 \n",
       "  \"/>\n",
       "<polyline clip-path=\"url(#clip490)\" style=\"stroke:#000000; stroke-linecap:butt; stroke-linejoin:round; stroke-width:4; stroke-opacity:1; fill:none\" points=\"\n",
       "  156.598,286.448 2352.76,286.448 \n",
       "  \"/>\n",
       "<polyline clip-path=\"url(#clip490)\" style=\"stroke:#000000; stroke-linecap:butt; stroke-linejoin:round; stroke-width:4; stroke-opacity:1; fill:none\" points=\"\n",
       "  366.743,286.448 366.743,267.55 \n",
       "  \"/>\n",
       "<polyline clip-path=\"url(#clip490)\" style=\"stroke:#000000; stroke-linecap:butt; stroke-linejoin:round; stroke-width:4; stroke-opacity:1; fill:none\" points=\"\n",
       "  662.721,286.448 662.721,267.55 \n",
       "  \"/>\n",
       "<polyline clip-path=\"url(#clip490)\" style=\"stroke:#000000; stroke-linecap:butt; stroke-linejoin:round; stroke-width:4; stroke-opacity:1; fill:none\" points=\"\n",
       "  958.699,286.448 958.699,267.55 \n",
       "  \"/>\n",
       "<polyline clip-path=\"url(#clip490)\" style=\"stroke:#000000; stroke-linecap:butt; stroke-linejoin:round; stroke-width:4; stroke-opacity:1; fill:none\" points=\"\n",
       "  1254.68,286.448 1254.68,267.55 \n",
       "  \"/>\n",
       "<polyline clip-path=\"url(#clip490)\" style=\"stroke:#000000; stroke-linecap:butt; stroke-linejoin:round; stroke-width:4; stroke-opacity:1; fill:none\" points=\"\n",
       "  1550.66,286.448 1550.66,267.55 \n",
       "  \"/>\n",
       "<polyline clip-path=\"url(#clip490)\" style=\"stroke:#000000; stroke-linecap:butt; stroke-linejoin:round; stroke-width:4; stroke-opacity:1; fill:none\" points=\"\n",
       "  1846.63,286.448 1846.63,267.55 \n",
       "  \"/>\n",
       "<polyline clip-path=\"url(#clip490)\" style=\"stroke:#000000; stroke-linecap:butt; stroke-linejoin:round; stroke-width:4; stroke-opacity:1; fill:none\" points=\"\n",
       "  2142.61,286.448 2142.61,267.55 \n",
       "  \"/>\n",
       "<path clip-path=\"url(#clip490)\" d=\"M361.396 344.913 L377.715 344.913 L377.715 348.848 L355.771 348.848 L355.771 344.913 Q358.433 342.158 363.016 337.528 Q367.622 332.876 368.803 331.533 Q371.048 329.01 371.928 327.274 Q372.831 325.515 372.831 323.825 Q372.831 321.07 370.886 319.334 Q368.965 317.598 365.863 317.598 Q363.664 317.598 361.21 318.362 Q358.78 319.126 356.002 320.677 L356.002 315.955 Q358.826 314.82 361.28 314.242 Q363.733 313.663 365.77 313.663 Q371.141 313.663 374.335 316.348 Q377.53 319.033 377.53 323.524 Q377.53 325.654 376.72 327.575 Q375.932 329.473 373.826 332.066 Q373.247 332.737 370.145 335.954 Q367.044 339.149 361.396 344.913 Z\" fill=\"#000000\" fill-rule=\"evenodd\" fill-opacity=\"1\" /><path clip-path=\"url(#clip490)\" d=\"M665.73 318.362 L653.925 336.811 L665.73 336.811 L665.73 318.362 M664.503 314.288 L670.383 314.288 L670.383 336.811 L675.313 336.811 L675.313 340.7 L670.383 340.7 L670.383 348.848 L665.73 348.848 L665.73 340.7 L650.128 340.7 L650.128 336.186 L664.503 314.288 Z\" fill=\"#000000\" fill-rule=\"evenodd\" fill-opacity=\"1\" /><path clip-path=\"url(#clip490)\" d=\"M959.104 329.704 Q955.956 329.704 954.104 331.857 Q952.275 334.01 952.275 337.76 Q952.275 341.487 954.104 343.663 Q955.956 345.815 959.104 345.815 Q962.252 345.815 964.081 343.663 Q965.933 341.487 965.933 337.76 Q965.933 334.01 964.081 331.857 Q962.252 329.704 959.104 329.704 M968.386 315.052 L968.386 319.311 Q966.627 318.478 964.822 318.038 Q963.039 317.598 961.28 317.598 Q956.65 317.598 954.197 320.723 Q951.766 323.848 951.419 330.167 Q952.785 328.154 954.845 327.089 Q956.905 326.001 959.382 326.001 Q964.59 326.001 967.599 329.172 Q970.632 332.32 970.632 337.76 Q970.632 343.084 967.484 346.302 Q964.335 349.519 959.104 349.519 Q953.109 349.519 949.937 344.936 Q946.766 340.329 946.766 331.603 Q946.766 323.408 950.655 318.547 Q954.544 313.663 961.095 313.663 Q962.854 313.663 964.636 314.01 Q966.442 314.357 968.386 315.052 Z\" fill=\"#000000\" fill-rule=\"evenodd\" fill-opacity=\"1\" /><path clip-path=\"url(#clip490)\" d=\"M1254.68 332.436 Q1251.34 332.436 1249.42 334.218 Q1247.52 336.001 1247.52 339.126 Q1247.52 342.251 1249.42 344.033 Q1251.34 345.815 1254.68 345.815 Q1258.01 345.815 1259.93 344.033 Q1261.85 342.228 1261.85 339.126 Q1261.85 336.001 1259.93 334.218 Q1258.03 332.436 1254.68 332.436 M1250 330.445 Q1246.99 329.704 1245.3 327.644 Q1243.64 325.584 1243.64 322.621 Q1243.64 318.478 1246.58 316.07 Q1249.54 313.663 1254.68 313.663 Q1259.84 313.663 1262.78 316.07 Q1265.72 318.478 1265.72 322.621 Q1265.72 325.584 1264.03 327.644 Q1262.36 329.704 1259.38 330.445 Q1262.76 331.232 1264.63 333.524 Q1266.53 335.816 1266.53 339.126 Q1266.53 344.149 1263.45 346.834 Q1260.39 349.519 1254.68 349.519 Q1248.96 349.519 1245.88 346.834 Q1242.83 344.149 1242.83 339.126 Q1242.83 335.816 1244.72 333.524 Q1246.62 331.232 1250 330.445 M1248.29 323.061 Q1248.29 325.746 1249.95 327.251 Q1251.64 328.755 1254.68 328.755 Q1257.69 328.755 1259.38 327.251 Q1261.09 325.746 1261.09 323.061 Q1261.09 320.376 1259.38 318.871 Q1257.69 317.367 1254.68 317.367 Q1251.64 317.367 1249.95 318.871 Q1248.29 320.376 1248.29 323.061 Z\" fill=\"#000000\" fill-rule=\"evenodd\" fill-opacity=\"1\" /><path clip-path=\"url(#clip490)\" d=\"M1525.34 344.913 L1532.98 344.913 L1532.98 318.547 L1524.67 320.214 L1524.67 315.955 L1532.94 314.288 L1537.61 314.288 L1537.61 344.913 L1545.25 344.913 L1545.25 348.848 L1525.34 348.848 L1525.34 344.913 Z\" fill=\"#000000\" fill-rule=\"evenodd\" fill-opacity=\"1\" /><path clip-path=\"url(#clip490)\" d=\"M1564.69 317.367 Q1561.08 317.367 1559.25 320.931 Q1557.45 324.473 1557.45 331.603 Q1557.45 338.709 1559.25 342.274 Q1561.08 345.815 1564.69 345.815 Q1568.33 345.815 1570.13 342.274 Q1571.96 338.709 1571.96 331.603 Q1571.96 324.473 1570.13 320.931 Q1568.33 317.367 1564.69 317.367 M1564.69 313.663 Q1570.5 313.663 1573.56 318.269 Q1576.64 322.853 1576.64 331.603 Q1576.64 340.329 1573.56 344.936 Q1570.5 349.519 1564.69 349.519 Q1558.88 349.519 1555.81 344.936 Q1552.75 340.329 1552.75 331.603 Q1552.75 322.853 1555.81 318.269 Q1558.88 313.663 1564.69 313.663 Z\" fill=\"#000000\" fill-rule=\"evenodd\" fill-opacity=\"1\" /><path clip-path=\"url(#clip490)\" d=\"M1822.12 344.913 L1829.76 344.913 L1829.76 318.547 L1821.45 320.214 L1821.45 315.955 L1829.71 314.288 L1834.39 314.288 L1834.39 344.913 L1842.03 344.913 L1842.03 348.848 L1822.12 348.848 L1822.12 344.913 Z\" fill=\"#000000\" fill-rule=\"evenodd\" fill-opacity=\"1\" /><path clip-path=\"url(#clip490)\" d=\"M1855.5 344.913 L1871.82 344.913 L1871.82 348.848 L1849.87 348.848 L1849.87 344.913 Q1852.54 342.158 1857.12 337.528 Q1861.73 332.876 1862.91 331.533 Q1865.15 329.01 1866.03 327.274 Q1866.93 325.515 1866.93 323.825 Q1866.93 321.07 1864.99 319.334 Q1863.07 317.598 1859.97 317.598 Q1857.77 317.598 1855.31 318.362 Q1852.88 319.126 1850.11 320.677 L1850.11 315.955 Q1852.93 314.82 1855.38 314.242 Q1857.84 313.663 1859.87 313.663 Q1865.24 313.663 1868.44 316.348 Q1871.63 319.033 1871.63 323.524 Q1871.63 325.654 1870.82 327.575 Q1870.04 329.473 1867.93 332.066 Q1867.35 332.737 1864.25 335.954 Q1861.15 339.149 1855.5 344.913 Z\" fill=\"#000000\" fill-rule=\"evenodd\" fill-opacity=\"1\" /><path clip-path=\"url(#clip490)\" d=\"M2117.06 344.913 L2124.69 344.913 L2124.69 318.547 L2116.38 320.214 L2116.38 315.955 L2124.65 314.288 L2129.32 314.288 L2129.32 344.913 L2136.96 344.913 L2136.96 348.848 L2117.06 348.848 L2117.06 344.913 Z\" fill=\"#000000\" fill-rule=\"evenodd\" fill-opacity=\"1\" /><path clip-path=\"url(#clip490)\" d=\"M2159.25 318.362 L2147.45 336.811 L2159.25 336.811 L2159.25 318.362 M2158.03 314.288 L2163.91 314.288 L2163.91 336.811 L2168.84 336.811 L2168.84 340.7 L2163.91 340.7 L2163.91 348.848 L2159.25 348.848 L2159.25 340.7 L2143.65 340.7 L2143.65 336.186 L2158.03 314.288 Z\" fill=\"#000000\" fill-rule=\"evenodd\" fill-opacity=\"1\" /><polyline clip-path=\"url(#clip492)\" style=\"stroke:#000000; stroke-linecap:butt; stroke-linejoin:round; stroke-width:2; stroke-opacity:0.1; fill:none\" points=\"\n",
       "  156.598,282.34 2352.76,282.34 \n",
       "  \"/>\n",
       "<polyline clip-path=\"url(#clip492)\" style=\"stroke:#000000; stroke-linecap:butt; stroke-linejoin:round; stroke-width:2; stroke-opacity:0.1; fill:none\" points=\"\n",
       "  156.598,234.847 2352.76,234.847 \n",
       "  \"/>\n",
       "<polyline clip-path=\"url(#clip492)\" style=\"stroke:#000000; stroke-linecap:butt; stroke-linejoin:round; stroke-width:2; stroke-opacity:0.1; fill:none\" points=\"\n",
       "  156.598,187.353 2352.76,187.353 \n",
       "  \"/>\n",
       "<polyline clip-path=\"url(#clip492)\" style=\"stroke:#000000; stroke-linecap:butt; stroke-linejoin:round; stroke-width:2; stroke-opacity:0.1; fill:none\" points=\"\n",
       "  156.598,139.859 2352.76,139.859 \n",
       "  \"/>\n",
       "<polyline clip-path=\"url(#clip492)\" style=\"stroke:#000000; stroke-linecap:butt; stroke-linejoin:round; stroke-width:2; stroke-opacity:0.1; fill:none\" points=\"\n",
       "  156.598,92.3654 2352.76,92.3654 \n",
       "  \"/>\n",
       "<polyline clip-path=\"url(#clip490)\" style=\"stroke:#000000; stroke-linecap:butt; stroke-linejoin:round; stroke-width:4; stroke-opacity:1; fill:none\" points=\"\n",
       "  156.598,286.448 156.598,47.2441 \n",
       "  \"/>\n",
       "<polyline clip-path=\"url(#clip490)\" style=\"stroke:#000000; stroke-linecap:butt; stroke-linejoin:round; stroke-width:4; stroke-opacity:1; fill:none\" points=\"\n",
       "  156.598,282.34 175.496,282.34 \n",
       "  \"/>\n",
       "<polyline clip-path=\"url(#clip490)\" style=\"stroke:#000000; stroke-linecap:butt; stroke-linejoin:round; stroke-width:4; stroke-opacity:1; fill:none\" points=\"\n",
       "  156.598,234.847 175.496,234.847 \n",
       "  \"/>\n",
       "<polyline clip-path=\"url(#clip490)\" style=\"stroke:#000000; stroke-linecap:butt; stroke-linejoin:round; stroke-width:4; stroke-opacity:1; fill:none\" points=\"\n",
       "  156.598,187.353 175.496,187.353 \n",
       "  \"/>\n",
       "<polyline clip-path=\"url(#clip490)\" style=\"stroke:#000000; stroke-linecap:butt; stroke-linejoin:round; stroke-width:4; stroke-opacity:1; fill:none\" points=\"\n",
       "  156.598,139.859 175.496,139.859 \n",
       "  \"/>\n",
       "<polyline clip-path=\"url(#clip490)\" style=\"stroke:#000000; stroke-linecap:butt; stroke-linejoin:round; stroke-width:4; stroke-opacity:1; fill:none\" points=\"\n",
       "  156.598,92.3654 175.496,92.3654 \n",
       "  \"/>\n",
       "<path clip-path=\"url(#clip490)\" d=\"M63.4226 268.139 Q59.8115 268.139 57.9828 271.704 Q56.1773 275.245 56.1773 282.375 Q56.1773 289.481 57.9828 293.046 Q59.8115 296.588 63.4226 296.588 Q67.0569 296.588 68.8624 293.046 Q70.6911 289.481 70.6911 282.375 Q70.6911 275.245 68.8624 271.704 Q67.0569 268.139 63.4226 268.139 M63.4226 264.435 Q69.2328 264.435 72.2883 269.042 Q75.367 273.625 75.367 282.375 Q75.367 291.102 72.2883 295.708 Q69.2328 300.292 63.4226 300.292 Q57.6125 300.292 54.5338 295.708 Q51.4782 291.102 51.4782 282.375 Q51.4782 273.625 54.5338 269.042 Q57.6125 264.435 63.4226 264.435 Z\" fill=\"#000000\" fill-rule=\"evenodd\" fill-opacity=\"1\" /><path clip-path=\"url(#clip490)\" d=\"M83.5845 293.741 L88.4688 293.741 L88.4688 299.62 L83.5845 299.62 L83.5845 293.741 Z\" fill=\"#000000\" fill-rule=\"evenodd\" fill-opacity=\"1\" /><path clip-path=\"url(#clip490)\" d=\"M108.654 268.139 Q105.043 268.139 103.214 271.704 Q101.409 275.245 101.409 282.375 Q101.409 289.481 103.214 293.046 Q105.043 296.588 108.654 296.588 Q112.288 296.588 114.094 293.046 Q115.922 289.481 115.922 282.375 Q115.922 275.245 114.094 271.704 Q112.288 268.139 108.654 268.139 M108.654 264.435 Q114.464 264.435 117.52 269.042 Q120.598 273.625 120.598 282.375 Q120.598 291.102 117.52 295.708 Q114.464 300.292 108.654 300.292 Q102.844 300.292 99.765 295.708 Q96.7095 291.102 96.7095 282.375 Q96.7095 273.625 99.765 269.042 Q102.844 264.435 108.654 264.435 Z\" fill=\"#000000\" fill-rule=\"evenodd\" fill-opacity=\"1\" /><path clip-path=\"url(#clip490)\" d=\"M65.0198 220.645 Q61.4087 220.645 59.58 224.21 Q57.7745 227.752 57.7745 234.881 Q57.7745 241.988 59.58 245.553 Q61.4087 249.094 65.0198 249.094 Q68.6541 249.094 70.4596 245.553 Q72.2883 241.988 72.2883 234.881 Q72.2883 227.752 70.4596 224.21 Q68.6541 220.645 65.0198 220.645 M65.0198 216.942 Q70.83 216.942 73.8855 221.548 Q76.9642 226.131 76.9642 234.881 Q76.9642 243.608 73.8855 248.215 Q70.83 252.798 65.0198 252.798 Q59.2097 252.798 56.131 248.215 Q53.0754 243.608 53.0754 234.881 Q53.0754 226.131 56.131 221.548 Q59.2097 216.942 65.0198 216.942 Z\" fill=\"#000000\" fill-rule=\"evenodd\" fill-opacity=\"1\" /><path clip-path=\"url(#clip490)\" d=\"M85.1818 246.247 L90.066 246.247 L90.066 252.127 L85.1818 252.127 L85.1818 246.247 Z\" fill=\"#000000\" fill-rule=\"evenodd\" fill-opacity=\"1\" /><path clip-path=\"url(#clip490)\" d=\"M104.279 248.191 L120.598 248.191 L120.598 252.127 L98.6539 252.127 L98.6539 248.191 Q101.316 245.437 105.899 240.807 Q110.506 236.154 111.686 234.812 Q113.932 232.289 114.811 230.553 Q115.714 228.793 115.714 227.104 Q115.714 224.349 113.77 222.613 Q111.848 220.877 108.746 220.877 Q106.547 220.877 104.094 221.641 Q101.663 222.405 98.8854 223.955 L98.8854 219.233 Q101.709 218.099 104.163 217.52 Q106.617 216.942 108.654 216.942 Q114.024 216.942 117.219 219.627 Q120.413 222.312 120.413 226.803 Q120.413 228.932 119.603 230.854 Q118.816 232.752 116.709 235.344 Q116.131 236.016 113.029 239.233 Q109.927 242.428 104.279 248.191 Z\" fill=\"#000000\" fill-rule=\"evenodd\" fill-opacity=\"1\" /><path clip-path=\"url(#clip490)\" d=\"M62.9365 173.152 Q59.3254 173.152 57.4967 176.716 Q55.6912 180.258 55.6912 187.388 Q55.6912 194.494 57.4967 198.059 Q59.3254 201.6 62.9365 201.6 Q66.5707 201.6 68.3763 198.059 Q70.205 194.494 70.205 187.388 Q70.205 180.258 68.3763 176.716 Q66.5707 173.152 62.9365 173.152 M62.9365 169.448 Q68.7467 169.448 71.8022 174.054 Q74.8809 178.638 74.8809 187.388 Q74.8809 196.114 71.8022 200.721 Q68.7467 205.304 62.9365 205.304 Q57.1264 205.304 54.0477 200.721 Q50.9921 196.114 50.9921 187.388 Q50.9921 178.638 54.0477 174.054 Q57.1264 169.448 62.9365 169.448 Z\" fill=\"#000000\" fill-rule=\"evenodd\" fill-opacity=\"1\" /><path clip-path=\"url(#clip490)\" d=\"M83.0984 198.753 L87.9827 198.753 L87.9827 204.633 L83.0984 204.633 L83.0984 198.753 Z\" fill=\"#000000\" fill-rule=\"evenodd\" fill-opacity=\"1\" /><path clip-path=\"url(#clip490)\" d=\"M111.015 174.147 L99.2095 192.596 L111.015 192.596 L111.015 174.147 M109.788 170.073 L115.668 170.073 L115.668 192.596 L120.598 192.596 L120.598 196.485 L115.668 196.485 L115.668 204.633 L111.015 204.633 L111.015 196.485 L95.4132 196.485 L95.4132 191.971 L109.788 170.073 Z\" fill=\"#000000\" fill-rule=\"evenodd\" fill-opacity=\"1\" /><path clip-path=\"url(#clip490)\" d=\"M63.2606 125.658 Q59.6495 125.658 57.8208 129.223 Q56.0152 132.764 56.0152 139.894 Q56.0152 147 57.8208 150.565 Q59.6495 154.107 63.2606 154.107 Q66.8948 154.107 68.7004 150.565 Q70.5291 147 70.5291 139.894 Q70.5291 132.764 68.7004 129.223 Q66.8948 125.658 63.2606 125.658 M63.2606 121.954 Q69.0707 121.954 72.1263 126.561 Q75.205 131.144 75.205 139.894 Q75.205 148.621 72.1263 153.227 Q69.0707 157.81 63.2606 157.81 Q57.4504 157.81 54.3717 153.227 Q51.3162 148.621 51.3162 139.894 Q51.3162 131.144 54.3717 126.561 Q57.4504 121.954 63.2606 121.954 Z\" fill=\"#000000\" fill-rule=\"evenodd\" fill-opacity=\"1\" /><path clip-path=\"url(#clip490)\" d=\"M83.4225 151.259 L88.3067 151.259 L88.3067 157.139 L83.4225 157.139 L83.4225 151.259 Z\" fill=\"#000000\" fill-rule=\"evenodd\" fill-opacity=\"1\" /><path clip-path=\"url(#clip490)\" d=\"M109.071 137.996 Q105.922 137.996 104.071 140.148 Q102.242 142.301 102.242 146.051 Q102.242 149.778 104.071 151.954 Q105.922 154.107 109.071 154.107 Q112.219 154.107 114.047 151.954 Q115.899 149.778 115.899 146.051 Q115.899 142.301 114.047 140.148 Q112.219 137.996 109.071 137.996 M118.353 123.343 L118.353 127.602 Q116.594 126.769 114.788 126.329 Q113.006 125.889 111.246 125.889 Q106.617 125.889 104.163 129.014 Q101.733 132.139 101.385 138.459 Q102.751 136.445 104.811 135.38 Q106.871 134.292 109.348 134.292 Q114.557 134.292 117.566 137.463 Q120.598 140.611 120.598 146.051 Q120.598 151.375 117.45 154.593 Q114.302 157.81 109.071 157.81 Q103.075 157.81 99.9039 153.227 Q96.7326 148.621 96.7326 139.894 Q96.7326 131.699 100.621 126.838 Q104.51 121.954 111.061 121.954 Q112.82 121.954 114.603 122.301 Q116.408 122.649 118.353 123.343 Z\" fill=\"#000000\" fill-rule=\"evenodd\" fill-opacity=\"1\" /><path clip-path=\"url(#clip490)\" d=\"M63.5152 78.164 Q59.9041 78.164 58.0754 81.7288 Q56.2699 85.2705 56.2699 92.4001 Q56.2699 99.5065 58.0754 103.071 Q59.9041 106.613 63.5152 106.613 Q67.1494 106.613 68.955 103.071 Q70.7837 99.5065 70.7837 92.4001 Q70.7837 85.2705 68.955 81.7288 Q67.1494 78.164 63.5152 78.164 M63.5152 74.4604 Q69.3254 74.4604 72.3809 79.0668 Q75.4596 83.6501 75.4596 92.4001 Q75.4596 101.127 72.3809 105.733 Q69.3254 110.317 63.5152 110.317 Q57.7051 110.317 54.6264 105.733 Q51.5708 101.127 51.5708 92.4001 Q51.5708 83.6501 54.6264 79.0668 Q57.7051 74.4604 63.5152 74.4604 Z\" fill=\"#000000\" fill-rule=\"evenodd\" fill-opacity=\"1\" /><path clip-path=\"url(#clip490)\" d=\"M83.6771 103.766 L88.5614 103.766 L88.5614 109.645 L83.6771 109.645 L83.6771 103.766 Z\" fill=\"#000000\" fill-rule=\"evenodd\" fill-opacity=\"1\" /><path clip-path=\"url(#clip490)\" d=\"M108.746 93.2334 Q105.413 93.2334 103.492 95.0158 Q101.594 96.7982 101.594 99.9232 Q101.594 103.048 103.492 104.831 Q105.413 106.613 108.746 106.613 Q112.08 106.613 114.001 104.831 Q115.922 103.025 115.922 99.9232 Q115.922 96.7982 114.001 95.0158 Q112.103 93.2334 108.746 93.2334 M104.071 91.2427 Q101.061 90.5019 99.3715 88.4418 Q97.7048 86.3816 97.7048 83.4186 Q97.7048 79.2752 100.645 76.8678 Q103.608 74.4604 108.746 74.4604 Q113.908 74.4604 116.848 76.8678 Q119.788 79.2752 119.788 83.4186 Q119.788 86.3816 118.098 88.4418 Q116.432 90.5019 113.445 91.2427 Q116.825 92.0297 118.7 94.3214 Q120.598 96.613 120.598 99.9232 Q120.598 104.946 117.52 107.631 Q114.464 110.317 108.746 110.317 Q103.029 110.317 99.9502 107.631 Q96.8947 104.946 96.8947 99.9232 Q96.8947 96.613 98.7928 94.3214 Q100.691 92.0297 104.071 91.2427 M102.358 83.8585 Q102.358 86.5436 104.024 88.0483 Q105.714 89.5529 108.746 89.5529 Q111.756 89.5529 113.445 88.0483 Q115.158 86.5436 115.158 83.8585 Q115.158 81.1733 113.445 79.6687 Q111.756 78.164 108.746 78.164 Q105.714 78.164 104.024 79.6687 Q102.358 81.1733 102.358 83.8585 Z\" fill=\"#000000\" fill-rule=\"evenodd\" fill-opacity=\"1\" /><polyline clip-path=\"url(#clip492)\" style=\"stroke:#009af9; stroke-linecap:butt; stroke-linejoin:round; stroke-width:4; stroke-opacity:1; fill:none\" points=\"\n",
       "  218.754,279.678 366.743,210.089 514.732,123.751 662.721,76.7097 810.71,214.14 958.699,71.6689 1106.69,211.151 1254.68,257.459 1402.67,100.315 1550.66,180.112 \n",
       "  1698.64,224.241 1846.63,54.014 1994.62,260.934 2142.61,245.946 2290.6,261.002 \n",
       "  \"/>\n",
       "<path clip-path=\"url(#clip490)\" d=\"\n",
       "M1983.1 158.898 L2279.55 158.898 L2279.55 55.2176 L1983.1 55.2176  Z\n",
       "  \" fill=\"#ffffff\" fill-rule=\"evenodd\" fill-opacity=\"1\"/>\n",
       "<polyline clip-path=\"url(#clip490)\" style=\"stroke:#000000; stroke-linecap:butt; stroke-linejoin:round; stroke-width:4; stroke-opacity:1; fill:none\" points=\"\n",
       "  1983.1,158.898 2279.55,158.898 2279.55,55.2176 1983.1,55.2176 1983.1,158.898 \n",
       "  \"/>\n",
       "<polyline clip-path=\"url(#clip490)\" style=\"stroke:#009af9; stroke-linecap:butt; stroke-linejoin:round; stroke-width:4; stroke-opacity:1; fill:none\" points=\"\n",
       "  2007.5,107.058 2153.92,107.058 \n",
       "  \"/>\n",
       "<path clip-path=\"url(#clip490)\" d=\"M2192.16 126.745 Q2190.35 131.375 2188.64 132.787 Q2186.93 134.199 2184.06 134.199 L2180.65 134.199 L2180.65 130.634 L2183.15 130.634 Q2184.91 130.634 2185.89 129.8 Q2186.86 128.967 2188.04 125.865 L2188.8 123.921 L2178.32 98.4118 L2182.83 98.4118 L2190.93 118.689 L2199.03 98.4118 L2203.55 98.4118 L2192.16 126.745 Z\" fill=\"#000000\" fill-rule=\"evenodd\" fill-opacity=\"1\" /><path clip-path=\"url(#clip490)\" d=\"M2210.84 120.402 L2218.48 120.402 L2218.48 94.0368 L2210.17 95.7034 L2210.17 91.4442 L2218.43 89.7776 L2223.11 89.7776 L2223.11 120.402 L2230.75 120.402 L2230.75 124.338 L2210.84 124.338 L2210.84 120.402 Z\" fill=\"#000000\" fill-rule=\"evenodd\" fill-opacity=\"1\" /><path clip-path=\"url(#clip490)\" d=\"\n",
       "M156.598 686.448 L2352.76 686.448 L2352.76 447.244 L156.598 447.244  Z\n",
       "  \" fill=\"#ffffff\" fill-rule=\"evenodd\" fill-opacity=\"1\"/>\n",
       "<defs>\n",
       "  <clipPath id=\"clip493\">\n",
       "    <rect x=\"156\" y=\"447\" width=\"2197\" height=\"240\"/>\n",
       "  </clipPath>\n",
       "</defs>\n",
       "<polyline clip-path=\"url(#clip493)\" style=\"stroke:#000000; stroke-linecap:butt; stroke-linejoin:round; stroke-width:2; stroke-opacity:0.1; fill:none\" points=\"\n",
       "  366.743,686.448 366.743,447.244 \n",
       "  \"/>\n",
       "<polyline clip-path=\"url(#clip493)\" style=\"stroke:#000000; stroke-linecap:butt; stroke-linejoin:round; stroke-width:2; stroke-opacity:0.1; fill:none\" points=\"\n",
       "  662.721,686.448 662.721,447.244 \n",
       "  \"/>\n",
       "<polyline clip-path=\"url(#clip493)\" style=\"stroke:#000000; stroke-linecap:butt; stroke-linejoin:round; stroke-width:2; stroke-opacity:0.1; fill:none\" points=\"\n",
       "  958.699,686.448 958.699,447.244 \n",
       "  \"/>\n",
       "<polyline clip-path=\"url(#clip493)\" style=\"stroke:#000000; stroke-linecap:butt; stroke-linejoin:round; stroke-width:2; stroke-opacity:0.1; fill:none\" points=\"\n",
       "  1254.68,686.448 1254.68,447.244 \n",
       "  \"/>\n",
       "<polyline clip-path=\"url(#clip493)\" style=\"stroke:#000000; stroke-linecap:butt; stroke-linejoin:round; stroke-width:2; stroke-opacity:0.1; fill:none\" points=\"\n",
       "  1550.66,686.448 1550.66,447.244 \n",
       "  \"/>\n",
       "<polyline clip-path=\"url(#clip493)\" style=\"stroke:#000000; stroke-linecap:butt; stroke-linejoin:round; stroke-width:2; stroke-opacity:0.1; fill:none\" points=\"\n",
       "  1846.63,686.448 1846.63,447.244 \n",
       "  \"/>\n",
       "<polyline clip-path=\"url(#clip493)\" style=\"stroke:#000000; stroke-linecap:butt; stroke-linejoin:round; stroke-width:2; stroke-opacity:0.1; fill:none\" points=\"\n",
       "  2142.61,686.448 2142.61,447.244 \n",
       "  \"/>\n",
       "<polyline clip-path=\"url(#clip490)\" style=\"stroke:#000000; stroke-linecap:butt; stroke-linejoin:round; stroke-width:4; stroke-opacity:1; fill:none\" points=\"\n",
       "  156.598,686.448 2352.76,686.448 \n",
       "  \"/>\n",
       "<polyline clip-path=\"url(#clip490)\" style=\"stroke:#000000; stroke-linecap:butt; stroke-linejoin:round; stroke-width:4; stroke-opacity:1; fill:none\" points=\"\n",
       "  366.743,686.448 366.743,667.55 \n",
       "  \"/>\n",
       "<polyline clip-path=\"url(#clip490)\" style=\"stroke:#000000; stroke-linecap:butt; stroke-linejoin:round; stroke-width:4; stroke-opacity:1; fill:none\" points=\"\n",
       "  662.721,686.448 662.721,667.55 \n",
       "  \"/>\n",
       "<polyline clip-path=\"url(#clip490)\" style=\"stroke:#000000; stroke-linecap:butt; stroke-linejoin:round; stroke-width:4; stroke-opacity:1; fill:none\" points=\"\n",
       "  958.699,686.448 958.699,667.55 \n",
       "  \"/>\n",
       "<polyline clip-path=\"url(#clip490)\" style=\"stroke:#000000; stroke-linecap:butt; stroke-linejoin:round; stroke-width:4; stroke-opacity:1; fill:none\" points=\"\n",
       "  1254.68,686.448 1254.68,667.55 \n",
       "  \"/>\n",
       "<polyline clip-path=\"url(#clip490)\" style=\"stroke:#000000; stroke-linecap:butt; stroke-linejoin:round; stroke-width:4; stroke-opacity:1; fill:none\" points=\"\n",
       "  1550.66,686.448 1550.66,667.55 \n",
       "  \"/>\n",
       "<polyline clip-path=\"url(#clip490)\" style=\"stroke:#000000; stroke-linecap:butt; stroke-linejoin:round; stroke-width:4; stroke-opacity:1; fill:none\" points=\"\n",
       "  1846.63,686.448 1846.63,667.55 \n",
       "  \"/>\n",
       "<polyline clip-path=\"url(#clip490)\" style=\"stroke:#000000; stroke-linecap:butt; stroke-linejoin:round; stroke-width:4; stroke-opacity:1; fill:none\" points=\"\n",
       "  2142.61,686.448 2142.61,667.55 \n",
       "  \"/>\n",
       "<path clip-path=\"url(#clip490)\" d=\"M361.396 744.913 L377.715 744.913 L377.715 748.848 L355.771 748.848 L355.771 744.913 Q358.433 742.158 363.016 737.528 Q367.622 732.876 368.803 731.533 Q371.048 729.01 371.928 727.274 Q372.831 725.515 372.831 723.825 Q372.831 721.07 370.886 719.334 Q368.965 717.598 365.863 717.598 Q363.664 717.598 361.21 718.362 Q358.78 719.126 356.002 720.677 L356.002 715.955 Q358.826 714.82 361.28 714.242 Q363.733 713.663 365.77 713.663 Q371.141 713.663 374.335 716.348 Q377.53 719.033 377.53 723.524 Q377.53 725.654 376.72 727.575 Q375.932 729.473 373.826 732.066 Q373.247 732.737 370.145 735.954 Q367.044 739.149 361.396 744.913 Z\" fill=\"#000000\" fill-rule=\"evenodd\" fill-opacity=\"1\" /><path clip-path=\"url(#clip490)\" d=\"M665.73 718.362 L653.925 736.811 L665.73 736.811 L665.73 718.362 M664.503 714.288 L670.383 714.288 L670.383 736.811 L675.313 736.811 L675.313 740.7 L670.383 740.7 L670.383 748.848 L665.73 748.848 L665.73 740.7 L650.128 740.7 L650.128 736.186 L664.503 714.288 Z\" fill=\"#000000\" fill-rule=\"evenodd\" fill-opacity=\"1\" /><path clip-path=\"url(#clip490)\" d=\"M959.104 729.704 Q955.956 729.704 954.104 731.857 Q952.275 734.01 952.275 737.76 Q952.275 741.487 954.104 743.663 Q955.956 745.815 959.104 745.815 Q962.252 745.815 964.081 743.663 Q965.933 741.487 965.933 737.76 Q965.933 734.01 964.081 731.857 Q962.252 729.704 959.104 729.704 M968.386 715.052 L968.386 719.311 Q966.627 718.478 964.822 718.038 Q963.039 717.598 961.28 717.598 Q956.65 717.598 954.197 720.723 Q951.766 723.848 951.419 730.167 Q952.785 728.154 954.845 727.089 Q956.905 726.001 959.382 726.001 Q964.59 726.001 967.599 729.172 Q970.632 732.32 970.632 737.76 Q970.632 743.084 967.484 746.302 Q964.335 749.519 959.104 749.519 Q953.109 749.519 949.937 744.936 Q946.766 740.329 946.766 731.603 Q946.766 723.408 950.655 718.547 Q954.544 713.663 961.095 713.663 Q962.854 713.663 964.636 714.01 Q966.442 714.357 968.386 715.052 Z\" fill=\"#000000\" fill-rule=\"evenodd\" fill-opacity=\"1\" /><path clip-path=\"url(#clip490)\" d=\"M1254.68 732.436 Q1251.34 732.436 1249.42 734.218 Q1247.52 736.001 1247.52 739.126 Q1247.52 742.251 1249.42 744.033 Q1251.34 745.815 1254.68 745.815 Q1258.01 745.815 1259.93 744.033 Q1261.85 742.228 1261.85 739.126 Q1261.85 736.001 1259.93 734.218 Q1258.03 732.436 1254.68 732.436 M1250 730.445 Q1246.99 729.704 1245.3 727.644 Q1243.64 725.584 1243.64 722.621 Q1243.64 718.478 1246.58 716.07 Q1249.54 713.663 1254.68 713.663 Q1259.84 713.663 1262.78 716.07 Q1265.72 718.478 1265.72 722.621 Q1265.72 725.584 1264.03 727.644 Q1262.36 729.704 1259.38 730.445 Q1262.76 731.232 1264.63 733.524 Q1266.53 735.816 1266.53 739.126 Q1266.53 744.149 1263.45 746.834 Q1260.39 749.519 1254.68 749.519 Q1248.96 749.519 1245.88 746.834 Q1242.83 744.149 1242.83 739.126 Q1242.83 735.816 1244.72 733.524 Q1246.62 731.232 1250 730.445 M1248.29 723.061 Q1248.29 725.746 1249.95 727.251 Q1251.64 728.755 1254.68 728.755 Q1257.69 728.755 1259.38 727.251 Q1261.09 725.746 1261.09 723.061 Q1261.09 720.376 1259.38 718.871 Q1257.69 717.367 1254.68 717.367 Q1251.64 717.367 1249.95 718.871 Q1248.29 720.376 1248.29 723.061 Z\" fill=\"#000000\" fill-rule=\"evenodd\" fill-opacity=\"1\" /><path clip-path=\"url(#clip490)\" d=\"M1525.34 744.913 L1532.98 744.913 L1532.98 718.547 L1524.67 720.214 L1524.67 715.955 L1532.94 714.288 L1537.61 714.288 L1537.61 744.913 L1545.25 744.913 L1545.25 748.848 L1525.34 748.848 L1525.34 744.913 Z\" fill=\"#000000\" fill-rule=\"evenodd\" fill-opacity=\"1\" /><path clip-path=\"url(#clip490)\" d=\"M1564.69 717.367 Q1561.08 717.367 1559.25 720.931 Q1557.45 724.473 1557.45 731.603 Q1557.45 738.709 1559.25 742.274 Q1561.08 745.815 1564.69 745.815 Q1568.33 745.815 1570.13 742.274 Q1571.96 738.709 1571.96 731.603 Q1571.96 724.473 1570.13 720.931 Q1568.33 717.367 1564.69 717.367 M1564.69 713.663 Q1570.5 713.663 1573.56 718.269 Q1576.64 722.853 1576.64 731.603 Q1576.64 740.329 1573.56 744.936 Q1570.5 749.519 1564.69 749.519 Q1558.88 749.519 1555.81 744.936 Q1552.75 740.329 1552.75 731.603 Q1552.75 722.853 1555.81 718.269 Q1558.88 713.663 1564.69 713.663 Z\" fill=\"#000000\" fill-rule=\"evenodd\" fill-opacity=\"1\" /><path clip-path=\"url(#clip490)\" d=\"M1822.12 744.913 L1829.76 744.913 L1829.76 718.547 L1821.45 720.214 L1821.45 715.955 L1829.71 714.288 L1834.39 714.288 L1834.39 744.913 L1842.03 744.913 L1842.03 748.848 L1822.12 748.848 L1822.12 744.913 Z\" fill=\"#000000\" fill-rule=\"evenodd\" fill-opacity=\"1\" /><path clip-path=\"url(#clip490)\" d=\"M1855.5 744.913 L1871.82 744.913 L1871.82 748.848 L1849.87 748.848 L1849.87 744.913 Q1852.54 742.158 1857.12 737.528 Q1861.73 732.876 1862.91 731.533 Q1865.15 729.01 1866.03 727.274 Q1866.93 725.515 1866.93 723.825 Q1866.93 721.07 1864.99 719.334 Q1863.07 717.598 1859.97 717.598 Q1857.77 717.598 1855.31 718.362 Q1852.88 719.126 1850.11 720.677 L1850.11 715.955 Q1852.93 714.82 1855.38 714.242 Q1857.84 713.663 1859.87 713.663 Q1865.24 713.663 1868.44 716.348 Q1871.63 719.033 1871.63 723.524 Q1871.63 725.654 1870.82 727.575 Q1870.04 729.473 1867.93 732.066 Q1867.35 732.737 1864.25 735.954 Q1861.15 739.149 1855.5 744.913 Z\" fill=\"#000000\" fill-rule=\"evenodd\" fill-opacity=\"1\" /><path clip-path=\"url(#clip490)\" d=\"M2117.06 744.913 L2124.69 744.913 L2124.69 718.547 L2116.38 720.214 L2116.38 715.955 L2124.65 714.288 L2129.32 714.288 L2129.32 744.913 L2136.96 744.913 L2136.96 748.848 L2117.06 748.848 L2117.06 744.913 Z\" fill=\"#000000\" fill-rule=\"evenodd\" fill-opacity=\"1\" /><path clip-path=\"url(#clip490)\" d=\"M2159.25 718.362 L2147.45 736.811 L2159.25 736.811 L2159.25 718.362 M2158.03 714.288 L2163.91 714.288 L2163.91 736.811 L2168.84 736.811 L2168.84 740.7 L2163.91 740.7 L2163.91 748.848 L2159.25 748.848 L2159.25 740.7 L2143.65 740.7 L2143.65 736.186 L2158.03 714.288 Z\" fill=\"#000000\" fill-rule=\"evenodd\" fill-opacity=\"1\" /><polyline clip-path=\"url(#clip493)\" style=\"stroke:#000000; stroke-linecap:butt; stroke-linejoin:round; stroke-width:2; stroke-opacity:0.1; fill:none\" points=\"\n",
       "  156.598,658.707 2352.76,658.707 \n",
       "  \"/>\n",
       "<polyline clip-path=\"url(#clip493)\" style=\"stroke:#000000; stroke-linecap:butt; stroke-linejoin:round; stroke-width:2; stroke-opacity:0.1; fill:none\" points=\"\n",
       "  156.598,605.811 2352.76,605.811 \n",
       "  \"/>\n",
       "<polyline clip-path=\"url(#clip493)\" style=\"stroke:#000000; stroke-linecap:butt; stroke-linejoin:round; stroke-width:2; stroke-opacity:0.1; fill:none\" points=\"\n",
       "  156.598,552.915 2352.76,552.915 \n",
       "  \"/>\n",
       "<polyline clip-path=\"url(#clip493)\" style=\"stroke:#000000; stroke-linecap:butt; stroke-linejoin:round; stroke-width:2; stroke-opacity:0.1; fill:none\" points=\"\n",
       "  156.598,500.019 2352.76,500.019 \n",
       "  \"/>\n",
       "<polyline clip-path=\"url(#clip490)\" style=\"stroke:#000000; stroke-linecap:butt; stroke-linejoin:round; stroke-width:4; stroke-opacity:1; fill:none\" points=\"\n",
       "  156.598,686.448 156.598,447.244 \n",
       "  \"/>\n",
       "<polyline clip-path=\"url(#clip490)\" style=\"stroke:#000000; stroke-linecap:butt; stroke-linejoin:round; stroke-width:4; stroke-opacity:1; fill:none\" points=\"\n",
       "  156.598,658.707 175.496,658.707 \n",
       "  \"/>\n",
       "<polyline clip-path=\"url(#clip490)\" style=\"stroke:#000000; stroke-linecap:butt; stroke-linejoin:round; stroke-width:4; stroke-opacity:1; fill:none\" points=\"\n",
       "  156.598,605.811 175.496,605.811 \n",
       "  \"/>\n",
       "<polyline clip-path=\"url(#clip490)\" style=\"stroke:#000000; stroke-linecap:butt; stroke-linejoin:round; stroke-width:4; stroke-opacity:1; fill:none\" points=\"\n",
       "  156.598,552.915 175.496,552.915 \n",
       "  \"/>\n",
       "<polyline clip-path=\"url(#clip490)\" style=\"stroke:#000000; stroke-linecap:butt; stroke-linejoin:round; stroke-width:4; stroke-opacity:1; fill:none\" points=\"\n",
       "  156.598,500.019 175.496,500.019 \n",
       "  \"/>\n",
       "<path clip-path=\"url(#clip490)\" d=\"M65.0198 644.505 Q61.4087 644.505 59.58 648.07 Q57.7745 651.612 57.7745 658.741 Q57.7745 665.848 59.58 669.413 Q61.4087 672.954 65.0198 672.954 Q68.6541 672.954 70.4596 669.413 Q72.2883 665.848 72.2883 658.741 Q72.2883 651.612 70.4596 648.07 Q68.6541 644.505 65.0198 644.505 M65.0198 640.802 Q70.83 640.802 73.8855 645.408 Q76.9642 649.991 76.9642 658.741 Q76.9642 667.468 73.8855 672.075 Q70.83 676.658 65.0198 676.658 Q59.2097 676.658 56.131 672.075 Q53.0754 667.468 53.0754 658.741 Q53.0754 649.991 56.131 645.408 Q59.2097 640.802 65.0198 640.802 Z\" fill=\"#000000\" fill-rule=\"evenodd\" fill-opacity=\"1\" /><path clip-path=\"url(#clip490)\" d=\"M85.1818 670.107 L90.066 670.107 L90.066 675.987 L85.1818 675.987 L85.1818 670.107 Z\" fill=\"#000000\" fill-rule=\"evenodd\" fill-opacity=\"1\" /><path clip-path=\"url(#clip490)\" d=\"M104.279 672.052 L120.598 672.052 L120.598 675.987 L98.6539 675.987 L98.6539 672.052 Q101.316 669.297 105.899 664.667 Q110.506 660.015 111.686 658.672 Q113.932 656.149 114.811 654.413 Q115.714 652.654 115.714 650.964 Q115.714 648.209 113.77 646.473 Q111.848 644.737 108.746 644.737 Q106.547 644.737 104.094 645.501 Q101.663 646.265 98.8854 647.816 L98.8854 643.093 Q101.709 641.959 104.163 641.38 Q106.617 640.802 108.654 640.802 Q114.024 640.802 117.219 643.487 Q120.413 646.172 120.413 650.663 Q120.413 652.792 119.603 654.714 Q118.816 656.612 116.709 659.204 Q116.131 659.876 113.029 663.093 Q109.927 666.288 104.279 672.052 Z\" fill=\"#000000\" fill-rule=\"evenodd\" fill-opacity=\"1\" /><path clip-path=\"url(#clip490)\" d=\"M62.9365 591.609 Q59.3254 591.609 57.4967 595.174 Q55.6912 598.716 55.6912 605.846 Q55.6912 612.952 57.4967 616.517 Q59.3254 620.058 62.9365 620.058 Q66.5707 620.058 68.3763 616.517 Q70.205 612.952 70.205 605.846 Q70.205 598.716 68.3763 595.174 Q66.5707 591.609 62.9365 591.609 M62.9365 587.906 Q68.7467 587.906 71.8022 592.512 Q74.8809 597.096 74.8809 605.846 Q74.8809 614.572 71.8022 619.179 Q68.7467 623.762 62.9365 623.762 Q57.1264 623.762 54.0477 619.179 Q50.9921 614.572 50.9921 605.846 Q50.9921 597.096 54.0477 592.512 Q57.1264 587.906 62.9365 587.906 Z\" fill=\"#000000\" fill-rule=\"evenodd\" fill-opacity=\"1\" /><path clip-path=\"url(#clip490)\" d=\"M83.0984 617.211 L87.9827 617.211 L87.9827 623.091 L83.0984 623.091 L83.0984 617.211 Z\" fill=\"#000000\" fill-rule=\"evenodd\" fill-opacity=\"1\" /><path clip-path=\"url(#clip490)\" d=\"M111.015 592.605 L99.2095 611.054 L111.015 611.054 L111.015 592.605 M109.788 588.531 L115.668 588.531 L115.668 611.054 L120.598 611.054 L120.598 614.943 L115.668 614.943 L115.668 623.091 L111.015 623.091 L111.015 614.943 L95.4132 614.943 L95.4132 610.429 L109.788 588.531 Z\" fill=\"#000000\" fill-rule=\"evenodd\" fill-opacity=\"1\" /><path clip-path=\"url(#clip490)\" d=\"M63.2606 538.714 Q59.6495 538.714 57.8208 542.278 Q56.0152 545.82 56.0152 552.95 Q56.0152 560.056 57.8208 563.621 Q59.6495 567.163 63.2606 567.163 Q66.8948 567.163 68.7004 563.621 Q70.5291 560.056 70.5291 552.95 Q70.5291 545.82 68.7004 542.278 Q66.8948 538.714 63.2606 538.714 M63.2606 535.01 Q69.0707 535.01 72.1263 539.616 Q75.205 544.2 75.205 552.95 Q75.205 561.676 72.1263 566.283 Q69.0707 570.866 63.2606 570.866 Q57.4504 570.866 54.3717 566.283 Q51.3162 561.676 51.3162 552.95 Q51.3162 544.2 54.3717 539.616 Q57.4504 535.01 63.2606 535.01 Z\" fill=\"#000000\" fill-rule=\"evenodd\" fill-opacity=\"1\" /><path clip-path=\"url(#clip490)\" d=\"M83.4225 564.315 L88.3067 564.315 L88.3067 570.195 L83.4225 570.195 L83.4225 564.315 Z\" fill=\"#000000\" fill-rule=\"evenodd\" fill-opacity=\"1\" /><path clip-path=\"url(#clip490)\" d=\"M109.071 551.051 Q105.922 551.051 104.071 553.204 Q102.242 555.357 102.242 559.107 Q102.242 562.834 104.071 565.01 Q105.922 567.163 109.071 567.163 Q112.219 567.163 114.047 565.01 Q115.899 562.834 115.899 559.107 Q115.899 555.357 114.047 553.204 Q112.219 551.051 109.071 551.051 M118.353 536.399 L118.353 540.658 Q116.594 539.825 114.788 539.385 Q113.006 538.945 111.246 538.945 Q106.617 538.945 104.163 542.07 Q101.733 545.195 101.385 551.514 Q102.751 549.501 104.811 548.436 Q106.871 547.348 109.348 547.348 Q114.557 547.348 117.566 550.519 Q120.598 553.667 120.598 559.107 Q120.598 564.431 117.45 567.649 Q114.302 570.866 109.071 570.866 Q103.075 570.866 99.9039 566.283 Q96.7326 561.676 96.7326 552.95 Q96.7326 544.755 100.621 539.894 Q104.51 535.01 111.061 535.01 Q112.82 535.01 114.603 535.357 Q116.408 535.704 118.353 536.399 Z\" fill=\"#000000\" fill-rule=\"evenodd\" fill-opacity=\"1\" /><path clip-path=\"url(#clip490)\" d=\"M63.5152 485.818 Q59.9041 485.818 58.0754 489.382 Q56.2699 492.924 56.2699 500.054 Q56.2699 507.16 58.0754 510.725 Q59.9041 514.267 63.5152 514.267 Q67.1494 514.267 68.955 510.725 Q70.7837 507.16 70.7837 500.054 Q70.7837 492.924 68.955 489.382 Q67.1494 485.818 63.5152 485.818 M63.5152 482.114 Q69.3254 482.114 72.3809 486.72 Q75.4596 491.304 75.4596 500.054 Q75.4596 508.781 72.3809 513.387 Q69.3254 517.97 63.5152 517.97 Q57.7051 517.97 54.6264 513.387 Q51.5708 508.781 51.5708 500.054 Q51.5708 491.304 54.6264 486.72 Q57.7051 482.114 63.5152 482.114 Z\" fill=\"#000000\" fill-rule=\"evenodd\" fill-opacity=\"1\" /><path clip-path=\"url(#clip490)\" d=\"M83.6771 511.419 L88.5614 511.419 L88.5614 517.299 L83.6771 517.299 L83.6771 511.419 Z\" fill=\"#000000\" fill-rule=\"evenodd\" fill-opacity=\"1\" /><path clip-path=\"url(#clip490)\" d=\"M108.746 500.887 Q105.413 500.887 103.492 502.669 Q101.594 504.452 101.594 507.577 Q101.594 510.702 103.492 512.484 Q105.413 514.267 108.746 514.267 Q112.08 514.267 114.001 512.484 Q115.922 510.679 115.922 507.577 Q115.922 504.452 114.001 502.669 Q112.103 500.887 108.746 500.887 M104.071 498.896 Q101.061 498.156 99.3715 496.095 Q97.7048 494.035 97.7048 491.072 Q97.7048 486.929 100.645 484.521 Q103.608 482.114 108.746 482.114 Q113.908 482.114 116.848 484.521 Q119.788 486.929 119.788 491.072 Q119.788 494.035 118.098 496.095 Q116.432 498.156 113.445 498.896 Q116.825 499.683 118.7 501.975 Q120.598 504.267 120.598 507.577 Q120.598 512.6 117.52 515.285 Q114.464 517.97 108.746 517.97 Q103.029 517.97 99.9502 515.285 Q96.8947 512.6 96.8947 507.577 Q96.8947 504.267 98.7928 501.975 Q100.691 499.683 104.071 498.896 M102.358 491.512 Q102.358 494.197 104.024 495.702 Q105.714 497.207 108.746 497.207 Q111.756 497.207 113.445 495.702 Q115.158 494.197 115.158 491.512 Q115.158 488.827 113.445 487.322 Q111.756 485.818 108.746 485.818 Q105.714 485.818 104.024 487.322 Q102.358 488.827 102.358 491.512 Z\" fill=\"#000000\" fill-rule=\"evenodd\" fill-opacity=\"1\" /><polyline clip-path=\"url(#clip493)\" style=\"stroke:#009af9; stroke-linecap:butt; stroke-linejoin:round; stroke-width:4; stroke-opacity:1; fill:none\" points=\"\n",
       "  218.754,531.995 366.743,622.789 514.732,544.925 662.721,487.826 810.71,500.025 958.699,606.024 1106.69,543.571 1254.68,454.014 1402.67,623.185 1550.66,481.265 \n",
       "  1698.64,679.307 1846.63,679.678 1994.62,653.01 2142.61,654.602 2290.6,585.116 \n",
       "  \"/>\n",
       "<path clip-path=\"url(#clip490)\" d=\"\n",
       "M1983.47 558.898 L2279.55 558.898 L2279.55 455.218 L1983.47 455.218  Z\n",
       "  \" fill=\"#ffffff\" fill-rule=\"evenodd\" fill-opacity=\"1\"/>\n",
       "<polyline clip-path=\"url(#clip490)\" style=\"stroke:#000000; stroke-linecap:butt; stroke-linejoin:round; stroke-width:4; stroke-opacity:1; fill:none\" points=\"\n",
       "  1983.47,558.898 2279.55,558.898 2279.55,455.218 1983.47,455.218 1983.47,558.898 \n",
       "  \"/>\n",
       "<polyline clip-path=\"url(#clip490)\" style=\"stroke:#009af9; stroke-linecap:butt; stroke-linejoin:round; stroke-width:4; stroke-opacity:1; fill:none\" points=\"\n",
       "  2007.87,507.058 2154.29,507.058 \n",
       "  \"/>\n",
       "<path clip-path=\"url(#clip490)\" d=\"M2192.53 526.745 Q2190.72 531.375 2189.01 532.787 Q2187.3 534.199 2184.43 534.199 L2181.03 534.199 L2181.03 530.634 L2183.53 530.634 Q2185.28 530.634 2186.26 529.8 Q2187.23 528.967 2188.41 525.865 L2189.17 523.921 L2178.69 498.412 L2183.2 498.412 L2191.3 518.689 L2199.4 498.412 L2203.92 498.412 L2192.53 526.745 Z\" fill=\"#000000\" fill-rule=\"evenodd\" fill-opacity=\"1\" /><path clip-path=\"url(#clip490)\" d=\"M2214.43 520.402 L2230.75 520.402 L2230.75 524.338 L2208.8 524.338 L2208.8 520.402 Q2211.46 517.648 2216.05 513.018 Q2220.65 508.365 2221.84 507.023 Q2224.08 504.5 2224.96 502.764 Q2225.86 501.004 2225.86 499.315 Q2225.86 496.56 2223.92 494.824 Q2222 493.088 2218.9 493.088 Q2216.7 493.088 2214.24 493.852 Q2211.81 494.615 2209.03 496.166 L2209.03 491.444 Q2211.86 490.31 2214.31 489.731 Q2216.77 489.153 2218.8 489.153 Q2224.17 489.153 2227.37 491.838 Q2230.56 494.523 2230.56 499.014 Q2230.56 501.143 2229.75 503.065 Q2228.96 504.963 2226.86 507.555 Q2226.28 508.227 2223.18 511.444 Q2220.08 514.639 2214.43 520.402 Z\" fill=\"#000000\" fill-rule=\"evenodd\" fill-opacity=\"1\" /><path clip-path=\"url(#clip490)\" d=\"\n",
       "M156.598 1086.45 L2352.76 1086.45 L2352.76 847.244 L156.598 847.244  Z\n",
       "  \" fill=\"#ffffff\" fill-rule=\"evenodd\" fill-opacity=\"1\"/>\n",
       "<defs>\n",
       "  <clipPath id=\"clip494\">\n",
       "    <rect x=\"156\" y=\"847\" width=\"2197\" height=\"240\"/>\n",
       "  </clipPath>\n",
       "</defs>\n",
       "<polyline clip-path=\"url(#clip494)\" style=\"stroke:#000000; stroke-linecap:butt; stroke-linejoin:round; stroke-width:2; stroke-opacity:0.1; fill:none\" points=\"\n",
       "  366.743,1086.45 366.743,847.244 \n",
       "  \"/>\n",
       "<polyline clip-path=\"url(#clip494)\" style=\"stroke:#000000; stroke-linecap:butt; stroke-linejoin:round; stroke-width:2; stroke-opacity:0.1; fill:none\" points=\"\n",
       "  662.721,1086.45 662.721,847.244 \n",
       "  \"/>\n",
       "<polyline clip-path=\"url(#clip494)\" style=\"stroke:#000000; stroke-linecap:butt; stroke-linejoin:round; stroke-width:2; stroke-opacity:0.1; fill:none\" points=\"\n",
       "  958.699,1086.45 958.699,847.244 \n",
       "  \"/>\n",
       "<polyline clip-path=\"url(#clip494)\" style=\"stroke:#000000; stroke-linecap:butt; stroke-linejoin:round; stroke-width:2; stroke-opacity:0.1; fill:none\" points=\"\n",
       "  1254.68,1086.45 1254.68,847.244 \n",
       "  \"/>\n",
       "<polyline clip-path=\"url(#clip494)\" style=\"stroke:#000000; stroke-linecap:butt; stroke-linejoin:round; stroke-width:2; stroke-opacity:0.1; fill:none\" points=\"\n",
       "  1550.66,1086.45 1550.66,847.244 \n",
       "  \"/>\n",
       "<polyline clip-path=\"url(#clip494)\" style=\"stroke:#000000; stroke-linecap:butt; stroke-linejoin:round; stroke-width:2; stroke-opacity:0.1; fill:none\" points=\"\n",
       "  1846.63,1086.45 1846.63,847.244 \n",
       "  \"/>\n",
       "<polyline clip-path=\"url(#clip494)\" style=\"stroke:#000000; stroke-linecap:butt; stroke-linejoin:round; stroke-width:2; stroke-opacity:0.1; fill:none\" points=\"\n",
       "  2142.61,1086.45 2142.61,847.244 \n",
       "  \"/>\n",
       "<polyline clip-path=\"url(#clip490)\" style=\"stroke:#000000; stroke-linecap:butt; stroke-linejoin:round; stroke-width:4; stroke-opacity:1; fill:none\" points=\"\n",
       "  156.598,1086.45 2352.76,1086.45 \n",
       "  \"/>\n",
       "<polyline clip-path=\"url(#clip490)\" style=\"stroke:#000000; stroke-linecap:butt; stroke-linejoin:round; stroke-width:4; stroke-opacity:1; fill:none\" points=\"\n",
       "  366.743,1086.45 366.743,1067.55 \n",
       "  \"/>\n",
       "<polyline clip-path=\"url(#clip490)\" style=\"stroke:#000000; stroke-linecap:butt; stroke-linejoin:round; stroke-width:4; stroke-opacity:1; fill:none\" points=\"\n",
       "  662.721,1086.45 662.721,1067.55 \n",
       "  \"/>\n",
       "<polyline clip-path=\"url(#clip490)\" style=\"stroke:#000000; stroke-linecap:butt; stroke-linejoin:round; stroke-width:4; stroke-opacity:1; fill:none\" points=\"\n",
       "  958.699,1086.45 958.699,1067.55 \n",
       "  \"/>\n",
       "<polyline clip-path=\"url(#clip490)\" style=\"stroke:#000000; stroke-linecap:butt; stroke-linejoin:round; stroke-width:4; stroke-opacity:1; fill:none\" points=\"\n",
       "  1254.68,1086.45 1254.68,1067.55 \n",
       "  \"/>\n",
       "<polyline clip-path=\"url(#clip490)\" style=\"stroke:#000000; stroke-linecap:butt; stroke-linejoin:round; stroke-width:4; stroke-opacity:1; fill:none\" points=\"\n",
       "  1550.66,1086.45 1550.66,1067.55 \n",
       "  \"/>\n",
       "<polyline clip-path=\"url(#clip490)\" style=\"stroke:#000000; stroke-linecap:butt; stroke-linejoin:round; stroke-width:4; stroke-opacity:1; fill:none\" points=\"\n",
       "  1846.63,1086.45 1846.63,1067.55 \n",
       "  \"/>\n",
       "<polyline clip-path=\"url(#clip490)\" style=\"stroke:#000000; stroke-linecap:butt; stroke-linejoin:round; stroke-width:4; stroke-opacity:1; fill:none\" points=\"\n",
       "  2142.61,1086.45 2142.61,1067.55 \n",
       "  \"/>\n",
       "<path clip-path=\"url(#clip490)\" d=\"M361.396 1144.91 L377.715 1144.91 L377.715 1148.85 L355.771 1148.85 L355.771 1144.91 Q358.433 1142.16 363.016 1137.53 Q367.622 1132.88 368.803 1131.53 Q371.048 1129.01 371.928 1127.27 Q372.831 1125.51 372.831 1123.82 Q372.831 1121.07 370.886 1119.33 Q368.965 1117.6 365.863 1117.6 Q363.664 1117.6 361.21 1118.36 Q358.78 1119.13 356.002 1120.68 L356.002 1115.95 Q358.826 1114.82 361.28 1114.24 Q363.733 1113.66 365.77 1113.66 Q371.141 1113.66 374.335 1116.35 Q377.53 1119.03 377.53 1123.52 Q377.53 1125.65 376.72 1127.57 Q375.932 1129.47 373.826 1132.07 Q373.247 1132.74 370.145 1135.95 Q367.044 1139.15 361.396 1144.91 Z\" fill=\"#000000\" fill-rule=\"evenodd\" fill-opacity=\"1\" /><path clip-path=\"url(#clip490)\" d=\"M665.73 1118.36 L653.925 1136.81 L665.73 1136.81 L665.73 1118.36 M664.503 1114.29 L670.383 1114.29 L670.383 1136.81 L675.313 1136.81 L675.313 1140.7 L670.383 1140.7 L670.383 1148.85 L665.73 1148.85 L665.73 1140.7 L650.128 1140.7 L650.128 1136.19 L664.503 1114.29 Z\" fill=\"#000000\" fill-rule=\"evenodd\" fill-opacity=\"1\" /><path clip-path=\"url(#clip490)\" d=\"M959.104 1129.7 Q955.956 1129.7 954.104 1131.86 Q952.275 1134.01 952.275 1137.76 Q952.275 1141.49 954.104 1143.66 Q955.956 1145.82 959.104 1145.82 Q962.252 1145.82 964.081 1143.66 Q965.933 1141.49 965.933 1137.76 Q965.933 1134.01 964.081 1131.86 Q962.252 1129.7 959.104 1129.7 M968.386 1115.05 L968.386 1119.31 Q966.627 1118.48 964.822 1118.04 Q963.039 1117.6 961.28 1117.6 Q956.65 1117.6 954.197 1120.72 Q951.766 1123.85 951.419 1130.17 Q952.785 1128.15 954.845 1127.09 Q956.905 1126 959.382 1126 Q964.59 1126 967.599 1129.17 Q970.632 1132.32 970.632 1137.76 Q970.632 1143.08 967.484 1146.3 Q964.335 1149.52 959.104 1149.52 Q953.109 1149.52 949.937 1144.94 Q946.766 1140.33 946.766 1131.6 Q946.766 1123.41 950.655 1118.55 Q954.544 1113.66 961.095 1113.66 Q962.854 1113.66 964.636 1114.01 Q966.442 1114.36 968.386 1115.05 Z\" fill=\"#000000\" fill-rule=\"evenodd\" fill-opacity=\"1\" /><path clip-path=\"url(#clip490)\" d=\"M1254.68 1132.44 Q1251.34 1132.44 1249.42 1134.22 Q1247.52 1136 1247.52 1139.13 Q1247.52 1142.25 1249.42 1144.03 Q1251.34 1145.82 1254.68 1145.82 Q1258.01 1145.82 1259.93 1144.03 Q1261.85 1142.23 1261.85 1139.13 Q1261.85 1136 1259.93 1134.22 Q1258.03 1132.44 1254.68 1132.44 M1250 1130.45 Q1246.99 1129.7 1245.3 1127.64 Q1243.64 1125.58 1243.64 1122.62 Q1243.64 1118.48 1246.58 1116.07 Q1249.54 1113.66 1254.68 1113.66 Q1259.84 1113.66 1262.78 1116.07 Q1265.72 1118.48 1265.72 1122.62 Q1265.72 1125.58 1264.03 1127.64 Q1262.36 1129.7 1259.38 1130.45 Q1262.76 1131.23 1264.63 1133.52 Q1266.53 1135.82 1266.53 1139.13 Q1266.53 1144.15 1263.45 1146.83 Q1260.39 1149.52 1254.68 1149.52 Q1248.96 1149.52 1245.88 1146.83 Q1242.83 1144.15 1242.83 1139.13 Q1242.83 1135.82 1244.72 1133.52 Q1246.62 1131.23 1250 1130.45 M1248.29 1123.06 Q1248.29 1125.75 1249.95 1127.25 Q1251.64 1128.76 1254.68 1128.76 Q1257.69 1128.76 1259.38 1127.25 Q1261.09 1125.75 1261.09 1123.06 Q1261.09 1120.38 1259.38 1118.87 Q1257.69 1117.37 1254.68 1117.37 Q1251.64 1117.37 1249.95 1118.87 Q1248.29 1120.38 1248.29 1123.06 Z\" fill=\"#000000\" fill-rule=\"evenodd\" fill-opacity=\"1\" /><path clip-path=\"url(#clip490)\" d=\"M1525.34 1144.91 L1532.98 1144.91 L1532.98 1118.55 L1524.67 1120.21 L1524.67 1115.95 L1532.94 1114.29 L1537.61 1114.29 L1537.61 1144.91 L1545.25 1144.91 L1545.25 1148.85 L1525.34 1148.85 L1525.34 1144.91 Z\" fill=\"#000000\" fill-rule=\"evenodd\" fill-opacity=\"1\" /><path clip-path=\"url(#clip490)\" d=\"M1564.69 1117.37 Q1561.08 1117.37 1559.25 1120.93 Q1557.45 1124.47 1557.45 1131.6 Q1557.45 1138.71 1559.25 1142.27 Q1561.08 1145.82 1564.69 1145.82 Q1568.33 1145.82 1570.13 1142.27 Q1571.96 1138.71 1571.96 1131.6 Q1571.96 1124.47 1570.13 1120.93 Q1568.33 1117.37 1564.69 1117.37 M1564.69 1113.66 Q1570.5 1113.66 1573.56 1118.27 Q1576.64 1122.85 1576.64 1131.6 Q1576.64 1140.33 1573.56 1144.94 Q1570.5 1149.52 1564.69 1149.52 Q1558.88 1149.52 1555.81 1144.94 Q1552.75 1140.33 1552.75 1131.6 Q1552.75 1122.85 1555.81 1118.27 Q1558.88 1113.66 1564.69 1113.66 Z\" fill=\"#000000\" fill-rule=\"evenodd\" fill-opacity=\"1\" /><path clip-path=\"url(#clip490)\" d=\"M1822.12 1144.91 L1829.76 1144.91 L1829.76 1118.55 L1821.45 1120.21 L1821.45 1115.95 L1829.71 1114.29 L1834.39 1114.29 L1834.39 1144.91 L1842.03 1144.91 L1842.03 1148.85 L1822.12 1148.85 L1822.12 1144.91 Z\" fill=\"#000000\" fill-rule=\"evenodd\" fill-opacity=\"1\" /><path clip-path=\"url(#clip490)\" d=\"M1855.5 1144.91 L1871.82 1144.91 L1871.82 1148.85 L1849.87 1148.85 L1849.87 1144.91 Q1852.54 1142.16 1857.12 1137.53 Q1861.73 1132.88 1862.91 1131.53 Q1865.15 1129.01 1866.03 1127.27 Q1866.93 1125.51 1866.93 1123.82 Q1866.93 1121.07 1864.99 1119.33 Q1863.07 1117.6 1859.97 1117.6 Q1857.77 1117.6 1855.31 1118.36 Q1852.88 1119.13 1850.11 1120.68 L1850.11 1115.95 Q1852.93 1114.82 1855.38 1114.24 Q1857.84 1113.66 1859.87 1113.66 Q1865.24 1113.66 1868.44 1116.35 Q1871.63 1119.03 1871.63 1123.52 Q1871.63 1125.65 1870.82 1127.57 Q1870.04 1129.47 1867.93 1132.07 Q1867.35 1132.74 1864.25 1135.95 Q1861.15 1139.15 1855.5 1144.91 Z\" fill=\"#000000\" fill-rule=\"evenodd\" fill-opacity=\"1\" /><path clip-path=\"url(#clip490)\" d=\"M2117.06 1144.91 L2124.69 1144.91 L2124.69 1118.55 L2116.38 1120.21 L2116.38 1115.95 L2124.65 1114.29 L2129.32 1114.29 L2129.32 1144.91 L2136.96 1144.91 L2136.96 1148.85 L2117.06 1148.85 L2117.06 1144.91 Z\" fill=\"#000000\" fill-rule=\"evenodd\" fill-opacity=\"1\" /><path clip-path=\"url(#clip490)\" d=\"M2159.25 1118.36 L2147.45 1136.81 L2159.25 1136.81 L2159.25 1118.36 M2158.03 1114.29 L2163.91 1114.29 L2163.91 1136.81 L2168.84 1136.81 L2168.84 1140.7 L2163.91 1140.7 L2163.91 1148.85 L2159.25 1148.85 L2159.25 1140.7 L2143.65 1140.7 L2143.65 1136.19 L2158.03 1114.29 Z\" fill=\"#000000\" fill-rule=\"evenodd\" fill-opacity=\"1\" /><polyline clip-path=\"url(#clip494)\" style=\"stroke:#000000; stroke-linecap:butt; stroke-linejoin:round; stroke-width:2; stroke-opacity:0.1; fill:none\" points=\"\n",
       "  156.598,1080.04 2352.76,1080.04 \n",
       "  \"/>\n",
       "<polyline clip-path=\"url(#clip494)\" style=\"stroke:#000000; stroke-linecap:butt; stroke-linejoin:round; stroke-width:2; stroke-opacity:0.1; fill:none\" points=\"\n",
       "  156.598,1027.79 2352.76,1027.79 \n",
       "  \"/>\n",
       "<polyline clip-path=\"url(#clip494)\" style=\"stroke:#000000; stroke-linecap:butt; stroke-linejoin:round; stroke-width:2; stroke-opacity:0.1; fill:none\" points=\"\n",
       "  156.598,975.536 2352.76,975.536 \n",
       "  \"/>\n",
       "<polyline clip-path=\"url(#clip494)\" style=\"stroke:#000000; stroke-linecap:butt; stroke-linejoin:round; stroke-width:2; stroke-opacity:0.1; fill:none\" points=\"\n",
       "  156.598,923.282 2352.76,923.282 \n",
       "  \"/>\n",
       "<polyline clip-path=\"url(#clip494)\" style=\"stroke:#000000; stroke-linecap:butt; stroke-linejoin:round; stroke-width:2; stroke-opacity:0.1; fill:none\" points=\"\n",
       "  156.598,871.027 2352.76,871.027 \n",
       "  \"/>\n",
       "<polyline clip-path=\"url(#clip490)\" style=\"stroke:#000000; stroke-linecap:butt; stroke-linejoin:round; stroke-width:4; stroke-opacity:1; fill:none\" points=\"\n",
       "  156.598,1086.45 156.598,847.244 \n",
       "  \"/>\n",
       "<polyline clip-path=\"url(#clip490)\" style=\"stroke:#000000; stroke-linecap:butt; stroke-linejoin:round; stroke-width:4; stroke-opacity:1; fill:none\" points=\"\n",
       "  156.598,1080.04 175.496,1080.04 \n",
       "  \"/>\n",
       "<polyline clip-path=\"url(#clip490)\" style=\"stroke:#000000; stroke-linecap:butt; stroke-linejoin:round; stroke-width:4; stroke-opacity:1; fill:none\" points=\"\n",
       "  156.598,1027.79 175.496,1027.79 \n",
       "  \"/>\n",
       "<polyline clip-path=\"url(#clip490)\" style=\"stroke:#000000; stroke-linecap:butt; stroke-linejoin:round; stroke-width:4; stroke-opacity:1; fill:none\" points=\"\n",
       "  156.598,975.536 175.496,975.536 \n",
       "  \"/>\n",
       "<polyline clip-path=\"url(#clip490)\" style=\"stroke:#000000; stroke-linecap:butt; stroke-linejoin:round; stroke-width:4; stroke-opacity:1; fill:none\" points=\"\n",
       "  156.598,923.282 175.496,923.282 \n",
       "  \"/>\n",
       "<polyline clip-path=\"url(#clip490)\" style=\"stroke:#000000; stroke-linecap:butt; stroke-linejoin:round; stroke-width:4; stroke-opacity:1; fill:none\" points=\"\n",
       "  156.598,871.027 175.496,871.027 \n",
       "  \"/>\n",
       "<path clip-path=\"url(#clip490)\" d=\"M63.4226 1065.84 Q59.8115 1065.84 57.9828 1069.41 Q56.1773 1072.95 56.1773 1080.08 Q56.1773 1087.19 57.9828 1090.75 Q59.8115 1094.29 63.4226 1094.29 Q67.0569 1094.29 68.8624 1090.75 Q70.6911 1087.19 70.6911 1080.08 Q70.6911 1072.95 68.8624 1069.41 Q67.0569 1065.84 63.4226 1065.84 M63.4226 1062.14 Q69.2328 1062.14 72.2883 1066.75 Q75.367 1071.33 75.367 1080.08 Q75.367 1088.81 72.2883 1093.41 Q69.2328 1098 63.4226 1098 Q57.6125 1098 54.5338 1093.41 Q51.4782 1088.81 51.4782 1080.08 Q51.4782 1071.33 54.5338 1066.75 Q57.6125 1062.14 63.4226 1062.14 Z\" fill=\"#000000\" fill-rule=\"evenodd\" fill-opacity=\"1\" /><path clip-path=\"url(#clip490)\" d=\"M83.5845 1091.45 L88.4688 1091.45 L88.4688 1097.32 L83.5845 1097.32 L83.5845 1091.45 Z\" fill=\"#000000\" fill-rule=\"evenodd\" fill-opacity=\"1\" /><path clip-path=\"url(#clip490)\" d=\"M108.654 1065.84 Q105.043 1065.84 103.214 1069.41 Q101.409 1072.95 101.409 1080.08 Q101.409 1087.19 103.214 1090.75 Q105.043 1094.29 108.654 1094.29 Q112.288 1094.29 114.094 1090.75 Q115.922 1087.19 115.922 1080.08 Q115.922 1072.95 114.094 1069.41 Q112.288 1065.84 108.654 1065.84 M108.654 1062.14 Q114.464 1062.14 117.52 1066.75 Q120.598 1071.33 120.598 1080.08 Q120.598 1088.81 117.52 1093.41 Q114.464 1098 108.654 1098 Q102.844 1098 99.765 1093.41 Q96.7095 1088.81 96.7095 1080.08 Q96.7095 1071.33 99.765 1066.75 Q102.844 1062.14 108.654 1062.14 Z\" fill=\"#000000\" fill-rule=\"evenodd\" fill-opacity=\"1\" /><path clip-path=\"url(#clip490)\" d=\"M65.0198 1013.59 Q61.4087 1013.59 59.58 1017.15 Q57.7745 1020.7 57.7745 1027.83 Q57.7745 1034.93 59.58 1038.5 Q61.4087 1042.04 65.0198 1042.04 Q68.6541 1042.04 70.4596 1038.5 Q72.2883 1034.93 72.2883 1027.83 Q72.2883 1020.7 70.4596 1017.15 Q68.6541 1013.59 65.0198 1013.59 M65.0198 1009.89 Q70.83 1009.89 73.8855 1014.49 Q76.9642 1019.08 76.9642 1027.83 Q76.9642 1036.55 73.8855 1041.16 Q70.83 1045.74 65.0198 1045.74 Q59.2097 1045.74 56.131 1041.16 Q53.0754 1036.55 53.0754 1027.83 Q53.0754 1019.08 56.131 1014.49 Q59.2097 1009.89 65.0198 1009.89 Z\" fill=\"#000000\" fill-rule=\"evenodd\" fill-opacity=\"1\" /><path clip-path=\"url(#clip490)\" d=\"M85.1818 1039.19 L90.066 1039.19 L90.066 1045.07 L85.1818 1045.07 L85.1818 1039.19 Z\" fill=\"#000000\" fill-rule=\"evenodd\" fill-opacity=\"1\" /><path clip-path=\"url(#clip490)\" d=\"M104.279 1041.14 L120.598 1041.14 L120.598 1045.07 L98.6539 1045.07 L98.6539 1041.14 Q101.316 1038.38 105.899 1033.75 Q110.506 1029.1 111.686 1027.76 Q113.932 1025.23 114.811 1023.5 Q115.714 1021.74 115.714 1020.05 Q115.714 1017.29 113.77 1015.56 Q111.848 1013.82 108.746 1013.82 Q106.547 1013.82 104.094 1014.58 Q101.663 1015.35 98.8854 1016.9 L98.8854 1012.18 Q101.709 1011.04 104.163 1010.46 Q106.617 1009.89 108.654 1009.89 Q114.024 1009.89 117.219 1012.57 Q120.413 1015.26 120.413 1019.75 Q120.413 1021.88 119.603 1023.8 Q118.816 1025.7 116.709 1028.29 Q116.131 1028.96 113.029 1032.18 Q109.927 1035.37 104.279 1041.14 Z\" fill=\"#000000\" fill-rule=\"evenodd\" fill-opacity=\"1\" /><path clip-path=\"url(#clip490)\" d=\"M62.9365 961.335 Q59.3254 961.335 57.4967 964.9 Q55.6912 968.441 55.6912 975.571 Q55.6912 982.677 57.4967 986.242 Q59.3254 989.784 62.9365 989.784 Q66.5707 989.784 68.3763 986.242 Q70.205 982.677 70.205 975.571 Q70.205 968.441 68.3763 964.9 Q66.5707 961.335 62.9365 961.335 M62.9365 957.631 Q68.7467 957.631 71.8022 962.238 Q74.8809 966.821 74.8809 975.571 Q74.8809 984.298 71.8022 988.904 Q68.7467 993.487 62.9365 993.487 Q57.1264 993.487 54.0477 988.904 Q50.9921 984.298 50.9921 975.571 Q50.9921 966.821 54.0477 962.238 Q57.1264 957.631 62.9365 957.631 Z\" fill=\"#000000\" fill-rule=\"evenodd\" fill-opacity=\"1\" /><path clip-path=\"url(#clip490)\" d=\"M83.0984 986.936 L87.9827 986.936 L87.9827 992.816 L83.0984 992.816 L83.0984 986.936 Z\" fill=\"#000000\" fill-rule=\"evenodd\" fill-opacity=\"1\" /><path clip-path=\"url(#clip490)\" d=\"M111.015 962.33 L99.2095 980.779 L111.015 980.779 L111.015 962.33 M109.788 958.256 L115.668 958.256 L115.668 980.779 L120.598 980.779 L120.598 984.668 L115.668 984.668 L115.668 992.816 L111.015 992.816 L111.015 984.668 L95.4132 984.668 L95.4132 980.154 L109.788 958.256 Z\" fill=\"#000000\" fill-rule=\"evenodd\" fill-opacity=\"1\" /><path clip-path=\"url(#clip490)\" d=\"M63.2606 909.08 Q59.6495 909.08 57.8208 912.645 Q56.0152 916.187 56.0152 923.316 Q56.0152 930.423 57.8208 933.988 Q59.6495 937.529 63.2606 937.529 Q66.8948 937.529 68.7004 933.988 Q70.5291 930.423 70.5291 923.316 Q70.5291 916.187 68.7004 912.645 Q66.8948 909.08 63.2606 909.08 M63.2606 905.377 Q69.0707 905.377 72.1263 909.983 Q75.205 914.566 75.205 923.316 Q75.205 932.043 72.1263 936.65 Q69.0707 941.233 63.2606 941.233 Q57.4504 941.233 54.3717 936.65 Q51.3162 932.043 51.3162 923.316 Q51.3162 914.566 54.3717 909.983 Q57.4504 905.377 63.2606 905.377 Z\" fill=\"#000000\" fill-rule=\"evenodd\" fill-opacity=\"1\" /><path clip-path=\"url(#clip490)\" d=\"M83.4225 934.682 L88.3067 934.682 L88.3067 940.562 L83.4225 940.562 L83.4225 934.682 Z\" fill=\"#000000\" fill-rule=\"evenodd\" fill-opacity=\"1\" /><path clip-path=\"url(#clip490)\" d=\"M109.071 921.418 Q105.922 921.418 104.071 923.571 Q102.242 925.724 102.242 929.474 Q102.242 933.201 104.071 935.377 Q105.922 937.529 109.071 937.529 Q112.219 937.529 114.047 935.377 Q115.899 933.201 115.899 929.474 Q115.899 925.724 114.047 923.571 Q112.219 921.418 109.071 921.418 M118.353 906.766 L118.353 911.025 Q116.594 910.191 114.788 909.752 Q113.006 909.312 111.246 909.312 Q106.617 909.312 104.163 912.437 Q101.733 915.562 101.385 921.881 Q102.751 919.867 104.811 918.803 Q106.871 917.715 109.348 917.715 Q114.557 917.715 117.566 920.886 Q120.598 924.034 120.598 929.474 Q120.598 934.798 117.45 938.015 Q114.302 941.233 109.071 941.233 Q103.075 941.233 99.9039 936.65 Q96.7326 932.043 96.7326 923.316 Q96.7326 915.122 100.621 910.261 Q104.51 905.377 111.061 905.377 Q112.82 905.377 114.603 905.724 Q116.408 906.071 118.353 906.766 Z\" fill=\"#000000\" fill-rule=\"evenodd\" fill-opacity=\"1\" /><path clip-path=\"url(#clip490)\" d=\"M63.5152 856.826 Q59.9041 856.826 58.0754 860.391 Q56.2699 863.932 56.2699 871.062 Q56.2699 878.168 58.0754 881.733 Q59.9041 885.275 63.5152 885.275 Q67.1494 885.275 68.955 881.733 Q70.7837 878.168 70.7837 871.062 Q70.7837 863.932 68.955 860.391 Q67.1494 856.826 63.5152 856.826 M63.5152 853.122 Q69.3254 853.122 72.3809 857.729 Q75.4596 862.312 75.4596 871.062 Q75.4596 879.789 72.3809 884.395 Q69.3254 888.979 63.5152 888.979 Q57.7051 888.979 54.6264 884.395 Q51.5708 879.789 51.5708 871.062 Q51.5708 862.312 54.6264 857.729 Q57.7051 853.122 63.5152 853.122 Z\" fill=\"#000000\" fill-rule=\"evenodd\" fill-opacity=\"1\" /><path clip-path=\"url(#clip490)\" d=\"M83.6771 882.428 L88.5614 882.428 L88.5614 888.307 L83.6771 888.307 L83.6771 882.428 Z\" fill=\"#000000\" fill-rule=\"evenodd\" fill-opacity=\"1\" /><path clip-path=\"url(#clip490)\" d=\"M108.746 871.895 Q105.413 871.895 103.492 873.678 Q101.594 875.46 101.594 878.585 Q101.594 881.71 103.492 883.492 Q105.413 885.275 108.746 885.275 Q112.08 885.275 114.001 883.492 Q115.922 881.687 115.922 878.585 Q115.922 875.46 114.001 873.678 Q112.103 871.895 108.746 871.895 M104.071 869.905 Q101.061 869.164 99.3715 867.104 Q97.7048 865.044 97.7048 862.081 Q97.7048 857.937 100.645 855.53 Q103.608 853.122 108.746 853.122 Q113.908 853.122 116.848 855.53 Q119.788 857.937 119.788 862.081 Q119.788 865.044 118.098 867.104 Q116.432 869.164 113.445 869.905 Q116.825 870.692 118.7 872.983 Q120.598 875.275 120.598 878.585 Q120.598 883.608 117.52 886.293 Q114.464 888.979 108.746 888.979 Q103.029 888.979 99.9502 886.293 Q96.8947 883.608 96.8947 878.585 Q96.8947 875.275 98.7928 872.983 Q100.691 870.692 104.071 869.905 M102.358 862.52 Q102.358 865.206 104.024 866.71 Q105.714 868.215 108.746 868.215 Q111.756 868.215 113.445 866.71 Q115.158 865.206 115.158 862.52 Q115.158 859.835 113.445 858.331 Q111.756 856.826 108.746 856.826 Q105.714 856.826 104.024 858.331 Q102.358 859.835 102.358 862.52 Z\" fill=\"#000000\" fill-rule=\"evenodd\" fill-opacity=\"1\" /><polyline clip-path=\"url(#clip494)\" style=\"stroke:#009af9; stroke-linecap:butt; stroke-linejoin:round; stroke-width:4; stroke-opacity:1; fill:none\" points=\"\n",
       "  218.754,887.123 366.743,970.781 514.732,953.224 662.721,922.197 810.71,951.923 958.699,1008.86 1106.69,854.014 1254.68,898.937 1402.67,981.335 1550.66,956.618 \n",
       "  1698.64,918.743 1846.63,931.942 1994.62,934.921 2142.61,1079.68 2290.6,980.412 \n",
       "  \"/>\n",
       "<path clip-path=\"url(#clip490)\" d=\"\n",
       "M1982.52 958.898 L2279.55 958.898 L2279.55 855.218 L1982.52 855.218  Z\n",
       "  \" fill=\"#ffffff\" fill-rule=\"evenodd\" fill-opacity=\"1\"/>\n",
       "<polyline clip-path=\"url(#clip490)\" style=\"stroke:#000000; stroke-linecap:butt; stroke-linejoin:round; stroke-width:4; stroke-opacity:1; fill:none\" points=\"\n",
       "  1982.52,958.898 2279.55,958.898 2279.55,855.218 1982.52,855.218 1982.52,958.898 \n",
       "  \"/>\n",
       "<polyline clip-path=\"url(#clip490)\" style=\"stroke:#009af9; stroke-linecap:butt; stroke-linejoin:round; stroke-width:4; stroke-opacity:1; fill:none\" points=\"\n",
       "  2006.93,907.058 2153.34,907.058 \n",
       "  \"/>\n",
       "<path clip-path=\"url(#clip490)\" d=\"M2191.58 926.745 Q2189.78 931.375 2188.06 932.787 Q2186.35 934.199 2183.48 934.199 L2180.08 934.199 L2180.08 930.634 L2182.58 930.634 Q2184.34 930.634 2185.31 929.8 Q2186.28 928.967 2187.46 925.865 L2188.22 923.921 L2177.74 898.412 L2182.25 898.412 L2190.35 918.689 L2198.46 898.412 L2202.97 898.412 L2191.58 926.745 Z\" fill=\"#000000\" fill-rule=\"evenodd\" fill-opacity=\"1\" /><path clip-path=\"url(#clip490)\" d=\"M2223.62 905.703 Q2226.97 906.421 2228.85 908.689 Q2230.75 910.958 2230.75 914.291 Q2230.75 919.407 2227.23 922.208 Q2223.71 925.009 2217.23 925.009 Q2215.05 925.009 2212.74 924.569 Q2210.45 924.152 2207.99 923.296 L2207.99 918.782 Q2209.94 919.916 2212.25 920.495 Q2214.57 921.074 2217.09 921.074 Q2221.49 921.074 2223.78 919.338 Q2226.09 917.601 2226.09 914.291 Q2226.09 911.236 2223.94 909.523 Q2221.81 907.787 2217.99 907.787 L2213.96 907.787 L2213.96 903.944 L2218.18 903.944 Q2221.63 903.944 2223.46 902.578 Q2225.28 901.19 2225.28 898.597 Q2225.28 895.935 2223.39 894.523 Q2221.51 893.088 2217.99 893.088 Q2216.07 893.088 2213.87 893.504 Q2211.67 893.921 2209.03 894.801 L2209.03 890.634 Q2211.7 889.893 2214.01 889.523 Q2216.35 889.153 2218.41 889.153 Q2223.73 889.153 2226.84 891.583 Q2229.94 893.99 2229.94 898.111 Q2229.94 900.981 2228.29 902.972 Q2226.65 904.94 2223.62 905.703 Z\" fill=\"#000000\" fill-rule=\"evenodd\" fill-opacity=\"1\" /><path clip-path=\"url(#clip490)\" d=\"\n",
       "M156.598 1486.45 L2352.76 1486.45 L2352.76 1247.24 L156.598 1247.24  Z\n",
       "  \" fill=\"#ffffff\" fill-rule=\"evenodd\" fill-opacity=\"1\"/>\n",
       "<defs>\n",
       "  <clipPath id=\"clip495\">\n",
       "    <rect x=\"156\" y=\"1247\" width=\"2197\" height=\"240\"/>\n",
       "  </clipPath>\n",
       "</defs>\n",
       "<polyline clip-path=\"url(#clip495)\" style=\"stroke:#000000; stroke-linecap:butt; stroke-linejoin:round; stroke-width:2; stroke-opacity:0.1; fill:none\" points=\"\n",
       "  366.743,1486.45 366.743,1247.24 \n",
       "  \"/>\n",
       "<polyline clip-path=\"url(#clip495)\" style=\"stroke:#000000; stroke-linecap:butt; stroke-linejoin:round; stroke-width:2; stroke-opacity:0.1; fill:none\" points=\"\n",
       "  662.721,1486.45 662.721,1247.24 \n",
       "  \"/>\n",
       "<polyline clip-path=\"url(#clip495)\" style=\"stroke:#000000; stroke-linecap:butt; stroke-linejoin:round; stroke-width:2; stroke-opacity:0.1; fill:none\" points=\"\n",
       "  958.699,1486.45 958.699,1247.24 \n",
       "  \"/>\n",
       "<polyline clip-path=\"url(#clip495)\" style=\"stroke:#000000; stroke-linecap:butt; stroke-linejoin:round; stroke-width:2; stroke-opacity:0.1; fill:none\" points=\"\n",
       "  1254.68,1486.45 1254.68,1247.24 \n",
       "  \"/>\n",
       "<polyline clip-path=\"url(#clip495)\" style=\"stroke:#000000; stroke-linecap:butt; stroke-linejoin:round; stroke-width:2; stroke-opacity:0.1; fill:none\" points=\"\n",
       "  1550.66,1486.45 1550.66,1247.24 \n",
       "  \"/>\n",
       "<polyline clip-path=\"url(#clip495)\" style=\"stroke:#000000; stroke-linecap:butt; stroke-linejoin:round; stroke-width:2; stroke-opacity:0.1; fill:none\" points=\"\n",
       "  1846.63,1486.45 1846.63,1247.24 \n",
       "  \"/>\n",
       "<polyline clip-path=\"url(#clip495)\" style=\"stroke:#000000; stroke-linecap:butt; stroke-linejoin:round; stroke-width:2; stroke-opacity:0.1; fill:none\" points=\"\n",
       "  2142.61,1486.45 2142.61,1247.24 \n",
       "  \"/>\n",
       "<polyline clip-path=\"url(#clip490)\" style=\"stroke:#000000; stroke-linecap:butt; stroke-linejoin:round; stroke-width:4; stroke-opacity:1; fill:none\" points=\"\n",
       "  156.598,1486.45 2352.76,1486.45 \n",
       "  \"/>\n",
       "<polyline clip-path=\"url(#clip490)\" style=\"stroke:#000000; stroke-linecap:butt; stroke-linejoin:round; stroke-width:4; stroke-opacity:1; fill:none\" points=\"\n",
       "  366.743,1486.45 366.743,1467.55 \n",
       "  \"/>\n",
       "<polyline clip-path=\"url(#clip490)\" style=\"stroke:#000000; stroke-linecap:butt; stroke-linejoin:round; stroke-width:4; stroke-opacity:1; fill:none\" points=\"\n",
       "  662.721,1486.45 662.721,1467.55 \n",
       "  \"/>\n",
       "<polyline clip-path=\"url(#clip490)\" style=\"stroke:#000000; stroke-linecap:butt; stroke-linejoin:round; stroke-width:4; stroke-opacity:1; fill:none\" points=\"\n",
       "  958.699,1486.45 958.699,1467.55 \n",
       "  \"/>\n",
       "<polyline clip-path=\"url(#clip490)\" style=\"stroke:#000000; stroke-linecap:butt; stroke-linejoin:round; stroke-width:4; stroke-opacity:1; fill:none\" points=\"\n",
       "  1254.68,1486.45 1254.68,1467.55 \n",
       "  \"/>\n",
       "<polyline clip-path=\"url(#clip490)\" style=\"stroke:#000000; stroke-linecap:butt; stroke-linejoin:round; stroke-width:4; stroke-opacity:1; fill:none\" points=\"\n",
       "  1550.66,1486.45 1550.66,1467.55 \n",
       "  \"/>\n",
       "<polyline clip-path=\"url(#clip490)\" style=\"stroke:#000000; stroke-linecap:butt; stroke-linejoin:round; stroke-width:4; stroke-opacity:1; fill:none\" points=\"\n",
       "  1846.63,1486.45 1846.63,1467.55 \n",
       "  \"/>\n",
       "<polyline clip-path=\"url(#clip490)\" style=\"stroke:#000000; stroke-linecap:butt; stroke-linejoin:round; stroke-width:4; stroke-opacity:1; fill:none\" points=\"\n",
       "  2142.61,1486.45 2142.61,1467.55 \n",
       "  \"/>\n",
       "<path clip-path=\"url(#clip490)\" d=\"M361.396 1544.91 L377.715 1544.91 L377.715 1548.85 L355.771 1548.85 L355.771 1544.91 Q358.433 1542.16 363.016 1537.53 Q367.622 1532.88 368.803 1531.53 Q371.048 1529.01 371.928 1527.27 Q372.831 1525.51 372.831 1523.82 Q372.831 1521.07 370.886 1519.33 Q368.965 1517.6 365.863 1517.6 Q363.664 1517.6 361.21 1518.36 Q358.78 1519.13 356.002 1520.68 L356.002 1515.95 Q358.826 1514.82 361.28 1514.24 Q363.733 1513.66 365.77 1513.66 Q371.141 1513.66 374.335 1516.35 Q377.53 1519.03 377.53 1523.52 Q377.53 1525.65 376.72 1527.57 Q375.932 1529.47 373.826 1532.07 Q373.247 1532.74 370.145 1535.95 Q367.044 1539.15 361.396 1544.91 Z\" fill=\"#000000\" fill-rule=\"evenodd\" fill-opacity=\"1\" /><path clip-path=\"url(#clip490)\" d=\"M665.73 1518.36 L653.925 1536.81 L665.73 1536.81 L665.73 1518.36 M664.503 1514.29 L670.383 1514.29 L670.383 1536.81 L675.313 1536.81 L675.313 1540.7 L670.383 1540.7 L670.383 1548.85 L665.73 1548.85 L665.73 1540.7 L650.128 1540.7 L650.128 1536.19 L664.503 1514.29 Z\" fill=\"#000000\" fill-rule=\"evenodd\" fill-opacity=\"1\" /><path clip-path=\"url(#clip490)\" d=\"M959.104 1529.7 Q955.956 1529.7 954.104 1531.86 Q952.275 1534.01 952.275 1537.76 Q952.275 1541.49 954.104 1543.66 Q955.956 1545.82 959.104 1545.82 Q962.252 1545.82 964.081 1543.66 Q965.933 1541.49 965.933 1537.76 Q965.933 1534.01 964.081 1531.86 Q962.252 1529.7 959.104 1529.7 M968.386 1515.05 L968.386 1519.31 Q966.627 1518.48 964.822 1518.04 Q963.039 1517.6 961.28 1517.6 Q956.65 1517.6 954.197 1520.72 Q951.766 1523.85 951.419 1530.17 Q952.785 1528.15 954.845 1527.09 Q956.905 1526 959.382 1526 Q964.59 1526 967.599 1529.17 Q970.632 1532.32 970.632 1537.76 Q970.632 1543.08 967.484 1546.3 Q964.335 1549.52 959.104 1549.52 Q953.109 1549.52 949.937 1544.94 Q946.766 1540.33 946.766 1531.6 Q946.766 1523.41 950.655 1518.55 Q954.544 1513.66 961.095 1513.66 Q962.854 1513.66 964.636 1514.01 Q966.442 1514.36 968.386 1515.05 Z\" fill=\"#000000\" fill-rule=\"evenodd\" fill-opacity=\"1\" /><path clip-path=\"url(#clip490)\" d=\"M1254.68 1532.44 Q1251.34 1532.44 1249.42 1534.22 Q1247.52 1536 1247.52 1539.13 Q1247.52 1542.25 1249.42 1544.03 Q1251.34 1545.82 1254.68 1545.82 Q1258.01 1545.82 1259.93 1544.03 Q1261.85 1542.23 1261.85 1539.13 Q1261.85 1536 1259.93 1534.22 Q1258.03 1532.44 1254.68 1532.44 M1250 1530.45 Q1246.99 1529.7 1245.3 1527.64 Q1243.64 1525.58 1243.64 1522.62 Q1243.64 1518.48 1246.58 1516.07 Q1249.54 1513.66 1254.68 1513.66 Q1259.84 1513.66 1262.78 1516.07 Q1265.72 1518.48 1265.72 1522.62 Q1265.72 1525.58 1264.03 1527.64 Q1262.36 1529.7 1259.38 1530.45 Q1262.76 1531.23 1264.63 1533.52 Q1266.53 1535.82 1266.53 1539.13 Q1266.53 1544.15 1263.45 1546.83 Q1260.39 1549.52 1254.68 1549.52 Q1248.96 1549.52 1245.88 1546.83 Q1242.83 1544.15 1242.83 1539.13 Q1242.83 1535.82 1244.72 1533.52 Q1246.62 1531.23 1250 1530.45 M1248.29 1523.06 Q1248.29 1525.75 1249.95 1527.25 Q1251.64 1528.76 1254.68 1528.76 Q1257.69 1528.76 1259.38 1527.25 Q1261.09 1525.75 1261.09 1523.06 Q1261.09 1520.38 1259.38 1518.87 Q1257.69 1517.37 1254.68 1517.37 Q1251.64 1517.37 1249.95 1518.87 Q1248.29 1520.38 1248.29 1523.06 Z\" fill=\"#000000\" fill-rule=\"evenodd\" fill-opacity=\"1\" /><path clip-path=\"url(#clip490)\" d=\"M1525.34 1544.91 L1532.98 1544.91 L1532.98 1518.55 L1524.67 1520.21 L1524.67 1515.95 L1532.94 1514.29 L1537.61 1514.29 L1537.61 1544.91 L1545.25 1544.91 L1545.25 1548.85 L1525.34 1548.85 L1525.34 1544.91 Z\" fill=\"#000000\" fill-rule=\"evenodd\" fill-opacity=\"1\" /><path clip-path=\"url(#clip490)\" d=\"M1564.69 1517.37 Q1561.08 1517.37 1559.25 1520.93 Q1557.45 1524.47 1557.45 1531.6 Q1557.45 1538.71 1559.25 1542.27 Q1561.08 1545.82 1564.69 1545.82 Q1568.33 1545.82 1570.13 1542.27 Q1571.96 1538.71 1571.96 1531.6 Q1571.96 1524.47 1570.13 1520.93 Q1568.33 1517.37 1564.69 1517.37 M1564.69 1513.66 Q1570.5 1513.66 1573.56 1518.27 Q1576.64 1522.85 1576.64 1531.6 Q1576.64 1540.33 1573.56 1544.94 Q1570.5 1549.52 1564.69 1549.52 Q1558.88 1549.52 1555.81 1544.94 Q1552.75 1540.33 1552.75 1531.6 Q1552.75 1522.85 1555.81 1518.27 Q1558.88 1513.66 1564.69 1513.66 Z\" fill=\"#000000\" fill-rule=\"evenodd\" fill-opacity=\"1\" /><path clip-path=\"url(#clip490)\" d=\"M1822.12 1544.91 L1829.76 1544.91 L1829.76 1518.55 L1821.45 1520.21 L1821.45 1515.95 L1829.71 1514.29 L1834.39 1514.29 L1834.39 1544.91 L1842.03 1544.91 L1842.03 1548.85 L1822.12 1548.85 L1822.12 1544.91 Z\" fill=\"#000000\" fill-rule=\"evenodd\" fill-opacity=\"1\" /><path clip-path=\"url(#clip490)\" d=\"M1855.5 1544.91 L1871.82 1544.91 L1871.82 1548.85 L1849.87 1548.85 L1849.87 1544.91 Q1852.54 1542.16 1857.12 1537.53 Q1861.73 1532.88 1862.91 1531.53 Q1865.15 1529.01 1866.03 1527.27 Q1866.93 1525.51 1866.93 1523.82 Q1866.93 1521.07 1864.99 1519.33 Q1863.07 1517.6 1859.97 1517.6 Q1857.77 1517.6 1855.31 1518.36 Q1852.88 1519.13 1850.11 1520.68 L1850.11 1515.95 Q1852.93 1514.82 1855.38 1514.24 Q1857.84 1513.66 1859.87 1513.66 Q1865.24 1513.66 1868.44 1516.35 Q1871.63 1519.03 1871.63 1523.52 Q1871.63 1525.65 1870.82 1527.57 Q1870.04 1529.47 1867.93 1532.07 Q1867.35 1532.74 1864.25 1535.95 Q1861.15 1539.15 1855.5 1544.91 Z\" fill=\"#000000\" fill-rule=\"evenodd\" fill-opacity=\"1\" /><path clip-path=\"url(#clip490)\" d=\"M2117.06 1544.91 L2124.69 1544.91 L2124.69 1518.55 L2116.38 1520.21 L2116.38 1515.95 L2124.65 1514.29 L2129.32 1514.29 L2129.32 1544.91 L2136.96 1544.91 L2136.96 1548.85 L2117.06 1548.85 L2117.06 1544.91 Z\" fill=\"#000000\" fill-rule=\"evenodd\" fill-opacity=\"1\" /><path clip-path=\"url(#clip490)\" d=\"M2159.25 1518.36 L2147.45 1536.81 L2159.25 1536.81 L2159.25 1518.36 M2158.03 1514.29 L2163.91 1514.29 L2163.91 1536.81 L2168.84 1536.81 L2168.84 1540.7 L2163.91 1540.7 L2163.91 1548.85 L2159.25 1548.85 L2159.25 1540.7 L2143.65 1540.7 L2143.65 1536.19 L2158.03 1514.29 Z\" fill=\"#000000\" fill-rule=\"evenodd\" fill-opacity=\"1\" /><polyline clip-path=\"url(#clip495)\" style=\"stroke:#000000; stroke-linecap:butt; stroke-linejoin:round; stroke-width:2; stroke-opacity:0.1; fill:none\" points=\"\n",
       "  156.598,1484.2 2352.76,1484.2 \n",
       "  \"/>\n",
       "<polyline clip-path=\"url(#clip495)\" style=\"stroke:#000000; stroke-linecap:butt; stroke-linejoin:round; stroke-width:2; stroke-opacity:0.1; fill:none\" points=\"\n",
       "  156.598,1424.02 2352.76,1424.02 \n",
       "  \"/>\n",
       "<polyline clip-path=\"url(#clip495)\" style=\"stroke:#000000; stroke-linecap:butt; stroke-linejoin:round; stroke-width:2; stroke-opacity:0.1; fill:none\" points=\"\n",
       "  156.598,1363.84 2352.76,1363.84 \n",
       "  \"/>\n",
       "<polyline clip-path=\"url(#clip495)\" style=\"stroke:#000000; stroke-linecap:butt; stroke-linejoin:round; stroke-width:2; stroke-opacity:0.1; fill:none\" points=\"\n",
       "  156.598,1303.67 2352.76,1303.67 \n",
       "  \"/>\n",
       "<polyline clip-path=\"url(#clip490)\" style=\"stroke:#000000; stroke-linecap:butt; stroke-linejoin:round; stroke-width:4; stroke-opacity:1; fill:none\" points=\"\n",
       "  156.598,1486.45 156.598,1247.24 \n",
       "  \"/>\n",
       "<polyline clip-path=\"url(#clip490)\" style=\"stroke:#000000; stroke-linecap:butt; stroke-linejoin:round; stroke-width:4; stroke-opacity:1; fill:none\" points=\"\n",
       "  156.598,1484.2 175.496,1484.2 \n",
       "  \"/>\n",
       "<polyline clip-path=\"url(#clip490)\" style=\"stroke:#000000; stroke-linecap:butt; stroke-linejoin:round; stroke-width:4; stroke-opacity:1; fill:none\" points=\"\n",
       "  156.598,1424.02 175.496,1424.02 \n",
       "  \"/>\n",
       "<polyline clip-path=\"url(#clip490)\" style=\"stroke:#000000; stroke-linecap:butt; stroke-linejoin:round; stroke-width:4; stroke-opacity:1; fill:none\" points=\"\n",
       "  156.598,1363.84 175.496,1363.84 \n",
       "  \"/>\n",
       "<polyline clip-path=\"url(#clip490)\" style=\"stroke:#000000; stroke-linecap:butt; stroke-linejoin:round; stroke-width:4; stroke-opacity:1; fill:none\" points=\"\n",
       "  156.598,1303.67 175.496,1303.67 \n",
       "  \"/>\n",
       "<path clip-path=\"url(#clip490)\" d=\"M63.4226 1470 Q59.8115 1470 57.9828 1473.57 Q56.1773 1477.11 56.1773 1484.24 Q56.1773 1491.34 57.9828 1494.91 Q59.8115 1498.45 63.4226 1498.45 Q67.0569 1498.45 68.8624 1494.91 Q70.6911 1491.34 70.6911 1484.24 Q70.6911 1477.11 68.8624 1473.57 Q67.0569 1470 63.4226 1470 M63.4226 1466.3 Q69.2328 1466.3 72.2883 1470.9 Q75.367 1475.49 75.367 1484.24 Q75.367 1492.96 72.2883 1497.57 Q69.2328 1502.15 63.4226 1502.15 Q57.6125 1502.15 54.5338 1497.57 Q51.4782 1492.96 51.4782 1484.24 Q51.4782 1475.49 54.5338 1470.9 Q57.6125 1466.3 63.4226 1466.3 Z\" fill=\"#000000\" fill-rule=\"evenodd\" fill-opacity=\"1\" /><path clip-path=\"url(#clip490)\" d=\"M83.5845 1495.6 L88.4688 1495.6 L88.4688 1501.48 L83.5845 1501.48 L83.5845 1495.6 Z\" fill=\"#000000\" fill-rule=\"evenodd\" fill-opacity=\"1\" /><path clip-path=\"url(#clip490)\" d=\"M108.654 1470 Q105.043 1470 103.214 1473.57 Q101.409 1477.11 101.409 1484.24 Q101.409 1491.34 103.214 1494.91 Q105.043 1498.45 108.654 1498.45 Q112.288 1498.45 114.094 1494.91 Q115.922 1491.34 115.922 1484.24 Q115.922 1477.11 114.094 1473.57 Q112.288 1470 108.654 1470 M108.654 1466.3 Q114.464 1466.3 117.52 1470.9 Q120.598 1475.49 120.598 1484.24 Q120.598 1492.96 117.52 1497.57 Q114.464 1502.15 108.654 1502.15 Q102.844 1502.15 99.765 1497.57 Q96.7095 1492.96 96.7095 1484.24 Q96.7095 1475.49 99.765 1470.9 Q102.844 1466.3 108.654 1466.3 Z\" fill=\"#000000\" fill-rule=\"evenodd\" fill-opacity=\"1\" /><path clip-path=\"url(#clip490)\" d=\"M65.0198 1409.82 Q61.4087 1409.82 59.58 1413.39 Q57.7745 1416.93 57.7745 1424.06 Q57.7745 1431.17 59.58 1434.73 Q61.4087 1438.27 65.0198 1438.27 Q68.6541 1438.27 70.4596 1434.73 Q72.2883 1431.17 72.2883 1424.06 Q72.2883 1416.93 70.4596 1413.39 Q68.6541 1409.82 65.0198 1409.82 M65.0198 1406.12 Q70.83 1406.12 73.8855 1410.73 Q76.9642 1415.31 76.9642 1424.06 Q76.9642 1432.79 73.8855 1437.39 Q70.83 1441.98 65.0198 1441.98 Q59.2097 1441.98 56.131 1437.39 Q53.0754 1432.79 53.0754 1424.06 Q53.0754 1415.31 56.131 1410.73 Q59.2097 1406.12 65.0198 1406.12 Z\" fill=\"#000000\" fill-rule=\"evenodd\" fill-opacity=\"1\" /><path clip-path=\"url(#clip490)\" d=\"M85.1818 1435.42 L90.066 1435.42 L90.066 1441.3 L85.1818 1441.3 L85.1818 1435.42 Z\" fill=\"#000000\" fill-rule=\"evenodd\" fill-opacity=\"1\" /><path clip-path=\"url(#clip490)\" d=\"M104.279 1437.37 L120.598 1437.37 L120.598 1441.3 L98.6539 1441.3 L98.6539 1437.37 Q101.316 1434.61 105.899 1429.98 Q110.506 1425.33 111.686 1423.99 Q113.932 1421.47 114.811 1419.73 Q115.714 1417.97 115.714 1416.28 Q115.714 1413.53 113.77 1411.79 Q111.848 1410.05 108.746 1410.05 Q106.547 1410.05 104.094 1410.82 Q101.663 1411.58 98.8854 1413.13 L98.8854 1408.41 Q101.709 1407.28 104.163 1406.7 Q106.617 1406.12 108.654 1406.12 Q114.024 1406.12 117.219 1408.8 Q120.413 1411.49 120.413 1415.98 Q120.413 1418.11 119.603 1420.03 Q118.816 1421.93 116.709 1424.52 Q116.131 1425.19 113.029 1428.41 Q109.927 1431.61 104.279 1437.37 Z\" fill=\"#000000\" fill-rule=\"evenodd\" fill-opacity=\"1\" /><path clip-path=\"url(#clip490)\" d=\"M62.9365 1349.64 Q59.3254 1349.64 57.4967 1353.21 Q55.6912 1356.75 55.6912 1363.88 Q55.6912 1370.99 57.4967 1374.55 Q59.3254 1378.09 62.9365 1378.09 Q66.5707 1378.09 68.3763 1374.55 Q70.205 1370.99 70.205 1363.88 Q70.205 1356.75 68.3763 1353.21 Q66.5707 1349.64 62.9365 1349.64 M62.9365 1345.94 Q68.7467 1345.94 71.8022 1350.55 Q74.8809 1355.13 74.8809 1363.88 Q74.8809 1372.61 71.8022 1377.21 Q68.7467 1381.8 62.9365 1381.8 Q57.1264 1381.8 54.0477 1377.21 Q50.9921 1372.61 50.9921 1363.88 Q50.9921 1355.13 54.0477 1350.55 Q57.1264 1345.94 62.9365 1345.94 Z\" fill=\"#000000\" fill-rule=\"evenodd\" fill-opacity=\"1\" /><path clip-path=\"url(#clip490)\" d=\"M83.0984 1375.24 L87.9827 1375.24 L87.9827 1381.12 L83.0984 1381.12 L83.0984 1375.24 Z\" fill=\"#000000\" fill-rule=\"evenodd\" fill-opacity=\"1\" /><path clip-path=\"url(#clip490)\" d=\"M111.015 1350.64 L99.2095 1369.09 L111.015 1369.09 L111.015 1350.64 M109.788 1346.56 L115.668 1346.56 L115.668 1369.09 L120.598 1369.09 L120.598 1372.98 L115.668 1372.98 L115.668 1381.12 L111.015 1381.12 L111.015 1372.98 L95.4132 1372.98 L95.4132 1368.46 L109.788 1346.56 Z\" fill=\"#000000\" fill-rule=\"evenodd\" fill-opacity=\"1\" /><path clip-path=\"url(#clip490)\" d=\"M63.2606 1289.46 Q59.6495 1289.46 57.8208 1293.03 Q56.0152 1296.57 56.0152 1303.7 Q56.0152 1310.81 57.8208 1314.37 Q59.6495 1317.91 63.2606 1317.91 Q66.8948 1317.91 68.7004 1314.37 Q70.5291 1310.81 70.5291 1303.7 Q70.5291 1296.57 68.7004 1293.03 Q66.8948 1289.46 63.2606 1289.46 M63.2606 1285.76 Q69.0707 1285.76 72.1263 1290.37 Q75.205 1294.95 75.205 1303.7 Q75.205 1312.43 72.1263 1317.03 Q69.0707 1321.62 63.2606 1321.62 Q57.4504 1321.62 54.3717 1317.03 Q51.3162 1312.43 51.3162 1303.7 Q51.3162 1294.95 54.3717 1290.37 Q57.4504 1285.76 63.2606 1285.76 Z\" fill=\"#000000\" fill-rule=\"evenodd\" fill-opacity=\"1\" /><path clip-path=\"url(#clip490)\" d=\"M83.4225 1315.07 L88.3067 1315.07 L88.3067 1320.95 L83.4225 1320.95 L83.4225 1315.07 Z\" fill=\"#000000\" fill-rule=\"evenodd\" fill-opacity=\"1\" /><path clip-path=\"url(#clip490)\" d=\"M109.071 1301.8 Q105.922 1301.8 104.071 1303.95 Q102.242 1306.11 102.242 1309.86 Q102.242 1313.58 104.071 1315.76 Q105.922 1317.91 109.071 1317.91 Q112.219 1317.91 114.047 1315.76 Q115.899 1313.58 115.899 1309.86 Q115.899 1306.11 114.047 1303.95 Q112.219 1301.8 109.071 1301.8 M118.353 1287.15 L118.353 1291.41 Q116.594 1290.57 114.788 1290.14 Q113.006 1289.7 111.246 1289.7 Q106.617 1289.7 104.163 1292.82 Q101.733 1295.95 101.385 1302.26 Q102.751 1300.25 104.811 1299.19 Q106.871 1298.1 109.348 1298.1 Q114.557 1298.1 117.566 1301.27 Q120.598 1304.42 120.598 1309.86 Q120.598 1315.18 117.45 1318.4 Q114.302 1321.62 109.071 1321.62 Q103.075 1321.62 99.9039 1317.03 Q96.7326 1312.43 96.7326 1303.7 Q96.7326 1295.51 100.621 1290.64 Q104.51 1285.76 111.061 1285.76 Q112.82 1285.76 114.603 1286.11 Q116.408 1286.45 118.353 1287.15 Z\" fill=\"#000000\" fill-rule=\"evenodd\" fill-opacity=\"1\" /><polyline clip-path=\"url(#clip495)\" style=\"stroke:#009af9; stroke-linecap:butt; stroke-linejoin:round; stroke-width:4; stroke-opacity:1; fill:none\" points=\"\n",
       "  218.754,1285.59 366.743,1469.13 514.732,1347.05 662.721,1254.01 810.71,1377.01 958.699,1295.28 1106.69,1350.11 1254.68,1349.15 1402.67,1479.68 1550.66,1352.9 \n",
       "  1698.64,1388.09 1846.63,1438.21 1994.62,1316.55 2142.61,1333.69 2290.6,1471.8 \n",
       "  \"/>\n",
       "<path clip-path=\"url(#clip490)\" d=\"\n",
       "M1981.39 1358.9 L2279.55 1358.9 L2279.55 1255.22 L1981.39 1255.22  Z\n",
       "  \" fill=\"#ffffff\" fill-rule=\"evenodd\" fill-opacity=\"1\"/>\n",
       "<polyline clip-path=\"url(#clip490)\" style=\"stroke:#000000; stroke-linecap:butt; stroke-linejoin:round; stroke-width:4; stroke-opacity:1; fill:none\" points=\"\n",
       "  1981.39,1358.9 2279.55,1358.9 2279.55,1255.22 1981.39,1255.22 1981.39,1358.9 \n",
       "  \"/>\n",
       "<polyline clip-path=\"url(#clip490)\" style=\"stroke:#009af9; stroke-linecap:butt; stroke-linejoin:round; stroke-width:4; stroke-opacity:1; fill:none\" points=\"\n",
       "  2005.79,1307.06 2152.2,1307.06 \n",
       "  \"/>\n",
       "<path clip-path=\"url(#clip490)\" d=\"M2190.45 1326.74 Q2188.64 1331.37 2186.93 1332.79 Q2185.21 1334.2 2182.34 1334.2 L2178.94 1334.2 L2178.94 1330.63 L2181.44 1330.63 Q2183.2 1330.63 2184.17 1329.8 Q2185.15 1328.97 2186.33 1325.87 L2187.09 1323.92 L2176.6 1298.41 L2181.12 1298.41 L2189.22 1318.69 L2197.32 1298.41 L2201.84 1298.41 L2190.45 1326.74 Z\" fill=\"#000000\" fill-rule=\"evenodd\" fill-opacity=\"1\" /><path clip-path=\"url(#clip490)\" d=\"M2221.16 1293.85 L2209.36 1312.3 L2221.16 1312.3 L2221.16 1293.85 M2219.94 1289.78 L2225.82 1289.78 L2225.82 1312.3 L2230.75 1312.3 L2230.75 1316.19 L2225.82 1316.19 L2225.82 1324.34 L2221.16 1324.34 L2221.16 1316.19 L2205.56 1316.19 L2205.56 1311.68 L2219.94 1289.78 Z\" fill=\"#000000\" fill-rule=\"evenodd\" fill-opacity=\"1\" /></svg>\n"
      ]
     },
     "execution_count": 30,
     "metadata": {},
     "output_type": "execute_result"
    }
   ],
   "source": [
    "plot(x,y,layout=(4,1))"
   ]
  },
  {
   "cell_type": "markdown",
   "metadata": {},
   "source": [
    "### Database with julia"
   ]
  },
  {
   "cell_type": "code",
   "execution_count": 1,
   "metadata": {},
   "outputs": [],
   "source": [
    "using Pkg"
   ]
  },
  {
   "cell_type": "code",
   "execution_count": 2,
   "metadata": {},
   "outputs": [
    {
     "name": "stderr",
     "output_type": "stream",
     "text": [
      "\u001b[32m\u001b[1m    Updating\u001b[22m\u001b[39m registry at `C:\\Users\\amogh kawle\\.julia\\registries\\General`\n",
      "\u001b[32m\u001b[1m    Updating\u001b[22m\u001b[39m git-repo `https://github.com/JuliaRegistries/General.git`\n",
      "\u001b[32m\u001b[1m   Resolving\u001b[22m\u001b[39m package versions...\n",
      "\u001b[32m\u001b[1m   Installed\u001b[22m\u001b[39m InlineStrings ── v1.0.1\n",
      "\u001b[32m\u001b[1m   Installed\u001b[22m\u001b[39m SQLite_jll ───── v3.36.1+0\n",
      "\u001b[32m\u001b[1m   Installed\u001b[22m\u001b[39m WeakRefStrings ─ v1.4.1\n",
      "\u001b[32m\u001b[1m   Installed\u001b[22m\u001b[39m DBInterface ──── v2.5.0\n",
      "\u001b[32m\u001b[1m   Installed\u001b[22m\u001b[39m BinaryProvider ─ v0.5.10\n",
      "\u001b[32m\u001b[1m   Installed\u001b[22m\u001b[39m SQLite ───────── v1.3.0\n",
      "\u001b[32m\u001b[1m    Updating\u001b[22m\u001b[39m `C:\\Users\\amogh kawle\\.julia\\environments\\v1.6\\Project.toml`\n",
      " \u001b[90m [0aa819cd] \u001b[39m\u001b[92m+ SQLite v1.3.0\u001b[39m\n",
      "\u001b[32m\u001b[1m    Updating\u001b[22m\u001b[39m `C:\\Users\\amogh kawle\\.julia\\environments\\v1.6\\Manifest.toml`\n",
      " \u001b[90m [b99e7846] \u001b[39m\u001b[92m+ BinaryProvider v0.5.10\u001b[39m\n",
      " \u001b[90m [a10d1c49] \u001b[39m\u001b[92m+ DBInterface v2.5.0\u001b[39m\n",
      " \u001b[90m [842dd82b] \u001b[39m\u001b[92m+ InlineStrings v1.0.1\u001b[39m\n",
      " \u001b[90m [0aa819cd] \u001b[39m\u001b[92m+ SQLite v1.3.0\u001b[39m\n",
      " \u001b[90m [ea10d353] \u001b[39m\u001b[92m+ WeakRefStrings v1.4.1\u001b[39m\n",
      " \u001b[90m [76ed43ae] \u001b[39m\u001b[92m+ SQLite_jll v3.36.1+0\u001b[39m\n",
      "\u001b[32m\u001b[1m    Building\u001b[22m\u001b[39m SQLite → `C:\\Users\\amogh kawle\\.julia\\scratchspaces\\44cfe95a-1eb2-52ea-b672-e2afdf69b78f\\ff81f9a47cbfaad52693ce0c74bbd86f2166f64d\\build.log`\n",
      "\u001b[32m\u001b[1mPrecompiling\u001b[22m\u001b[39m project...\n",
      "\u001b[32m  ✓ \u001b[39m\u001b[90mDBInterface\u001b[39m\n",
      "\u001b[32m  ✓ \u001b[39m\u001b[90mInlineStrings\u001b[39m\n",
      "\u001b[32m  ✓ \u001b[39m\u001b[90mSQLite_jll\u001b[39m\n",
      "\u001b[32m  ✓ \u001b[39m\u001b[90mWeakRefStrings\u001b[39m\n",
      "\u001b[32m  ✓ \u001b[39m\u001b[90mBinaryProvider\u001b[39m\n",
      "\u001b[32m  ✓ \u001b[39mSQLite\n",
      "  6 dependencies successfully precompiled in 13 seconds (127 already precompiled)\n"
     ]
    }
   ],
   "source": [
    "Pkg.add(\"SQLite\")"
   ]
  },
  {
   "cell_type": "code",
   "execution_count": 3,
   "metadata": {},
   "outputs": [],
   "source": [
    "using SQLite"
   ]
  },
  {
   "cell_type": "code",
   "execution_count": 4,
   "metadata": {},
   "outputs": [
    {
     "data": {
      "text/plain": [
       "SQLite.DB(\"movie\")"
      ]
     },
     "execution_count": 4,
     "metadata": {},
     "output_type": "execute_result"
    }
   ],
   "source": [
    "db = SQLite.DB(\"movie\")"
   ]
  },
  {
   "cell_type": "code",
   "execution_count": 11,
   "metadata": {},
   "outputs": [
    {
     "data": {
      "text/plain": [
       "101"
      ]
     },
     "execution_count": 11,
     "metadata": {},
     "output_type": "execute_result"
    }
   ],
   "source": [
    "SQLite.execute(db, \"CREATE TABLE IF NOT EXISTS movie(movie_id REAL, movie_name TEXT)\")"
   ]
  },
  {
   "cell_type": "code",
   "execution_count": 12,
   "metadata": {},
   "outputs": [
    {
     "data": {
      "text/plain": [
       "(name = [\"movie\"],)"
      ]
     },
     "execution_count": 12,
     "metadata": {},
     "output_type": "execute_result"
    }
   ],
   "source": [
    "SQLite.tables(db)"
   ]
  },
  {
   "cell_type": "code",
   "execution_count": 14,
   "metadata": {},
   "outputs": [
    {
     "data": {
      "text/plain": [
       "101"
      ]
     },
     "execution_count": 14,
     "metadata": {},
     "output_type": "execute_result"
    }
   ],
   "source": [
    "SQLite.execute(db, \"INSERT INTO movie VALUES(1,'Harry potter')\")"
   ]
  },
  {
   "cell_type": "code",
   "execution_count": 17,
   "metadata": {},
   "outputs": [
    {
     "name": "stderr",
     "output_type": "stream",
     "text": [
      "\u001b[32m\u001b[1m   Resolving\u001b[22m\u001b[39m package versions...\n",
      "\u001b[32m\u001b[1m   Installed\u001b[22m\u001b[39m PooledArrays ──── v1.3.0\n",
      "\u001b[32m\u001b[1m   Installed\u001b[22m\u001b[39m Crayons ───────── v4.0.4\n",
      "\u001b[32m\u001b[1m   Installed\u001b[22m\u001b[39m InvertedIndices ─ v1.1.0\n",
      "\u001b[32m\u001b[1m   Installed\u001b[22m\u001b[39m DataFrames ────── v1.2.2\n",
      "\u001b[32m\u001b[1m   Installed\u001b[22m\u001b[39m PrettyTables ──── v1.2.3\n",
      "\u001b[32m\u001b[1m    Updating\u001b[22m\u001b[39m `C:\\Users\\amogh kawle\\.julia\\environments\\v1.6\\Project.toml`\n",
      " \u001b[90m [a93c6f00] \u001b[39m\u001b[92m+ DataFrames v1.2.2\u001b[39m\n",
      "\u001b[32m\u001b[1m    Updating\u001b[22m\u001b[39m `C:\\Users\\amogh kawle\\.julia\\environments\\v1.6\\Manifest.toml`\n",
      " \u001b[90m [a8cc5b0e] \u001b[39m\u001b[92m+ Crayons v4.0.4\u001b[39m\n",
      " \u001b[90m [a93c6f00] \u001b[39m\u001b[92m+ DataFrames v1.2.2\u001b[39m\n",
      " \u001b[90m [41ab1584] \u001b[39m\u001b[92m+ InvertedIndices v1.1.0\u001b[39m\n",
      " \u001b[90m [2dfb63ee] \u001b[39m\u001b[92m+ PooledArrays v1.3.0\u001b[39m\n",
      " \u001b[90m [08abe8d2] \u001b[39m\u001b[92m+ PrettyTables v1.2.3\u001b[39m\n",
      " \u001b[90m [9fa8497b] \u001b[39m\u001b[92m+ Future\u001b[39m\n",
      "\u001b[32m\u001b[1mPrecompiling\u001b[22m\u001b[39m project...\n",
      "\u001b[32m  ✓ \u001b[39m\u001b[90mInvertedIndices\u001b[39m\n",
      "\u001b[32m  ✓ \u001b[39m\u001b[90mPooledArrays\u001b[39m\n",
      "\u001b[32m  ✓ \u001b[39m\u001b[90mCrayons\u001b[39m\n",
      "\u001b[32m  ✓ \u001b[39m\u001b[90mPrettyTables\u001b[39m\n",
      "\u001b[32m  ✓ \u001b[39mDataFrames\n",
      "  5 dependencies successfully precompiled in 39 seconds (133 already precompiled)\n"
     ]
    }
   ],
   "source": [
    "Pkg.add(\"DataFrames\")"
   ]
  },
  {
   "cell_type": "code",
   "execution_count": 19,
   "metadata": {},
   "outputs": [
    {
     "data": {
      "text/plain": [
       "100"
      ]
     },
     "execution_count": 19,
     "metadata": {},
     "output_type": "execute_result"
    }
   ],
   "source": [
    "#using DataFrames\n",
    "SQLite.execute(db, \"SELECT * from movie WHERE movie_name='Harry potter'\")"
   ]
  },
  {
   "cell_type": "code",
   "execution_count": null,
   "metadata": {},
   "outputs": [],
   "source": []
  }
 ],
 "metadata": {
  "kernelspec": {
   "display_name": "Julia 1.6.3",
   "language": "julia",
   "name": "julia-1.6"
  },
  "language_info": {
   "file_extension": ".jl",
   "mimetype": "application/julia",
   "name": "julia",
   "version": "1.6.3"
  }
 },
 "nbformat": 4,
 "nbformat_minor": 4
}
